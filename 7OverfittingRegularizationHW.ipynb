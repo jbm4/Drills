{
 "cells": [
  {
   "cell_type": "code",
   "execution_count": 460,
   "metadata": {},
   "outputs": [],
   "source": [
    "import statsmodels.api as sm\n",
    "import statsmodels.formula.api as smf\n",
    "from statsmodels.stats.diagnostic import het_breuschpagan\n",
    "import numpy as np\n",
    "import pandas as pd\n",
    "from sklearn import linear_model\n",
    "import matplotlib.pyplot as plt\n",
    "from sqlalchemy import create_engine\n",
    "import seaborn as sns\n",
    "import matplotlib.pyplot as plt\n",
    "\n",
    "from sklearn.model_selection import train_test_split, GridSearchCV\n",
    "from sklearn.linear_model import Ridge, Lasso, ElasticNet, LinearRegression\n",
    "from sklearn.preprocessing import OneHotEncoder, StandardScaler\n",
    "from sklearn.compose import ColumnTransformer\n",
    "from sklearn.metrics import mean_absolute_error\n",
    "from statsmodels.tools.eval_measures import mse, rmse\n",
    "from sklearn.linear_model import RidgeCV,LassoCV,ElasticNetCV\n",
    "\n",
    "\n",
    "from statsmodels.graphics.regressionplots import plot_leverage_resid2\n",
    "from statsmodels.stats.outliers_influence import variance_inflation_factor\n",
    "\n",
    "%matplotlib inline\n",
    "\n",
    "import warnings\n",
    "warnings.filterwarnings('ignore')\n"
   ]
  },
  {
   "cell_type": "code",
   "execution_count": 408,
   "metadata": {},
   "outputs": [],
   "source": [
    "def print_vif(x):\n",
    "    \"\"\"Utility for checking multicollinearity assumption\n",
    "    \n",
    "    :param x: input features to check using VIF. This is assumed to be a pandas.DataFrame\n",
    "    :return: nothing is returned the VIFs are printed as a pandas series\n",
    "    \"\"\"\n",
    "    # Silence numpy FutureWarning about .ptp\n",
    "    with warnings.catch_warnings():\n",
    "        warnings.simplefilter(\"ignore\")\n",
    "        x = sm.add_constant(x)\n",
    "\n",
    "    vifs = []\n",
    "    for i in range(x.shape[1]):\n",
    "        vif = variance_inflation_factor(x.values, i)\n",
    "        vifs.append(vif)\n",
    "\n",
    "    print(\"VIF results\\n-------------------------------\")\n",
    "    print(pd.Series(vifs, index=x.columns))\n",
    "    print(\"-------------------------------\\n\")\n",
    "    \n",
    "def eval_preds(y_true, y_pred,graph=False):\n",
    "    error = y_true - y_pred\n",
    "\n",
    "    rmse = np.sqrt((error ** 2).mean())\n",
    "    mae = error.abs().mean()\n",
    "    mape = (error / y_true).abs().mean()\n",
    "\n",
    "    print(f\"rmse {rmse}\")\n",
    "    print(f\"mae {mae}\")\n",
    "    print(f\"mape {mape}\")\n",
    "    \n",
    "    if graph==True:\n",
    "        line_pts = [y_true.min(), y_true.max()]\n",
    "        plt.scatter(y_true, y_pred)\n",
    "        plt.plot(line_pts, line_pts, c=\"red\", ls=\"--\", alpha=0.5)\n",
    "        plt.xlabel(\"Actual\")\n",
    "        plt.ylabel(\"Fit\")\n",
    "        plt.show()\n"
   ]
  },
  {
   "cell_type": "code",
   "execution_count": 435,
   "metadata": {},
   "outputs": [],
   "source": [
    "#Loading the dataset and manipulating the variables\n",
    "\n",
    "postgres_user = 'dsbc_student'\n",
    "postgres_pw = '7*.8G9QH21'\n",
    "postgres_host = '142.93.121.174'\n",
    "postgres_port = '5432'\n",
    "postgres_db = 'houseprices'\n",
    "engine = create_engine('postgresql://{}:{}@{}:{}/{}'.format(\n",
    "    postgres_user, postgres_pw, postgres_host, postgres_port, postgres_db))\n",
    "df = pd.read_sql_query('select * from houseprices',con=engine)\n",
    "\n",
    "# no need for an open connection, as we're only doing a single query\n",
    "engine.dispose()\n",
    "drop_cols=[]\n",
    "for col in df.columns:\n",
    "    if df[col].isna().mean()>.4:\n",
    "        drop_cols=drop_cols+[col]\n",
    "df_clean=df.drop(columns=drop_cols).dropna()\n",
    "df_clean['secondflrexists']=0\n",
    "df_clean.loc[df['secondflrsf']>0,'secondflrexists']=1 #can prob drop 2nd fl sq ft\n",
    "#df_clean['totalsf']=df_clean['firstflrsf']=+df_clean['secondflrsf']\n",
    "df_clean['yrsbltqared']=df_clean['yearbuilt']*df_clean['yearbuilt']\n",
    "df_clean['agebuilt']=df_clean['yrsold']-df_clean['yearbuilt']\n",
    "df_clean['ageremodeled']=df_clean['yrsold']-df_clean['yearremodadd']\n",
    "df_clean['agebuiltsquared']=df_clean['agebuilt']*df_clean['agebuilt']\n",
    "df_clean['agebuiltcubed']=df_clean['agebuilt']*df_clean['agebuilt']*df_clean['agebuilt']\n",
    "\n",
    "df_clean['logagebuilt']=np.log1p(df_clean['agebuilt'])\n",
    "df_clean['logageremodeled']=np.log1p(df_clean['ageremodeled'])\n",
    "\n",
    "df_clean['garageage']=df_clean['yrsold']-df_clean['garageyrblt']\n",
    "df_clean['garageagesquared']=df_clean['garageage']**2\n",
    "\n",
    "####\n",
    "df_clean['overallqualsquared']=df_clean['overallqual']*df_clean['overallqual']\n",
    "df_clean['overallqualcubed']=df_clean['overallqual']*df_clean['overallqual']*df_clean['overallqual']\n",
    "#df_clean['logqualsquared']=np.log(df_clean['overallqualsquared'])\n",
    "df_clean['logqual']=np.log(df_clean['overallqual'])\n",
    "df_clean['squaredlogqual']=df_clean['logqual']*df_clean['logqual']\n",
    "\n",
    "df_clean['grlivareasquared']=df_clean['grlivarea']*df_clean['grlivarea']\n",
    "df_clean['loggrlivarea']=np.log(df_clean['grlivarea'])\n",
    "df_clean['squaredlogarea']=df_clean['loggrlivarea']*df_clean['loggrlivarea']\n",
    "\n",
    "\n",
    "df_clean['ageremodeledsquared']=df_clean['ageremodeled']*df_clean['ageremodeled']\n",
    "df_clean['ageremodeledcubed']=df_clean['ageremodeled']*df_clean['ageremodeled']\n",
    "\n",
    "df_clean['totalsf']=df_clean['totalbsmtsf']+df_clean['grlivarea']\n",
    "df_clean['qual_totalsf']=df_clean['totalsf']*df_clean['overallqual']\n",
    "\n",
    "df_clean['lotareasquared']=df_clean['lotarea']*df_clean['lotarea']\n",
    "\n",
    "#making partial,centralair and the neighborhood a binary variable\n",
    "niceneighborhoods=['NridgHt', 'NoRidge', 'Somerst', 'Timber', 'Veenker', 'StoneBr']\n",
    "goodneighborhoods=['ClearCr','Crawfor','CollgCr','Gilbert','Blmngtn','SawyerW','NWAmes']\n",
    "\n",
    "df_clean['nicehood']=0\n",
    "df_clean.loc[df_clean.neighborhood.isin(niceneighborhoods),'nicehood']=1\n",
    "df_clean['hoodrank']=0\n",
    "df_clean.loc[df_clean.neighborhood.isin(goodneighborhoods),'hoodrank']=1\n",
    "df_clean.loc[df_clean.neighborhood.isin(niceneighborhoods),'hoodrank']=2\n",
    "df_clean['goodhood']=0\n",
    "df_clean.loc[df_clean.neighborhood.isin(goodneighborhoods),'goodhood']=1\n",
    "\n",
    "#Making binary cats ints\n",
    "df_clean['sale_partial']=0\n",
    "df_clean.loc[df_clean.salecondition=='Partial','sale_partial']=1\n",
    "df_clean['centralairint']=0\n",
    "df_clean.loc[df_clean.centralair=='Y','centralairint']=1\n",
    "# df_clean['pavedstreet']=0\n",
    "# df_clean.loc[df_clean.salecondition=='Pave','pavedstreet']=1\n",
    "\n",
    "\n",
    "#one hot encoding neighborhood\n",
    "#df_clean = pd.concat([df_clean,pd.get_dummies(df_clean.neighborhood, prefix=\"hood\", drop_first=True)], axis=1)"
   ]
  },
  {
   "cell_type": "code",
   "execution_count": 436,
   "metadata": {},
   "outputs": [],
   "source": [
    "#Dropping outliers of high leveridge\n",
    "df_clean=df_clean.drop([314,523,1298,452])"
   ]
  },
  {
   "cell_type": "code",
   "execution_count": 450,
   "metadata": {},
   "outputs": [
    {
     "name": "stdout",
     "output_type": "stream",
     "text": [
      "                            OLS Regression Results                            \n",
      "==============================================================================\n",
      "Dep. Variable:              saleprice   R-squared:                       0.887\n",
      "Model:                            OLS   Adj. R-squared:                  0.884\n",
      "Method:                 Least Squares   F-statistic:                     393.1\n",
      "Date:                Thu, 03 Sep 2020   Prob (F-statistic):               0.00\n",
      "Time:                        00:55:54   Log-Likelihood:                 510.81\n",
      "No. Observations:                 872   AIC:                            -985.6\n",
      "Df Residuals:                     854   BIC:                            -899.8\n",
      "Df Model:                          17                                         \n",
      "Covariance Type:            nonrobust                                         \n",
      "=======================================================================================\n",
      "                          coef    std err          t      P>|t|      [0.025      0.975]\n",
      "---------------------------------------------------------------------------------------\n",
      "const                  10.1228      0.207     48.795      0.000       9.716      10.530\n",
      "overallqual             0.3751      0.103      3.631      0.000       0.172       0.578\n",
      "overallqualsquared     -0.0487      0.016     -2.962      0.003      -0.081      -0.016\n",
      "overallqualcubed        0.0025      0.001      2.997      0.003       0.001       0.004\n",
      "grlivarea               0.0003   1.63e-05     17.443      0.000       0.000       0.000\n",
      "totalbsmtsf             0.0002   1.67e-05      9.332      0.000       0.000       0.000\n",
      "garagearea              0.0001   3.41e-05      3.126      0.002    3.97e-05       0.000\n",
      "lotarea              1.596e-05   2.53e-06      6.300      0.000     1.1e-05    2.09e-05\n",
      "lotareasquared      -1.984e-10   6.15e-11     -3.224      0.001   -3.19e-10   -7.76e-11\n",
      "nicehood                0.1234      0.020      6.150      0.000       0.084       0.163\n",
      "goodhood                0.0647      0.015      4.340      0.000       0.035       0.094\n",
      "ageremodeled           -0.0046      0.001     -3.775      0.000      -0.007      -0.002\n",
      "ageremodeledsquared  3.122e-05   1.97e-05      1.583      0.114   -7.49e-06    6.99e-05\n",
      "agebuilt                0.0015      0.001      1.797      0.073      -0.000       0.003\n",
      "agebuiltsquared     -2.346e-05   7.07e-06     -3.318      0.001   -3.73e-05   -9.58e-06\n",
      "sale_partial            0.0438      0.018      2.374      0.018       0.008       0.080\n",
      "centralairint           0.1583      0.024      6.531      0.000       0.111       0.206\n",
      "bedroomabvgr           -0.0133      0.008     -1.618      0.106      -0.029       0.003\n",
      "==============================================================================\n",
      "Omnibus:                      283.406   Durbin-Watson:                   2.032\n",
      "Prob(Omnibus):                  0.000   Jarque-Bera (JB):             1534.873\n",
      "Skew:                          -1.378   Prob(JB):                         0.00\n",
      "Kurtosis:                       8.886   Cond. No.                     1.06e+10\n",
      "==============================================================================\n",
      "\n",
      "Warnings:\n",
      "[1] Standard Errors assume that the covariance matrix of the errors is correctly specified.\n",
      "[2] The condition number is large, 1.06e+10. This might indicate that there are\n",
      "strong multicollinearity or other numerical problems.\n"
     ]
    }
   ],
   "source": [
    "#Setting up the model\n",
    "# Right hashtag indicates vars I'm iffy on\n",
    "cat_cols=['nicehood','goodhood','centralairint','salepartial']\n",
    "num_cols=['overallqual',\n",
    "          'overallqualsquared',\n",
    "          'overallqualcubed',\n",
    "          'grlivarea',\n",
    "          'totalbsmtsf',\n",
    "          'garagearea',\n",
    "          'lotarea',\n",
    "          'lotareasquared',\n",
    "          'ageremodeled',\n",
    "          'ageremodeledsquared',\n",
    "          'agebuilt',\n",
    "          'agebuiltsquared',\n",
    "          'bedroomabvgr']\n",
    "\n",
    "X = df_clean[['overallqual',\n",
    "              'overallqualsquared',#\n",
    "              'overallqualcubed',#\n",
    "              'grlivarea',\n",
    "#               'grlivareasquared',#\n",
    "#               'loggrlivarea',#\n",
    "               'totalbsmtsf',\n",
    "               #'totalsf',#\n",
    "               'garagearea', \n",
    "               'lotarea',\n",
    "              'lotareasquared',\n",
    "              'nicehood',\n",
    "              'goodhood',\n",
    "#               'hoodrank',#\n",
    "               'ageremodeled',\n",
    "               'ageremodeledsquared',\n",
    "#               'ageremodeledcubed',#\n",
    "#               'logageremodeled',##\n",
    "               'agebuilt',\n",
    "               'agebuiltsquared',\n",
    "#               'logagebuilt',##\n",
    "               'sale_partial',#\n",
    "              'centralairint',\n",
    "#               'newsale',#\n",
    "              'bedroomabvgr',#\n",
    "#                'yrsold',\n",
    "              ]]\n",
    "y = df_clean.saleprice\n",
    "y_log=np.log(y)\n",
    "X_train, X_test, y_log_train, y_log_test=train_test_split(X,y_log,test_size=.2,random_state=1)\n",
    "X_train_const = sm.add_constant(X_train)\n",
    "X_test_const = sm.add_constant(X_test)\n",
    "results_log = sm.OLS(y_log_train, X_train_const).fit()\n",
    "print(results_log.summary())\n",
    "y_log_preds=results_log.predict(X_test_const)\n",
    "y_log_train_preds=results_log.predict(X_train_const)"
   ]
  },
  {
   "cell_type": "code",
   "execution_count": 451,
   "metadata": {},
   "outputs": [
    {
     "name": "stdout",
     "output_type": "stream",
     "text": [
      "Mean absolute error of the training set is: 0.09748812970663243\n",
      "Mean squared error of the training set is: 0.018143047315407477\n",
      "Root mean squared error of the training set is: 0.13469612954872712\n",
      "Mean absolute percentage error of the training set is: 0.8150226606774564\n"
     ]
    }
   ],
   "source": [
    "print(\"Mean absolute error of the training set is: {}\".format(mean_absolute_error(y_log_train, y_log_train_preds)))\n",
    "print(\"Mean squared error of the training set is: {}\".format(mse(y_log_train, y_log_train_preds)))\n",
    "print(\"Root mean squared error of the training set is: {}\".format(rmse(y_log_train, y_log_train_preds)))\n",
    "print(\"Mean absolute percentage error of the training set is: {}\".format(np.mean(np.abs((y_log_train - y_log_train_preds) / y_log_train)) * 100))\n"
   ]
  },
  {
   "cell_type": "code",
   "execution_count": 452,
   "metadata": {},
   "outputs": [
    {
     "data": {
      "image/png": "[encoded data removed]",
      "text/plain": [
       "<Figure size 432x288 with 1 Axes>"
      ]
     },
     "metadata": {
      "needs_background": "light"
     },
     "output_type": "display_data"
    },
    {
     "name": "stdout",
     "output_type": "stream",
     "text": [
      "Mean absolute error of the prediction is: 0.09010431816013759\n",
      "Mean squared error of the prediction is: 0.015696584885429826\n",
      "Root mean squared error of the prediction is: 0.12528601232950878\n",
      "Mean absolute percentage error of the prediction is: 0.7483121664435822\n"
     ]
    }
   ],
   "source": [
    "plt.scatter(y_log_test, y_log_preds)\n",
    "plt.plot(y_log_test, y_log_test, color=\"red\")\n",
    "plt.xlabel(\"true values(ln)\")\n",
    "plt.ylabel(\"predicted values (ln)\")\n",
    "plt.title(\"Charges: true and predicted values\")\n",
    "plt.show()\n",
    "y_test= np.exp(y_log_test)\n",
    "y_preds=np.exp(y_log_preds)\n",
    "\n",
    "print(\"Mean absolute error of the prediction is: {}\".format(mean_absolute_error(y_log_test, y_log_preds)))\n",
    "print(\"Mean squared error of the prediction is: {}\".format(mse(y_log_test, y_log_preds)))\n",
    "print(\"Root mean squared error of the prediction is: {}\".format(rmse(y_log_test, y_log_preds)))\n",
    "print(\"Mean absolute percentage error of the prediction is: {}\".format(np.mean(np.abs((y_log_test - y_log_preds) / y_log_test)) * 100))\n"
   ]
  },
  {
   "cell_type": "code",
   "execution_count": 453,
   "metadata": {
    "scrolled": true
   },
   "outputs": [],
   "source": [
    "# for col in X:\n",
    "#     plt.hist(X[col])\n",
    "#     plt.title(col)\n",
    "#     plt.show()"
   ]
  },
  {
   "cell_type": "markdown",
   "metadata": {},
   "source": [
    "***Try OLS, Lasso, Ridge, and ElasticNet regression using the same model specification. This time, you need to do k-fold cross-validation to choose the best hyperparameter values for your models. Scikit-learn has RidgeCV, LassoCV, and ElasticNetCV that you can utilize to do this. Which model is the best? Why?***\n"
   ]
  },
  {
   "cell_type": "markdown",
   "metadata": {},
   "source": [
    "Ridge first:"
   ]
  },
  {
   "cell_type": "code",
   "execution_count": 454,
   "metadata": {
    "scrolled": true
   },
   "outputs": [],
   "source": [
    "#can't get this to work\n",
    "\n",
    "# ct = ColumnTransformer(\n",
    "#     [\n",
    "#         (\"scale\", StandardScaler(), num_cols),\n",
    "#     ],\n",
    "#     remainder=\"passthrough\",\n",
    "# )\n",
    "# ct.fit(X_train)\n",
    "\n",
    "# X_train_trans = ct.transform(X_train)\n",
    "# X_test_trans = ct.transform(X_test)\n",
    "# cat_names = ct.transformers_[0][1].get_feature_names(cat_cols)\n",
    "# cat_names = list(cat_names)\n",
    "# new_col_names = cat_names + num_cols + bin_cols\n",
    "\n",
    "# X_train = pd.DataFrame(X_train_trans, columns=new_col_names)\n",
    "# X_test = pd.DataFrame(X_test_trans, columns=new_col_names)\n",
    "\n",
    "ct = ColumnTransformer(\n",
    "    [\n",
    "        (\"scale\", StandardScaler(), num_cols),\n",
    "    ],\n",
    "    remainder=\"passthrough\",\n",
    ")\n",
    "ct.fit(X_train)\n",
    "\n",
    "X_train_trans = ct.transform(X_train)\n",
    "X_test_trans = ct.transform(X_test)\n",
    "X_test=pd.DataFrame(X_test_trans)\n",
    "X_train=pd.DataFrame(X_train_trans)\n"
   ]
  },
  {
   "cell_type": "code",
   "execution_count": 455,
   "metadata": {},
   "outputs": [
    {
     "name": "stdout",
     "output_type": "stream",
     "text": [
      "(872, 17)\n",
      "(872,)\n"
     ]
    }
   ],
   "source": [
    "col_list = num_cols+cat_cols\n",
    "X_test.columns=col_list\n",
    "X_train.columns=col_list\n",
    "print(X_train.shape)\n",
    "print(y_log_train.shape)"
   ]
  },
  {
   "cell_type": "code",
   "execution_count": 456,
   "metadata": {},
   "outputs": [
    {
     "data": {
      "text/plain": [
       "Ridge(alpha=10, copy_X=True, fit_intercept=True, max_iter=None, normalize=False,\n",
       "      random_state=None, solver='auto', tol=0.001)"
      ]
     },
     "execution_count": 456,
     "metadata": {},
     "output_type": "execute_result"
    }
   ],
   "source": [
    "linear = LinearRegression()\n",
    "linear.fit(X_train, y_log_train)\n",
    "\n",
    "ridge = Ridge(alpha=10)\n",
    "ridge.fit(X_train, y_log_train)"
   ]
  },
  {
   "cell_type": "code",
   "execution_count": 457,
   "metadata": {},
   "outputs": [
    {
     "name": "stdout",
     "output_type": "stream",
     "text": [
      "LinearRegression Train R^2: 0.8866980088947074\n",
      "LinearRegression Test R^2: 0.8855470452351183\n",
      "\n",
      "Ridge Train R^2: 0.8845186676978815\n",
      "Ridge Test R^2: 0.8862977829453141\n"
     ]
    }
   ],
   "source": [
    "print(f\"LinearRegression Train R^2: {linear.score(X_train, y_log_train)}\")\n",
    "print(f\"LinearRegression Test R^2: {linear.score(X_test, y_log_test)}\")\n",
    "\n",
    "print(f\"\\nRidge Train R^2: {ridge.score(X_train, y_log_train)}\")\n",
    "print(f\"Ridge Test R^2: {ridge.score(X_test, y_log_test)}\")"
   ]
  },
  {
   "cell_type": "code",
   "execution_count": 458,
   "metadata": {},
   "outputs": [
    {
     "name": "stdout",
     "output_type": "stream",
     "text": [
      "Train\n",
      "---------------------------------\n",
      "rmse 0.13598538602082652\n",
      "mae 0.09783010060640249\n",
      "mape 0.008181169511291116\n",
      "Test\n",
      "---------------------------------\n",
      "rmse 0.12487444720003538\n",
      "mae 0.09031869509522569\n",
      "mape 0.007502640634355899\n"
     ]
    }
   ],
   "source": [
    "y_pred_train = ridge.predict(X_train)\n",
    "y_pred_test = ridge.predict(X_test)\n",
    "\n",
    "print(\"Train\\n---------------------------------\")\n",
    "eval_preds(y_log_train, y_pred_train)\n",
    "print(\"Test\\n---------------------------------\")\n",
    "eval_preds(y_log_test, y_pred_test)"
   ]
  },
  {
   "cell_type": "code",
   "execution_count": 482,
   "metadata": {},
   "outputs": [
    {
     "name": "stdout",
     "output_type": "stream",
     "text": [
      "0.8858804200367465\n",
      "0.06\n"
     ]
    }
   ],
   "source": [
    "regr_cv = RidgeCV(alphas=[.01,.02,.04,.06,.08,.1,.2, 1.0,], cv=5)\n",
    "model_cv = regr_cv.fit(X_train, y_log_train)\n",
    "print(model_cv.score(X_test,y_log_test))\n",
    "print(model_cv.alpha_)"
   ]
  },
  {
   "cell_type": "code",
   "execution_count": 486,
   "metadata": {},
   "outputs": [
    {
     "name": "stdout",
     "output_type": "stream",
     "text": [
      "0.886088352777824\n",
      "0.0\n"
     ]
    }
   ],
   "source": [
    "regr_cv = LassoCV(alphas=[0,.00001,.0001,.001,.01,.1,1.0,10,100], cv=5)\n",
    "model_cv = regr_cv.fit(X_train, y_log_train)\n",
    "print(model_cv.score(X_test,y_log_test))\n",
    "print(model_cv.alpha_)"
   ]
  },
  {
   "cell_type": "markdown",
   "metadata": {},
   "source": [
    "Seems like it just likes linear regression"
   ]
  },
  {
   "cell_type": "code",
   "execution_count": 488,
   "metadata": {},
   "outputs": [
    {
     "name": "stdout",
     "output_type": "stream",
     "text": [
      "train score: 0.8853163204956821\n",
      "test score: 0.8861243025167382\n"
     ]
    },
    {
     "data": {
      "text/plain": [
       "{'alpha': 0.001, 'l1_ratio': 0.25}"
      ]
     },
     "execution_count": 488,
     "metadata": {},
     "output_type": "execute_result"
    }
   ],
   "source": [
    "grid = {\n",
    "    \"alpha\": [0.001, 0.01, 0.1, 1, 10, 100, 1000],\n",
    "    \"l1_ratio\": [0.25, 0.5, 0.75, 1.0],\n",
    "}\n",
    "\n",
    "model = GridSearchCV(ElasticNet(), grid)\n",
    "model.fit(X_train, y_log_train)\n",
    "\n",
    "print(f\"train score: {model.score(X_train, y_log_train)}\")\n",
    "print(f\"test score: {model.score(X_test, y_log_test)}\")\n",
    "model.best_params_"
   ]
  },
  {
   "cell_type": "markdown",
   "metadata": {},
   "source": [
    "Seems like the elasticnet got the slightly higher R squared score"
   ]
  },
  {
   "cell_type": "code",
   "execution_count": 492,
   "metadata": {},
   "outputs": [],
   "source": [
    "y_log_predict=model.predict(X_test)\n",
    "#model.cv_results_\n",
    "#model.mean_squared_error(y_log_test,y_log_predict)"
   ]
  },
  {
   "cell_type": "code",
   "execution_count": 494,
   "metadata": {},
   "outputs": [],
   "source": [
    "alphas=[.001,.01,.1,1]\n",
    "lasso_cv=LassoCV(alphas=alphas,cv=5)\n",
    "lasso_cv.fit(X_train, y_log_train)\n",
    "y_preds_test=lasso_cv.predict(X_test)"
   ]
  },
  {
   "cell_type": "code",
   "execution_count": null,
   "metadata": {},
   "outputs": [],
   "source": []
  },
  {
   "cell_type": "code",
   "execution_count": null,
   "metadata": {},
   "outputs": [],
   "source": []
  }
 ],
 "metadata": {
  "kernelspec": {
   "display_name": "Python 3",
   "language": "python",
   "name": "python3"
  },
  "language_info": {
   "codemirror_mode": {
    "name": "ipython",
    "version": 3
   },
   "file_extension": ".py",
   "mimetype": "text/x-python",
   "name": "python",
   "nbconvert_exporter": "python",
   "pygments_lexer": "ipython3",
   "version": "3.7.6"
  }
 },
 "nbformat": 4,
 "nbformat_minor": 4
}
