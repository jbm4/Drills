{
 "cells": [
  {
   "cell_type": "code",
   "execution_count": 1,
   "metadata": {},
   "outputs": [],
   "source": [
    "from dask import delayed"
   ]
  },
  {
   "cell_type": "markdown",
   "metadata": {},
   "source": [
    "## 1"
   ]
  },
  {
   "cell_type": "code",
   "execution_count": 3,
   "metadata": {},
   "outputs": [
    {
     "name": "stdout",
     "output_type": "stream",
     "text": [
      "Delayed('sum_up-4f153762-2373-488f-9ce4-0e2b1fe61272')\n"
     ]
    }
   ],
   "source": [
    "@delayed\n",
    "def sum_up(l): #takes a list of numbers as input\n",
    "    return sum(l)\n",
    "\n",
    "@delayed\n",
    "def cube(n):\n",
    "    return n**3\n",
    "\n",
    "total = []\n",
    "for i in range(1,10):\n",
    "    total.append(cube(i))\n",
    "\n",
    "print(sum_up(total))\n"
   ]
  },
  {
   "cell_type": "code",
   "execution_count": 8,
   "metadata": {},
   "outputs": [
    {
     "data": {
      "text/plain": [
       "2025"
      ]
     },
     "execution_count": 8,
     "metadata": {},
     "output_type": "execute_result"
    }
   ],
   "source": [
    "sum_up(total).compute()"
   ]
  },
  {
   "cell_type": "markdown",
   "metadata": {},
   "source": [
    "## 2"
   ]
  },
  {
   "cell_type": "code",
   "execution_count": 15,
   "metadata": {},
   "outputs": [
    {
     "name": "stdout",
     "output_type": "stream",
     "text": [
      "Delayed('get_nth_fibonacci_number-9ce9ed12-9766-4d2b-b0f4-1412e7f2a237')\n"
     ]
    }
   ],
   "source": [
    "# first two fibonacci numbers\n",
    "fibonacci_nums = [1,1]\n",
    "\n",
    "# returns the nth fibonacci number\n",
    "\n",
    "@delayed\n",
    "def get_nth_fibonacci_number(n):\n",
    "    if n == 1:\n",
    "        return fibonacci_nums[0]\n",
    "    elif n == 2:\n",
    "        return fibonacci_nums[1]\n",
    "    else:\n",
    "        return get_nth_fibonacci_number(n-1).compute() + get_nth_fibonacci_number(n-2).compute()\n",
    "\n",
    "print(get_nth_fibonacci_number(10))\n"
   ]
  },
  {
   "cell_type": "code",
   "execution_count": 17,
   "metadata": {},
   "outputs": [
    {
     "data": {
      "text/plain": [
       "55"
      ]
     },
     "execution_count": 17,
     "metadata": {},
     "output_type": "execute_result"
    }
   ],
   "source": [
    "get_nth_fibonacci_number(10).compute()"
   ]
  },
  {
   "cell_type": "code",
   "execution_count": null,
   "metadata": {},
   "outputs": [],
   "source": [
    "#ask about the above compute parts inside the function"
   ]
  }
 ],
 "metadata": {
  "kernelspec": {
   "display_name": "Python 3",
   "language": "python",
   "name": "python3"
  },
  "language_info": {
   "codemirror_mode": {
    "name": "ipython",
    "version": 3
   },
   "file_extension": ".py",
   "mimetype": "text/x-python",
   "name": "python",
   "nbconvert_exporter": "python",
   "pygments_lexer": "ipython3",
   "version": "3.7.6"
  }
 },
 "nbformat": 4,
 "nbformat_minor": 4
}
