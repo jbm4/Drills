{
 "cells": [
  {
   "cell_type": "code",
   "execution_count": 23,
   "metadata": {},
   "outputs": [],
   "source": [
    "from sklearn.model_selection import train_test_split\n",
    "import statsmodels.api as sm\n",
    "import statsmodels.formula.api as smf\n",
    "from statsmodels.stats.diagnostic import het_breuschpagan\n"
   ]
  },
  {
   "cell_type": "code",
   "execution_count": 2,
   "metadata": {},
   "outputs": [],
   "source": [
    "import numpy as np\n",
    "import pandas as pd\n",
    "from sklearn import linear_model\n",
    "import matplotlib.pyplot as plt\n",
    "from sqlalchemy import create_engine\n",
    "import seaborn as sns\n",
    "import matplotlib.pyplot as plt\n",
    "\n",
    "%matplotlib inline\n",
    "\n",
    "import warnings\n",
    "warnings.filterwarnings('ignore')\n",
    "\n",
    "postgres_user = 'dsbc_student'\n",
    "postgres_pw = '7*.8G9QH21'\n",
    "postgres_host = '142.93.121.174'\n",
    "postgres_port = '5432'\n",
    "postgres_db = 'weatherinszeged'\n",
    "engine = create_engine('postgresql://{}:{}@{}:{}/{}'.format(\n",
    "    postgres_user, postgres_pw, postgres_host, postgres_port, postgres_db))\n",
    "df = pd.read_sql_query('select * from weatherinszeged',con=engine)\n",
    "\n",
    "# no need for an open connection, as we're only doing a single query\n",
    "engine.dispose()\n"
   ]
  },
  {
   "cell_type": "markdown",
   "metadata": {},
   "source": [
    "## First, load the dataset from the weatherinszeged table from Thinkful's database.\n"
   ]
  },
  {
   "cell_type": "code",
   "execution_count": 3,
   "metadata": {},
   "outputs": [
    {
     "data": {
      "text/html": [
       "<div>\n",
       "<style scoped>\n",
       "    .dataframe tbody tr th:only-of-type {\n",
       "        vertical-align: middle;\n",
       "    }\n",
       "\n",
       "    .dataframe tbody tr th {\n",
       "        vertical-align: top;\n",
       "    }\n",
       "\n",
       "    .dataframe thead th {\n",
       "        text-align: right;\n",
       "    }\n",
       "</style>\n",
       "<table border=\"1\" class=\"dataframe\">\n",
       "  <thead>\n",
       "    <tr style=\"text-align: right;\">\n",
       "      <th></th>\n",
       "      <th>date</th>\n",
       "      <th>summary</th>\n",
       "      <th>preciptype</th>\n",
       "      <th>temperature</th>\n",
       "      <th>apparenttemperature</th>\n",
       "      <th>humidity</th>\n",
       "      <th>windspeed</th>\n",
       "      <th>windbearing</th>\n",
       "      <th>visibility</th>\n",
       "      <th>loudcover</th>\n",
       "      <th>pressure</th>\n",
       "      <th>dailysummary</th>\n",
       "    </tr>\n",
       "  </thead>\n",
       "  <tbody>\n",
       "    <tr>\n",
       "      <th>0</th>\n",
       "      <td>2006-03-31 22:00:00+00:00</td>\n",
       "      <td>Partly Cloudy</td>\n",
       "      <td>rain</td>\n",
       "      <td>9.472222</td>\n",
       "      <td>7.388889</td>\n",
       "      <td>0.89</td>\n",
       "      <td>14.1197</td>\n",
       "      <td>251.0</td>\n",
       "      <td>15.8263</td>\n",
       "      <td>0.0</td>\n",
       "      <td>1015.13</td>\n",
       "      <td>Partly cloudy throughout the day.</td>\n",
       "    </tr>\n",
       "    <tr>\n",
       "      <th>1</th>\n",
       "      <td>2006-03-31 23:00:00+00:00</td>\n",
       "      <td>Partly Cloudy</td>\n",
       "      <td>rain</td>\n",
       "      <td>9.355556</td>\n",
       "      <td>7.227778</td>\n",
       "      <td>0.86</td>\n",
       "      <td>14.2646</td>\n",
       "      <td>259.0</td>\n",
       "      <td>15.8263</td>\n",
       "      <td>0.0</td>\n",
       "      <td>1015.63</td>\n",
       "      <td>Partly cloudy throughout the day.</td>\n",
       "    </tr>\n",
       "    <tr>\n",
       "      <th>2</th>\n",
       "      <td>2006-04-01 00:00:00+00:00</td>\n",
       "      <td>Mostly Cloudy</td>\n",
       "      <td>rain</td>\n",
       "      <td>9.377778</td>\n",
       "      <td>9.377778</td>\n",
       "      <td>0.89</td>\n",
       "      <td>3.9284</td>\n",
       "      <td>204.0</td>\n",
       "      <td>14.9569</td>\n",
       "      <td>0.0</td>\n",
       "      <td>1015.94</td>\n",
       "      <td>Partly cloudy throughout the day.</td>\n",
       "    </tr>\n",
       "    <tr>\n",
       "      <th>3</th>\n",
       "      <td>2006-04-01 01:00:00+00:00</td>\n",
       "      <td>Partly Cloudy</td>\n",
       "      <td>rain</td>\n",
       "      <td>8.288889</td>\n",
       "      <td>5.944444</td>\n",
       "      <td>0.83</td>\n",
       "      <td>14.1036</td>\n",
       "      <td>269.0</td>\n",
       "      <td>15.8263</td>\n",
       "      <td>0.0</td>\n",
       "      <td>1016.41</td>\n",
       "      <td>Partly cloudy throughout the day.</td>\n",
       "    </tr>\n",
       "    <tr>\n",
       "      <th>4</th>\n",
       "      <td>2006-04-01 02:00:00+00:00</td>\n",
       "      <td>Mostly Cloudy</td>\n",
       "      <td>rain</td>\n",
       "      <td>8.755556</td>\n",
       "      <td>6.977778</td>\n",
       "      <td>0.83</td>\n",
       "      <td>11.0446</td>\n",
       "      <td>259.0</td>\n",
       "      <td>15.8263</td>\n",
       "      <td>0.0</td>\n",
       "      <td>1016.51</td>\n",
       "      <td>Partly cloudy throughout the day.</td>\n",
       "    </tr>\n",
       "  </tbody>\n",
       "</table>\n",
       "</div>"
      ],
      "text/plain": [
       "                       date        summary preciptype  temperature  \\\n",
       "0 2006-03-31 22:00:00+00:00  Partly Cloudy       rain     9.472222   \n",
       "1 2006-03-31 23:00:00+00:00  Partly Cloudy       rain     9.355556   \n",
       "2 2006-04-01 00:00:00+00:00  Mostly Cloudy       rain     9.377778   \n",
       "3 2006-04-01 01:00:00+00:00  Partly Cloudy       rain     8.288889   \n",
       "4 2006-04-01 02:00:00+00:00  Mostly Cloudy       rain     8.755556   \n",
       "\n",
       "   apparenttemperature  humidity  windspeed  windbearing  visibility  \\\n",
       "0             7.388889      0.89    14.1197        251.0     15.8263   \n",
       "1             7.227778      0.86    14.2646        259.0     15.8263   \n",
       "2             9.377778      0.89     3.9284        204.0     14.9569   \n",
       "3             5.944444      0.83    14.1036        269.0     15.8263   \n",
       "4             6.977778      0.83    11.0446        259.0     15.8263   \n",
       "\n",
       "   loudcover  pressure                       dailysummary  \n",
       "0        0.0   1015.13  Partly cloudy throughout the day.  \n",
       "1        0.0   1015.63  Partly cloudy throughout the day.  \n",
       "2        0.0   1015.94  Partly cloudy throughout the day.  \n",
       "3        0.0   1016.41  Partly cloudy throughout the day.  \n",
       "4        0.0   1016.51  Partly cloudy throughout the day.  "
      ]
     },
     "execution_count": 3,
     "metadata": {},
     "output_type": "execute_result"
    }
   ],
   "source": [
    "df.head()"
   ]
  },
  {
   "cell_type": "code",
   "execution_count": 4,
   "metadata": {},
   "outputs": [
    {
     "name": "stdout",
     "output_type": "stream",
     "text": [
      "<class 'pandas.core.frame.DataFrame'>\n",
      "RangeIndex: 96453 entries, 0 to 96452\n",
      "Data columns (total 12 columns):\n",
      " #   Column               Non-Null Count  Dtype              \n",
      "---  ------               --------------  -----              \n",
      " 0   date                 96453 non-null  datetime64[ns, UTC]\n",
      " 1   summary              96453 non-null  object             \n",
      " 2   preciptype           96453 non-null  object             \n",
      " 3   temperature          96453 non-null  float64            \n",
      " 4   apparenttemperature  96453 non-null  float64            \n",
      " 5   humidity             96453 non-null  float64            \n",
      " 6   windspeed            96453 non-null  float64            \n",
      " 7   windbearing          96453 non-null  float64            \n",
      " 8   visibility           96453 non-null  float64            \n",
      " 9   loudcover            96453 non-null  float64            \n",
      " 10  pressure             96453 non-null  float64            \n",
      " 11  dailysummary         96453 non-null  object             \n",
      "dtypes: datetime64[ns, UTC](1), float64(8), object(3)\n",
      "memory usage: 8.8+ MB\n"
     ]
    }
   ],
   "source": [
    "df.info()"
   ]
  },
  {
   "cell_type": "markdown",
   "metadata": {},
   "source": [
    "## Build a regression model where the target variable is temperature. As explanatory variables, use humidity, windspeed, windbearing, and pressure. Estimate the model using OLS.\n"
   ]
  },
  {
   "cell_type": "code",
   "execution_count": 5,
   "metadata": {},
   "outputs": [],
   "source": [
    "X=df[['humidity', 'windspeed', 'windbearing', 'pressure']]\n",
    "y=df['temperature']"
   ]
  },
  {
   "cell_type": "code",
   "execution_count": 8,
   "metadata": {},
   "outputs": [],
   "source": [
    "X_train, X_test, y_train, y_test = train_test_split(\n",
    "    X, y, test_size=0.20, random_state=42\n",
    ")"
   ]
  },
  {
   "cell_type": "code",
   "execution_count": 9,
   "metadata": {},
   "outputs": [],
   "source": [
    "X_train_const = sm.add_constant(X_train)\n",
    "X_test_const = sm.add_constant(X_test)\n",
    "\n",
    "model = sm.OLS(y_train, X_train_const).fit()"
   ]
  },
  {
   "cell_type": "code",
   "execution_count": 11,
   "metadata": {},
   "outputs": [
    {
     "name": "stdout",
     "output_type": "stream",
     "text": [
      "                            OLS Regression Results                            \n",
      "==============================================================================\n",
      "Dep. Variable:            temperature   R-squared:                       0.421\n",
      "Model:                            OLS   Adj. R-squared:                  0.421\n",
      "Method:                 Least Squares   F-statistic:                 1.405e+04\n",
      "Date:                Tue, 01 Sep 2020   Prob (F-statistic):               0.00\n",
      "Time:                        18:31:35   Log-Likelihood:            -2.6241e+05\n",
      "No. Observations:               77162   AIC:                         5.248e+05\n",
      "Df Residuals:                   77157   BIC:                         5.249e+05\n",
      "Df Model:                           4                                         \n",
      "Covariance Type:            nonrobust                                         \n",
      "===============================================================================\n",
      "                  coef    std err          t      P>|t|      [0.025      0.975]\n",
      "-------------------------------------------------------------------------------\n",
      "const          37.9541      0.258    147.058      0.000      37.448      38.460\n",
      "humidity      -32.5080      0.137   -236.883      0.000     -32.777     -32.239\n",
      "windspeed      -0.1992      0.004    -51.137      0.000      -0.207      -0.192\n",
      "windbearing     0.0038      0.000     15.479      0.000       0.003       0.004\n",
      "pressure       -0.0007      0.000     -3.067      0.002      -0.001      -0.000\n",
      "==============================================================================\n",
      "Omnibus:                     2685.747   Durbin-Watson:                   1.994\n",
      "Prob(Omnibus):                  0.000   Jarque-Bera (JB):             3019.893\n",
      "Skew:                          -0.453   Prob(JB):                         0.00\n",
      "Kurtosis:                       3.344   Cond. No.                     1.05e+04\n",
      "==============================================================================\n",
      "\n",
      "Warnings:\n",
      "[1] Standard Errors assume that the covariance matrix of the errors is correctly specified.\n",
      "[2] The condition number is large, 1.05e+04. This might indicate that there are\n",
      "strong multicollinearity or other numerical problems.\n"
     ]
    }
   ],
   "source": [
    "print(model.summary())"
   ]
  },
  {
   "cell_type": "markdown",
   "metadata": {},
   "source": [
    "## Now, check if your model meets the Gauss-Markov Conditions above. If some of the assumptions are not met, discuss the implications of the violations for the correctness of your model.\n"
   ]
  },
  {
   "cell_type": "code",
   "execution_count": 26,
   "metadata": {},
   "outputs": [
    {
     "data": {
      "image/png": "[encoded data removed]",
      "text/plain": [
       "<Figure size 432x288 with 1 Axes>"
      ]
     },
     "metadata": {
      "needs_background": "light"
     },
     "output_type": "display_data"
    }
   ],
   "source": [
    "y_pred=model.predict(X_train_const)\n",
    "sm.qqplot(model.resid, line=\"s\")\n",
    "plt.show()"
   ]
  },
  {
   "cell_type": "markdown",
   "metadata": {},
   "source": [
    "It might be normal, hard to tell"
   ]
  },
  {
   "cell_type": "code",
   "execution_count": 14,
   "metadata": {},
   "outputs": [
    {
     "name": "stdout",
     "output_type": "stream",
     "text": [
      "-9.583013847595141e-13\n"
     ]
    }
   ],
   "source": [
    "print(model.resid.mean())"
   ]
  },
  {
   "cell_type": "markdown",
   "metadata": {},
   "source": [
    "Mean of the residuals is 0"
   ]
  },
  {
   "cell_type": "code",
   "execution_count": 17,
   "metadata": {},
   "outputs": [
    {
     "data": {
      "text/plain": [
       "1.6735150282305234e-82"
      ]
     },
     "execution_count": 17,
     "metadata": {},
     "output_type": "execute_result"
    }
   ],
   "source": [
    "_, p, _, _ = het_breuschpagan(model.resid, X_train_const)\n",
    "p\n"
   ]
  },
  {
   "cell_type": "markdown",
   "metadata": {},
   "source": [
    "Fails homoskedasticity assumption"
   ]
  },
  {
   "cell_type": "code",
   "execution_count": 27,
   "metadata": {},
   "outputs": [
    {
     "data": {
      "text/plain": [
       "<matplotlib.collections.PathCollection at 0x1a1b645450>"
      ]
     },
     "execution_count": 27,
     "metadata": {},
     "output_type": "execute_result"
    },
    {
     "data": {
      "image/png": "[encoded data removed]",
      "text/plain": [
       "<Figure size 432x288 with 1 Axes>"
      ]
     },
     "metadata": {
      "needs_background": "light"
     },
     "output_type": "display_data"
    }
   ],
   "source": [
    "plt.scatter(y_pred, model.resid)"
   ]
  },
  {
   "cell_type": "code",
   "execution_count": 28,
   "metadata": {},
   "outputs": [
    {
     "data": {
      "text/html": [
       "<div>\n",
       "<style scoped>\n",
       "    .dataframe tbody tr th:only-of-type {\n",
       "        vertical-align: middle;\n",
       "    }\n",
       "\n",
       "    .dataframe tbody tr th {\n",
       "        vertical-align: top;\n",
       "    }\n",
       "\n",
       "    .dataframe thead th {\n",
       "        text-align: right;\n",
       "    }\n",
       "</style>\n",
       "<table border=\"1\" class=\"dataframe\">\n",
       "  <thead>\n",
       "    <tr style=\"text-align: right;\">\n",
       "      <th></th>\n",
       "      <th>const</th>\n",
       "      <th>humidity</th>\n",
       "      <th>windspeed</th>\n",
       "      <th>windbearing</th>\n",
       "      <th>pressure</th>\n",
       "    </tr>\n",
       "  </thead>\n",
       "  <tbody>\n",
       "    <tr>\n",
       "      <th>const</th>\n",
       "      <td>NaN</td>\n",
       "      <td>NaN</td>\n",
       "      <td>NaN</td>\n",
       "      <td>NaN</td>\n",
       "      <td>NaN</td>\n",
       "    </tr>\n",
       "    <tr>\n",
       "      <th>humidity</th>\n",
       "      <td>NaN</td>\n",
       "      <td>1.000000</td>\n",
       "      <td>-0.223220</td>\n",
       "      <td>0.001999</td>\n",
       "      <td>0.004107</td>\n",
       "    </tr>\n",
       "    <tr>\n",
       "      <th>windspeed</th>\n",
       "      <td>NaN</td>\n",
       "      <td>-0.223220</td>\n",
       "      <td>1.000000</td>\n",
       "      <td>0.103184</td>\n",
       "      <td>-0.050214</td>\n",
       "    </tr>\n",
       "    <tr>\n",
       "      <th>windbearing</th>\n",
       "      <td>NaN</td>\n",
       "      <td>0.001999</td>\n",
       "      <td>0.103184</td>\n",
       "      <td>1.000000</td>\n",
       "      <td>-0.011495</td>\n",
       "    </tr>\n",
       "    <tr>\n",
       "      <th>pressure</th>\n",
       "      <td>NaN</td>\n",
       "      <td>0.004107</td>\n",
       "      <td>-0.050214</td>\n",
       "      <td>-0.011495</td>\n",
       "      <td>1.000000</td>\n",
       "    </tr>\n",
       "  </tbody>\n",
       "</table>\n",
       "</div>"
      ],
      "text/plain": [
       "             const  humidity  windspeed  windbearing  pressure\n",
       "const          NaN       NaN        NaN          NaN       NaN\n",
       "humidity       NaN  1.000000  -0.223220     0.001999  0.004107\n",
       "windspeed      NaN -0.223220   1.000000     0.103184 -0.050214\n",
       "windbearing    NaN  0.001999   0.103184     1.000000 -0.011495\n",
       "pressure       NaN  0.004107  -0.050214    -0.011495  1.000000"
      ]
     },
     "execution_count": 28,
     "metadata": {},
     "output_type": "execute_result"
    }
   ],
   "source": [
    "X_train_const.corr()"
   ]
  },
  {
   "cell_type": "markdown",
   "metadata": {},
   "source": [
    "No multicolinearity issues"
   ]
  },
  {
   "cell_type": "code",
   "execution_count": 30,
   "metadata": {},
   "outputs": [
    {
     "data": {
      "image/png": "[encoded data removed]",
      "text/plain": [
       "<Figure size 432x288 with 1 Axes>"
      ]
     },
     "metadata": {
      "needs_background": "light"
     },
     "output_type": "display_data"
    }
   ],
   "source": [
    "from statsmodels.tsa.stattools import acf\n",
    "\n",
    "acf_data = acf(model.resid)\n",
    "\n",
    "plt.plot(acf_data[1:])\n",
    "plt.show()"
   ]
  },
  {
   "cell_type": "markdown",
   "metadata": {},
   "source": [
    "Low autocorrelation"
   ]
  },
  {
   "cell_type": "code",
   "execution_count": 32,
   "metadata": {},
   "outputs": [
    {
     "name": "stdout",
     "output_type": "stream",
     "text": [
      "(3019.8931703649932, 0.0)\n",
      "NormaltestResult(statistic=2685.7471984058016, pvalue=0.0)\n"
     ]
    }
   ],
   "source": [
    "from scipy.stats import jarque_bera\n",
    "from scipy.stats import normaltest\n",
    "print(jarque_bera(model.resid))\n",
    "print(normaltest(model.resid))\n"
   ]
  },
  {
   "cell_type": "markdown",
   "metadata": {},
   "source": [
    "Not a MG assumption but the residuals are not normally distributed"
   ]
  },
  {
   "cell_type": "code",
   "execution_count": 34,
   "metadata": {},
   "outputs": [
    {
     "data": {
      "text/plain": [
       "(77162,)"
      ]
     },
     "execution_count": 34,
     "metadata": {},
     "output_type": "execute_result"
    }
   ],
   "source": [
    "model.resid.shape"
   ]
  },
  {
   "cell_type": "code",
   "execution_count": 36,
   "metadata": {},
   "outputs": [],
   "source": [
    "errordf=X_train_const.copy()\n",
    "errordf['resid']=model.resid"
   ]
  },
  {
   "cell_type": "code",
   "execution_count": 40,
   "metadata": {},
   "outputs": [
    {
     "data": {
      "text/plain": [
       "const                   NaN\n",
       "humidity      -5.199322e-15\n",
       "windspeed     -3.605358e-15\n",
       "windbearing   -8.969260e-15\n",
       "pressure       9.809750e-15\n",
       "resid          1.000000e+00\n",
       "Name: resid, dtype: float64"
      ]
     },
     "execution_count": 40,
     "metadata": {},
     "output_type": "execute_result"
    }
   ],
   "source": [
    "errordf.corr()['resid']"
   ]
  },
  {
   "cell_type": "markdown",
   "metadata": {},
   "source": [
    "Not correlated with the independent variables"
   ]
  },
  {
   "cell_type": "markdown",
   "metadata": {},
   "source": [
    "## Load the houseprices data from Thinkful's database.\n",
    "## Reimplement the model you built in the previous checkpoint.\n",
    "## Check for all of the assumptions above and discuss the implications if some of the assumptions are not met.\n"
   ]
  },
  {
   "cell_type": "code",
   "execution_count": 42,
   "metadata": {},
   "outputs": [
    {
     "name": "stdout",
     "output_type": "stream",
     "text": [
      "                            OLS Regression Results                            \n",
      "==============================================================================\n",
      "Dep. Variable:              saleprice   R-squared:                       0.785\n",
      "Model:                            OLS   Adj. R-squared:                  0.783\n",
      "Method:                 Least Squares   F-statistic:                     440.4\n",
      "Date:                Tue, 01 Sep 2020   Prob (F-statistic):               0.00\n",
      "Time:                        19:12:47   Log-Likelihood:                -13104.\n",
      "No. Observations:                1094   AIC:                         2.623e+04\n",
      "Df Residuals:                    1084   BIC:                         2.628e+04\n",
      "Df Model:                           9                                         \n",
      "Covariance Type:            nonrobust                                         \n",
      "================================================================================\n",
      "                   coef    std err          t      P>|t|      [0.025      0.975]\n",
      "--------------------------------------------------------------------------------\n",
      "const         -2.15e+07   5.77e+06     -3.723      0.000   -3.28e+07   -1.02e+07\n",
      "overallqual   1.948e+04   1541.085     12.638      0.000    1.65e+04    2.25e+04\n",
      "grlivarea       50.2831      3.164     15.891      0.000      44.074      56.492\n",
      "garagearea      35.7954      8.440      4.241      0.000      19.235      52.356\n",
      "totalbsmtsf     22.5488      3.815      5.911      0.000      15.064      30.033\n",
      "yearremodadd   421.9231     82.179      5.134      0.000     260.676     583.170\n",
      "yearbuilt     2.093e+04   5848.647      3.578      0.000    9452.588    3.24e+04\n",
      "yrsbltqared     -5.3170      1.497     -3.552      0.000      -8.254      -2.380\n",
      "lotarea          0.7171      0.156      4.600      0.000       0.411       1.023\n",
      "nicehood      3.759e+04   3772.503      9.964      0.000    3.02e+04     4.5e+04\n",
      "==============================================================================\n",
      "Omnibus:                      463.511   Durbin-Watson:                   1.951\n",
      "Prob(Omnibus):                  0.000   Jarque-Bera (JB):            54419.822\n",
      "Skew:                          -0.926   Prob(JB):                         0.00\n",
      "Kurtosis:                      37.502   Cond. No.                     1.92e+10\n",
      "==============================================================================\n",
      "\n",
      "Warnings:\n",
      "[1] Standard Errors assume that the covariance matrix of the errors is correctly specified.\n",
      "[2] The condition number is large, 1.92e+10. This might indicate that there are\n",
      "strong multicollinearity or other numerical problems.\n"
     ]
    }
   ],
   "source": [
    "postgres_user = 'dsbc_student'\n",
    "postgres_pw = '7*.8G9QH21'\n",
    "postgres_host = '142.93.121.174'\n",
    "postgres_port = '5432'\n",
    "postgres_db = 'houseprices'\n",
    "engine = create_engine('postgresql://{}:{}@{}:{}/{}'.format(\n",
    "    postgres_user, postgres_pw, postgres_host, postgres_port, postgres_db))\n",
    "df = pd.read_sql_query('select * from houseprices',con=engine)\n",
    "\n",
    "# no need for an open connection, as we're only doing a single query\n",
    "engine.dispose()\n",
    "drop_cols=[]\n",
    "for col in df.columns:\n",
    "    if df[col].isna().mean()>.4:\n",
    "        drop_cols=drop_cols+[col]\n",
    "df_clean=df.drop(columns=drop_cols).dropna()\n",
    "df_clean['secondflrexists']=0\n",
    "df_clean.loc[df['secondflrsf']>0,'secondflrexists']=1 #can prob drop 2nd fl sq ft\n",
    "df_clean['totalsf']=df_clean['firstflrsf']=+df_clean['secondflrsf']\n",
    "df_clean['yrsbltqared']=df_clean['yearbuilt']*df_clean['yearbuilt']\n",
    "y=df_clean['saleprice']\n",
    "X=df_clean.drop(columns=['saleprice','id'])\n",
    "X.mszoning.dtype==int\n",
    "cat_cols=[c for c in X.columns if X[c].dtype=='O']\n",
    "numeric_cols=[c for c in X.columns if X[c].dtype!='O']\n",
    "niceneighborhoods=['NridgHt', 'NoRidge', 'Somerst', 'Timber', 'Veenker', 'StoneBr']\n",
    "df_clean['nicehood']=0\n",
    "df_clean.loc[df_clean.neighborhood.isin(niceneighborhoods),'nicehood']=1\n",
    "X2 = df_clean[['overallqual','grlivarea', 'garagearea', 'totalbsmtsf','yearremodadd','yearbuilt','yrsbltqared','lotarea','nicehood']]\n",
    "Y2 = df_clean.saleprice\n",
    "X2 = sm.add_constant(X2)\n",
    "results = sm.OLS(Y2, X2).fit()\n",
    "print(results.summary())\n"
   ]
  },
  {
   "cell_type": "code",
   "execution_count": 45,
   "metadata": {
    "scrolled": true
   },
   "outputs": [
    {
     "data": {
      "image/png": "[encoded data removed]",
      "text/plain": [
       "<Figure size 432x288 with 1 Axes>"
      ]
     },
     "metadata": {
      "needs_background": "light"
     },
     "output_type": "display_data"
    }
   ],
   "source": [
    "y2_pred=results.predict(X2)\n",
    "sm.qqplot(results.resid, line=\"s\")\n",
    "plt.show()"
   ]
  },
  {
   "cell_type": "code",
   "execution_count": 51,
   "metadata": {},
   "outputs": [
    {
     "name": "stdout",
     "output_type": "stream",
     "text": [
      "(3019.8931703649932, 0.0)\n",
      "NormaltestResult(statistic=2685.7471984058016, pvalue=0.0)\n"
     ]
    }
   ],
   "source": [
    "print(jarque_bera(model.resid))\n",
    "print(normaltest(model.resid))\n"
   ]
  },
  {
   "cell_type": "markdown",
   "metadata": {},
   "source": [
    "Not normal (not a real assumption)"
   ]
  },
  {
   "cell_type": "code",
   "execution_count": 48,
   "metadata": {},
   "outputs": [
    {
     "data": {
      "text/plain": [
       "6.83072901707719e-70"
      ]
     },
     "execution_count": 48,
     "metadata": {},
     "output_type": "execute_result"
    }
   ],
   "source": [
    "_, p, _, _ = het_breuschpagan(results.resid, X2)\n",
    "p\n"
   ]
  },
  {
   "cell_type": "markdown",
   "metadata": {},
   "source": [
    "Fails homoskedasicity test"
   ]
  },
  {
   "cell_type": "code",
   "execution_count": 50,
   "metadata": {},
   "outputs": [
    {
     "data": {
      "text/plain": [
       "<matplotlib.collections.PathCollection at 0x1a1c69a410>"
      ]
     },
     "execution_count": 50,
     "metadata": {},
     "output_type": "execute_result"
    },
    {
     "data": {
      "image/png": "[encoded data removed]",
      "text/plain": [
       "<Figure size 432x288 with 1 Axes>"
      ]
     },
     "metadata": {
      "needs_background": "light"
     },
     "output_type": "display_data"
    }
   ],
   "source": [
    "plt.scatter(y2_pred, results.resid)"
   ]
  },
  {
   "cell_type": "code",
   "execution_count": 52,
   "metadata": {
    "scrolled": true
   },
   "outputs": [
    {
     "data": {
      "text/html": [
       "<div>\n",
       "<style scoped>\n",
       "    .dataframe tbody tr th:only-of-type {\n",
       "        vertical-align: middle;\n",
       "    }\n",
       "\n",
       "    .dataframe tbody tr th {\n",
       "        vertical-align: top;\n",
       "    }\n",
       "\n",
       "    .dataframe thead th {\n",
       "        text-align: right;\n",
       "    }\n",
       "</style>\n",
       "<table border=\"1\" class=\"dataframe\">\n",
       "  <thead>\n",
       "    <tr style=\"text-align: right;\">\n",
       "      <th></th>\n",
       "      <th>const</th>\n",
       "      <th>overallqual</th>\n",
       "      <th>grlivarea</th>\n",
       "      <th>garagearea</th>\n",
       "      <th>totalbsmtsf</th>\n",
       "      <th>yearremodadd</th>\n",
       "      <th>yearbuilt</th>\n",
       "      <th>yrsbltqared</th>\n",
       "      <th>lotarea</th>\n",
       "      <th>nicehood</th>\n",
       "    </tr>\n",
       "  </thead>\n",
       "  <tbody>\n",
       "    <tr>\n",
       "      <th>const</th>\n",
       "      <td>NaN</td>\n",
       "      <td>NaN</td>\n",
       "      <td>NaN</td>\n",
       "      <td>NaN</td>\n",
       "      <td>NaN</td>\n",
       "      <td>NaN</td>\n",
       "      <td>NaN</td>\n",
       "      <td>NaN</td>\n",
       "      <td>NaN</td>\n",
       "      <td>NaN</td>\n",
       "    </tr>\n",
       "    <tr>\n",
       "      <th>overallqual</th>\n",
       "      <td>NaN</td>\n",
       "      <td>1.000000</td>\n",
       "      <td>0.610102</td>\n",
       "      <td>0.555315</td>\n",
       "      <td>0.547448</td>\n",
       "      <td>0.568582</td>\n",
       "      <td>0.590761</td>\n",
       "      <td>0.593817</td>\n",
       "      <td>0.169876</td>\n",
       "      <td>0.601720</td>\n",
       "    </tr>\n",
       "    <tr>\n",
       "      <th>grlivarea</th>\n",
       "      <td>NaN</td>\n",
       "      <td>0.610102</td>\n",
       "      <td>1.000000</td>\n",
       "      <td>0.488310</td>\n",
       "      <td>0.487685</td>\n",
       "      <td>0.287412</td>\n",
       "      <td>0.198778</td>\n",
       "      <td>0.201531</td>\n",
       "      <td>0.308590</td>\n",
       "      <td>0.340669</td>\n",
       "    </tr>\n",
       "    <tr>\n",
       "      <th>garagearea</th>\n",
       "      <td>NaN</td>\n",
       "      <td>0.555315</td>\n",
       "      <td>0.488310</td>\n",
       "      <td>1.000000</td>\n",
       "      <td>0.546099</td>\n",
       "      <td>0.413917</td>\n",
       "      <td>0.470809</td>\n",
       "      <td>0.473135</td>\n",
       "      <td>0.213104</td>\n",
       "      <td>0.494617</td>\n",
       "    </tr>\n",
       "    <tr>\n",
       "      <th>totalbsmtsf</th>\n",
       "      <td>NaN</td>\n",
       "      <td>0.547448</td>\n",
       "      <td>0.487685</td>\n",
       "      <td>0.546099</td>\n",
       "      <td>1.000000</td>\n",
       "      <td>0.302488</td>\n",
       "      <td>0.423763</td>\n",
       "      <td>0.424690</td>\n",
       "      <td>0.324476</td>\n",
       "      <td>0.387932</td>\n",
       "    </tr>\n",
       "    <tr>\n",
       "      <th>yearremodadd</th>\n",
       "      <td>NaN</td>\n",
       "      <td>0.568582</td>\n",
       "      <td>0.287412</td>\n",
       "      <td>0.413917</td>\n",
       "      <td>0.302488</td>\n",
       "      <td>1.000000</td>\n",
       "      <td>0.625905</td>\n",
       "      <td>0.628884</td>\n",
       "      <td>0.024308</td>\n",
       "      <td>0.427830</td>\n",
       "    </tr>\n",
       "    <tr>\n",
       "      <th>yearbuilt</th>\n",
       "      <td>NaN</td>\n",
       "      <td>0.590761</td>\n",
       "      <td>0.198778</td>\n",
       "      <td>0.470809</td>\n",
       "      <td>0.423763</td>\n",
       "      <td>0.625905</td>\n",
       "      <td>1.000000</td>\n",
       "      <td>0.999967</td>\n",
       "      <td>0.028954</td>\n",
       "      <td>0.502925</td>\n",
       "    </tr>\n",
       "    <tr>\n",
       "      <th>yrsbltqared</th>\n",
       "      <td>NaN</td>\n",
       "      <td>0.593817</td>\n",
       "      <td>0.201531</td>\n",
       "      <td>0.473135</td>\n",
       "      <td>0.424690</td>\n",
       "      <td>0.628884</td>\n",
       "      <td>0.999967</td>\n",
       "      <td>1.000000</td>\n",
       "      <td>0.028965</td>\n",
       "      <td>0.505313</td>\n",
       "    </tr>\n",
       "    <tr>\n",
       "      <th>lotarea</th>\n",
       "      <td>NaN</td>\n",
       "      <td>0.169876</td>\n",
       "      <td>0.308590</td>\n",
       "      <td>0.213104</td>\n",
       "      <td>0.324476</td>\n",
       "      <td>0.024308</td>\n",
       "      <td>0.028954</td>\n",
       "      <td>0.028965</td>\n",
       "      <td>1.000000</td>\n",
       "      <td>0.115667</td>\n",
       "    </tr>\n",
       "    <tr>\n",
       "      <th>nicehood</th>\n",
       "      <td>NaN</td>\n",
       "      <td>0.601720</td>\n",
       "      <td>0.340669</td>\n",
       "      <td>0.494617</td>\n",
       "      <td>0.387932</td>\n",
       "      <td>0.427830</td>\n",
       "      <td>0.502925</td>\n",
       "      <td>0.505313</td>\n",
       "      <td>0.115667</td>\n",
       "      <td>1.000000</td>\n",
       "    </tr>\n",
       "  </tbody>\n",
       "</table>\n",
       "</div>"
      ],
      "text/plain": [
       "              const  overallqual  grlivarea  garagearea  totalbsmtsf  \\\n",
       "const           NaN          NaN        NaN         NaN          NaN   \n",
       "overallqual     NaN     1.000000   0.610102    0.555315     0.547448   \n",
       "grlivarea       NaN     0.610102   1.000000    0.488310     0.487685   \n",
       "garagearea      NaN     0.555315   0.488310    1.000000     0.546099   \n",
       "totalbsmtsf     NaN     0.547448   0.487685    0.546099     1.000000   \n",
       "yearremodadd    NaN     0.568582   0.287412    0.413917     0.302488   \n",
       "yearbuilt       NaN     0.590761   0.198778    0.470809     0.423763   \n",
       "yrsbltqared     NaN     0.593817   0.201531    0.473135     0.424690   \n",
       "lotarea         NaN     0.169876   0.308590    0.213104     0.324476   \n",
       "nicehood        NaN     0.601720   0.340669    0.494617     0.387932   \n",
       "\n",
       "              yearremodadd  yearbuilt  yrsbltqared   lotarea  nicehood  \n",
       "const                  NaN        NaN          NaN       NaN       NaN  \n",
       "overallqual       0.568582   0.590761     0.593817  0.169876  0.601720  \n",
       "grlivarea         0.287412   0.198778     0.201531  0.308590  0.340669  \n",
       "garagearea        0.413917   0.470809     0.473135  0.213104  0.494617  \n",
       "totalbsmtsf       0.302488   0.423763     0.424690  0.324476  0.387932  \n",
       "yearremodadd      1.000000   0.625905     0.628884  0.024308  0.427830  \n",
       "yearbuilt         0.625905   1.000000     0.999967  0.028954  0.502925  \n",
       "yrsbltqared       0.628884   0.999967     1.000000  0.028965  0.505313  \n",
       "lotarea           0.024308   0.028954     0.028965  1.000000  0.115667  \n",
       "nicehood          0.427830   0.502925     0.505313  0.115667  1.000000  "
      ]
     },
     "execution_count": 52,
     "metadata": {},
     "output_type": "execute_result"
    }
   ],
   "source": [
    "X2.corr()"
   ]
  },
  {
   "cell_type": "markdown",
   "metadata": {},
   "source": [
    "Some multicolinearity"
   ]
  },
  {
   "cell_type": "code",
   "execution_count": 54,
   "metadata": {},
   "outputs": [
    {
     "data": {
      "image/png": "[encoded data removed]",
      "text/plain": [
       "<Figure size 432x288 with 1 Axes>"
      ]
     },
     "metadata": {
      "needs_background": "light"
     },
     "output_type": "display_data"
    }
   ],
   "source": [
    "acf_data = acf(results.resid)\n",
    "\n",
    "plt.plot(acf_data[1:])\n",
    "plt.show()"
   ]
  },
  {
   "cell_type": "markdown",
   "metadata": {},
   "source": [
    "No autocorrelation"
   ]
  },
  {
   "cell_type": "code",
   "execution_count": 55,
   "metadata": {
    "scrolled": true
   },
   "outputs": [
    {
     "data": {
      "text/plain": [
       "const                    NaN\n",
       "overallqual     1.182749e-12\n",
       "grlivarea      -7.177336e-14\n",
       "garagearea      9.139773e-13\n",
       "totalbsmtsf     7.995567e-13\n",
       "yearremodadd    6.271843e-13\n",
       "yearbuilt       2.160615e-12\n",
       "yrsbltqared     2.157395e-12\n",
       "lotarea        -6.021540e-15\n",
       "nicehood        8.971889e-13\n",
       "resid           1.000000e+00\n",
       "Name: resid, dtype: float64"
      ]
     },
     "execution_count": 55,
     "metadata": {},
     "output_type": "execute_result"
    }
   ],
   "source": [
    "errordf2=X2.copy()\n",
    "errordf2['resid']=results.resid\n",
    "errordf2.corr()['resid']"
   ]
  },
  {
   "cell_type": "code",
   "execution_count": 56,
   "metadata": {},
   "outputs": [
    {
     "data": {
      "text/plain": [
       "-7.769079735588583e-06"
      ]
     },
     "execution_count": 56,
     "metadata": {},
     "output_type": "execute_result"
    }
   ],
   "source": [
    "results.resid.mean()"
   ]
  },
  {
   "cell_type": "markdown",
   "metadata": {},
   "source": [
    "No omitted variable bias"
   ]
  },
  {
   "cell_type": "markdown",
   "metadata": {},
   "source": [
    "So, we see that we fail the homoskedicity assumption as well as there being a little multicolinearity. This means that the source of variance might be misattributed to the variables, and there will be difficulty testing whether the coefficients are significant"
   ]
  },
  {
   "cell_type": "code",
   "execution_count": null,
   "metadata": {},
   "outputs": [],
   "source": []
  }
 ],
 "metadata": {
  "kernelspec": {
   "display_name": "Python 3",
   "language": "python",
   "name": "python3"
  },
  "language_info": {
   "codemirror_mode": {
    "name": "ipython",
    "version": 3
   },
   "file_extension": ".py",
   "mimetype": "text/x-python",
   "name": "python",
   "nbconvert_exporter": "python",
   "pygments_lexer": "ipython3",
   "version": "3.7.6"
  }
 },
 "nbformat": 4,
 "nbformat_minor": 4
}
