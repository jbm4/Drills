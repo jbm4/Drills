{
 "cells": [
  {
   "cell_type": "markdown",
   "metadata": {},
   "source": [
    "## 1\n",
    "The constant is 873 dollars. You could interpret this as that families with no chilren and no income spend around 900 dollars on recreation. \n",
    "\n",
    "For every dollar of annual income, .0012 dollars are spent on recreation. \n",
    "\n",
    "If the annualincome2 is the squared term, you could think of that as saying that this rate increases by .00004 for every extra dollar in cincome.\n",
    "\n",
    "Families with kids spend 224 dollars less on recreation than those without. "
   ]
  },
  {
   "cell_type": "code",
   "execution_count": 1,
   "metadata": {},
   "outputs": [],
   "source": [
    "from sklearn.model_selection import train_test_split\n",
    "import statsmodels.api as sm\n",
    "import statsmodels.formula.api as smf\n",
    "from statsmodels.stats.diagnostic import het_breuschpagan\n",
    "import numpy as np\n",
    "import pandas as pd\n",
    "from sklearn import linear_model\n",
    "import matplotlib.pyplot as plt\n",
    "from sqlalchemy import create_engine\n",
    "import seaborn as sns\n",
    "import matplotlib.pyplot as plt\n",
    "\n",
    "%matplotlib inline\n",
    "\n",
    "import warnings\n",
    "warnings.filterwarnings('ignore')\n",
    "\n",
    "postgres_user = 'dsbc_student'\n",
    "postgres_pw = '7*.8G9QH21'\n",
    "postgres_host = '142.93.121.174'\n",
    "postgres_port = '5432'\n",
    "postgres_db = 'weatherinszeged'\n"
   ]
  },
  {
   "cell_type": "code",
   "execution_count": 2,
   "metadata": {},
   "outputs": [],
   "source": [
    "engine = create_engine('postgresql://{}:{}@{}:{}/{}'.format(\n",
    "    postgres_user, postgres_pw, postgres_host, postgres_port, postgres_db))\n",
    "df = pd.read_sql_query('select * from weatherinszeged',con=engine)\n",
    "\n",
    "# no need for an open connection, as we're only doing a single query\n",
    "engine.dispose()\n"
   ]
  },
  {
   "cell_type": "code",
   "execution_count": 14,
   "metadata": {},
   "outputs": [
    {
     "name": "stdout",
     "output_type": "stream",
     "text": [
      "<class 'pandas.core.frame.DataFrame'>\n",
      "RangeIndex: 96453 entries, 0 to 96452\n",
      "Data columns (total 13 columns):\n",
      " #   Column               Non-Null Count  Dtype              \n",
      "---  ------               --------------  -----              \n",
      " 0   date                 96453 non-null  datetime64[ns, UTC]\n",
      " 1   summary              96453 non-null  object             \n",
      " 2   preciptype           96453 non-null  object             \n",
      " 3   temperature          96453 non-null  float64            \n",
      " 4   apparenttemperature  96453 non-null  float64            \n",
      " 5   humidity             96453 non-null  float64            \n",
      " 6   windspeed            96453 non-null  float64            \n",
      " 7   windbearing          96453 non-null  float64            \n",
      " 8   visibility           96453 non-null  float64            \n",
      " 9   loudcover            96453 non-null  float64            \n",
      " 10  pressure             96453 non-null  float64            \n",
      " 11  dailysummary         96453 non-null  object             \n",
      " 12  tempdiff             96453 non-null  float64            \n",
      "dtypes: datetime64[ns, UTC](1), float64(9), object(3)\n",
      "memory usage: 9.6+ MB\n"
     ]
    }
   ],
   "source": [
    "df.info()"
   ]
  },
  {
   "cell_type": "code",
   "execution_count": 12,
   "metadata": {},
   "outputs": [],
   "source": [
    "df['tempdiff']=df.apparenttemperature-df.temperature"
   ]
  },
  {
   "cell_type": "code",
   "execution_count": 13,
   "metadata": {},
   "outputs": [],
   "source": [
    "X=df[['humidity','windspeed']]\n",
    "y=df['tempdiff']"
   ]
  },
  {
   "cell_type": "code",
   "execution_count": 15,
   "metadata": {},
   "outputs": [],
   "source": [
    "X_train, X_test, y_train, y_test = train_test_split(\n",
    "    X, y, test_size=0.20, random_state=42\n",
    ")"
   ]
  },
  {
   "cell_type": "code",
   "execution_count": 16,
   "metadata": {},
   "outputs": [],
   "source": [
    "X_train_const = sm.add_constant(X_train)\n",
    "X_test_const = sm.add_constant(X_test)\n",
    "\n",
    "model = sm.OLS(y_train, X_train_const).fit()"
   ]
  },
  {
   "cell_type": "code",
   "execution_count": 17,
   "metadata": {
    "scrolled": false
   },
   "outputs": [
    {
     "data": {
      "text/html": [
       "<table class=\"simpletable\">\n",
       "<caption>OLS Regression Results</caption>\n",
       "<tr>\n",
       "  <th>Dep. Variable:</th>        <td>tempdiff</td>     <th>  R-squared:         </th>  <td>   0.289</td>  \n",
       "</tr>\n",
       "<tr>\n",
       "  <th>Model:</th>                   <td>OLS</td>       <th>  Adj. R-squared:    </th>  <td>   0.289</td>  \n",
       "</tr>\n",
       "<tr>\n",
       "  <th>Method:</th>             <td>Least Squares</td>  <th>  F-statistic:       </th>  <td>1.567e+04</td> \n",
       "</tr>\n",
       "<tr>\n",
       "  <th>Date:</th>             <td>Tue, 01 Sep 2020</td> <th>  Prob (F-statistic):</th>   <td>  0.00</td>   \n",
       "</tr>\n",
       "<tr>\n",
       "  <th>Time:</th>                 <td>20:43:50</td>     <th>  Log-Likelihood:    </th> <td>-1.3620e+05</td>\n",
       "</tr>\n",
       "<tr>\n",
       "  <th>No. Observations:</th>      <td> 77162</td>      <th>  AIC:               </th>  <td>2.724e+05</td> \n",
       "</tr>\n",
       "<tr>\n",
       "  <th>Df Residuals:</th>          <td> 77159</td>      <th>  BIC:               </th>  <td>2.724e+05</td> \n",
       "</tr>\n",
       "<tr>\n",
       "  <th>Df Model:</th>              <td>     2</td>      <th>                     </th>      <td> </td>     \n",
       "</tr>\n",
       "<tr>\n",
       "  <th>Covariance Type:</th>      <td>nonrobust</td>    <th>                     </th>      <td> </td>     \n",
       "</tr>\n",
       "</table>\n",
       "<table class=\"simpletable\">\n",
       "<tr>\n",
       "      <td></td>         <th>coef</th>     <th>std err</th>      <th>t</th>      <th>P>|t|</th>  <th>[0.025</th>    <th>0.975]</th>  \n",
       "</tr>\n",
       "<tr>\n",
       "  <th>const</th>     <td>    2.4379</td> <td>    0.023</td> <td>  104.020</td> <td> 0.000</td> <td>    2.392</td> <td>    2.484</td>\n",
       "</tr>\n",
       "<tr>\n",
       "  <th>humidity</th>  <td>   -3.0282</td> <td>    0.027</td> <td> -113.311</td> <td> 0.000</td> <td>   -3.081</td> <td>   -2.976</td>\n",
       "</tr>\n",
       "<tr>\n",
       "  <th>windspeed</th> <td>   -0.1190</td> <td>    0.001</td> <td> -157.870</td> <td> 0.000</td> <td>   -0.120</td> <td>   -0.117</td>\n",
       "</tr>\n",
       "</table>\n",
       "<table class=\"simpletable\">\n",
       "<tr>\n",
       "  <th>Omnibus:</th>       <td>3096.421</td> <th>  Durbin-Watson:     </th> <td>   1.993</td>\n",
       "</tr>\n",
       "<tr>\n",
       "  <th>Prob(Omnibus):</th>  <td> 0.000</td>  <th>  Jarque-Bera (JB):  </th> <td>3635.635</td>\n",
       "</tr>\n",
       "<tr>\n",
       "  <th>Skew:</th>           <td>-0.471</td>  <th>  Prob(JB):          </th> <td>    0.00</td>\n",
       "</tr>\n",
       "<tr>\n",
       "  <th>Kurtosis:</th>       <td> 3.492</td>  <th>  Cond. No.          </th> <td>    88.1</td>\n",
       "</tr>\n",
       "</table><br/><br/>Warnings:<br/>[1] Standard Errors assume that the covariance matrix of the errors is correctly specified."
      ],
      "text/plain": [
       "<class 'statsmodels.iolib.summary.Summary'>\n",
       "\"\"\"\n",
       "                            OLS Regression Results                            \n",
       "==============================================================================\n",
       "Dep. Variable:               tempdiff   R-squared:                       0.289\n",
       "Model:                            OLS   Adj. R-squared:                  0.289\n",
       "Method:                 Least Squares   F-statistic:                 1.567e+04\n",
       "Date:                Tue, 01 Sep 2020   Prob (F-statistic):               0.00\n",
       "Time:                        20:43:50   Log-Likelihood:            -1.3620e+05\n",
       "No. Observations:               77162   AIC:                         2.724e+05\n",
       "Df Residuals:                   77159   BIC:                         2.724e+05\n",
       "Df Model:                           2                                         \n",
       "Covariance Type:            nonrobust                                         \n",
       "==============================================================================\n",
       "                 coef    std err          t      P>|t|      [0.025      0.975]\n",
       "------------------------------------------------------------------------------\n",
       "const          2.4379      0.023    104.020      0.000       2.392       2.484\n",
       "humidity      -3.0282      0.027   -113.311      0.000      -3.081      -2.976\n",
       "windspeed     -0.1190      0.001   -157.870      0.000      -0.120      -0.117\n",
       "==============================================================================\n",
       "Omnibus:                     3096.421   Durbin-Watson:                   1.993\n",
       "Prob(Omnibus):                  0.000   Jarque-Bera (JB):             3635.635\n",
       "Skew:                          -0.471   Prob(JB):                         0.00\n",
       "Kurtosis:                       3.492   Cond. No.                         88.1\n",
       "==============================================================================\n",
       "\n",
       "Warnings:\n",
       "[1] Standard Errors assume that the covariance matrix of the errors is correctly specified.\n",
       "\"\"\""
      ]
     },
     "execution_count": 17,
     "metadata": {},
     "output_type": "execute_result"
    }
   ],
   "source": [
    "model.summary()"
   ]
  },
  {
   "cell_type": "markdown",
   "metadata": {},
   "source": [
    "A 100% increase in humidity is associated with a three degree decrease of apparent temperature as compared to temperature. An increase of windspeed of one unit leads to a .1 decreae of apparent temperature as compared to temperature. In the absence of either, you would expect the difference to be 2.4\n",
    "\n",
    "They are all statistically significant. I would have expected the effect of humidity to have bee nteh opposite. Ie. it would have increased apparent temperature as compared to actual temperature. Perhaps this is caused by some unobserved factor."
   ]
  },
  {
   "cell_type": "markdown",
   "metadata": {},
   "source": [
    "### Next, include the interaction of humidity and windspeed to the model above and estimate the model using OLS. Are the coefficients statistically significant? Did the signs of the estimated coefficients for humidity and windspeed change? Interpret the estimated coefficients.\n"
   ]
  },
  {
   "cell_type": "code",
   "execution_count": 20,
   "metadata": {
    "scrolled": false
   },
   "outputs": [
    {
     "data": {
      "text/html": [
       "<table class=\"simpletable\">\n",
       "<caption>OLS Regression Results</caption>\n",
       "<tr>\n",
       "  <th>Dep. Variable:</th>        <td>tempdiff</td>     <th>  R-squared:         </th>  <td>   0.342</td>  \n",
       "</tr>\n",
       "<tr>\n",
       "  <th>Model:</th>                   <td>OLS</td>       <th>  Adj. R-squared:    </th>  <td>   0.342</td>  \n",
       "</tr>\n",
       "<tr>\n",
       "  <th>Method:</th>             <td>Least Squares</td>  <th>  F-statistic:       </th>  <td>1.335e+04</td> \n",
       "</tr>\n",
       "<tr>\n",
       "  <th>Date:</th>             <td>Tue, 01 Sep 2020</td> <th>  Prob (F-statistic):</th>   <td>  0.00</td>   \n",
       "</tr>\n",
       "<tr>\n",
       "  <th>Time:</th>                 <td>20:54:01</td>     <th>  Log-Likelihood:    </th> <td>-1.3322e+05</td>\n",
       "</tr>\n",
       "<tr>\n",
       "  <th>No. Observations:</th>      <td> 77162</td>      <th>  AIC:               </th>  <td>2.664e+05</td> \n",
       "</tr>\n",
       "<tr>\n",
       "  <th>Df Residuals:</th>          <td> 77158</td>      <th>  BIC:               </th>  <td>2.665e+05</td> \n",
       "</tr>\n",
       "<tr>\n",
       "  <th>Df Model:</th>              <td>     3</td>      <th>                     </th>      <td> </td>     \n",
       "</tr>\n",
       "<tr>\n",
       "  <th>Covariance Type:</th>      <td>nonrobust</td>    <th>                     </th>      <td> </td>     \n",
       "</tr>\n",
       "</table>\n",
       "<table class=\"simpletable\">\n",
       "<tr>\n",
       "        <td></td>           <th>coef</th>     <th>std err</th>      <th>t</th>      <th>P>|t|</th>  <th>[0.025</th>    <th>0.975]</th>  \n",
       "</tr>\n",
       "<tr>\n",
       "  <th>const</th>         <td>    0.1056</td> <td>    0.037</td> <td>    2.837</td> <td> 0.005</td> <td>    0.033</td> <td>    0.179</td>\n",
       "</tr>\n",
       "<tr>\n",
       "  <th>humidity</th>      <td>    0.1488</td> <td>    0.048</td> <td>    3.111</td> <td> 0.002</td> <td>    0.055</td> <td>    0.243</td>\n",
       "</tr>\n",
       "<tr>\n",
       "  <th>windspeed</th>     <td>    0.0889</td> <td>    0.003</td> <td>   32.463</td> <td> 0.000</td> <td>    0.083</td> <td>    0.094</td>\n",
       "</tr>\n",
       "<tr>\n",
       "  <th>wind_humidity</th> <td>   -0.2943</td> <td>    0.004</td> <td>  -78.736</td> <td> 0.000</td> <td>   -0.302</td> <td>   -0.287</td>\n",
       "</tr>\n",
       "</table>\n",
       "<table class=\"simpletable\">\n",
       "<tr>\n",
       "  <th>Omnibus:</th>       <td>3874.274</td> <th>  Durbin-Watson:     </th> <td>   1.993</td>\n",
       "</tr>\n",
       "<tr>\n",
       "  <th>Prob(Omnibus):</th>  <td> 0.000</td>  <th>  Jarque-Bera (JB):  </th> <td>7621.547</td>\n",
       "</tr>\n",
       "<tr>\n",
       "  <th>Skew:</th>           <td>-0.369</td>  <th>  Prob(JB):          </th> <td>    0.00</td>\n",
       "</tr>\n",
       "<tr>\n",
       "  <th>Kurtosis:</th>       <td> 4.351</td>  <th>  Cond. No.          </th> <td>    193.</td>\n",
       "</tr>\n",
       "</table><br/><br/>Warnings:<br/>[1] Standard Errors assume that the covariance matrix of the errors is correctly specified."
      ],
      "text/plain": [
       "<class 'statsmodels.iolib.summary.Summary'>\n",
       "\"\"\"\n",
       "                            OLS Regression Results                            \n",
       "==============================================================================\n",
       "Dep. Variable:               tempdiff   R-squared:                       0.342\n",
       "Model:                            OLS   Adj. R-squared:                  0.342\n",
       "Method:                 Least Squares   F-statistic:                 1.335e+04\n",
       "Date:                Tue, 01 Sep 2020   Prob (F-statistic):               0.00\n",
       "Time:                        20:54:01   Log-Likelihood:            -1.3322e+05\n",
       "No. Observations:               77162   AIC:                         2.664e+05\n",
       "Df Residuals:                   77158   BIC:                         2.665e+05\n",
       "Df Model:                           3                                         \n",
       "Covariance Type:            nonrobust                                         \n",
       "=================================================================================\n",
       "                    coef    std err          t      P>|t|      [0.025      0.975]\n",
       "---------------------------------------------------------------------------------\n",
       "const             0.1056      0.037      2.837      0.005       0.033       0.179\n",
       "humidity          0.1488      0.048      3.111      0.002       0.055       0.243\n",
       "windspeed         0.0889      0.003     32.463      0.000       0.083       0.094\n",
       "wind_humidity    -0.2943      0.004    -78.736      0.000      -0.302      -0.287\n",
       "==============================================================================\n",
       "Omnibus:                     3874.274   Durbin-Watson:                   1.993\n",
       "Prob(Omnibus):                  0.000   Jarque-Bera (JB):             7621.547\n",
       "Skew:                          -0.369   Prob(JB):                         0.00\n",
       "Kurtosis:                       4.351   Cond. No.                         193.\n",
       "==============================================================================\n",
       "\n",
       "Warnings:\n",
       "[1] Standard Errors assume that the covariance matrix of the errors is correctly specified.\n",
       "\"\"\""
      ]
     },
     "execution_count": 20,
     "metadata": {},
     "output_type": "execute_result"
    }
   ],
   "source": [
    "X['wind_humidity']=X.humidity*X.windspeed\n",
    "X_train, X_test, y_train, y_test = train_test_split(\n",
    "    X, y, test_size=0.20, random_state=42\n",
    ")\n",
    "X_train_const = sm.add_constant(X_train)\n",
    "X_test_const = sm.add_constant(X_test)\n",
    "\n",
    "model = sm.OLS(y_train, X_train_const).fit()\n",
    "model.summary()"
   ]
  },
  {
   "cell_type": "markdown",
   "metadata": {},
   "source": [
    "How to interpret the interaction of wind and humidity? As wind increases, (apparent temp - temp) decreases, as well as the other way around. Now humidity and windspeed has a positive effect on perceived temp, too. "
   ]
  },
  {
   "cell_type": "markdown",
   "metadata": {},
   "source": [
    "### Load the houseprices data from Thinkful's database.\n",
    "Run your house prices model again and interpret the results. Which features are statistically significant, and which are not?\n"
   ]
  },
  {
   "cell_type": "code",
   "execution_count": 24,
   "metadata": {},
   "outputs": [
    {
     "name": "stdout",
     "output_type": "stream",
     "text": [
      "                            OLS Regression Results                            \n",
      "==============================================================================\n",
      "Dep. Variable:              saleprice   R-squared:                       0.785\n",
      "Model:                            OLS   Adj. R-squared:                  0.783\n",
      "Method:                 Least Squares   F-statistic:                     440.4\n",
      "Date:                Tue, 01 Sep 2020   Prob (F-statistic):               0.00\n",
      "Time:                        21:13:48   Log-Likelihood:                -13104.\n",
      "No. Observations:                1094   AIC:                         2.623e+04\n",
      "Df Residuals:                    1084   BIC:                         2.628e+04\n",
      "Df Model:                           9                                         \n",
      "Covariance Type:            nonrobust                                         \n",
      "================================================================================\n",
      "                   coef    std err          t      P>|t|      [0.025      0.975]\n",
      "--------------------------------------------------------------------------------\n",
      "const         -2.15e+07   5.77e+06     -3.723      0.000   -3.28e+07   -1.02e+07\n",
      "overallqual   1.948e+04   1541.085     12.638      0.000    1.65e+04    2.25e+04\n",
      "grlivarea       50.2831      3.164     15.891      0.000      44.074      56.492\n",
      "garagearea      35.7954      8.440      4.241      0.000      19.235      52.356\n",
      "totalbsmtsf     22.5488      3.815      5.911      0.000      15.064      30.033\n",
      "yearremodadd   421.9231     82.179      5.134      0.000     260.676     583.170\n",
      "yearbuilt     2.093e+04   5848.647      3.578      0.000    9452.588    3.24e+04\n",
      "yrsbltqared     -5.3170      1.497     -3.552      0.000      -8.254      -2.380\n",
      "lotarea          0.7171      0.156      4.600      0.000       0.411       1.023\n",
      "nicehood      3.759e+04   3772.503      9.964      0.000    3.02e+04     4.5e+04\n",
      "==============================================================================\n",
      "Omnibus:                      463.511   Durbin-Watson:                   1.951\n",
      "Prob(Omnibus):                  0.000   Jarque-Bera (JB):            54419.822\n",
      "Skew:                          -0.926   Prob(JB):                         0.00\n",
      "Kurtosis:                      37.502   Cond. No.                     1.92e+10\n",
      "==============================================================================\n",
      "\n",
      "Warnings:\n",
      "[1] Standard Errors assume that the covariance matrix of the errors is correctly specified.\n",
      "[2] The condition number is large, 1.92e+10. This might indicate that there are\n",
      "strong multicollinearity or other numerical problems.\n"
     ]
    }
   ],
   "source": [
    "postgres_user = 'dsbc_student'\n",
    "postgres_pw = '7*.8G9QH21'\n",
    "postgres_host = '142.93.121.174'\n",
    "postgres_port = '5432'\n",
    "postgres_db = 'houseprices'\n",
    "engine = create_engine('postgresql://{}:{}@{}:{}/{}'.format(\n",
    "    postgres_user, postgres_pw, postgres_host, postgres_port, postgres_db))\n",
    "df = pd.read_sql_query('select * from houseprices',con=engine)\n",
    "\n",
    "# no need for an open connection, as we're only doing a single query\n",
    "engine.dispose()\n",
    "drop_cols=[]\n",
    "for col in df.columns:\n",
    "    if df[col].isna().mean()>.4:\n",
    "        drop_cols=drop_cols+[col]\n",
    "df_clean=df.drop(columns=drop_cols).dropna()\n",
    "df_clean['secondflrexists']=0\n",
    "df_clean.loc[df['secondflrsf']>0,'secondflrexists']=1 #can prob drop 2nd fl sq ft\n",
    "df_clean['totalsf']=df_clean['firstflrsf']=+df_clean['secondflrsf']\n",
    "df_clean['yrsbltqared']=df_clean['yearbuilt']*df_clean['yearbuilt']\n",
    "y=df_clean['saleprice']\n",
    "X=df_clean.drop(columns=['saleprice','id'])\n",
    "X.mszoning.dtype==int\n",
    "cat_cols=[c for c in X.columns if X[c].dtype=='O']\n",
    "numeric_cols=[c for c in X.columns if X[c].dtype!='O']\n",
    "niceneighborhoods=['NridgHt', 'NoRidge', 'Somerst', 'Timber', 'Veenker', 'StoneBr']\n",
    "df_clean['nicehood']=0\n",
    "df_clean.loc[df_clean.neighborhood.isin(niceneighborhoods),'nicehood']=1\n",
    "X2 = df_clean[['overallqual','grlivarea', 'garagearea', 'totalbsmtsf','yearremodadd','yearbuilt','yrsbltqared','lotarea','nicehood']]\n",
    "Y2 = df_clean.saleprice\n",
    "X2 = sm.add_constant(X2)\n",
    "results = sm.OLS(Y2, X2).fit()\n",
    "print(results.summary())\n"
   ]
  },
  {
   "cell_type": "markdown",
   "metadata": {},
   "source": [
    "There are no statistically insignificant features. Overall quality, living area, garage area, total basement sf, year remodled, year built, lot area, and living in a nice neighborhood all had positive effects on the price. Year built squared had a negative one, meaning that as the year that it was built increases, it's marginal efffect decreases. "
   ]
  },
  {
   "cell_type": "markdown",
   "metadata": {},
   "source": [
    "You can't really say what has the 'most effect' because you're mostly comparing apples to oranges. Year that the house was built seems to have a larger effect than the year it was remodled Extra units in living area seem to have a larger effect than more basement square feet or the garage. Living in one of the nicer neighborhoods seems to have a large effect, though this might just be because I picked the neighborhoods that had higher saverage sales prices. All of this makes sense to me."
   ]
  },
  {
   "cell_type": "code",
   "execution_count": null,
   "metadata": {},
   "outputs": [],
   "source": []
  }
 ],
 "metadata": {
  "kernelspec": {
   "display_name": "Python 3",
   "language": "python",
   "name": "python3"
  },
  "language_info": {
   "codemirror_mode": {
    "name": "ipython",
    "version": 3
   },
   "file_extension": ".py",
   "mimetype": "text/x-python",
   "name": "python",
   "nbconvert_exporter": "python",
   "pygments_lexer": "ipython3",
   "version": "3.7.6"
  }
 },
 "nbformat": 4,
 "nbformat_minor": 4
}
