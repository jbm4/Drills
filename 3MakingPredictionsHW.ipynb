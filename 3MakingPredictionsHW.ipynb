{
 "cells": [
  {
   "cell_type": "markdown",
   "metadata": {},
   "source": [
    "In this exercise, you'll predict house prices using your model. To complete this assignment, submit a link to a Jupyter notebook containing your solutions to the following tasks:\n",
    "\n",
    "* Load the housing prices data from Thinkful's database.\n",
    "* Split your data into train and test sets.\n",
    "* Estimate your model from the previous checkpoint in the train set. Assess the goodness of fit of your model.\n",
    "* Predict the house prices in the test set, and evaluate the performance of your model using the metrics we mentioned in this checkpoint.\n",
    "* Is the performance of your model satisfactory? Why?\n",
    "* Try to improve your model in terms of predictive performance by adding or removing some variables.\n"
   ]
  },
  {
   "cell_type": "code",
   "execution_count": 3,
   "metadata": {},
   "outputs": [],
   "source": [
    "def print_vif(x):\n",
    "    \"\"\"Utility for checking multicollinearity assumption\n",
    "    \n",
    "    :param x: input features to check using VIF. This is assumed to be a pandas.DataFrame\n",
    "    :return: nothing is returned the VIFs are printed as a pandas series\n",
    "    \"\"\"\n",
    "    # Silence numpy FutureWarning about .ptp\n",
    "    with warnings.catch_warnings():\n",
    "        warnings.simplefilter(\"ignore\")\n",
    "        x = sm.add_constant(x)\n",
    "\n",
    "    vifs = []\n",
    "    for i in range(x.shape[1]):\n",
    "        vif = variance_inflation_factor(x.values, i)\n",
    "        vifs.append(vif)\n",
    "\n",
    "    print(\"VIF results\\n-------------------------------\")\n",
    "    print(pd.Series(vifs, index=x.columns))\n",
    "    print(\"-------------------------------\\n\")\n"
   ]
  },
  {
   "cell_type": "code",
   "execution_count": 28,
   "metadata": {},
   "outputs": [],
   "source": [
    "import statsmodels.api as sm\n",
    "import statsmodels.formula.api as smf\n",
    "from statsmodels.stats.diagnostic import het_breuschpagan\n",
    "import numpy as np\n",
    "import pandas as pd\n",
    "from sklearn import linear_model\n",
    "import matplotlib.pyplot as plt\n",
    "from sqlalchemy import create_engine\n",
    "import seaborn as sns\n",
    "import matplotlib.pyplot as plt\n",
    "\n",
    "from sklearn.model_selection import train_test_split, GridSearchCV\n",
    "from sklearn.linear_model import Ridge, Lasso, ElasticNet, LinearRegression\n",
    "from sklearn.preprocessing import OneHotEncoder, StandardScaler\n",
    "from sklearn.compose import ColumnTransformer\n",
    "from sklearn.metrics import mean_absolute_error\n",
    "from statsmodels.tools.eval_measures import mse, rmse\n",
    "\n",
    "from statsmodels.graphics.regressionplots import plot_leverage_resid2\n",
    "from statsmodels.stats.outliers_influence import variance_inflation_factor\n",
    "\n",
    "\n",
    "%matplotlib inline\n",
    "\n",
    "import warnings\n",
    "warnings.filterwarnings('ignore')\n"
   ]
  },
  {
   "cell_type": "code",
   "execution_count": 103,
   "metadata": {},
   "outputs": [],
   "source": [
    "postgres_user = 'dsbc_student'\n",
    "postgres_pw = '7*.8G9QH21'\n",
    "postgres_host = '142.93.121.174'\n",
    "postgres_port = '5432'\n",
    "postgres_db = 'houseprices'\n",
    "engine = create_engine('postgresql://{}:{}@{}:{}/{}'.format(\n",
    "    postgres_user, postgres_pw, postgres_host, postgres_port, postgres_db))\n",
    "df = pd.read_sql_query('select * from houseprices',con=engine)\n",
    "\n",
    "# no need for an open connection, as we're only doing a single query\n",
    "engine.dispose()\n",
    "drop_cols=[]\n",
    "for col in df.columns:\n",
    "    if df[col].isna().mean()>.4:\n",
    "        drop_cols=drop_cols+[col]\n",
    "df_clean=df.drop(columns=drop_cols).dropna()\n",
    "df_clean['secondflrexists']=0\n",
    "df_clean.loc[df['secondflrsf']>0,'secondflrexists']=1 #can prob drop 2nd fl sq ft\n",
    "#df_clean['totalsf']=df_clean['firstflrsf']=+df_clean['secondflrsf']\n",
    "df_clean['yrsbltqared']=df_clean['yearbuilt']*df_clean['yearbuilt']\n",
    "df_clean['agebuilt']=df_clean['yrsold']-df_clean['yearbuilt']\n",
    "df_clean['ageremodeled']=df_clean['yrsold']-df_clean['yearremodadd']\n",
    "df_clean['agebuiltsquared']=df_clean['agebuilt']*df_clean['agebuilt']\n",
    "df_clean['agebuiltcubed']=df_clean['agebuilt']*df_clean['agebuilt']*df_clean['agebuilt']\n",
    "\n",
    "df_clean['ageremodeledsquared']=df_clean['ageremodeled']*df_clean['ageremodeled']\n",
    "df_clean['totalsf']=df_clean['totalbsmtsf']+df_clean['grlivarea']\n",
    "\n",
    "####\n",
    "\n",
    "y=df_clean['saleprice']\n",
    "X=df_clean.drop(columns=['saleprice','id'])\n",
    "X.mszoning.dtype==int\n",
    "cat_cols=[c for c in X.columns if X[c].dtype=='O']\n",
    "numeric_cols=[c for c in X.columns if X[c].dtype!='O']\n",
    "niceneighborhoods=['NridgHt', 'NoRidge', 'Somerst', 'Timber', 'Veenker', 'StoneBr']\n",
    "df_clean['nicehood']=0\n",
    "df_clean.loc[df_clean.neighborhood.isin(niceneighborhoods),'nicehood']=1\n",
    "X2 = df_clean[['overallqual','grlivarea', 'garagearea', 'totalbsmtsf','yearremodadd','yearbuilt','yrsbltqared','lotarea','nicehood']]\n",
    "Y2 = df_clean.saleprice\n",
    "\n",
    "X_train, X_test, y_train, y_test=train_test_split(X2,Y2,test_size=.2,random_state=1)\n",
    "X_train_const = sm.add_constant(X_train)\n",
    "X_test_const = sm.add_constant(X_test)\n"
   ]
  },
  {
   "cell_type": "code",
   "execution_count": 104,
   "metadata": {},
   "outputs": [
    {
     "name": "stdout",
     "output_type": "stream",
     "text": [
      "                            OLS Regression Results                            \n",
      "==============================================================================\n",
      "Dep. Variable:              saleprice   R-squared:                       0.776\n",
      "Model:                            OLS   Adj. R-squared:                  0.773\n",
      "Method:                 Least Squares   F-statistic:                     332.5\n",
      "Date:                Wed, 02 Sep 2020   Prob (F-statistic):          9.07e-274\n",
      "Time:                        18:33:31   Log-Likelihood:                -10496.\n",
      "No. Observations:                 875   AIC:                         2.101e+04\n",
      "Df Residuals:                     865   BIC:                         2.106e+04\n",
      "Df Model:                           9                                         \n",
      "Covariance Type:            nonrobust                                         \n",
      "================================================================================\n",
      "                   coef    std err          t      P>|t|      [0.025      0.975]\n",
      "--------------------------------------------------------------------------------\n",
      "const        -2.254e+07   6.59e+06     -3.422      0.001   -3.55e+07   -9.61e+06\n",
      "overallqual   1.978e+04   1766.473     11.195      0.000    1.63e+04    2.32e+04\n",
      "grlivarea       47.4333      3.593     13.203      0.000      40.382      54.485\n",
      "garagearea      39.5535      9.681      4.086      0.000      20.552      58.555\n",
      "totalbsmtsf     20.1798      4.242      4.758      0.000      11.855      28.505\n",
      "yearremodadd   435.7103     94.149      4.628      0.000     250.922     620.498\n",
      "yearbuilt     2.198e+04   6668.840      3.296      0.001    8893.443    3.51e+04\n",
      "yrsbltqared     -5.5899      1.707     -3.274      0.001      -8.941      -2.239\n",
      "lotarea          0.6610      0.165      4.014      0.000       0.338       0.984\n",
      "nicehood      4.033e+04   4301.735      9.376      0.000    3.19e+04    4.88e+04\n",
      "==============================================================================\n",
      "Omnibus:                      366.986   Durbin-Watson:                   2.093\n",
      "Prob(Omnibus):                  0.000   Jarque-Bera (JB):            42100.686\n",
      "Skew:                          -0.881   Prob(JB):                         0.00\n",
      "Kurtosis:                      36.936   Cond. No.                     1.92e+10\n",
      "==============================================================================\n",
      "\n",
      "Warnings:\n",
      "[1] Standard Errors assume that the covariance matrix of the errors is correctly specified.\n",
      "[2] The condition number is large, 1.92e+10. This might indicate that there are\n",
      "strong multicollinearity or other numerical problems.\n"
     ]
    }
   ],
   "source": [
    "results = sm.OLS(y_train, X_train_const).fit()\n",
    "print(results.summary())"
   ]
  },
  {
   "cell_type": "code",
   "execution_count": 87,
   "metadata": {},
   "outputs": [],
   "source": [
    "y_preds=results.predict(X_test_const)"
   ]
  },
  {
   "cell_type": "code",
   "execution_count": 88,
   "metadata": {},
   "outputs": [
    {
     "data": {
      "image/png": "[encoded data removed]",
      "text/plain": [
       "<Figure size 432x288 with 1 Axes>"
      ]
     },
     "metadata": {
      "needs_background": "light"
     },
     "output_type": "display_data"
    },
    {
     "name": "stdout",
     "output_type": "stream",
     "text": [
      "Mean absolute error of the prediction is: 23242.910051060768\n",
      "Mean squared error of the prediction is: 1298733099.7997575\n",
      "Root mean squared error of the prediction is: 36037.93972745608\n",
      "Mean absolute percentage error of the prediction is: 12.518958730058419\n"
     ]
    }
   ],
   "source": [
    "plt.scatter(y_test, y_preds)\n",
    "plt.plot(y_test, y_test, color=\"red\")\n",
    "plt.xlabel(\"true values\")\n",
    "plt.ylabel(\"predicted values\")\n",
    "plt.title(\"Charges: true and predicted values\")\n",
    "plt.show()\n",
    "\n",
    "print(\"Mean absolute error of the prediction is: {}\".format(mean_absolute_error(y_test, y_preds)))\n",
    "print(\"Mean squared error of the prediction is: {}\".format(mse(y_test, y_preds)))\n",
    "print(\"Root mean squared error of the prediction is: {}\".format(rmse(y_test, y_preds)))\n",
    "print(\"Mean absolute percentage error of the prediction is: {}\".format(np.mean(np.abs((y_test - y_preds) / y_test)) * 100))\n"
   ]
  },
  {
   "cell_type": "markdown",
   "metadata": {},
   "source": [
    "You can see that it overpredicts at a few high values. How to deal with this? Probably adding a squared term somewhere would help. Or a log transform."
   ]
  },
  {
   "cell_type": "code",
   "execution_count": 89,
   "metadata": {},
   "outputs": [
    {
     "name": "stdout",
     "output_type": "stream",
     "text": [
      "                            OLS Regression Results                            \n",
      "==============================================================================\n",
      "Dep. Variable:              saleprice   R-squared:                       0.806\n",
      "Model:                            OLS   Adj. R-squared:                  0.804\n",
      "Method:                 Least Squares   F-statistic:                     400.1\n",
      "Date:                Wed, 02 Sep 2020   Prob (F-statistic):          3.21e-301\n",
      "Time:                        18:23:57   Log-Likelihood:                 295.02\n",
      "No. Observations:                 875   AIC:                            -570.0\n",
      "Df Residuals:                     865   BIC:                            -522.3\n",
      "Df Model:                           9                                         \n",
      "Covariance Type:            nonrobust                                         \n",
      "================================================================================\n",
      "                   coef    std err          t      P>|t|      [0.025      0.975]\n",
      "--------------------------------------------------------------------------------\n",
      "const         -110.9591     29.028     -3.822      0.000    -167.934     -53.985\n",
      "overallqual      0.0988      0.008     12.693      0.000       0.084       0.114\n",
      "grlivarea        0.0002   1.58e-05     13.998      0.000       0.000       0.000\n",
      "garagearea       0.0002   4.27e-05      4.761      0.000       0.000       0.000\n",
      "totalbsmtsf   5.681e-05   1.87e-05      3.039      0.002    2.01e-05    9.35e-05\n",
      "yearremodadd     0.0032      0.000      7.784      0.000       0.002       0.004\n",
      "yearbuilt        0.1165      0.029      3.963      0.000       0.059       0.174\n",
      "yrsbltqared   -2.94e-05   7.53e-06     -3.906      0.000   -4.42e-05   -1.46e-05\n",
      "lotarea       3.319e-06   7.26e-07      4.572      0.000    1.89e-06    4.74e-06\n",
      "nicehood         0.1132      0.019      5.971      0.000       0.076       0.150\n",
      "==============================================================================\n",
      "Omnibus:                      673.841   Durbin-Watson:                   2.039\n",
      "Prob(Omnibus):                  0.000   Jarque-Bera (JB):            30486.798\n",
      "Skew:                          -3.038   Prob(JB):                         0.00\n",
      "Kurtosis:                      31.272   Cond. No.                     1.92e+10\n",
      "==============================================================================\n",
      "\n",
      "Warnings:\n",
      "[1] Standard Errors assume that the covariance matrix of the errors is correctly specified.\n",
      "[2] The condition number is large, 1.92e+10. This might indicate that there are\n",
      "strong multicollinearity or other numerical problems.\n"
     ]
    }
   ],
   "source": [
    "Y2_log=np.log(Y2)\n",
    "X_train, X_test, y_log_train, y_log_test=train_test_split(X2,Y2_log,test_size=.2,random_state=1)\n",
    "X_train_const = sm.add_constant(X_train)\n",
    "X_test_const = sm.add_constant(X_test)\n",
    "results_log = sm.OLS(y_log_train, X_train_const).fit()\n",
    "print(results_log.summary())\n",
    "y_log_preds=results_log.predict(X_test_const)"
   ]
  },
  {
   "cell_type": "code",
   "execution_count": 90,
   "metadata": {},
   "outputs": [
    {
     "data": {
      "image/png": "[encoded data removed]",
      "text/plain": [
       "<Figure size 432x288 with 1 Axes>"
      ]
     },
     "metadata": {
      "needs_background": "light"
     },
     "output_type": "display_data"
    },
    {
     "name": "stdout",
     "output_type": "stream",
     "text": [
      "Mean absolute error of the prediction is: 23242.910051060768\n",
      "Mean squared error of the prediction is: 1298733099.7997575\n",
      "Root mean squared error of the prediction is: 36037.93972745608\n",
      "Mean absolute percentage error of the prediction is: 12.518958730058419\n"
     ]
    }
   ],
   "source": [
    "plt.scatter(y_log_test, y_log_preds)\n",
    "plt.plot(y_log_test, y_log_test, color=\"red\")\n",
    "plt.xlabel(\"true values(ln)\")\n",
    "plt.ylabel(\"predicted values (ln)\")\n",
    "plt.title(\"Charges: true and predicted values\")\n",
    "plt.show()\n",
    "\n",
    "print(\"Mean absolute error of the prediction is: {}\".format(mean_absolute_error(y_test, y_preds)))\n",
    "print(\"Mean squared error of the prediction is: {}\".format(mse(y_test, y_preds)))\n",
    "print(\"Root mean squared error of the prediction is: {}\".format(rmse(y_test, y_preds)))\n",
    "print(\"Mean absolute percentage error of the prediction is: {}\".format(np.mean(np.abs((y_test - y_preds) / y_test)) * 100))\n"
   ]
  },
  {
   "cell_type": "markdown",
   "metadata": {},
   "source": [
    "That looks really good! I think you have a couple of outliers with high leveridge messing it up."
   ]
  },
  {
   "cell_type": "code",
   "execution_count": 91,
   "metadata": {},
   "outputs": [
    {
     "data": {
      "image/png": "[encoded data removed]",
      "text/plain": [
       "<Figure size 432x288 with 1 Axes>"
      ]
     },
     "metadata": {
      "needs_background": "light"
     },
     "output_type": "display_data"
    }
   ],
   "source": [
    "plot_leverage_resid2(results_log)\n",
    "plt.show()"
   ]
  },
  {
   "cell_type": "markdown",
   "metadata": {},
   "source": [
    "Can try witout these outlier points:"
   ]
  },
  {
   "cell_type": "code",
   "execution_count": 92,
   "metadata": {
    "scrolled": false
   },
   "outputs": [
    {
     "data": {
      "text/html": [
       "<div>\n",
       "<style scoped>\n",
       "    .dataframe tbody tr th:only-of-type {\n",
       "        vertical-align: middle;\n",
       "    }\n",
       "\n",
       "    .dataframe tbody tr th {\n",
       "        vertical-align: top;\n",
       "    }\n",
       "\n",
       "    .dataframe thead th {\n",
       "        text-align: right;\n",
       "    }\n",
       "</style>\n",
       "<table border=\"1\" class=\"dataframe\">\n",
       "  <thead>\n",
       "    <tr style=\"text-align: right;\">\n",
       "      <th></th>\n",
       "      <th>overallqual</th>\n",
       "      <th>grlivarea</th>\n",
       "      <th>garagearea</th>\n",
       "      <th>totalbsmtsf</th>\n",
       "      <th>yearremodadd</th>\n",
       "      <th>yearbuilt</th>\n",
       "      <th>yrsbltqared</th>\n",
       "      <th>lotarea</th>\n",
       "      <th>nicehood</th>\n",
       "    </tr>\n",
       "  </thead>\n",
       "  <tbody>\n",
       "    <tr>\n",
       "      <th>314</th>\n",
       "      <td>7</td>\n",
       "      <td>2036</td>\n",
       "      <td>513</td>\n",
       "      <td>2136</td>\n",
       "      <td>1965</td>\n",
       "      <td>1965</td>\n",
       "      <td>3861225</td>\n",
       "      <td>215245</td>\n",
       "      <td>1</td>\n",
       "    </tr>\n",
       "    <tr>\n",
       "      <th>523</th>\n",
       "      <td>10</td>\n",
       "      <td>4676</td>\n",
       "      <td>884</td>\n",
       "      <td>3138</td>\n",
       "      <td>2008</td>\n",
       "      <td>2007</td>\n",
       "      <td>4028049</td>\n",
       "      <td>40094</td>\n",
       "      <td>0</td>\n",
       "    </tr>\n",
       "    <tr>\n",
       "      <th>1298</th>\n",
       "      <td>10</td>\n",
       "      <td>5642</td>\n",
       "      <td>1418</td>\n",
       "      <td>6110</td>\n",
       "      <td>2008</td>\n",
       "      <td>2008</td>\n",
       "      <td>4032064</td>\n",
       "      <td>63887</td>\n",
       "      <td>0</td>\n",
       "    </tr>\n",
       "  </tbody>\n",
       "</table>\n",
       "</div>"
      ],
      "text/plain": [
       "      overallqual  grlivarea  garagearea  totalbsmtsf  yearremodadd  \\\n",
       "314             7       2036         513         2136          1965   \n",
       "523            10       4676         884         3138          2008   \n",
       "1298           10       5642        1418         6110          2008   \n",
       "\n",
       "      yearbuilt  yrsbltqared  lotarea  nicehood  \n",
       "314        1965      3861225   215245         1  \n",
       "523        2007      4028049    40094         0  \n",
       "1298       2008      4032064    63887         0  "
      ]
     },
     "execution_count": 92,
     "metadata": {},
     "output_type": "execute_result"
    }
   ],
   "source": [
    "X_train.loc[[314,523,1298], :]\n",
    "#y_train[314]#,523,1298]\n",
    "\n"
   ]
  },
  {
   "cell_type": "code",
   "execution_count": 93,
   "metadata": {},
   "outputs": [
    {
     "data": {
      "text/html": [
       "<div>\n",
       "<style scoped>\n",
       "    .dataframe tbody tr th:only-of-type {\n",
       "        vertical-align: middle;\n",
       "    }\n",
       "\n",
       "    .dataframe tbody tr th {\n",
       "        vertical-align: top;\n",
       "    }\n",
       "\n",
       "    .dataframe thead th {\n",
       "        text-align: right;\n",
       "    }\n",
       "</style>\n",
       "<table border=\"1\" class=\"dataframe\">\n",
       "  <thead>\n",
       "    <tr style=\"text-align: right;\">\n",
       "      <th></th>\n",
       "      <th>id</th>\n",
       "      <th>mssubclass</th>\n",
       "      <th>mszoning</th>\n",
       "      <th>lotfrontage</th>\n",
       "      <th>lotarea</th>\n",
       "      <th>street</th>\n",
       "      <th>lotshape</th>\n",
       "      <th>landcontour</th>\n",
       "      <th>utilities</th>\n",
       "      <th>lotconfig</th>\n",
       "      <th>...</th>\n",
       "      <th>saleprice</th>\n",
       "      <th>secondflrexists</th>\n",
       "      <th>yrsbltqared</th>\n",
       "      <th>agebuilt</th>\n",
       "      <th>ageremodeled</th>\n",
       "      <th>agebuiltsquared</th>\n",
       "      <th>agebuiltcubed</th>\n",
       "      <th>ageremodeledsquared</th>\n",
       "      <th>totalsf</th>\n",
       "      <th>nicehood</th>\n",
       "    </tr>\n",
       "  </thead>\n",
       "  <tbody>\n",
       "    <tr>\n",
       "      <th>314</th>\n",
       "      <td>314</td>\n",
       "      <td>20</td>\n",
       "      <td>RL</td>\n",
       "      <td>150.0</td>\n",
       "      <td>215245</td>\n",
       "      <td>Pave</td>\n",
       "      <td>IR3</td>\n",
       "      <td>Low</td>\n",
       "      <td>AllPub</td>\n",
       "      <td>Inside</td>\n",
       "      <td>...</td>\n",
       "      <td>375000</td>\n",
       "      <td>0</td>\n",
       "      <td>3861225</td>\n",
       "      <td>44</td>\n",
       "      <td>44</td>\n",
       "      <td>1936</td>\n",
       "      <td>85184</td>\n",
       "      <td>1936</td>\n",
       "      <td>4172</td>\n",
       "      <td>1</td>\n",
       "    </tr>\n",
       "    <tr>\n",
       "      <th>523</th>\n",
       "      <td>524</td>\n",
       "      <td>60</td>\n",
       "      <td>RL</td>\n",
       "      <td>130.0</td>\n",
       "      <td>40094</td>\n",
       "      <td>Pave</td>\n",
       "      <td>IR1</td>\n",
       "      <td>Bnk</td>\n",
       "      <td>AllPub</td>\n",
       "      <td>Inside</td>\n",
       "      <td>...</td>\n",
       "      <td>184750</td>\n",
       "      <td>1</td>\n",
       "      <td>4028049</td>\n",
       "      <td>0</td>\n",
       "      <td>-1</td>\n",
       "      <td>0</td>\n",
       "      <td>0</td>\n",
       "      <td>1</td>\n",
       "      <td>7814</td>\n",
       "      <td>0</td>\n",
       "    </tr>\n",
       "    <tr>\n",
       "      <th>1298</th>\n",
       "      <td>1299</td>\n",
       "      <td>60</td>\n",
       "      <td>RL</td>\n",
       "      <td>313.0</td>\n",
       "      <td>63887</td>\n",
       "      <td>Pave</td>\n",
       "      <td>IR3</td>\n",
       "      <td>Bnk</td>\n",
       "      <td>AllPub</td>\n",
       "      <td>Corner</td>\n",
       "      <td>...</td>\n",
       "      <td>160000</td>\n",
       "      <td>1</td>\n",
       "      <td>4032064</td>\n",
       "      <td>0</td>\n",
       "      <td>0</td>\n",
       "      <td>0</td>\n",
       "      <td>0</td>\n",
       "      <td>0</td>\n",
       "      <td>11752</td>\n",
       "      <td>0</td>\n",
       "    </tr>\n",
       "  </tbody>\n",
       "</table>\n",
       "<p>3 rows × 85 columns</p>\n",
       "</div>"
      ],
      "text/plain": [
       "        id  mssubclass mszoning  lotfrontage  lotarea street lotshape  \\\n",
       "314    314          20       RL        150.0   215245   Pave      IR3   \n",
       "523    524          60       RL        130.0    40094   Pave      IR1   \n",
       "1298  1299          60       RL        313.0    63887   Pave      IR3   \n",
       "\n",
       "     landcontour utilities lotconfig  ... saleprice secondflrexists  \\\n",
       "314          Low    AllPub    Inside  ...    375000               0   \n",
       "523          Bnk    AllPub    Inside  ...    184750               1   \n",
       "1298         Bnk    AllPub    Corner  ...    160000               1   \n",
       "\n",
       "     yrsbltqared agebuilt ageremodeled agebuiltsquared  agebuiltcubed  \\\n",
       "314      3861225       44           44            1936          85184   \n",
       "523      4028049        0           -1               0              0   \n",
       "1298     4032064        0            0               0              0   \n",
       "\n",
       "      ageremodeledsquared  totalsf  nicehood  \n",
       "314                  1936     4172         1  \n",
       "523                     1     7814         0  \n",
       "1298                    0    11752         0  \n",
       "\n",
       "[3 rows x 85 columns]"
      ]
     },
     "execution_count": 93,
     "metadata": {},
     "output_type": "execute_result"
    }
   ],
   "source": [
    "df_clean.loc[[314,523,1298], :]\n",
    "#df_clean.head()"
   ]
  },
  {
   "cell_type": "code",
   "execution_count": 68,
   "metadata": {
    "scrolled": true
   },
   "outputs": [
    {
     "data": {
      "text/plain": [
       "<matplotlib.collections.PathCollection at 0x1a1cf10310>"
      ]
     },
     "execution_count": 68,
     "metadata": {},
     "output_type": "execute_result"
    },
    {
     "data": {
      "image/png": "[encoded data removed]",
      "text/plain": [
       "<Figure size 432x288 with 1 Axes>"
      ]
     },
     "metadata": {
      "needs_background": "light"
     },
     "output_type": "display_data"
    }
   ],
   "source": [
    "plt.scatter(df_clean['grlivarea'],np.log(df_clean['saleprice']))"
   ]
  },
  {
   "cell_type": "code",
   "execution_count": 101,
   "metadata": {
    "scrolled": true
   },
   "outputs": [
    {
     "data": {
      "text/html": [
       "<div>\n",
       "<style scoped>\n",
       "    .dataframe tbody tr th:only-of-type {\n",
       "        vertical-align: middle;\n",
       "    }\n",
       "\n",
       "    .dataframe tbody tr th {\n",
       "        vertical-align: top;\n",
       "    }\n",
       "\n",
       "    .dataframe thead th {\n",
       "        text-align: right;\n",
       "    }\n",
       "</style>\n",
       "<table border=\"1\" class=\"dataframe\">\n",
       "  <thead>\n",
       "    <tr style=\"text-align: right;\">\n",
       "      <th></th>\n",
       "      <th>overallqual</th>\n",
       "      <th>grlivarea</th>\n",
       "      <th>totalbsmtsf</th>\n",
       "      <th>garagearea</th>\n",
       "      <th>lotarea</th>\n",
       "      <th>nicehood</th>\n",
       "      <th>ageremodeled</th>\n",
       "      <th>agebuilt</th>\n",
       "      <th>agebuiltsquared</th>\n",
       "      <th>yrsold</th>\n",
       "    </tr>\n",
       "  </thead>\n",
       "  <tbody>\n",
       "    <tr>\n",
       "      <th>691</th>\n",
       "      <td>10</td>\n",
       "      <td>4316</td>\n",
       "      <td>2444</td>\n",
       "      <td>832</td>\n",
       "      <td>21535</td>\n",
       "      <td>1</td>\n",
       "      <td>12</td>\n",
       "      <td>13</td>\n",
       "      <td>169</td>\n",
       "      <td>2007</td>\n",
       "    </tr>\n",
       "    <tr>\n",
       "      <th>1182</th>\n",
       "      <td>10</td>\n",
       "      <td>4476</td>\n",
       "      <td>2396</td>\n",
       "      <td>813</td>\n",
       "      <td>15623</td>\n",
       "      <td>1</td>\n",
       "      <td>11</td>\n",
       "      <td>11</td>\n",
       "      <td>121</td>\n",
       "      <td>2007</td>\n",
       "    </tr>\n",
       "  </tbody>\n",
       "</table>\n",
       "</div>"
      ],
      "text/plain": [
       "      overallqual  grlivarea  totalbsmtsf  garagearea  lotarea  nicehood  \\\n",
       "691            10       4316         2444         832    21535         1   \n",
       "1182           10       4476         2396         813    15623         1   \n",
       "\n",
       "      ageremodeled  agebuilt  agebuiltsquared  yrsold  \n",
       "691             12        13              169    2007  \n",
       "1182            11        11              121    2007  "
      ]
     },
     "execution_count": 101,
     "metadata": {},
     "output_type": "execute_result"
    }
   ],
   "source": [
    "X_train.loc[df_clean['grlivarea']>4000, :]"
   ]
  },
  {
   "cell_type": "markdown",
   "metadata": {},
   "source": [
    "I'll go ahead an delete those"
   ]
  },
  {
   "cell_type": "code",
   "execution_count": 33,
   "metadata": {},
   "outputs": [
    {
     "data": {
      "text/html": [
       "<div>\n",
       "<style scoped>\n",
       "    .dataframe tbody tr th:only-of-type {\n",
       "        vertical-align: middle;\n",
       "    }\n",
       "\n",
       "    .dataframe tbody tr th {\n",
       "        vertical-align: top;\n",
       "    }\n",
       "\n",
       "    .dataframe thead th {\n",
       "        text-align: right;\n",
       "    }\n",
       "</style>\n",
       "<table border=\"1\" class=\"dataframe\">\n",
       "  <thead>\n",
       "    <tr style=\"text-align: right;\">\n",
       "      <th></th>\n",
       "      <th>overallqual</th>\n",
       "      <th>grlivarea</th>\n",
       "      <th>garagearea</th>\n",
       "      <th>totalbsmtsf</th>\n",
       "      <th>yearremodadd</th>\n",
       "      <th>yearbuilt</th>\n",
       "      <th>yrsbltqared</th>\n",
       "      <th>lotarea</th>\n",
       "      <th>nicehood</th>\n",
       "    </tr>\n",
       "  </thead>\n",
       "  <tbody>\n",
       "    <tr>\n",
       "      <th>count</th>\n",
       "      <td>875.000000</td>\n",
       "      <td>875.000000</td>\n",
       "      <td>875.000000</td>\n",
       "      <td>875.000000</td>\n",
       "      <td>875.000000</td>\n",
       "      <td>875.000000</td>\n",
       "      <td>8.750000e+02</td>\n",
       "      <td>875.000000</td>\n",
       "      <td>875.000000</td>\n",
       "    </tr>\n",
       "    <tr>\n",
       "      <th>mean</th>\n",
       "      <td>6.240000</td>\n",
       "      <td>1536.194286</td>\n",
       "      <td>500.201143</td>\n",
       "      <td>1091.158857</td>\n",
       "      <td>1985.322286</td>\n",
       "      <td>1971.987429</td>\n",
       "      <td>3.889717e+06</td>\n",
       "      <td>10135.642286</td>\n",
       "      <td>0.205714</td>\n",
       "    </tr>\n",
       "    <tr>\n",
       "      <th>std</th>\n",
       "      <td>1.340958</td>\n",
       "      <td>539.152920</td>\n",
       "      <td>192.563219</td>\n",
       "      <td>425.017215</td>\n",
       "      <td>21.086048</td>\n",
       "      <td>31.362297</td>\n",
       "      <td>1.230836e+05</td>\n",
       "      <td>8820.403445</td>\n",
       "      <td>0.404454</td>\n",
       "    </tr>\n",
       "    <tr>\n",
       "      <th>min</th>\n",
       "      <td>2.000000</td>\n",
       "      <td>438.000000</td>\n",
       "      <td>160.000000</td>\n",
       "      <td>105.000000</td>\n",
       "      <td>1950.000000</td>\n",
       "      <td>1880.000000</td>\n",
       "      <td>3.534400e+06</td>\n",
       "      <td>1300.000000</td>\n",
       "      <td>0.000000</td>\n",
       "    </tr>\n",
       "    <tr>\n",
       "      <th>25%</th>\n",
       "      <td>5.000000</td>\n",
       "      <td>1161.000000</td>\n",
       "      <td>352.000000</td>\n",
       "      <td>814.500000</td>\n",
       "      <td>1966.000000</td>\n",
       "      <td>1953.000000</td>\n",
       "      <td>3.814209e+06</td>\n",
       "      <td>7593.000000</td>\n",
       "      <td>0.000000</td>\n",
       "    </tr>\n",
       "    <tr>\n",
       "      <th>50%</th>\n",
       "      <td>6.000000</td>\n",
       "      <td>1470.000000</td>\n",
       "      <td>484.000000</td>\n",
       "      <td>1004.000000</td>\n",
       "      <td>1995.000000</td>\n",
       "      <td>1974.000000</td>\n",
       "      <td>3.896676e+06</td>\n",
       "      <td>9360.000000</td>\n",
       "      <td>0.000000</td>\n",
       "    </tr>\n",
       "    <tr>\n",
       "      <th>75%</th>\n",
       "      <td>7.000000</td>\n",
       "      <td>1785.000000</td>\n",
       "      <td>592.000000</td>\n",
       "      <td>1312.500000</td>\n",
       "      <td>2004.000000</td>\n",
       "      <td>2003.000000</td>\n",
       "      <td>4.012009e+06</td>\n",
       "      <td>11380.500000</td>\n",
       "      <td>0.000000</td>\n",
       "    </tr>\n",
       "    <tr>\n",
       "      <th>max</th>\n",
       "      <td>10.000000</td>\n",
       "      <td>5642.000000</td>\n",
       "      <td>1418.000000</td>\n",
       "      <td>6110.000000</td>\n",
       "      <td>2010.000000</td>\n",
       "      <td>2010.000000</td>\n",
       "      <td>4.040100e+06</td>\n",
       "      <td>215245.000000</td>\n",
       "      <td>1.000000</td>\n",
       "    </tr>\n",
       "  </tbody>\n",
       "</table>\n",
       "</div>"
      ],
      "text/plain": [
       "       overallqual    grlivarea   garagearea  totalbsmtsf  yearremodadd  \\\n",
       "count   875.000000   875.000000   875.000000   875.000000    875.000000   \n",
       "mean      6.240000  1536.194286   500.201143  1091.158857   1985.322286   \n",
       "std       1.340958   539.152920   192.563219   425.017215     21.086048   \n",
       "min       2.000000   438.000000   160.000000   105.000000   1950.000000   \n",
       "25%       5.000000  1161.000000   352.000000   814.500000   1966.000000   \n",
       "50%       6.000000  1470.000000   484.000000  1004.000000   1995.000000   \n",
       "75%       7.000000  1785.000000   592.000000  1312.500000   2004.000000   \n",
       "max      10.000000  5642.000000  1418.000000  6110.000000   2010.000000   \n",
       "\n",
       "         yearbuilt   yrsbltqared        lotarea    nicehood  \n",
       "count   875.000000  8.750000e+02     875.000000  875.000000  \n",
       "mean   1971.987429  3.889717e+06   10135.642286    0.205714  \n",
       "std      31.362297  1.230836e+05    8820.403445    0.404454  \n",
       "min    1880.000000  3.534400e+06    1300.000000    0.000000  \n",
       "25%    1953.000000  3.814209e+06    7593.000000    0.000000  \n",
       "50%    1974.000000  3.896676e+06    9360.000000    0.000000  \n",
       "75%    2003.000000  4.012009e+06   11380.500000    0.000000  \n",
       "max    2010.000000  4.040100e+06  215245.000000    1.000000  "
      ]
     },
     "execution_count": 33,
     "metadata": {},
     "output_type": "execute_result"
    }
   ],
   "source": [
    "X_train.describe()"
   ]
  },
  {
   "cell_type": "markdown",
   "metadata": {},
   "source": [
    "Look into adding year sold as well as an age squared term.\n",
    "\n",
    "I am also going to substitute ageremodeled and ageremodeled squared and see if it helps.\n",
    "\n",
    "Also substitute total area for separate garage and living area."
   ]
  },
  {
   "cell_type": "code",
   "execution_count": 105,
   "metadata": {},
   "outputs": [],
   "source": [
    "df_clean=df_clean.drop([314,523,1298,452])"
   ]
  },
  {
   "cell_type": "code",
   "execution_count": 112,
   "metadata": {
    "scrolled": false
   },
   "outputs": [
    {
     "name": "stdout",
     "output_type": "stream",
     "text": [
      "                            OLS Regression Results                            \n",
      "==============================================================================\n",
      "Dep. Variable:              saleprice   R-squared:                       0.873\n",
      "Model:                            OLS   Adj. R-squared:                  0.872\n",
      "Method:                 Least Squares   F-statistic:                     594.0\n",
      "Date:                Wed, 02 Sep 2020   Prob (F-statistic):               0.00\n",
      "Time:                        18:38:38   Log-Likelihood:                 462.43\n",
      "No. Observations:                 872   AIC:                            -902.9\n",
      "Df Residuals:                     861   BIC:                            -850.4\n",
      "Df Model:                          10                                         \n",
      "Covariance Type:            nonrobust                                         \n",
      "===================================================================================\n",
      "                      coef    std err          t      P>|t|      [0.025      0.975]\n",
      "-----------------------------------------------------------------------------------\n",
      "const              10.4791      7.285      1.439      0.151      -3.819      24.777\n",
      "overallqual         0.0854      0.006     13.218      0.000       0.073       0.098\n",
      "grlivarea           0.0003    1.4e-05     19.263      0.000       0.000       0.000\n",
      "totalbsmtsf         0.0002   1.69e-05     10.061      0.000       0.000       0.000\n",
      "garagearea          0.0001   3.49e-05      3.201      0.001    4.32e-05       0.000\n",
      "lotarea            9.7e-06   1.21e-06      8.048      0.000    7.33e-06    1.21e-05\n",
      "nicehood            0.0638      0.016      4.081      0.000       0.033       0.094\n",
      "ageremodeled       -0.0033      0.000     -9.785      0.000      -0.004      -0.003\n",
      "agebuilt            0.0007      0.001      1.001      0.317      -0.001       0.002\n",
      "agebuiltsquared -2.217e-05   6.28e-06     -3.528      0.000   -3.45e-05   -9.84e-06\n",
      "yrsold              0.0002      0.004      0.052      0.959      -0.007       0.007\n",
      "==============================================================================\n",
      "Omnibus:                      269.303   Durbin-Watson:                   2.001\n",
      "Prob(Omnibus):                  0.000   Jarque-Bera (JB):             1424.223\n",
      "Skew:                          -1.309   Prob(JB):                    5.42e-310\n",
      "Kurtosis:                       8.687   Cond. No.                     1.70e+07\n",
      "==============================================================================\n",
      "\n",
      "Warnings:\n",
      "[1] Standard Errors assume that the covariance matrix of the errors is correctly specified.\n",
      "[2] The condition number is large, 1.7e+07. This might indicate that there are\n",
      "strong multicollinearity or other numerical problems.\n"
     ]
    }
   ],
   "source": [
    "#Final Model\n",
    "#new vars:\n",
    "# df_clean['agebuilt']\n",
    "# df_clean['ageremodeled']\n",
    "# df_clean['agebuiltsquared']\n",
    "# df_clean['ageremodeledsquared']\n",
    "# df_clean['totalsf']\n",
    "\n",
    "#df_clean=df_clean.drop([314,523,1298,452])\n",
    "\n",
    "\n",
    "X3 = df_clean[['overallqual',\n",
    "               'grlivarea',\n",
    "               'totalbsmtsf',\n",
    "               #'totalsf',\n",
    "               'garagearea', \n",
    "               'lotarea',\n",
    "               'nicehood',\n",
    "               'ageremodeled',\n",
    "               'agebuilt',\n",
    "               'agebuiltsquared',\n",
    "               'yrsold',\n",
    "              ]]\n",
    "Y2 = df_clean.saleprice\n",
    "Y2_log=np.log(Y2)\n",
    "X_train, X_test, y_log_train, y_log_test=train_test_split(X3,Y2_log,test_size=.2,random_state=1)\n",
    "X_train_const = sm.add_constant(X_train)\n",
    "X_test_const = sm.add_constant(X_test)\n",
    "results_log = sm.OLS(y_log_train, X_train_const).fit()\n",
    "print(results_log.summary())\n",
    "y_log_preds=results_log.predict(X_test_const)"
   ]
  },
  {
   "cell_type": "code",
   "execution_count": 113,
   "metadata": {},
   "outputs": [
    {
     "data": {
      "image/png": "[encoded data removed]",
      "text/plain": [
       "<Figure size 432x288 with 1 Axes>"
      ]
     },
     "metadata": {
      "needs_background": "light"
     },
     "output_type": "display_data"
    },
    {
     "name": "stdout",
     "output_type": "stream",
     "text": [
      "Mean absolute error of the prediction is: 17796.21629266301\n",
      "Mean squared error of the prediction is: 721567444.9214021\n",
      "Root mean squared error of the prediction is: 26862.007462611615\n",
      "Mean absolute percentage error of the prediction is: 9.773541872852984\n"
     ]
    }
   ],
   "source": [
    "plt.scatter(y_log_test, y_log_preds)\n",
    "plt.plot(y_log_test, y_log_test, color=\"red\")\n",
    "plt.xlabel(\"true values(ln)\")\n",
    "plt.ylabel(\"predicted values (ln)\")\n",
    "plt.title(\"Charges: true and predicted values\")\n",
    "plt.show()\n",
    "y_test= np.exp(y_log_test)\n",
    "y_preds=np.exp(y_log_preds)\n",
    "\n",
    "print(\"Mean absolute error of the prediction is: {}\".format(mean_absolute_error(y_test, y_preds)))\n",
    "print(\"Mean squared error of the prediction is: {}\".format(mse(y_test, y_preds)))\n",
    "print(\"Root mean squared error of the prediction is: {}\".format(rmse(y_test, y_preds)))\n",
    "print(\"Mean absolute percentage error of the prediction is: {}\".format(np.mean(np.abs((y_test - y_preds) / y_test)) * 100))\n"
   ]
  },
  {
   "cell_type": "code",
   "execution_count": 102,
   "metadata": {
    "scrolled": true
   },
   "outputs": [
    {
     "data": {
      "image/png": "[encoded data removed]",
      "text/plain": [
       "<Figure size 432x288 with 1 Axes>"
      ]
     },
     "metadata": {
      "needs_background": "light"
     },
     "output_type": "display_data"
    }
   ],
   "source": [
    "plot_leverage_resid2(results_log)\n",
    "plt.show()"
   ]
  },
  {
   "cell_type": "markdown",
   "metadata": {},
   "source": []
  },
  {
   "cell_type": "code",
   "execution_count": null,
   "metadata": {
    "scrolled": true
   },
   "outputs": [],
   "source": [
    "sns.boxplot(x='yrsold',y='saleprice',data=df_clean)"
   ]
  },
  {
   "cell_type": "markdown",
   "metadata": {},
   "source": [
    "I'm still overestimating a little on the low end and over on the high end, but I'm fairly happy.\n",
    "\n",
    "Some further ideas are integrating the shiller index for iowa, and making the sale price in constant dollars.\n",
    "\n",
    "Also, see if I really need the age built term.\n",
    "\n",
    "It tends to overestimate low values. How to fix?\n",
    "\n",
    "Maybe some things specific to Ames?"
   ]
  },
  {
   "cell_type": "code",
   "execution_count": 115,
   "metadata": {},
   "outputs": [
    {
     "data": {
      "text/plain": [
       "2009    246\n",
       "2006    246\n",
       "2007    244\n",
       "2008    225\n",
       "2010    129\n",
       "Name: yrsold, dtype: int64"
      ]
     },
     "execution_count": 115,
     "metadata": {},
     "output_type": "execute_result"
    }
   ],
   "source": [
    "df_clean.yrsold.value_counts()"
   ]
  },
  {
   "cell_type": "code",
   "execution_count": null,
   "metadata": {},
   "outputs": [],
   "source": []
  }
 ],
 "metadata": {
  "kernelspec": {
   "display_name": "Python 3",
   "language": "python",
   "name": "python3"
  },
  "language_info": {
   "codemirror_mode": {
    "name": "ipython",
    "version": 3
   },
   "file_extension": ".py",
   "mimetype": "text/x-python",
   "name": "python",
   "nbconvert_exporter": "python",
   "pygments_lexer": "ipython3",
   "version": "3.7.6"
  }
 },
 "nbformat": 4,
 "nbformat_minor": 4
}
