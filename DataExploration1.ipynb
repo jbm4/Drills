{
 "cells": [
  {
   "cell_type": "code",
   "execution_count": 1,
   "metadata": {},
   "outputs": [
    {
     "data": {
      "application/javascript": [
       "\n",
       "            setTimeout(function() {\n",
       "                var nbb_cell_id = 1;\n",
       "                var nbb_unformatted_code = \"%reload_ext nb_black\";\n",
       "                var nbb_formatted_code = \"%reload_ext nb_black\";\n",
       "                var nbb_cells = Jupyter.notebook.get_cells();\n",
       "                for (var i = 0; i < nbb_cells.length; ++i) {\n",
       "                    if (nbb_cells[i].input_prompt_number == nbb_cell_id) {\n",
       "                        if (nbb_cells[i].get_text() == nbb_unformatted_code) {\n",
       "                             nbb_cells[i].set_text(nbb_formatted_code);\n",
       "                        }\n",
       "                        break;\n",
       "                    }\n",
       "                }\n",
       "            }, 500);\n",
       "            "
      ],
      "text/plain": [
       "<IPython.core.display.Javascript object>"
      ]
     },
     "metadata": {},
     "output_type": "display_data"
    }
   ],
   "source": [
    "%reload_ext nb_black"
   ]
  },
  {
   "cell_type": "code",
   "execution_count": 87,
   "metadata": {},
   "outputs": [
    {
     "data": {
      "application/javascript": [
       "\n",
       "            setTimeout(function() {\n",
       "                var nbb_cell_id = 87;\n",
       "                var nbb_unformatted_code = \"import pandas as pd\\nimport numpy as np\\nfrom sqlalchemy import create_engine\\nimport warnings\\nimport seaborn as sns\\nfrom scipy.stats.mstats import winsorize\\nimport matplotlib.pyplot as plt\\n\\n\\nwarnings.filterwarnings(\\\"ignore\\\")\";\n",
       "                var nbb_formatted_code = \"import pandas as pd\\nimport numpy as np\\nfrom sqlalchemy import create_engine\\nimport warnings\\nimport seaborn as sns\\nfrom scipy.stats.mstats import winsorize\\nimport matplotlib.pyplot as plt\\n\\n\\nwarnings.filterwarnings(\\\"ignore\\\")\";\n",
       "                var nbb_cells = Jupyter.notebook.get_cells();\n",
       "                for (var i = 0; i < nbb_cells.length; ++i) {\n",
       "                    if (nbb_cells[i].input_prompt_number == nbb_cell_id) {\n",
       "                        if (nbb_cells[i].get_text() == nbb_unformatted_code) {\n",
       "                             nbb_cells[i].set_text(nbb_formatted_code);\n",
       "                        }\n",
       "                        break;\n",
       "                    }\n",
       "                }\n",
       "            }, 500);\n",
       "            "
      ],
      "text/plain": [
       "<IPython.core.display.Javascript object>"
      ]
     },
     "metadata": {},
     "output_type": "display_data"
    }
   ],
   "source": [
    "import pandas as pd\n",
    "import numpy as np\n",
    "from sqlalchemy import create_engine\n",
    "import warnings\n",
    "import seaborn as sns\n",
    "from scipy.stats.mstats import winsorize\n",
    "import matplotlib.pyplot as plt\n",
    "\n",
    "\n",
    "warnings.filterwarnings(\"ignore\")"
   ]
  },
  {
   "cell_type": "code",
   "execution_count": 3,
   "metadata": {},
   "outputs": [
    {
     "data": {
      "application/javascript": [
       "\n",
       "            setTimeout(function() {\n",
       "                var nbb_cell_id = 3;\n",
       "                var nbb_unformatted_code = \"postgres_user = 'dsbc_student'\\npostgres_pw = '7*.8G9QH21'\\npostgres_host = '142.93.121.174'\\npostgres_port = '5432'\\npostgres_db = 'useducation'\";\n",
       "                var nbb_formatted_code = \"postgres_user = \\\"dsbc_student\\\"\\npostgres_pw = \\\"7*.8G9QH21\\\"\\npostgres_host = \\\"142.93.121.174\\\"\\npostgres_port = \\\"5432\\\"\\npostgres_db = \\\"useducation\\\"\";\n",
       "                var nbb_cells = Jupyter.notebook.get_cells();\n",
       "                for (var i = 0; i < nbb_cells.length; ++i) {\n",
       "                    if (nbb_cells[i].input_prompt_number == nbb_cell_id) {\n",
       "                        if (nbb_cells[i].get_text() == nbb_unformatted_code) {\n",
       "                             nbb_cells[i].set_text(nbb_formatted_code);\n",
       "                        }\n",
       "                        break;\n",
       "                    }\n",
       "                }\n",
       "            }, 500);\n",
       "            "
      ],
      "text/plain": [
       "<IPython.core.display.Javascript object>"
      ]
     },
     "metadata": {},
     "output_type": "display_data"
    }
   ],
   "source": [
    "postgres_user = 'dsbc_student'\n",
    "postgres_pw = '7*.8G9QH21'\n",
    "postgres_host = '142.93.121.174'\n",
    "postgres_port = '5432'\n",
    "postgres_db = 'useducation'\n"
   ]
  },
  {
   "cell_type": "code",
   "execution_count": 50,
   "metadata": {},
   "outputs": [
    {
     "data": {
      "application/javascript": [
       "\n",
       "            setTimeout(function() {\n",
       "                var nbb_cell_id = 50;\n",
       "                var nbb_unformatted_code = \"engine = create_engine('postgresql://{}:{}@{}:{}/{}'.format(\\n    postgres_user, postgres_pw, postgres_host, postgres_port, postgres_db))\\n\\ndf = pd.read_sql_query('select * from useducation',con=engine)\\nengine.dispose()\";\n",
       "                var nbb_formatted_code = \"engine = create_engine(\\n    \\\"postgresql://{}:{}@{}:{}/{}\\\".format(\\n        postgres_user, postgres_pw, postgres_host, postgres_port, postgres_db\\n    )\\n)\\n\\ndf = pd.read_sql_query(\\\"select * from useducation\\\", con=engine)\\nengine.dispose()\";\n",
       "                var nbb_cells = Jupyter.notebook.get_cells();\n",
       "                for (var i = 0; i < nbb_cells.length; ++i) {\n",
       "                    if (nbb_cells[i].input_prompt_number == nbb_cell_id) {\n",
       "                        if (nbb_cells[i].get_text() == nbb_unformatted_code) {\n",
       "                             nbb_cells[i].set_text(nbb_formatted_code);\n",
       "                        }\n",
       "                        break;\n",
       "                    }\n",
       "                }\n",
       "            }, 500);\n",
       "            "
      ],
      "text/plain": [
       "<IPython.core.display.Javascript object>"
      ]
     },
     "metadata": {},
     "output_type": "display_data"
    }
   ],
   "source": [
    "engine = create_engine('postgresql://{}:{}@{}:{}/{}'.format(\n",
    "    postgres_user, postgres_pw, postgres_host, postgres_port, postgres_db))\n",
    "\n",
    "df = pd.read_sql_query('select * from useducation',con=engine)\n",
    "engine.dispose()\n"
   ]
  },
  {
   "cell_type": "code",
   "execution_count": 80,
   "metadata": {},
   "outputs": [
    {
     "data": {
      "application/javascript": [
       "\n",
       "            setTimeout(function() {\n",
       "                var nbb_cell_id = 80;\n",
       "                var nbb_unformatted_code = \"pd.set_option(\\\"display.max_columns\\\", None)\";\n",
       "                var nbb_formatted_code = \"pd.set_option(\\\"display.max_columns\\\", None)\";\n",
       "                var nbb_cells = Jupyter.notebook.get_cells();\n",
       "                for (var i = 0; i < nbb_cells.length; ++i) {\n",
       "                    if (nbb_cells[i].input_prompt_number == nbb_cell_id) {\n",
       "                        if (nbb_cells[i].get_text() == nbb_unformatted_code) {\n",
       "                             nbb_cells[i].set_text(nbb_formatted_code);\n",
       "                        }\n",
       "                        break;\n",
       "                    }\n",
       "                }\n",
       "            }, 500);\n",
       "            "
      ],
      "text/plain": [
       "<IPython.core.display.Javascript object>"
      ]
     },
     "metadata": {},
     "output_type": "display_data"
    }
   ],
   "source": [
    "pd.set_option(\"display.max_columns\", None)\n"
   ]
  },
  {
   "cell_type": "code",
   "execution_count": 58,
   "metadata": {},
   "outputs": [
    {
     "data": {
      "application/javascript": [
       "\n",
       "            setTimeout(function() {\n",
       "                var nbb_cell_id = 58;\n",
       "                var nbb_unformatted_code = \"fill_list = [\\\"ENROLL\\\", \\\"TOTAL_REVENUE\\\", \\\"FEDERAL_REVENUE\\\", \\n             \\\"STATE_REVENUE\\\", \\\"LOCAL_REVENUE\\\", \\\"TOTAL_EXPENDITURE\\\", \\n             \\\"INSTRUCTION_EXPENDITURE\\\", \\\"SUPPORT_SERVICES_EXPENDITURE\\\",\\n             \\\"OTHER_EXPENDITURE\\\", \\\"CAPITAL_OUTLAY_EXPENDITURE\\\", \\\"GRADES_PK_G\\\", \\n             \\\"GRADES_KG_G\\\", \\\"GRADES_4_G\\\", \\\"GRADES_8_G\\\", \\\"GRADES_12_G\\\", \\\"GRADES_1_8_G\\\", \\n             \\\"GRADES_9_12_G\\\", \\\"GRADES_ALL_G\\\"]\";\n",
       "                var nbb_formatted_code = \"fill_list = [\\n    \\\"ENROLL\\\",\\n    \\\"TOTAL_REVENUE\\\",\\n    \\\"FEDERAL_REVENUE\\\",\\n    \\\"STATE_REVENUE\\\",\\n    \\\"LOCAL_REVENUE\\\",\\n    \\\"TOTAL_EXPENDITURE\\\",\\n    \\\"INSTRUCTION_EXPENDITURE\\\",\\n    \\\"SUPPORT_SERVICES_EXPENDITURE\\\",\\n    \\\"OTHER_EXPENDITURE\\\",\\n    \\\"CAPITAL_OUTLAY_EXPENDITURE\\\",\\n    \\\"GRADES_PK_G\\\",\\n    \\\"GRADES_KG_G\\\",\\n    \\\"GRADES_4_G\\\",\\n    \\\"GRADES_8_G\\\",\\n    \\\"GRADES_12_G\\\",\\n    \\\"GRADES_1_8_G\\\",\\n    \\\"GRADES_9_12_G\\\",\\n    \\\"GRADES_ALL_G\\\",\\n]\";\n",
       "                var nbb_cells = Jupyter.notebook.get_cells();\n",
       "                for (var i = 0; i < nbb_cells.length; ++i) {\n",
       "                    if (nbb_cells[i].input_prompt_number == nbb_cell_id) {\n",
       "                        if (nbb_cells[i].get_text() == nbb_unformatted_code) {\n",
       "                             nbb_cells[i].set_text(nbb_formatted_code);\n",
       "                        }\n",
       "                        break;\n",
       "                    }\n",
       "                }\n",
       "            }, 500);\n",
       "            "
      ],
      "text/plain": [
       "<IPython.core.display.Javascript object>"
      ]
     },
     "metadata": {},
     "output_type": "display_data"
    }
   ],
   "source": [
    "fill_list = [\"ENROLL\", \"TOTAL_REVENUE\", \"FEDERAL_REVENUE\", \n",
    "             \"STATE_REVENUE\", \"LOCAL_REVENUE\", \"TOTAL_EXPENDITURE\", \n",
    "             \"INSTRUCTION_EXPENDITURE\", \"SUPPORT_SERVICES_EXPENDITURE\",\n",
    "             \"OTHER_EXPENDITURE\", \"CAPITAL_OUTLAY_EXPENDITURE\", \"GRADES_PK_G\", \n",
    "             \"GRADES_KG_G\", \"GRADES_4_G\", \"GRADES_8_G\", \"GRADES_12_G\", \"GRADES_1_8_G\", \n",
    "             \"GRADES_9_12_G\", \"GRADES_ALL_G\"]\n",
    "\n"
   ]
  },
  {
   "cell_type": "markdown",
   "metadata": {},
   "source": [
    "Don't forget to apply the most suitable missing value filling techniques you applied in the previous checkpoint to the data. You're supposed to provide your answers to the following questions (1-4) after you handled the missing values."
   ]
  },
  {
   "cell_type": "code",
   "execution_count": null,
   "metadata": {
    "scrolled": false
   },
   "outputs": [],
   "source": []
  },
  {
   "cell_type": "code",
   "execution_count": 6,
   "metadata": {
    "scrolled": false
   },
   "outputs": [
    {
     "name": "stdout",
     "output_type": "stream",
     "text": [
      "<class 'pandas.core.frame.DataFrame'>\n",
      "RangeIndex: 1492 entries, 0 to 1491\n",
      "Data columns (total 25 columns):\n",
      " #   Column                        Non-Null Count  Dtype  \n",
      "---  ------                        --------------  -----  \n",
      " 0   PRIMARY_KEY                   1492 non-null   object \n",
      " 1   STATE                         1492 non-null   object \n",
      " 2   YEAR                          1492 non-null   int64  \n",
      " 3   ENROLL                        1229 non-null   float64\n",
      " 4   TOTAL_REVENUE                 1280 non-null   float64\n",
      " 5   FEDERAL_REVENUE               1280 non-null   float64\n",
      " 6   STATE_REVENUE                 1280 non-null   float64\n",
      " 7   LOCAL_REVENUE                 1280 non-null   float64\n",
      " 8   TOTAL_EXPENDITURE             1280 non-null   float64\n",
      " 9   INSTRUCTION_EXPENDITURE       1280 non-null   float64\n",
      " 10  SUPPORT_SERVICES_EXPENDITURE  1280 non-null   float64\n",
      " 11  OTHER_EXPENDITURE             1229 non-null   float64\n",
      " 12  CAPITAL_OUTLAY_EXPENDITURE    1280 non-null   float64\n",
      " 13  GRADES_PK_G                   1319 non-null   float64\n",
      " 14  GRADES_KG_G                   1360 non-null   float64\n",
      " 15  GRADES_4_G                    1361 non-null   float64\n",
      " 16  GRADES_8_G                    1361 non-null   float64\n",
      " 17  GRADES_12_G                   1361 non-null   float64\n",
      " 18  GRADES_1_8_G                  1361 non-null   float64\n",
      " 19  GRADES_9_12_G                 1361 non-null   float64\n",
      " 20  GRADES_ALL_G                  1319 non-null   float64\n",
      " 21  AVG_MATH_4_SCORE              536 non-null    float64\n",
      " 22  AVG_MATH_8_SCORE              532 non-null    float64\n",
      " 23  AVG_READING_4_SCORE           533 non-null    float64\n",
      " 24  AVG_READING_8_SCORE           498 non-null    float64\n",
      "dtypes: float64(22), int64(1), object(2)\n",
      "memory usage: 291.5+ KB\n"
     ]
    },
    {
     "data": {
      "application/javascript": [
       "\n",
       "            setTimeout(function() {\n",
       "                var nbb_cell_id = 6;\n",
       "                var nbb_unformatted_code = \"df.info()\";\n",
       "                var nbb_formatted_code = \"df.info()\";\n",
       "                var nbb_cells = Jupyter.notebook.get_cells();\n",
       "                for (var i = 0; i < nbb_cells.length; ++i) {\n",
       "                    if (nbb_cells[i].input_prompt_number == nbb_cell_id) {\n",
       "                        if (nbb_cells[i].get_text() == nbb_unformatted_code) {\n",
       "                             nbb_cells[i].set_text(nbb_formatted_code);\n",
       "                        }\n",
       "                        break;\n",
       "                    }\n",
       "                }\n",
       "            }, 500);\n",
       "            "
      ],
      "text/plain": [
       "<IPython.core.display.Javascript object>"
      ]
     },
     "metadata": {},
     "output_type": "display_data"
    }
   ],
   "source": [
    "df.info()"
   ]
  },
  {
   "cell_type": "code",
   "execution_count": 72,
   "metadata": {
    "scrolled": false
   },
   "outputs": [
    {
     "data": {
      "application/javascript": [
       "\n",
       "            setTimeout(function() {\n",
       "                var nbb_cell_id = 72;\n",
       "                var nbb_unformatted_code = \"# df2 = df.set_index([\\\"STATE\\\", \\\"YEAR\\\"]).sort_index()\\ndf2 = df.copy()\\n# df2 = df2.sort_values([\\\"STATE\\\", \\\"YEAR\\\"]).interpolate(method=\\\"linear\\\")\\nfor col in fill_list:\\n    df2[col]=df2.groupby('STATE')[col].apply(lambda x : x.interpolate(limit_direction = \\\"both\\\"))\\n# for col in fill_list:\\n#     df2.groupby('STATE')[col].interpolate(limit_direction = \\\"both\\\"))\";\n",
       "                var nbb_formatted_code = \"# df2 = df.set_index([\\\"STATE\\\", \\\"YEAR\\\"]).sort_index()\\ndf2 = df.copy()\\n# df2 = df2.sort_values([\\\"STATE\\\", \\\"YEAR\\\"]).interpolate(method=\\\"linear\\\")\\nfor col in fill_list:\\n    df2[col] = df2.groupby(\\\"STATE\\\")[col].apply(\\n        lambda x: x.interpolate(limit_direction=\\\"both\\\")\\n    )\\n# for col in fill_list:\\n#     df2.groupby('STATE')[col].interpolate(limit_direction = \\\"both\\\"))\";\n",
       "                var nbb_cells = Jupyter.notebook.get_cells();\n",
       "                for (var i = 0; i < nbb_cells.length; ++i) {\n",
       "                    if (nbb_cells[i].input_prompt_number == nbb_cell_id) {\n",
       "                        if (nbb_cells[i].get_text() == nbb_unformatted_code) {\n",
       "                             nbb_cells[i].set_text(nbb_formatted_code);\n",
       "                        }\n",
       "                        break;\n",
       "                    }\n",
       "                }\n",
       "            }, 500);\n",
       "            "
      ],
      "text/plain": [
       "<IPython.core.display.Javascript object>"
      ]
     },
     "metadata": {},
     "output_type": "display_data"
    }
   ],
   "source": [
    "# df2 = df.set_index([\"STATE\", \"YEAR\"]).sort_index()\n",
    "df2 = df.copy()\n",
    "# df2 = df2.sort_values([\"STATE\", \"YEAR\"]).interpolate(method=\"linear\")\n",
    "for col in fill_list:\n",
    "    df2[col]=df2.groupby('STATE')[col].apply(lambda x : x.interpolate(limit_direction = \"both\"))\n",
    "# for col in fill_list:\n",
    "#     df2.groupby('STATE')[col].interpolate(limit_direction = \"both\"))\n"
   ]
  },
  {
   "cell_type": "code",
   "execution_count": 74,
   "metadata": {},
   "outputs": [
    {
     "data": {
      "text/html": [
       "<div>\n",
       "<style scoped>\n",
       "    .dataframe tbody tr th:only-of-type {\n",
       "        vertical-align: middle;\n",
       "    }\n",
       "\n",
       "    .dataframe tbody tr th {\n",
       "        vertical-align: top;\n",
       "    }\n",
       "\n",
       "    .dataframe thead th {\n",
       "        text-align: right;\n",
       "    }\n",
       "</style>\n",
       "<table border=\"1\" class=\"dataframe\">\n",
       "  <thead>\n",
       "    <tr style=\"text-align: right;\">\n",
       "      <th></th>\n",
       "      <th>PRIMARY_KEY</th>\n",
       "      <th>STATE</th>\n",
       "      <th>YEAR</th>\n",
       "      <th>ENROLL</th>\n",
       "      <th>TOTAL_REVENUE</th>\n",
       "      <th>FEDERAL_REVENUE</th>\n",
       "      <th>STATE_REVENUE</th>\n",
       "      <th>LOCAL_REVENUE</th>\n",
       "      <th>TOTAL_EXPENDITURE</th>\n",
       "      <th>INSTRUCTION_EXPENDITURE</th>\n",
       "      <th>...</th>\n",
       "      <th>GRADES_4_G</th>\n",
       "      <th>GRADES_8_G</th>\n",
       "      <th>GRADES_12_G</th>\n",
       "      <th>GRADES_1_8_G</th>\n",
       "      <th>GRADES_9_12_G</th>\n",
       "      <th>GRADES_ALL_G</th>\n",
       "      <th>AVG_MATH_4_SCORE</th>\n",
       "      <th>AVG_MATH_8_SCORE</th>\n",
       "      <th>AVG_READING_4_SCORE</th>\n",
       "      <th>AVG_READING_8_SCORE</th>\n",
       "    </tr>\n",
       "  </thead>\n",
       "  <tbody>\n",
       "    <tr>\n",
       "      <th>0</th>\n",
       "      <td>1992_ALABAMA</td>\n",
       "      <td>ALABAMA</td>\n",
       "      <td>1992</td>\n",
       "      <td>727716.0</td>\n",
       "      <td>2678885.0</td>\n",
       "      <td>304177.0</td>\n",
       "      <td>1659028.0</td>\n",
       "      <td>715680.0</td>\n",
       "      <td>2653798.0</td>\n",
       "      <td>1481703.0</td>\n",
       "      <td>...</td>\n",
       "      <td>57948.0</td>\n",
       "      <td>58025.0</td>\n",
       "      <td>41167.0</td>\n",
       "      <td>471564.0</td>\n",
       "      <td>196386.0</td>\n",
       "      <td>676174.0</td>\n",
       "      <td>208.327876</td>\n",
       "      <td>252.187522</td>\n",
       "      <td>207.963517</td>\n",
       "      <td>NaN</td>\n",
       "    </tr>\n",
       "    <tr>\n",
       "      <th>1</th>\n",
       "      <td>1992_ALASKA</td>\n",
       "      <td>ALASKA</td>\n",
       "      <td>1992</td>\n",
       "      <td>121156.0</td>\n",
       "      <td>1049591.0</td>\n",
       "      <td>106780.0</td>\n",
       "      <td>720711.0</td>\n",
       "      <td>222100.0</td>\n",
       "      <td>972488.0</td>\n",
       "      <td>498362.0</td>\n",
       "      <td>...</td>\n",
       "      <td>9748.0</td>\n",
       "      <td>8789.0</td>\n",
       "      <td>6714.0</td>\n",
       "      <td>79117.0</td>\n",
       "      <td>30847.0</td>\n",
       "      <td>112335.0</td>\n",
       "      <td>NaN</td>\n",
       "      <td>NaN</td>\n",
       "      <td>NaN</td>\n",
       "      <td>258.859712</td>\n",
       "    </tr>\n",
       "    <tr>\n",
       "      <th>2</th>\n",
       "      <td>1992_ARIZONA</td>\n",
       "      <td>ARIZONA</td>\n",
       "      <td>1992</td>\n",
       "      <td>676297.0</td>\n",
       "      <td>3258079.0</td>\n",
       "      <td>297888.0</td>\n",
       "      <td>1369815.0</td>\n",
       "      <td>1590376.0</td>\n",
       "      <td>3401580.0</td>\n",
       "      <td>1435908.0</td>\n",
       "      <td>...</td>\n",
       "      <td>55433.0</td>\n",
       "      <td>49081.0</td>\n",
       "      <td>37410.0</td>\n",
       "      <td>437127.0</td>\n",
       "      <td>175210.0</td>\n",
       "      <td>614881.0</td>\n",
       "      <td>215.253932</td>\n",
       "      <td>265.366278</td>\n",
       "      <td>206.212716</td>\n",
       "      <td>262.169895</td>\n",
       "    </tr>\n",
       "    <tr>\n",
       "      <th>3</th>\n",
       "      <td>1992_ARKANSAS</td>\n",
       "      <td>ARKANSAS</td>\n",
       "      <td>1992</td>\n",
       "      <td>311432.0</td>\n",
       "      <td>1711959.0</td>\n",
       "      <td>178571.0</td>\n",
       "      <td>958785.0</td>\n",
       "      <td>574603.0</td>\n",
       "      <td>1743022.0</td>\n",
       "      <td>964323.0</td>\n",
       "      <td>...</td>\n",
       "      <td>34632.0</td>\n",
       "      <td>36011.0</td>\n",
       "      <td>27651.0</td>\n",
       "      <td>281338.0</td>\n",
       "      <td>123113.0</td>\n",
       "      <td>405259.0</td>\n",
       "      <td>210.206028</td>\n",
       "      <td>256.312090</td>\n",
       "      <td>208.634458</td>\n",
       "      <td>264.619665</td>\n",
       "    </tr>\n",
       "    <tr>\n",
       "      <th>4</th>\n",
       "      <td>1992_CALIFORNIA</td>\n",
       "      <td>CALIFORNIA</td>\n",
       "      <td>1992</td>\n",
       "      <td>5129788.0</td>\n",
       "      <td>26260025.0</td>\n",
       "      <td>2072470.0</td>\n",
       "      <td>16546514.0</td>\n",
       "      <td>7641041.0</td>\n",
       "      <td>27138832.0</td>\n",
       "      <td>14358922.0</td>\n",
       "      <td>...</td>\n",
       "      <td>418418.0</td>\n",
       "      <td>363296.0</td>\n",
       "      <td>270675.0</td>\n",
       "      <td>3286034.0</td>\n",
       "      <td>1372011.0</td>\n",
       "      <td>4717112.0</td>\n",
       "      <td>208.398961</td>\n",
       "      <td>260.892247</td>\n",
       "      <td>196.764414</td>\n",
       "      <td>NaN</td>\n",
       "    </tr>\n",
       "    <tr>\n",
       "      <th>...</th>\n",
       "      <td>...</td>\n",
       "      <td>...</td>\n",
       "      <td>...</td>\n",
       "      <td>...</td>\n",
       "      <td>...</td>\n",
       "      <td>...</td>\n",
       "      <td>...</td>\n",
       "      <td>...</td>\n",
       "      <td>...</td>\n",
       "      <td>...</td>\n",
       "      <td>...</td>\n",
       "      <td>...</td>\n",
       "      <td>...</td>\n",
       "      <td>...</td>\n",
       "      <td>...</td>\n",
       "      <td>...</td>\n",
       "      <td>...</td>\n",
       "      <td>...</td>\n",
       "      <td>...</td>\n",
       "      <td>...</td>\n",
       "      <td>...</td>\n",
       "    </tr>\n",
       "    <tr>\n",
       "      <th>1487</th>\n",
       "      <td>2017_VIRGINIA</td>\n",
       "      <td>VIRGINIA</td>\n",
       "      <td>2017</td>\n",
       "      <td>1279867.0</td>\n",
       "      <td>15857524.0</td>\n",
       "      <td>1012205.0</td>\n",
       "      <td>6240349.0</td>\n",
       "      <td>8604970.0</td>\n",
       "      <td>16113212.0</td>\n",
       "      <td>8755896.0</td>\n",
       "      <td>...</td>\n",
       "      <td>96851.0</td>\n",
       "      <td>95221.0</td>\n",
       "      <td>90391.0</td>\n",
       "      <td>772414.0</td>\n",
       "      <td>386781.0</td>\n",
       "      <td>1192648.0</td>\n",
       "      <td>248.041059</td>\n",
       "      <td>290.081407</td>\n",
       "      <td>227.598382</td>\n",
       "      <td>273.402640</td>\n",
       "    </tr>\n",
       "    <tr>\n",
       "      <th>1488</th>\n",
       "      <td>2017_WASHINGTON</td>\n",
       "      <td>WASHINGTON</td>\n",
       "      <td>2017</td>\n",
       "      <td>1072359.0</td>\n",
       "      <td>13709442.0</td>\n",
       "      <td>1036422.0</td>\n",
       "      <td>8293812.0</td>\n",
       "      <td>4379208.0</td>\n",
       "      <td>13630138.0</td>\n",
       "      <td>6508964.0</td>\n",
       "      <td>...</td>\n",
       "      <td>82404.0</td>\n",
       "      <td>79483.0</td>\n",
       "      <td>89258.0</td>\n",
       "      <td>656797.0</td>\n",
       "      <td>336808.0</td>\n",
       "      <td>1007338.0</td>\n",
       "      <td>241.701001</td>\n",
       "      <td>289.131257</td>\n",
       "      <td>223.123409</td>\n",
       "      <td>267.744778</td>\n",
       "    </tr>\n",
       "    <tr>\n",
       "      <th>1489</th>\n",
       "      <td>2017_WEST_VIRGINIA</td>\n",
       "      <td>WEST_VIRGINIA</td>\n",
       "      <td>2017</td>\n",
       "      <td>279565.0</td>\n",
       "      <td>3478401.0</td>\n",
       "      <td>362959.0</td>\n",
       "      <td>1979466.0</td>\n",
       "      <td>1135976.0</td>\n",
       "      <td>3466981.0</td>\n",
       "      <td>1819903.0</td>\n",
       "      <td>...</td>\n",
       "      <td>19814.0</td>\n",
       "      <td>20426.0</td>\n",
       "      <td>18432.0</td>\n",
       "      <td>162070.0</td>\n",
       "      <td>80142.0</td>\n",
       "      <td>257289.0</td>\n",
       "      <td>236.057019</td>\n",
       "      <td>273.415854</td>\n",
       "      <td>217.316396</td>\n",
       "      <td>271.617023</td>\n",
       "    </tr>\n",
       "    <tr>\n",
       "      <th>1490</th>\n",
       "      <td>2017_WISCONSIN</td>\n",
       "      <td>WISCONSIN</td>\n",
       "      <td>2017</td>\n",
       "      <td>861813.0</td>\n",
       "      <td>11637376.0</td>\n",
       "      <td>814385.0</td>\n",
       "      <td>5869265.0</td>\n",
       "      <td>4953726.0</td>\n",
       "      <td>11553677.0</td>\n",
       "      <td>5723474.0</td>\n",
       "      <td>...</td>\n",
       "      <td>60999.0</td>\n",
       "      <td>61084.0</td>\n",
       "      <td>66253.0</td>\n",
       "      <td>489919.0</td>\n",
       "      <td>263896.0</td>\n",
       "      <td>809722.0</td>\n",
       "      <td>240.389213</td>\n",
       "      <td>288.143144</td>\n",
       "      <td>219.612694</td>\n",
       "      <td>258.700304</td>\n",
       "    </tr>\n",
       "    <tr>\n",
       "      <th>1491</th>\n",
       "      <td>2017_WYOMING</td>\n",
       "      <td>WYOMING</td>\n",
       "      <td>2017</td>\n",
       "      <td>93867.0</td>\n",
       "      <td>1962874.0</td>\n",
       "      <td>120290.0</td>\n",
       "      <td>1116917.0</td>\n",
       "      <td>725667.0</td>\n",
       "      <td>1942406.0</td>\n",
       "      <td>895910.0</td>\n",
       "      <td>...</td>\n",
       "      <td>7551.0</td>\n",
       "      <td>6902.0</td>\n",
       "      <td>6299.0</td>\n",
       "      <td>59453.0</td>\n",
       "      <td>26914.0</td>\n",
       "      <td>86876.0</td>\n",
       "      <td>247.820619</td>\n",
       "      <td>288.761812</td>\n",
       "      <td>226.831211</td>\n",
       "      <td>269.371456</td>\n",
       "    </tr>\n",
       "  </tbody>\n",
       "</table>\n",
       "<p>1492 rows × 25 columns</p>\n",
       "</div>"
      ],
      "text/plain": [
       "             PRIMARY_KEY          STATE  YEAR     ENROLL  TOTAL_REVENUE  \\\n",
       "0           1992_ALABAMA        ALABAMA  1992   727716.0      2678885.0   \n",
       "1            1992_ALASKA         ALASKA  1992   121156.0      1049591.0   \n",
       "2           1992_ARIZONA        ARIZONA  1992   676297.0      3258079.0   \n",
       "3          1992_ARKANSAS       ARKANSAS  1992   311432.0      1711959.0   \n",
       "4        1992_CALIFORNIA     CALIFORNIA  1992  5129788.0     26260025.0   \n",
       "...                  ...            ...   ...        ...            ...   \n",
       "1487       2017_VIRGINIA       VIRGINIA  2017  1279867.0     15857524.0   \n",
       "1488     2017_WASHINGTON     WASHINGTON  2017  1072359.0     13709442.0   \n",
       "1489  2017_WEST_VIRGINIA  WEST_VIRGINIA  2017   279565.0      3478401.0   \n",
       "1490      2017_WISCONSIN      WISCONSIN  2017   861813.0     11637376.0   \n",
       "1491        2017_WYOMING        WYOMING  2017    93867.0      1962874.0   \n",
       "\n",
       "      FEDERAL_REVENUE  STATE_REVENUE  LOCAL_REVENUE  TOTAL_EXPENDITURE  \\\n",
       "0            304177.0      1659028.0       715680.0          2653798.0   \n",
       "1            106780.0       720711.0       222100.0           972488.0   \n",
       "2            297888.0      1369815.0      1590376.0          3401580.0   \n",
       "3            178571.0       958785.0       574603.0          1743022.0   \n",
       "4           2072470.0     16546514.0      7641041.0         27138832.0   \n",
       "...               ...            ...            ...                ...   \n",
       "1487        1012205.0      6240349.0      8604970.0         16113212.0   \n",
       "1488        1036422.0      8293812.0      4379208.0         13630138.0   \n",
       "1489         362959.0      1979466.0      1135976.0          3466981.0   \n",
       "1490         814385.0      5869265.0      4953726.0         11553677.0   \n",
       "1491         120290.0      1116917.0       725667.0          1942406.0   \n",
       "\n",
       "      INSTRUCTION_EXPENDITURE  ...  GRADES_4_G  GRADES_8_G  GRADES_12_G  \\\n",
       "0                   1481703.0  ...     57948.0     58025.0      41167.0   \n",
       "1                    498362.0  ...      9748.0      8789.0       6714.0   \n",
       "2                   1435908.0  ...     55433.0     49081.0      37410.0   \n",
       "3                    964323.0  ...     34632.0     36011.0      27651.0   \n",
       "4                  14358922.0  ...    418418.0    363296.0     270675.0   \n",
       "...                       ...  ...         ...         ...          ...   \n",
       "1487                8755896.0  ...     96851.0     95221.0      90391.0   \n",
       "1488                6508964.0  ...     82404.0     79483.0      89258.0   \n",
       "1489                1819903.0  ...     19814.0     20426.0      18432.0   \n",
       "1490                5723474.0  ...     60999.0     61084.0      66253.0   \n",
       "1491                 895910.0  ...      7551.0      6902.0       6299.0   \n",
       "\n",
       "      GRADES_1_8_G  GRADES_9_12_G  GRADES_ALL_G  AVG_MATH_4_SCORE  \\\n",
       "0         471564.0       196386.0      676174.0        208.327876   \n",
       "1          79117.0        30847.0      112335.0               NaN   \n",
       "2         437127.0       175210.0      614881.0        215.253932   \n",
       "3         281338.0       123113.0      405259.0        210.206028   \n",
       "4        3286034.0      1372011.0     4717112.0        208.398961   \n",
       "...            ...            ...           ...               ...   \n",
       "1487      772414.0       386781.0     1192648.0        248.041059   \n",
       "1488      656797.0       336808.0     1007338.0        241.701001   \n",
       "1489      162070.0        80142.0      257289.0        236.057019   \n",
       "1490      489919.0       263896.0      809722.0        240.389213   \n",
       "1491       59453.0        26914.0       86876.0        247.820619   \n",
       "\n",
       "      AVG_MATH_8_SCORE  AVG_READING_4_SCORE  AVG_READING_8_SCORE  \n",
       "0           252.187522           207.963517                  NaN  \n",
       "1                  NaN                  NaN           258.859712  \n",
       "2           265.366278           206.212716           262.169895  \n",
       "3           256.312090           208.634458           264.619665  \n",
       "4           260.892247           196.764414                  NaN  \n",
       "...                ...                  ...                  ...  \n",
       "1487        290.081407           227.598382           273.402640  \n",
       "1488        289.131257           223.123409           267.744778  \n",
       "1489        273.415854           217.316396           271.617023  \n",
       "1490        288.143144           219.612694           258.700304  \n",
       "1491        288.761812           226.831211           269.371456  \n",
       "\n",
       "[1492 rows x 25 columns]"
      ]
     },
     "execution_count": 74,
     "metadata": {},
     "output_type": "execute_result"
    },
    {
     "data": {
      "application/javascript": [
       "\n",
       "            setTimeout(function() {\n",
       "                var nbb_cell_id = 74;\n",
       "                var nbb_unformatted_code = \"df2\";\n",
       "                var nbb_formatted_code = \"df2\";\n",
       "                var nbb_cells = Jupyter.notebook.get_cells();\n",
       "                for (var i = 0; i < nbb_cells.length; ++i) {\n",
       "                    if (nbb_cells[i].input_prompt_number == nbb_cell_id) {\n",
       "                        if (nbb_cells[i].get_text() == nbb_unformatted_code) {\n",
       "                             nbb_cells[i].set_text(nbb_formatted_code);\n",
       "                        }\n",
       "                        break;\n",
       "                    }\n",
       "                }\n",
       "            }, 500);\n",
       "            "
      ],
      "text/plain": [
       "<IPython.core.display.Javascript object>"
      ]
     },
     "metadata": {},
     "output_type": "display_data"
    }
   ],
   "source": [
    "df2"
   ]
  },
  {
   "cell_type": "code",
   "execution_count": 22,
   "metadata": {
    "scrolled": true
   },
   "outputs": [
    {
     "data": {
      "application/javascript": [
       "\n",
       "            setTimeout(function() {\n",
       "                var nbb_cell_id = 22;\n",
       "                var nbb_unformatted_code = \"df2 = df2.interpolate(method=\\\"linear\\\")\";\n",
       "                var nbb_formatted_code = \"df2 = df2.interpolate(method=\\\"linear\\\")\";\n",
       "                var nbb_cells = Jupyter.notebook.get_cells();\n",
       "                for (var i = 0; i < nbb_cells.length; ++i) {\n",
       "                    if (nbb_cells[i].input_prompt_number == nbb_cell_id) {\n",
       "                        if (nbb_cells[i].get_text() == nbb_unformatted_code) {\n",
       "                             nbb_cells[i].set_text(nbb_formatted_code);\n",
       "                        }\n",
       "                        break;\n",
       "                    }\n",
       "                }\n",
       "            }, 500);\n",
       "            "
      ],
      "text/plain": [
       "<IPython.core.display.Javascript object>"
      ]
     },
     "metadata": {},
     "output_type": "display_data"
    }
   ],
   "source": []
  },
  {
   "cell_type": "code",
   "execution_count": 75,
   "metadata": {},
   "outputs": [
    {
     "data": {
      "application/javascript": [
       "\n",
       "            setTimeout(function() {\n",
       "                var nbb_cell_id = 75;\n",
       "                var nbb_unformatted_code = \"df3 = df.set_index([\\\"STATE\\\", \\\"YEAR\\\"]).sort_index()\\nfor col in fill_list:\\n    df3[col] = df3[col].interpolate(method=\\\"linear\\\")\";\n",
       "                var nbb_formatted_code = \"df3 = df.set_index([\\\"STATE\\\", \\\"YEAR\\\"]).sort_index()\\nfor col in fill_list:\\n    df3[col] = df3[col].interpolate(method=\\\"linear\\\")\";\n",
       "                var nbb_cells = Jupyter.notebook.get_cells();\n",
       "                for (var i = 0; i < nbb_cells.length; ++i) {\n",
       "                    if (nbb_cells[i].input_prompt_number == nbb_cell_id) {\n",
       "                        if (nbb_cells[i].get_text() == nbb_unformatted_code) {\n",
       "                             nbb_cells[i].set_text(nbb_formatted_code);\n",
       "                        }\n",
       "                        break;\n",
       "                    }\n",
       "                }\n",
       "            }, 500);\n",
       "            "
      ],
      "text/plain": [
       "<IPython.core.display.Javascript object>"
      ]
     },
     "metadata": {},
     "output_type": "display_data"
    }
   ],
   "source": [
    "df3 = df.set_index([\"STATE\", \"YEAR\"]).sort_index()\n",
    "for col in fill_list:\n",
    "    df3[col] = df3[col].interpolate(method=\"linear\")"
   ]
  },
  {
   "cell_type": "code",
   "execution_count": 78,
   "metadata": {
    "scrolled": false
   },
   "outputs": [
    {
     "name": "stdout",
     "output_type": "stream",
     "text": [
      "PRIMARY_KEY                     0.000000\n",
      "STATE                           0.000000\n",
      "YEAR                            0.000000\n",
      "ENROLL                          0.176273\n",
      "TOTAL_REVENUE                   0.142091\n",
      "FEDERAL_REVENUE                 0.142091\n",
      "STATE_REVENUE                   0.142091\n",
      "LOCAL_REVENUE                   0.142091\n",
      "TOTAL_EXPENDITURE               0.142091\n",
      "INSTRUCTION_EXPENDITURE         0.142091\n",
      "SUPPORT_SERVICES_EXPENDITURE    0.142091\n",
      "OTHER_EXPENDITURE               0.176273\n",
      "CAPITAL_OUTLAY_EXPENDITURE      0.142091\n",
      "GRADES_PK_G                     0.115952\n",
      "GRADES_KG_G                     0.088472\n",
      "GRADES_4_G                      0.087802\n",
      "GRADES_8_G                      0.087802\n",
      "GRADES_12_G                     0.087802\n",
      "GRADES_1_8_G                    0.087802\n",
      "GRADES_9_12_G                   0.087802\n",
      "GRADES_ALL_G                    0.115952\n",
      "AVG_MATH_4_SCORE                0.640751\n",
      "AVG_MATH_8_SCORE                0.643432\n",
      "AVG_READING_4_SCORE             0.642761\n",
      "AVG_READING_8_SCORE             0.666220\n",
      "dtype: float64\n",
      "PRIMARY_KEY                     0.0\n",
      "STATE                           0.0\n",
      "YEAR                            0.0\n",
      "ENROLL                          0.0\n",
      "TOTAL_REVENUE                   0.0\n",
      "FEDERAL_REVENUE                 0.0\n",
      "STATE_REVENUE                   0.0\n",
      "LOCAL_REVENUE                   0.0\n",
      "TOTAL_EXPENDITURE               0.0\n",
      "INSTRUCTION_EXPENDITURE         0.0\n",
      "SUPPORT_SERVICES_EXPENDITURE    0.0\n",
      "OTHER_EXPENDITURE               0.0\n",
      "CAPITAL_OUTLAY_EXPENDITURE      0.0\n",
      "GRADES_PK_G                     0.0\n",
      "GRADES_KG_G                     0.0\n",
      "GRADES_4_G                      0.0\n",
      "GRADES_8_G                      0.0\n",
      "GRADES_12_G                     0.0\n",
      "GRADES_1_8_G                    0.0\n",
      "GRADES_9_12_G                   0.0\n",
      "GRADES_ALL_G                    0.0\n",
      "AVG_MATH_4_SCORE                0.0\n",
      "AVG_MATH_8_SCORE                0.0\n",
      "AVG_READING_4_SCORE             0.0\n",
      "AVG_READING_8_SCORE             0.0\n",
      "dtype: float64\n",
      "PRIMARY_KEY                     0.000000\n",
      "ENROLL                          0.000670\n",
      "TOTAL_REVENUE                   0.000000\n",
      "FEDERAL_REVENUE                 0.000000\n",
      "STATE_REVENUE                   0.000000\n",
      "LOCAL_REVENUE                   0.000000\n",
      "TOTAL_EXPENDITURE               0.000000\n",
      "INSTRUCTION_EXPENDITURE         0.000000\n",
      "SUPPORT_SERVICES_EXPENDITURE    0.000000\n",
      "OTHER_EXPENDITURE               0.000670\n",
      "CAPITAL_OUTLAY_EXPENDITURE      0.000000\n",
      "GRADES_PK_G                     0.000000\n",
      "GRADES_KG_G                     0.000000\n",
      "GRADES_4_G                      0.000000\n",
      "GRADES_8_G                      0.000000\n",
      "GRADES_12_G                     0.000000\n",
      "GRADES_1_8_G                    0.000000\n",
      "GRADES_9_12_G                   0.000000\n",
      "GRADES_ALL_G                    0.000000\n",
      "AVG_MATH_4_SCORE                0.640751\n",
      "AVG_MATH_8_SCORE                0.643432\n",
      "AVG_READING_4_SCORE             0.642761\n",
      "AVG_READING_8_SCORE             0.666220\n",
      "dtype: float64\n"
     ]
    },
    {
     "data": {
      "application/javascript": [
       "\n",
       "            setTimeout(function() {\n",
       "                var nbb_cell_id = 78;\n",
       "                var nbb_unformatted_code = \"p_missing = df.isna().sum() / len(df)\\nprint(p_missing)\\np_missing2 = df2.isna().sum() / len(df2)\\nprint(p_missing2)\\np_missing3 = df3.isna().sum() / len(df3)\\nprint(p_missing3)\";\n",
       "                var nbb_formatted_code = \"p_missing = df.isna().sum() / len(df)\\nprint(p_missing)\\np_missing2 = df2.isna().sum() / len(df2)\\nprint(p_missing2)\\np_missing3 = df3.isna().sum() / len(df3)\\nprint(p_missing3)\";\n",
       "                var nbb_cells = Jupyter.notebook.get_cells();\n",
       "                for (var i = 0; i < nbb_cells.length; ++i) {\n",
       "                    if (nbb_cells[i].input_prompt_number == nbb_cell_id) {\n",
       "                        if (nbb_cells[i].get_text() == nbb_unformatted_code) {\n",
       "                             nbb_cells[i].set_text(nbb_formatted_code);\n",
       "                        }\n",
       "                        break;\n",
       "                    }\n",
       "                }\n",
       "            }, 500);\n",
       "            "
      ],
      "text/plain": [
       "<IPython.core.display.Javascript object>"
      ]
     },
     "metadata": {},
     "output_type": "display_data"
    }
   ],
   "source": [
    "p_missing = df.isna().sum() / len(df)\n",
    "print(p_missing)\n",
    "p_missing2 = df2.isna().sum() / len(df2)\n",
    "print(p_missing2)\n",
    "p_missing3 = df3.isna().sum() / len(df3)\n",
    "print(p_missing3)"
   ]
  },
  {
   "cell_type": "markdown",
   "metadata": {},
   "source": [
    "going to go with df2"
   ]
  },
  {
   "cell_type": "code",
   "execution_count": 77,
   "metadata": {},
   "outputs": [
    {
     "data": {
      "application/javascript": [
       "\n",
       "            setTimeout(function() {\n",
       "                var nbb_cell_id = 77;\n",
       "                var nbb_unformatted_code = \"df2=df2.dropna()\";\n",
       "                var nbb_formatted_code = \"df2 = df2.dropna()\";\n",
       "                var nbb_cells = Jupyter.notebook.get_cells();\n",
       "                for (var i = 0; i < nbb_cells.length; ++i) {\n",
       "                    if (nbb_cells[i].input_prompt_number == nbb_cell_id) {\n",
       "                        if (nbb_cells[i].get_text() == nbb_unformatted_code) {\n",
       "                             nbb_cells[i].set_text(nbb_formatted_code);\n",
       "                        }\n",
       "                        break;\n",
       "                    }\n",
       "                }\n",
       "            }, 500);\n",
       "            "
      ],
      "text/plain": [
       "<IPython.core.display.Javascript object>"
      ]
     },
     "metadata": {},
     "output_type": "display_data"
    }
   ],
   "source": [
    "df2 = df2.dropna() #should I do this if I'm getting rid of a lot of info due to missing avg math 4 scores etc?"
   ]
  },
  {
   "cell_type": "markdown",
   "metadata": {},
   "source": [
    "## 1 ##\n",
    "\n",
    "Derive the descriptive statistics of the data and discuss the points you find remarkable.\n"
   ]
  },
  {
   "cell_type": "code",
   "execution_count": 81,
   "metadata": {},
   "outputs": [
    {
     "data": {
      "text/html": [
       "<div>\n",
       "<style scoped>\n",
       "    .dataframe tbody tr th:only-of-type {\n",
       "        vertical-align: middle;\n",
       "    }\n",
       "\n",
       "    .dataframe tbody tr th {\n",
       "        vertical-align: top;\n",
       "    }\n",
       "\n",
       "    .dataframe thead th {\n",
       "        text-align: right;\n",
       "    }\n",
       "</style>\n",
       "<table border=\"1\" class=\"dataframe\">\n",
       "  <thead>\n",
       "    <tr style=\"text-align: right;\">\n",
       "      <th></th>\n",
       "      <th>YEAR</th>\n",
       "      <th>ENROLL</th>\n",
       "      <th>TOTAL_REVENUE</th>\n",
       "      <th>FEDERAL_REVENUE</th>\n",
       "      <th>STATE_REVENUE</th>\n",
       "      <th>LOCAL_REVENUE</th>\n",
       "      <th>TOTAL_EXPENDITURE</th>\n",
       "      <th>INSTRUCTION_EXPENDITURE</th>\n",
       "      <th>SUPPORT_SERVICES_EXPENDITURE</th>\n",
       "      <th>OTHER_EXPENDITURE</th>\n",
       "      <th>CAPITAL_OUTLAY_EXPENDITURE</th>\n",
       "      <th>GRADES_PK_G</th>\n",
       "      <th>GRADES_KG_G</th>\n",
       "      <th>GRADES_4_G</th>\n",
       "      <th>GRADES_8_G</th>\n",
       "      <th>GRADES_12_G</th>\n",
       "      <th>GRADES_1_8_G</th>\n",
       "      <th>GRADES_9_12_G</th>\n",
       "      <th>GRADES_ALL_G</th>\n",
       "      <th>AVG_MATH_4_SCORE</th>\n",
       "      <th>AVG_MATH_8_SCORE</th>\n",
       "      <th>AVG_READING_4_SCORE</th>\n",
       "      <th>AVG_READING_8_SCORE</th>\n",
       "    </tr>\n",
       "  </thead>\n",
       "  <tbody>\n",
       "    <tr>\n",
       "      <th>count</th>\n",
       "      <td>474.000000</td>\n",
       "      <td>4.740000e+02</td>\n",
       "      <td>4.740000e+02</td>\n",
       "      <td>4.740000e+02</td>\n",
       "      <td>4.740000e+02</td>\n",
       "      <td>4.740000e+02</td>\n",
       "      <td>4.740000e+02</td>\n",
       "      <td>4.740000e+02</td>\n",
       "      <td>4.740000e+02</td>\n",
       "      <td>4.740000e+02</td>\n",
       "      <td>4.740000e+02</td>\n",
       "      <td>474.000000</td>\n",
       "      <td>474.000000</td>\n",
       "      <td>474.000000</td>\n",
       "      <td>474.000000</td>\n",
       "      <td>474.000000</td>\n",
       "      <td>4.740000e+02</td>\n",
       "      <td>4.740000e+02</td>\n",
       "      <td>4.740000e+02</td>\n",
       "      <td>474.000000</td>\n",
       "      <td>474.000000</td>\n",
       "      <td>474.000000</td>\n",
       "      <td>474.000000</td>\n",
       "    </tr>\n",
       "    <tr>\n",
       "      <th>mean</th>\n",
       "      <td>2008.305907</td>\n",
       "      <td>9.372741e+05</td>\n",
       "      <td>1.066027e+07</td>\n",
       "      <td>9.443520e+05</td>\n",
       "      <td>4.939268e+06</td>\n",
       "      <td>4.776649e+06</td>\n",
       "      <td>1.073981e+07</td>\n",
       "      <td>5.569291e+06</td>\n",
       "      <td>3.143970e+06</td>\n",
       "      <td>4.860055e+05</td>\n",
       "      <td>1.027621e+06</td>\n",
       "      <td>22600.880802</td>\n",
       "      <td>71624.391350</td>\n",
       "      <td>72061.073840</td>\n",
       "      <td>72377.256329</td>\n",
       "      <td>64198.553797</td>\n",
       "      <td>5.798220e+05</td>\n",
       "      <td>2.843434e+05</td>\n",
       "      <td>8.868655e+05</td>\n",
       "      <td>236.541353</td>\n",
       "      <td>279.511266</td>\n",
       "      <td>219.305086</td>\n",
       "      <td>263.772645</td>\n",
       "    </tr>\n",
       "    <tr>\n",
       "      <th>std</th>\n",
       "      <td>6.096588</td>\n",
       "      <td>1.116386e+06</td>\n",
       "      <td>1.349093e+07</td>\n",
       "      <td>1.323201e+06</td>\n",
       "      <td>6.371508e+06</td>\n",
       "      <td>6.289604e+06</td>\n",
       "      <td>1.366273e+07</td>\n",
       "      <td>7.216198e+06</td>\n",
       "      <td>3.821114e+06</td>\n",
       "      <td>5.982040e+05</td>\n",
       "      <td>1.473734e+06</td>\n",
       "      <td>34398.045119</td>\n",
       "      <td>86560.294748</td>\n",
       "      <td>86032.057383</td>\n",
       "      <td>85378.231896</td>\n",
       "      <td>77119.042052</td>\n",
       "      <td>6.890279e+05</td>\n",
       "      <td>3.389602e+05</td>\n",
       "      <td>1.054524e+06</td>\n",
       "      <td>9.159956</td>\n",
       "      <td>9.695064</td>\n",
       "      <td>7.698038</td>\n",
       "      <td>6.834157</td>\n",
       "    </tr>\n",
       "    <tr>\n",
       "      <th>min</th>\n",
       "      <td>1992.000000</td>\n",
       "      <td>4.417900e+04</td>\n",
       "      <td>6.452330e+05</td>\n",
       "      <td>4.100700e+04</td>\n",
       "      <td>0.000000e+00</td>\n",
       "      <td>2.853100e+04</td>\n",
       "      <td>6.387840e+05</td>\n",
       "      <td>3.182600e+05</td>\n",
       "      <td>1.949150e+05</td>\n",
       "      <td>2.191000e+04</td>\n",
       "      <td>1.545200e+04</td>\n",
       "      <td>0.000000</td>\n",
       "      <td>4528.000000</td>\n",
       "      <td>3423.000000</td>\n",
       "      <td>2860.000000</td>\n",
       "      <td>2188.000000</td>\n",
       "      <td>2.676200e+04</td>\n",
       "      <td>9.970000e+03</td>\n",
       "      <td>3.682300e+04</td>\n",
       "      <td>187.134670</td>\n",
       "      <td>232.831510</td>\n",
       "      <td>178.557612</td>\n",
       "      <td>236.379102</td>\n",
       "    </tr>\n",
       "    <tr>\n",
       "      <th>25%</th>\n",
       "      <td>2005.000000</td>\n",
       "      <td>2.760008e+05</td>\n",
       "      <td>2.692582e+06</td>\n",
       "      <td>2.552252e+05</td>\n",
       "      <td>1.420028e+06</td>\n",
       "      <td>9.303528e+05</td>\n",
       "      <td>2.632913e+06</td>\n",
       "      <td>1.406720e+06</td>\n",
       "      <td>8.335698e+05</td>\n",
       "      <td>1.272472e+05</td>\n",
       "      <td>2.358938e+05</td>\n",
       "      <td>3641.000000</td>\n",
       "      <td>20956.500000</td>\n",
       "      <td>20433.500000</td>\n",
       "      <td>20792.000000</td>\n",
       "      <td>18503.250000</td>\n",
       "      <td>1.658642e+05</td>\n",
       "      <td>8.163050e+04</td>\n",
       "      <td>2.592820e+05</td>\n",
       "      <td>232.062602</td>\n",
       "      <td>274.436276</td>\n",
       "      <td>215.044071</td>\n",
       "      <td>259.762432</td>\n",
       "    </tr>\n",
       "    <tr>\n",
       "      <th>50%</th>\n",
       "      <td>2009.000000</td>\n",
       "      <td>6.617418e+05</td>\n",
       "      <td>6.073530e+06</td>\n",
       "      <td>5.352895e+05</td>\n",
       "      <td>2.994419e+06</td>\n",
       "      <td>2.386380e+06</td>\n",
       "      <td>6.180272e+06</td>\n",
       "      <td>3.167476e+06</td>\n",
       "      <td>1.864499e+06</td>\n",
       "      <td>3.213138e+05</td>\n",
       "      <td>5.971065e+05</td>\n",
       "      <td>12795.000000</td>\n",
       "      <td>50846.000000</td>\n",
       "      <td>50773.500000</td>\n",
       "      <td>49748.500000</td>\n",
       "      <td>41073.500000</td>\n",
       "      <td>4.051395e+05</td>\n",
       "      <td>1.844455e+05</td>\n",
       "      <td>6.231180e+05</td>\n",
       "      <td>238.289254</td>\n",
       "      <td>281.369105</td>\n",
       "      <td>220.928176</td>\n",
       "      <td>265.136000</td>\n",
       "    </tr>\n",
       "    <tr>\n",
       "      <th>75%</th>\n",
       "      <td>2013.000000</td>\n",
       "      <td>1.014565e+06</td>\n",
       "      <td>1.216828e+07</td>\n",
       "      <td>1.019738e+06</td>\n",
       "      <td>6.086358e+06</td>\n",
       "      <td>5.358207e+06</td>\n",
       "      <td>1.155368e+07</td>\n",
       "      <td>6.090734e+06</td>\n",
       "      <td>3.610797e+06</td>\n",
       "      <td>5.606970e+05</td>\n",
       "      <td>1.034928e+06</td>\n",
       "      <td>28669.500000</td>\n",
       "      <td>79396.000000</td>\n",
       "      <td>79576.000000</td>\n",
       "      <td>80848.000000</td>\n",
       "      <td>74952.000000</td>\n",
       "      <td>6.395600e+05</td>\n",
       "      <td>3.219040e+05</td>\n",
       "      <td>9.706720e+05</td>\n",
       "      <td>242.557845</td>\n",
       "      <td>286.154375</td>\n",
       "      <td>224.488094</td>\n",
       "      <td>268.275364</td>\n",
       "    </tr>\n",
       "    <tr>\n",
       "      <th>max</th>\n",
       "      <td>2017.000000</td>\n",
       "      <td>6.307022e+06</td>\n",
       "      <td>8.921726e+07</td>\n",
       "      <td>9.990221e+06</td>\n",
       "      <td>5.090457e+07</td>\n",
       "      <td>3.610526e+07</td>\n",
       "      <td>8.532013e+07</td>\n",
       "      <td>4.396452e+07</td>\n",
       "      <td>2.605802e+07</td>\n",
       "      <td>3.995951e+06</td>\n",
       "      <td>1.022366e+07</td>\n",
       "      <td>249524.000000</td>\n",
       "      <td>530531.000000</td>\n",
       "      <td>493415.000000</td>\n",
       "      <td>500143.000000</td>\n",
       "      <td>498403.000000</td>\n",
       "      <td>3.929869e+06</td>\n",
       "      <td>2.011865e+06</td>\n",
       "      <td>5.926631e+06</td>\n",
       "      <td>253.420961</td>\n",
       "      <td>300.568235</td>\n",
       "      <td>236.773867</td>\n",
       "      <td>280.499130</td>\n",
       "    </tr>\n",
       "  </tbody>\n",
       "</table>\n",
       "</div>"
      ],
      "text/plain": [
       "              YEAR        ENROLL  TOTAL_REVENUE  FEDERAL_REVENUE  \\\n",
       "count   474.000000  4.740000e+02   4.740000e+02     4.740000e+02   \n",
       "mean   2008.305907  9.372741e+05   1.066027e+07     9.443520e+05   \n",
       "std       6.096588  1.116386e+06   1.349093e+07     1.323201e+06   \n",
       "min    1992.000000  4.417900e+04   6.452330e+05     4.100700e+04   \n",
       "25%    2005.000000  2.760008e+05   2.692582e+06     2.552252e+05   \n",
       "50%    2009.000000  6.617418e+05   6.073530e+06     5.352895e+05   \n",
       "75%    2013.000000  1.014565e+06   1.216828e+07     1.019738e+06   \n",
       "max    2017.000000  6.307022e+06   8.921726e+07     9.990221e+06   \n",
       "\n",
       "       STATE_REVENUE  LOCAL_REVENUE  TOTAL_EXPENDITURE  \\\n",
       "count   4.740000e+02   4.740000e+02       4.740000e+02   \n",
       "mean    4.939268e+06   4.776649e+06       1.073981e+07   \n",
       "std     6.371508e+06   6.289604e+06       1.366273e+07   \n",
       "min     0.000000e+00   2.853100e+04       6.387840e+05   \n",
       "25%     1.420028e+06   9.303528e+05       2.632913e+06   \n",
       "50%     2.994419e+06   2.386380e+06       6.180272e+06   \n",
       "75%     6.086358e+06   5.358207e+06       1.155368e+07   \n",
       "max     5.090457e+07   3.610526e+07       8.532013e+07   \n",
       "\n",
       "       INSTRUCTION_EXPENDITURE  SUPPORT_SERVICES_EXPENDITURE  \\\n",
       "count             4.740000e+02                  4.740000e+02   \n",
       "mean              5.569291e+06                  3.143970e+06   \n",
       "std               7.216198e+06                  3.821114e+06   \n",
       "min               3.182600e+05                  1.949150e+05   \n",
       "25%               1.406720e+06                  8.335698e+05   \n",
       "50%               3.167476e+06                  1.864499e+06   \n",
       "75%               6.090734e+06                  3.610797e+06   \n",
       "max               4.396452e+07                  2.605802e+07   \n",
       "\n",
       "       OTHER_EXPENDITURE  CAPITAL_OUTLAY_EXPENDITURE    GRADES_PK_G  \\\n",
       "count       4.740000e+02                4.740000e+02     474.000000   \n",
       "mean        4.860055e+05                1.027621e+06   22600.880802   \n",
       "std         5.982040e+05                1.473734e+06   34398.045119   \n",
       "min         2.191000e+04                1.545200e+04       0.000000   \n",
       "25%         1.272472e+05                2.358938e+05    3641.000000   \n",
       "50%         3.213138e+05                5.971065e+05   12795.000000   \n",
       "75%         5.606970e+05                1.034928e+06   28669.500000   \n",
       "max         3.995951e+06                1.022366e+07  249524.000000   \n",
       "\n",
       "         GRADES_KG_G     GRADES_4_G     GRADES_8_G    GRADES_12_G  \\\n",
       "count     474.000000     474.000000     474.000000     474.000000   \n",
       "mean    71624.391350   72061.073840   72377.256329   64198.553797   \n",
       "std     86560.294748   86032.057383   85378.231896   77119.042052   \n",
       "min      4528.000000    3423.000000    2860.000000    2188.000000   \n",
       "25%     20956.500000   20433.500000   20792.000000   18503.250000   \n",
       "50%     50846.000000   50773.500000   49748.500000   41073.500000   \n",
       "75%     79396.000000   79576.000000   80848.000000   74952.000000   \n",
       "max    530531.000000  493415.000000  500143.000000  498403.000000   \n",
       "\n",
       "       GRADES_1_8_G  GRADES_9_12_G  GRADES_ALL_G  AVG_MATH_4_SCORE  \\\n",
       "count  4.740000e+02   4.740000e+02  4.740000e+02        474.000000   \n",
       "mean   5.798220e+05   2.843434e+05  8.868655e+05        236.541353   \n",
       "std    6.890279e+05   3.389602e+05  1.054524e+06          9.159956   \n",
       "min    2.676200e+04   9.970000e+03  3.682300e+04        187.134670   \n",
       "25%    1.658642e+05   8.163050e+04  2.592820e+05        232.062602   \n",
       "50%    4.051395e+05   1.844455e+05  6.231180e+05        238.289254   \n",
       "75%    6.395600e+05   3.219040e+05  9.706720e+05        242.557845   \n",
       "max    3.929869e+06   2.011865e+06  5.926631e+06        253.420961   \n",
       "\n",
       "       AVG_MATH_8_SCORE  AVG_READING_4_SCORE  AVG_READING_8_SCORE  \n",
       "count        474.000000           474.000000           474.000000  \n",
       "mean         279.511266           219.305086           263.772645  \n",
       "std            9.695064             7.698038             6.834157  \n",
       "min          232.831510           178.557612           236.379102  \n",
       "25%          274.436276           215.044071           259.762432  \n",
       "50%          281.369105           220.928176           265.136000  \n",
       "75%          286.154375           224.488094           268.275364  \n",
       "max          300.568235           236.773867           280.499130  "
      ]
     },
     "execution_count": 81,
     "metadata": {},
     "output_type": "execute_result"
    },
    {
     "data": {
      "application/javascript": [
       "\n",
       "            setTimeout(function() {\n",
       "                var nbb_cell_id = 81;\n",
       "                var nbb_unformatted_code = \"df2.describe()\";\n",
       "                var nbb_formatted_code = \"df2.describe()\";\n",
       "                var nbb_cells = Jupyter.notebook.get_cells();\n",
       "                for (var i = 0; i < nbb_cells.length; ++i) {\n",
       "                    if (nbb_cells[i].input_prompt_number == nbb_cell_id) {\n",
       "                        if (nbb_cells[i].get_text() == nbb_unformatted_code) {\n",
       "                             nbb_cells[i].set_text(nbb_formatted_code);\n",
       "                        }\n",
       "                        break;\n",
       "                    }\n",
       "                }\n",
       "            }, 500);\n",
       "            "
      ],
      "text/plain": [
       "<IPython.core.display.Javascript object>"
      ]
     },
     "metadata": {},
     "output_type": "display_data"
    }
   ],
   "source": [
    "df2.describe()"
   ]
  },
  {
   "cell_type": "markdown",
   "metadata": {},
   "source": [
    "Federal revenue is quite a bit smaller than state revenue which is about equal to local revenue, which makes sense since schools are usually locally funded.\n",
    "Average math scores are higher than average reading scores, but this doesn't mean too much since the grading scales are fairly arbitrary. "
   ]
  },
  {
   "cell_type": "markdown",
   "metadata": {},
   "source": [
    "## 2 ##\n",
    "Choose a state (e.g. California) and draw a line graph of its total revenues and total expenditures along the years. How do these 2 variables evolve during the years? Try to explain the peaks and troughs with some state-wise news and information around those dates.\n"
   ]
  },
  {
   "cell_type": "code",
   "execution_count": 85,
   "metadata": {},
   "outputs": [
    {
     "data": {
      "text/html": [
       "<div>\n",
       "<style scoped>\n",
       "    .dataframe tbody tr th:only-of-type {\n",
       "        vertical-align: middle;\n",
       "    }\n",
       "\n",
       "    .dataframe tbody tr th {\n",
       "        vertical-align: top;\n",
       "    }\n",
       "\n",
       "    .dataframe thead th {\n",
       "        text-align: right;\n",
       "    }\n",
       "</style>\n",
       "<table border=\"1\" class=\"dataframe\">\n",
       "  <thead>\n",
       "    <tr style=\"text-align: right;\">\n",
       "      <th></th>\n",
       "      <th>YEAR</th>\n",
       "      <th>TOTAL_REVENUE</th>\n",
       "      <th>TOTAL_EXPENDITURE</th>\n",
       "    </tr>\n",
       "  </thead>\n",
       "  <tbody>\n",
       "    <tr>\n",
       "      <th>213</th>\n",
       "      <td>1996</td>\n",
       "      <td>31282981.0</td>\n",
       "      <td>31561692.0</td>\n",
       "    </tr>\n",
       "    <tr>\n",
       "      <th>420</th>\n",
       "      <td>2000</td>\n",
       "      <td>46628207.0</td>\n",
       "      <td>45829753.0</td>\n",
       "    </tr>\n",
       "    <tr>\n",
       "      <th>576</th>\n",
       "      <td>2003</td>\n",
       "      <td>59815855.0</td>\n",
       "      <td>59749885.0</td>\n",
       "    </tr>\n",
       "    <tr>\n",
       "      <th>680</th>\n",
       "      <td>2005</td>\n",
       "      <td>62171797.0</td>\n",
       "      <td>66196072.0</td>\n",
       "    </tr>\n",
       "    <tr>\n",
       "      <th>784</th>\n",
       "      <td>2007</td>\n",
       "      <td>72516936.0</td>\n",
       "      <td>73225422.0</td>\n",
       "    </tr>\n",
       "  </tbody>\n",
       "</table>\n",
       "</div>"
      ],
      "text/plain": [
       "     YEAR  TOTAL_REVENUE  TOTAL_EXPENDITURE\n",
       "213  1996     31282981.0         31561692.0\n",
       "420  2000     46628207.0         45829753.0\n",
       "576  2003     59815855.0         59749885.0\n",
       "680  2005     62171797.0         66196072.0\n",
       "784  2007     72516936.0         73225422.0"
      ]
     },
     "execution_count": 85,
     "metadata": {},
     "output_type": "execute_result"
    },
    {
     "data": {
      "application/javascript": [
       "\n",
       "            setTimeout(function() {\n",
       "                var nbb_cell_id = 85;\n",
       "                var nbb_unformatted_code = \"cal_revexp = df2.loc[df2['STATE']=='CALIFORNIA',['YEAR',\\\"TOTAL_REVENUE\\\", \\\"TOTAL_EXPENDITURE\\\"]]\\ncal_revexp.head()\";\n",
       "                var nbb_formatted_code = \"cal_revexp = df2.loc[\\n    df2[\\\"STATE\\\"] == \\\"CALIFORNIA\\\", [\\\"YEAR\\\", \\\"TOTAL_REVENUE\\\", \\\"TOTAL_EXPENDITURE\\\"]\\n]\\ncal_revexp.head()\";\n",
       "                var nbb_cells = Jupyter.notebook.get_cells();\n",
       "                for (var i = 0; i < nbb_cells.length; ++i) {\n",
       "                    if (nbb_cells[i].input_prompt_number == nbb_cell_id) {\n",
       "                        if (nbb_cells[i].get_text() == nbb_unformatted_code) {\n",
       "                             nbb_cells[i].set_text(nbb_formatted_code);\n",
       "                        }\n",
       "                        break;\n",
       "                    }\n",
       "                }\n",
       "            }, 500);\n",
       "            "
      ],
      "text/plain": [
       "<IPython.core.display.Javascript object>"
      ]
     },
     "metadata": {},
     "output_type": "display_data"
    }
   ],
   "source": [
    "cal_revexp = df2.loc[\n",
    "    df2[\"STATE\"] == \"CALIFORNIA\", [\"YEAR\", \"TOTAL_REVENUE\", \"TOTAL_EXPENDITURE\"]\n",
    "]\n",
    "cal_revexp.head()"
   ]
  },
  {
   "cell_type": "code",
   "execution_count": 91,
   "metadata": {},
   "outputs": [
    {
     "data": {
      "image/png": "[encoded data removed]",
      "text/plain": [
       "<Figure size 432x288 with 1 Axes>"
      ]
     },
     "metadata": {
      "needs_background": "light"
     },
     "output_type": "display_data"
    },
    {
     "data": {
      "application/javascript": [
       "\n",
       "            setTimeout(function() {\n",
       "                var nbb_cell_id = 91;\n",
       "                var nbb_unformatted_code = \"plt.plot(cal_revexp[\\\"YEAR\\\"], cal_revexp[\\\"TOTAL_REVENUE\\\"], label='total rev')\\nplt.plot(cal_revexp[\\\"YEAR\\\"], cal_revexp[\\\"TOTAL_EXPENDITURE\\\"], label='total exp')\\nplt.legend()\\nplt.show()\";\n",
       "                var nbb_formatted_code = \"plt.plot(cal_revexp[\\\"YEAR\\\"], cal_revexp[\\\"TOTAL_REVENUE\\\"], label=\\\"total rev\\\")\\nplt.plot(cal_revexp[\\\"YEAR\\\"], cal_revexp[\\\"TOTAL_EXPENDITURE\\\"], label=\\\"total exp\\\")\\nplt.legend()\\nplt.show()\";\n",
       "                var nbb_cells = Jupyter.notebook.get_cells();\n",
       "                for (var i = 0; i < nbb_cells.length; ++i) {\n",
       "                    if (nbb_cells[i].input_prompt_number == nbb_cell_id) {\n",
       "                        if (nbb_cells[i].get_text() == nbb_unformatted_code) {\n",
       "                             nbb_cells[i].set_text(nbb_formatted_code);\n",
       "                        }\n",
       "                        break;\n",
       "                    }\n",
       "                }\n",
       "            }, 500);\n",
       "            "
      ],
      "text/plain": [
       "<IPython.core.display.Javascript object>"
      ]
     },
     "metadata": {},
     "output_type": "display_data"
    }
   ],
   "source": [
    "plt.plot(cal_revexp[\"YEAR\"], cal_revexp[\"TOTAL_REVENUE\"], label=\"total rev\")\n",
    "plt.plot(cal_revexp[\"YEAR\"], cal_revexp[\"TOTAL_EXPENDITURE\"], label=\"total exp\")\n",
    "plt.legend()\n",
    "plt.show()"
   ]
  },
  {
   "cell_type": "markdown",
   "metadata": {},
   "source": [
    "There's a generally increasing curve, but you can also see the effects of the Great Recession and the resulting fall in property taxes used to fund schools. Eventually there was a rebound around 2013 or so"
   ]
  },
  {
   "cell_type": "markdown",
   "metadata": {},
   "source": [
    "### 3 ###\n",
    "In your chosen state, which of the lessons are the students more successful, math or reading?\n"
   ]
  },
  {
   "cell_type": "code",
   "execution_count": 99,
   "metadata": {},
   "outputs": [
    {
     "data": {
      "application/javascript": [
       "\n",
       "            setTimeout(function() {\n",
       "                var nbb_cell_id = 99;\n",
       "                var nbb_unformatted_code = \"cal = df2[df2[\\\"STATE\\\"] == \\\"CALIFORNIA\\\"]\\ncal[\\\"ScoreDiff4\\\"] = cal[\\\"AVG_MATH_4_SCORE\\\"] - cal[\\\"AVG_READING_4_SCORE\\\"]\\ncal[\\\"ScoreDiff8\\\"] = cal[\\\"AVG_MATH_8_SCORE\\\"] - cal[\\\"AVG_READING_8_SCORE\\\"]\";\n",
       "                var nbb_formatted_code = \"cal = df2[df2[\\\"STATE\\\"] == \\\"CALIFORNIA\\\"]\\ncal[\\\"ScoreDiff4\\\"] = cal[\\\"AVG_MATH_4_SCORE\\\"] - cal[\\\"AVG_READING_4_SCORE\\\"]\\ncal[\\\"ScoreDiff8\\\"] = cal[\\\"AVG_MATH_8_SCORE\\\"] - cal[\\\"AVG_READING_8_SCORE\\\"]\";\n",
       "                var nbb_cells = Jupyter.notebook.get_cells();\n",
       "                for (var i = 0; i < nbb_cells.length; ++i) {\n",
       "                    if (nbb_cells[i].input_prompt_number == nbb_cell_id) {\n",
       "                        if (nbb_cells[i].get_text() == nbb_unformatted_code) {\n",
       "                             nbb_cells[i].set_text(nbb_formatted_code);\n",
       "                        }\n",
       "                        break;\n",
       "                    }\n",
       "                }\n",
       "            }, 500);\n",
       "            "
      ],
      "text/plain": [
       "<IPython.core.display.Javascript object>"
      ]
     },
     "metadata": {},
     "output_type": "display_data"
    }
   ],
   "source": [
    "cal = df2[df2[\"STATE\"] == \"CALIFORNIA\"]\n",
    "cal[\"ScoreDiff4\"] = cal[\"AVG_MATH_4_SCORE\"] - cal[\"AVG_READING_4_SCORE\"]\n",
    "cal[\"ScoreDiff8\"] = cal[\"AVG_MATH_8_SCORE\"] - cal[\"AVG_READING_8_SCORE\"]\n"
   ]
  },
  {
   "cell_type": "code",
   "execution_count": 106,
   "metadata": {},
   "outputs": [
    {
     "data": {
      "image/png": "[encoded data removed]",
      "text/plain": [
       "<Figure size 432x288 with 1 Axes>"
      ]
     },
     "metadata": {
      "needs_background": "light"
     },
     "output_type": "display_data"
    },
    {
     "data": {
      "application/javascript": [
       "\n",
       "            setTimeout(function() {\n",
       "                var nbb_cell_id = 106;\n",
       "                var nbb_unformatted_code = \"plt.plot(cal[\\\"YEAR\\\"], cal[\\\"ScoreDiff4\\\"], label=\\\"Math - Reading 4\\\")\\nplt.plot(cal[\\\"YEAR\\\"], cal[\\\"ScoreDiff8\\\"], label=\\\"Math - Reading 8\\\")\\nplt.legend()\\nplt.show()\";\n",
       "                var nbb_formatted_code = \"plt.plot(cal[\\\"YEAR\\\"], cal[\\\"ScoreDiff4\\\"], label=\\\"Math - Reading 4\\\")\\nplt.plot(cal[\\\"YEAR\\\"], cal[\\\"ScoreDiff8\\\"], label=\\\"Math - Reading 8\\\")\\nplt.legend()\\nplt.show()\";\n",
       "                var nbb_cells = Jupyter.notebook.get_cells();\n",
       "                for (var i = 0; i < nbb_cells.length; ++i) {\n",
       "                    if (nbb_cells[i].input_prompt_number == nbb_cell_id) {\n",
       "                        if (nbb_cells[i].get_text() == nbb_unformatted_code) {\n",
       "                             nbb_cells[i].set_text(nbb_formatted_code);\n",
       "                        }\n",
       "                        break;\n",
       "                    }\n",
       "                }\n",
       "            }, 500);\n",
       "            "
      ],
      "text/plain": [
       "<IPython.core.display.Javascript object>"
      ]
     },
     "metadata": {},
     "output_type": "display_data"
    }
   ],
   "source": [
    "plt.plot(cal[\"YEAR\"], cal[\"ScoreDiff4\"], label=\"Math - Reading 4\")\n",
    "plt.plot(cal[\"YEAR\"], cal[\"ScoreDiff8\"], label=\"Math - Reading 8\")\n",
    "plt.legend()\n",
    "plt.show()"
   ]
  },
  {
   "cell_type": "markdown",
   "metadata": {},
   "source": [
    "Seems like they're mostly better at math. Again, this completely depends on the scale that is used to measure ability. Is the math test just easier than the reading test?? The differences do narrow as the kids get older though."
   ]
  },
  {
   "cell_type": "markdown",
   "metadata": {},
   "source": [
    "## 4 ##\n",
    "\n",
    "What are the distributions of the math and reading scores in the sample?¶\n"
   ]
  },
  {
   "cell_type": "code",
   "execution_count": 110,
   "metadata": {},
   "outputs": [
    {
     "data": {
      "image/png": "[encoded data removed]",
      "text/plain": [
       "<Figure size 432x288 with 1 Axes>"
      ]
     },
     "metadata": {
      "needs_background": "light"
     },
     "output_type": "display_data"
    },
    {
     "data": {
      "image/png": "[encoded data removed]",
      "text/plain": [
       "<Figure size 432x288 with 1 Axes>"
      ]
     },
     "metadata": {
      "needs_background": "light"
     },
     "output_type": "display_data"
    },
    {
     "data": {
      "image/png": "[encoded data removed]",
      "text/plain": [
       "<Figure size 432x288 with 1 Axes>"
      ]
     },
     "metadata": {
      "needs_background": "light"
     },
     "output_type": "display_data"
    },
    {
     "data": {
      "image/png": "[encoded data removed]",
      "text/plain": [
       "<Figure size 432x288 with 1 Axes>"
      ]
     },
     "metadata": {
      "needs_background": "light"
     },
     "output_type": "display_data"
    },
    {
     "data": {
      "application/javascript": [
       "\n",
       "            setTimeout(function() {\n",
       "                var nbb_cell_id = 110;\n",
       "                var nbb_unformatted_code = \"plt.hist(df2[\\\"AVG_MATH_4_SCORE\\\"])\\nplt.title(\\\"AVG_MATH_4_SCORE\\\")\\nplt.show()\\n\\nplt.hist(df2[\\\"AVG_MATH_8_SCORE\\\"])\\nplt.title(\\\"AVG_MATH_8_SCORE\\\")\\nplt.show()\\n\\nplt.hist(df2[\\\"AVG_READING_4_SCORE\\\"])\\nplt.title(\\\"AVG_READING_4_SCORE\\\")\\nplt.show()\\n\\nplt.hist(df2[\\\"AVG_READING_8_SCORE\\\"])\\nplt.title(\\\"AVG_READING_8_SCORE\\\")\\nplt.show()\";\n",
       "                var nbb_formatted_code = \"plt.hist(df2[\\\"AVG_MATH_4_SCORE\\\"])\\nplt.title(\\\"AVG_MATH_4_SCORE\\\")\\nplt.show()\\n\\nplt.hist(df2[\\\"AVG_MATH_8_SCORE\\\"])\\nplt.title(\\\"AVG_MATH_8_SCORE\\\")\\nplt.show()\\n\\nplt.hist(df2[\\\"AVG_READING_4_SCORE\\\"])\\nplt.title(\\\"AVG_READING_4_SCORE\\\")\\nplt.show()\\n\\nplt.hist(df2[\\\"AVG_READING_8_SCORE\\\"])\\nplt.title(\\\"AVG_READING_8_SCORE\\\")\\nplt.show()\";\n",
       "                var nbb_cells = Jupyter.notebook.get_cells();\n",
       "                for (var i = 0; i < nbb_cells.length; ++i) {\n",
       "                    if (nbb_cells[i].input_prompt_number == nbb_cell_id) {\n",
       "                        if (nbb_cells[i].get_text() == nbb_unformatted_code) {\n",
       "                             nbb_cells[i].set_text(nbb_formatted_code);\n",
       "                        }\n",
       "                        break;\n",
       "                    }\n",
       "                }\n",
       "            }, 500);\n",
       "            "
      ],
      "text/plain": [
       "<IPython.core.display.Javascript object>"
      ]
     },
     "metadata": {},
     "output_type": "display_data"
    }
   ],
   "source": [
    "plt.hist(df2[\"AVG_MATH_4_SCORE\"])\n",
    "plt.title(\"AVG_MATH_4_SCORE\")\n",
    "plt.show()\n",
    "\n",
    "plt.hist(df2[\"AVG_MATH_8_SCORE\"])\n",
    "plt.title(\"AVG_MATH_8_SCORE\")\n",
    "plt.show()\n",
    "\n",
    "plt.hist(df2[\"AVG_READING_4_SCORE\"])\n",
    "plt.title(\"AVG_READING_4_SCORE\")\n",
    "plt.show()\n",
    "\n",
    "plt.hist(df2[\"AVG_READING_8_SCORE\"])\n",
    "plt.title(\"AVG_READING_8_SCORE\")\n",
    "plt.show()"
   ]
  },
  {
   "cell_type": "markdown",
   "metadata": {},
   "source": [
    "They all have a bit of a left-skew"
   ]
  },
  {
   "cell_type": "markdown",
   "metadata": {},
   "source": [
    "## 5 ##\n",
    "\n",
    "Notice that there are too many missing values for math and reading scores. Fill out the missing values using mean, median and linear interpolation. Then compare the effects of these techniques on the distributions of the score variables.¶\n"
   ]
  },
  {
   "cell_type": "code",
   "execution_count": 121,
   "metadata": {},
   "outputs": [
    {
     "data": {
      "application/javascript": [
       "\n",
       "            setTimeout(function() {\n",
       "                var nbb_cell_id = 121;\n",
       "                var nbb_unformatted_code = \"df3 = df.copy()\\ninterpolate = df3[\\n    [\\n        \\\"STATE\\\",\\n        \\\"YEAR\\\",\\n        \\\"AVG_MATH_4_SCORE\\\",\\n        \\\"AVG_MATH_8_SCORE\\\",\\n        \\\"AVG_READING_4_SCORE\\\",\\n        \\\"AVG_READING_8_SCORE\\\",\\n    ]\\n]\\nscore_metrics=[\\\"AVG_MATH_4_SCORE\\\",\\n        \\\"AVG_MATH_8_SCORE\\\",\\n        \\\"AVG_READING_4_SCORE\\\",\\n        \\\"AVG_READING_8_SCORE\\\",]\\nstates = interpolate[\\\"STATE\\\"].unique()\";\n",
       "                var nbb_formatted_code = \"df3 = df.copy()\\ninterpolate = df3[\\n    [\\n        \\\"STATE\\\",\\n        \\\"YEAR\\\",\\n        \\\"AVG_MATH_4_SCORE\\\",\\n        \\\"AVG_MATH_8_SCORE\\\",\\n        \\\"AVG_READING_4_SCORE\\\",\\n        \\\"AVG_READING_8_SCORE\\\",\\n    ]\\n]\\nscore_metrics = [\\n    \\\"AVG_MATH_4_SCORE\\\",\\n    \\\"AVG_MATH_8_SCORE\\\",\\n    \\\"AVG_READING_4_SCORE\\\",\\n    \\\"AVG_READING_8_SCORE\\\",\\n]\\nstates = interpolate[\\\"STATE\\\"].unique()\";\n",
       "                var nbb_cells = Jupyter.notebook.get_cells();\n",
       "                for (var i = 0; i < nbb_cells.length; ++i) {\n",
       "                    if (nbb_cells[i].input_prompt_number == nbb_cell_id) {\n",
       "                        if (nbb_cells[i].get_text() == nbb_unformatted_code) {\n",
       "                             nbb_cells[i].set_text(nbb_formatted_code);\n",
       "                        }\n",
       "                        break;\n",
       "                    }\n",
       "                }\n",
       "            }, 500);\n",
       "            "
      ],
      "text/plain": [
       "<IPython.core.display.Javascript object>"
      ]
     },
     "metadata": {},
     "output_type": "display_data"
    }
   ],
   "source": [
    "df3 = df.copy()\n",
    "interpolate = df3[\n",
    "    [\n",
    "        \"STATE\",\n",
    "        \"YEAR\",\n",
    "        \"AVG_MATH_4_SCORE\",\n",
    "        \"AVG_MATH_8_SCORE\",\n",
    "        \"AVG_READING_4_SCORE\",\n",
    "        \"AVG_READING_8_SCORE\",\n",
    "    ]\n",
    "]\n",
    "score_metrics = [\n",
    "    \"AVG_MATH_4_SCORE\",\n",
    "    \"AVG_MATH_8_SCORE\",\n",
    "    \"AVG_READING_4_SCORE\",\n",
    "    \"AVG_READING_8_SCORE\",\n",
    "]\n",
    "states = interpolate[\"STATE\"].unique()"
   ]
  },
  {
   "cell_type": "code",
   "execution_count": 122,
   "metadata": {},
   "outputs": [
    {
     "data": {
      "application/javascript": [
       "\n",
       "            setTimeout(function() {\n",
       "                var nbb_cell_id = 122;\n",
       "                var nbb_unformatted_code = \"for state in states:\\n    interpolate.loc[df3[\\\"STATE\\\"] == state] = interpolate.loc[\\n        df3[\\\"STATE\\\"] == state\\n    ].interpolate()\";\n",
       "                var nbb_formatted_code = \"for state in states:\\n    interpolate.loc[df3[\\\"STATE\\\"] == state] = interpolate.loc[\\n        df3[\\\"STATE\\\"] == state\\n    ].interpolate()\";\n",
       "                var nbb_cells = Jupyter.notebook.get_cells();\n",
       "                for (var i = 0; i < nbb_cells.length; ++i) {\n",
       "                    if (nbb_cells[i].input_prompt_number == nbb_cell_id) {\n",
       "                        if (nbb_cells[i].get_text() == nbb_unformatted_code) {\n",
       "                             nbb_cells[i].set_text(nbb_formatted_code);\n",
       "                        }\n",
       "                        break;\n",
       "                    }\n",
       "                }\n",
       "            }, 500);\n",
       "            "
      ],
      "text/plain": [
       "<IPython.core.display.Javascript object>"
      ]
     },
     "metadata": {},
     "output_type": "display_data"
    }
   ],
   "source": [
    "for state in states:\n",
    "    interpolate.loc[df3[\"STATE\"] == state] = interpolate.loc[\n",
    "        df3[\"STATE\"] == state\n",
    "    ].interpolate()"
   ]
  },
  {
   "cell_type": "code",
   "execution_count": 120,
   "metadata": {},
   "outputs": [
    {
     "name": "stdout",
     "output_type": "stream",
     "text": [
      "<class 'pandas.core.frame.DataFrame'>\n",
      "RangeIndex: 1492 entries, 0 to 1491\n",
      "Data columns (total 6 columns):\n",
      " #   Column               Non-Null Count  Dtype  \n",
      "---  ------               --------------  -----  \n",
      " 0   STATE                1492 non-null   object \n",
      " 1   YEAR                 1492 non-null   int64  \n",
      " 2   AVG_MATH_4_SCORE     1277 non-null   float64\n",
      " 3   AVG_MATH_8_SCORE     1273 non-null   float64\n",
      " 4   AVG_READING_4_SCORE  1250 non-null   float64\n",
      " 5   AVG_READING_8_SCORE  1097 non-null   float64\n",
      "dtypes: float64(4), int64(1), object(1)\n",
      "memory usage: 70.1+ KB\n"
     ]
    },
    {
     "data": {
      "application/javascript": [
       "\n",
       "            setTimeout(function() {\n",
       "                var nbb_cell_id = 120;\n",
       "                var nbb_unformatted_code = \"interpolate.info()\";\n",
       "                var nbb_formatted_code = \"interpolate.info()\";\n",
       "                var nbb_cells = Jupyter.notebook.get_cells();\n",
       "                for (var i = 0; i < nbb_cells.length; ++i) {\n",
       "                    if (nbb_cells[i].input_prompt_number == nbb_cell_id) {\n",
       "                        if (nbb_cells[i].get_text() == nbb_unformatted_code) {\n",
       "                             nbb_cells[i].set_text(nbb_formatted_code);\n",
       "                        }\n",
       "                        break;\n",
       "                    }\n",
       "                }\n",
       "            }, 500);\n",
       "            "
      ],
      "text/plain": [
       "<IPython.core.display.Javascript object>"
      ]
     },
     "metadata": {},
     "output_type": "display_data"
    }
   ],
   "source": [
    "interpolate.info()"
   ]
  },
  {
   "cell_type": "code",
   "execution_count": 131,
   "metadata": {
    "scrolled": false
   },
   "outputs": [
    {
     "data": {
      "image/png": "[encoded data removed]",
      "text/plain": [
       "<Figure size 432x288 with 1 Axes>"
      ]
     },
     "metadata": {
      "needs_background": "light"
     },
     "output_type": "display_data"
    },
    {
     "data": {
      "image/png": "[encoded data removed]",
      "text/plain": [
       "<Figure size 432x288 with 1 Axes>"
      ]
     },
     "metadata": {
      "needs_background": "light"
     },
     "output_type": "display_data"
    },
    {
     "data": {
      "image/png": "[encoded data removed]",
      "text/plain": [
       "<Figure size 432x288 with 1 Axes>"
      ]
     },
     "metadata": {
      "needs_background": "light"
     },
     "output_type": "display_data"
    },
    {
     "data": {
      "image/png": "[encoded data removed]",
      "text/plain": [
       "<Figure size 432x288 with 1 Axes>"
      ]
     },
     "metadata": {
      "needs_background": "light"
     },
     "output_type": "display_data"
    },
    {
     "data": {
      "image/png": "[encoded data removed]",
      "text/plain": [
       "<Figure size 432x288 with 1 Axes>"
      ]
     },
     "metadata": {
      "needs_background": "light"
     },
     "output_type": "display_data"
    },
    {
     "data": {
      "image/png": "[encoded data removed]",
      "text/plain": [
       "<Figure size 432x288 with 1 Axes>"
      ]
     },
     "metadata": {
      "needs_background": "light"
     },
     "output_type": "display_data"
    },
    {
     "data": {
      "image/png": "[encoded data removed]",
      "text/plain": [
       "<Figure size 432x288 with 1 Axes>"
      ]
     },
     "metadata": {
      "needs_background": "light"
     },
     "output_type": "display_data"
    },
    {
     "data": {
      "image/png": "[encoded data removed]",
      "text/plain": [
       "<Figure size 432x288 with 1 Axes>"
      ]
     },
     "metadata": {
      "needs_background": "light"
     },
     "output_type": "display_data"
    },
    {
     "data": {
      "image/png": "[encoded data removed]",
      "text/plain": [
       "<Figure size 432x288 with 1 Axes>"
      ]
     },
     "metadata": {
      "needs_background": "light"
     },
     "output_type": "display_data"
    },
    {
     "data": {
      "image/png": "[encoded data removed]",
      "text/plain": [
       "<Figure size 432x288 with 1 Axes>"
      ]
     },
     "metadata": {
      "needs_background": "light"
     },
     "output_type": "display_data"
    },
    {
     "data": {
      "image/png": "[encoded data removed]",
      "text/plain": [
       "<Figure size 432x288 with 1 Axes>"
      ]
     },
     "metadata": {
      "needs_background": "light"
     },
     "output_type": "display_data"
    },
    {
     "data": {
      "image/png": "[encoded data removed]",
      "text/plain": [
       "<Figure size 432x288 with 1 Axes>"
      ]
     },
     "metadata": {
      "needs_background": "light"
     },
     "output_type": "display_data"
    },
    {
     "data": {
      "image/png": "[encoded data removed]",
      "text/plain": [
       "<Figure size 432x288 with 1 Axes>"
      ]
     },
     "metadata": {
      "needs_background": "light"
     },
     "output_type": "display_data"
    },
    {
     "data": {
      "image/png": "[encoded data removed]",
      "text/plain": [
       "<Figure size 432x288 with 1 Axes>"
      ]
     },
     "metadata": {
      "needs_background": "light"
     },
     "output_type": "display_data"
    },
    {
     "data": {
      "image/png": "[encoded data removed]",
      "text/plain": [
       "<Figure size 432x288 with 1 Axes>"
      ]
     },
     "metadata": {
      "needs_background": "light"
     },
     "output_type": "display_data"
    },
    {
     "data": {
      "image/png": "[encoded data removed]",
      "text/plain": [
       "<Figure size 432x288 with 1 Axes>"
      ]
     },
     "metadata": {
      "needs_background": "light"
     },
     "output_type": "display_data"
    },
    {
     "data": {
      "application/javascript": [
       "\n",
       "            setTimeout(function() {\n",
       "                var nbb_cell_id = 131;\n",
       "                var nbb_unformatted_code = \"for metric in score_metrics:\\n    plt.hist(interpolate[metric])\\n    plt.title(\\\"Interpolated \\\" + metric)\\n    plt.show()\\n\\n    plt.hist(df[metric])\\n    plt.title(\\\"Original \\\" + metric)\\n    plt.show()\\n    \\n    plt.hist(df[metric].fillna(df[metric].median()))\\n    plt.title(\\\"Median filled \\\" + metric)\\n    plt.show()\\n    \\n    plt.hist(df[metric].fillna(df[metric].mean()))\\n    plt.title(\\\"Mean filled \\\" + metric)\\n    plt.show()\";\n",
       "                var nbb_formatted_code = \"for metric in score_metrics:\\n    plt.hist(interpolate[metric])\\n    plt.title(\\\"Interpolated \\\" + metric)\\n    plt.show()\\n\\n    plt.hist(df[metric])\\n    plt.title(\\\"Original \\\" + metric)\\n    plt.show()\\n\\n    plt.hist(df[metric].fillna(df[metric].median()))\\n    plt.title(\\\"Median filled \\\" + metric)\\n    plt.show()\\n\\n    plt.hist(df[metric].fillna(df[metric].mean()))\\n    plt.title(\\\"Mean filled \\\" + metric)\\n    plt.show()\";\n",
       "                var nbb_cells = Jupyter.notebook.get_cells();\n",
       "                for (var i = 0; i < nbb_cells.length; ++i) {\n",
       "                    if (nbb_cells[i].input_prompt_number == nbb_cell_id) {\n",
       "                        if (nbb_cells[i].get_text() == nbb_unformatted_code) {\n",
       "                             nbb_cells[i].set_text(nbb_formatted_code);\n",
       "                        }\n",
       "                        break;\n",
       "                    }\n",
       "                }\n",
       "            }, 500);\n",
       "            "
      ],
      "text/plain": [
       "<IPython.core.display.Javascript object>"
      ]
     },
     "metadata": {},
     "output_type": "display_data"
    }
   ],
   "source": [
    "for metric in score_metrics:\n",
    "    plt.hist(interpolate[metric])\n",
    "    plt.title(\"Interpolated \" + metric)\n",
    "    plt.show()\n",
    "\n",
    "    plt.hist(df[metric])\n",
    "    plt.title(\"Original \" + metric)\n",
    "    plt.show()\n",
    "    \n",
    "    plt.hist(df[metric].fillna(df[metric].median()))\n",
    "    plt.title(\"Median filled \" + metric)\n",
    "    plt.show()\n",
    "    \n",
    "    plt.hist(df[metric].fillna(df[metric].mean()))\n",
    "    plt.title(\"Mean filled \" + metric)\n",
    "    plt.show()\n"
   ]
  },
  {
   "cell_type": "markdown",
   "metadata": {},
   "source": [
    "Obviously you see these huge peaks at the median/mean hwere you filled the na values. Though it doesn't affect teh corresponding statistic, it would reduce the standard deviation and change the descriptive statistics of the subgroups. interpolation seems more natural."
   ]
  },
  {
   "cell_type": "code",
   "execution_count": null,
   "metadata": {},
   "outputs": [],
   "source": []
  }
 ],
 "metadata": {
  "kernelspec": {
   "display_name": "Python 3",
   "language": "python",
   "name": "python3"
  },
  "language_info": {
   "codemirror_mode": {
    "name": "ipython",
    "version": 3
   },
   "file_extension": ".py",
   "mimetype": "text/x-python",
   "name": "python",
   "nbconvert_exporter": "python",
   "pygments_lexer": "ipython3",
   "version": "3.7.6"
  }
 },
 "nbformat": 4,
 "nbformat_minor": 4
}
