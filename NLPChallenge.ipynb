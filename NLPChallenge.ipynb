{
 "cells": [
  {
   "cell_type": "code",
   "execution_count": null,
   "metadata": {},
   "outputs": [],
   "source": [
    "#Predict yield curve changes from fomc minutes data"
   ]
  },
  {
   "cell_type": "markdown",
   "metadata": {},
   "source": [
    "* First, make sure to clean your data. You can use the data-cleaning techniques that you practiced in the Text preprocessing checkpoint. But keep in mind that every text dataset is likely to have its own particular cleaning requirements. Make sure to clean your dataset appropriately.\n",
    "* If your dataset includes numerical features, then work on them for cleaning purposes; for example, deal with any missing values and outliers.\n",
    "* After the data-cleaning step, do some exploratory data analysis to get to know your dataset better. In the exploratory data analysis, analyze your numerical features as well as your text features. If you feel that converting your text features into a numerical form is required for your exploratory analysis, then you can do this step after vectorizing your text.\n",
    "* Convert your text features into numerical form. You're free to choose your method. You can use BoW, TF-IDF, word2vec, or any other method that you'd like to experiment with. It's a good idea to use several methods so that you can compare the results with respect to the methods that you apply.\n",
    "* You can choose whatever NLP task you want. You're completely free in your choice. Here are some possible options:\n",
    "\n",
    "    1. Sentiment analysis\n",
    "    2. Text classification\n",
    "    3. Topic modeling\n",
    "    4. Developing a more sophisticated chatbot than what you've already developed in this module\n",
    "    5. Training a deep-learning model for a supervised or unsupervised task of your choice\n"
   ]
  },
  {
   "cell_type": "code",
   "execution_count": null,
   "metadata": {},
   "outputs": [],
   "source": [
    "#list of minutes link (1993 onward):\n",
    "# https://www.fedsearch.org/fomc-docs/search?advanced_search=true&fomc_document_type=minutes&text=&search_precision=All+Words&from_month=3&from_year=1936&to_month=12&to_year=2020&sort=Most+Recent+First&Search=Search"
   ]
  },
  {
   "cell_type": "markdown",
   "metadata": {},
   "source": [
    "My goal is to predict changes in the federal funds rate using minutes from the federal open market committee"
   ]
  },
  {
   "cell_type": "code",
   "execution_count": 270,
   "metadata": {
    "scrolled": true
   },
   "outputs": [],
   "source": [
    "from bs4 import BeautifulSoup\n",
    "import pandas as pd\n",
    "import numpy as np\n",
    "import requests\n",
    "import time\n",
    "import PyPDF2\n",
    "import io\n",
    "import re\n",
    "import urllib.request\n",
    "import pickle\n",
    "import fitz\n",
    "import os\n",
    "\n",
    "from nltk.corpus.reader.plaintext import PlaintextCorpusReader\n",
    "from nltk import word_tokenize\n",
    "from nltk.corpus import stopwords\n",
    "from sklearn.pipeline import Pipeline\n",
    "from nltk.stem.snowball import SnowballStemmer\n",
    "from nltk.stem.wordnet import WordNetLemmatizer\n",
    "from sklearn.metrics import classification_report\n",
    "from sklearn.model_selection import cross_val_score\n",
    "from sklearn.ensemble import RandomForestClassifier, RandomForestRegressor\n",
    "from sklearn.feature_extraction.text import CountVectorizer\n",
    "from sklearn.feature_extraction.text import TfidfTransformer\n",
    "from sklearn.model_selection import train_test_split as tts\n",
    "from nltk.corpus.reader.plaintext import CategorizedPlaintextCorpusReader\n",
    "from sklearn.linear_model import LogisticRegression\n",
    "from sklearn.ensemble import AdaBoostRegressor\n",
    "from sklearn.ensemble import AdaBoostClassifier\n",
    "from sklearn.naive_bayes import MultinomialNB\n",
    "from sklearn.preprocessing import StandardScaler"
   ]
  },
  {
   "cell_type": "code",
   "execution_count": 272,
   "metadata": {},
   "outputs": [],
   "source": [
    "#functions for getting to the correct page to find the minutes\n",
    "def minutesbutton(s):\n",
    "    x = ('Minutes' in s.text and \n",
    "         'Executive' not in s.text \n",
    "         #'Historical Minutes' in s.text or \n",
    "         #'Minutes of Action' in s.text or \n",
    "         #'Minutes (Including' in s.text\n",
    "        )\n",
    "    return x\n",
    "def findminuteslinks(soup):\n",
    "    return [s['href'] for s in soup.find_all('a', class_='btn') if minutesbutton(s)]\n",
    "def getsoup(link):\n",
    "    r=requests.get(link)\n",
    "    soup=BeautifulSoup(r.text)\n",
    "    time.sleep(1)\n",
    "    return soup\n",
    "def correctlinks(linkfromhomepage):\n",
    "    soup= getsoup(linkfromhomepage)\n",
    "    minuteslinks=findminuteslinks(soup)\n",
    "    if len(minuteslinks)>0:\n",
    "        minuteslinks=['https://fraser.stlouisfed.org'+minuteslink for minuteslink in minuteslinks]\n",
    "    return minuteslinks\n",
    "\n",
    "def getpdflink(minuteslink):\n",
    "    soup= getsoup(minuteslink)#'https://fraser.stlouisfed.org'+\n",
    "    try:\n",
    "        link_end= soup.find(text=re.compile('Download \\(pdf\\)')).parent['href']\n",
    "        return 'https://fraser.stlouisfed.org'+link_end\n",
    "    except:\n",
    "        return None\n",
    "def downloadpdf(pdflink):\n",
    "    name=pdflink.split('/')[-1]\n",
    "    r=requests.get(pdflink)\n",
    "    time.sleep(1)\n",
    "    file_destination_path='/Users/jamesmoss/Documents/GitHub/Notes and Exercises/IndividualExercises/Week15/FedMinutes/'\n",
    "    with open(file_destination_path+'pdfs/'+name+'.pdf', 'wb') as f:\n",
    "        f.write(r.content)\n",
    "def getpdfs(originallink, minuteslinks):\n",
    "    if len(minuteslinks)>0:\n",
    "        for minuteslink in minuteslinks:\n",
    "            pdflink=getpdflink(minuteslink)\n",
    "            downloadpdf(pdflink)\n",
    "    else:\n",
    "        try:\n",
    "            pdflink=getpdflink(originallink)\n",
    "            downloadpdf(pdflink)\n",
    "        except:\n",
    "            pass\n",
    "        \n",
    "def listify(l):\n",
    "    if isinstance(l, list):\n",
    "        return l\n",
    "    else:\n",
    "        return [l]\n",
    "\n",
    "def remove_names1993(doc):\n",
    "    # Removes all text before \"for immediate release\", only works on docs after 1993\n",
    "    deleteBefore= re.search(\"[Ff]or\\s[Ii]mmediate\\s[Rr]elease\", \\\n",
    "                            doc).start() + len ('for immediate release')\n",
    "    return doc[deleteBefore:]\n"
   ]
  },
  {
   "cell_type": "markdown",
   "metadata": {},
   "source": [
    "## 0. Loading the data"
   ]
  },
  {
   "cell_type": "code",
   "execution_count": 4,
   "metadata": {},
   "outputs": [],
   "source": [
    "FOMC_url='https://fraser.stlouisfed.org/title/federal-open-market-committee-meeting-minutes-transcripts-documents-677?browse=1930s'\n",
    "\n",
    "r=requests.get(FOMC_url)"
   ]
  },
  {
   "cell_type": "code",
   "execution_count": 5,
   "metadata": {},
   "outputs": [],
   "source": [
    "soup=BeautifulSoup(r.text)"
   ]
  },
  {
   "cell_type": "code",
   "execution_count": 6,
   "metadata": {},
   "outputs": [],
   "source": [
    "meetings=soup.find_all('a', class_='list-item')#[0]['href']"
   ]
  },
  {
   "cell_type": "code",
   "execution_count": 7,
   "metadata": {},
   "outputs": [
    {
     "data": {
      "text/plain": [
       "'July 20, 1933'"
      ]
     },
     "execution_count": 7,
     "metadata": {},
     "output_type": "execute_result"
    }
   ],
   "source": [
    "meetings[0].span.text.strip().strip('Meeting, ')"
   ]
  },
  {
   "cell_type": "markdown",
   "metadata": {},
   "source": [
    "## Making a dataframe with relevant links and dates"
   ]
  },
  {
   "cell_type": "code",
   "execution_count": 3,
   "metadata": {},
   "outputs": [],
   "source": [
    "decades=['1930s','1940s','1950s','1960s','1970s','1980s','1990s','2000s','2010s']\n",
    "links=[]\n",
    "dates=[]\n",
    "\n",
    "for decade in decades:\n",
    "    #get the soup info\n",
    "    fomc_url='https://fraser.stlouisfed.org/title/federal-open-market-committee-meeting-minutes-transcripts-documents-677?browse='+decade\n",
    "    r=requests.get(fomc_url)\n",
    "    soup=BeautifulSoup(r.text)\n",
    "    meetings=soup.find_all('a', class_='list-item')\n",
    "    for meeting in meetings:\n",
    "        link='https://fraser.stlouisfed.org'+meeting['href']\n",
    "        date=meeting.span.text.strip()\n",
    "        \n",
    "        #go to the link\n",
    "        #get the link that says minutes or historical minutes\n",
    "        # can get it from the text here:?\n",
    "        #class=\"btn btn-success btn-sm btn-sm btn-block goto-btn\"\n",
    "        links.append(link)\n",
    "        dates.append(date)\n",
    "    time.sleep(1)"
   ]
  },
  {
   "cell_type": "code",
   "execution_count": 4,
   "metadata": {
    "scrolled": true
   },
   "outputs": [
    {
     "data": {
      "text/html": [
       "<div>\n",
       "<style scoped>\n",
       "    .dataframe tbody tr th:only-of-type {\n",
       "        vertical-align: middle;\n",
       "    }\n",
       "\n",
       "    .dataframe tbody tr th {\n",
       "        vertical-align: top;\n",
       "    }\n",
       "\n",
       "    .dataframe thead th {\n",
       "        text-align: right;\n",
       "    }\n",
       "</style>\n",
       "<table border=\"1\" class=\"dataframe\">\n",
       "  <thead>\n",
       "    <tr style=\"text-align: right;\">\n",
       "      <th></th>\n",
       "      <th>type_date</th>\n",
       "      <th>links</th>\n",
       "    </tr>\n",
       "  </thead>\n",
       "  <tbody>\n",
       "    <tr>\n",
       "      <th>0</th>\n",
       "      <td>Meeting, July 20, 1933</td>\n",
       "      <td>https://fraser.stlouisfed.org/title/federal-op...</td>\n",
       "    </tr>\n",
       "    <tr>\n",
       "      <th>1</th>\n",
       "      <td>Meeting, September 21, 1933</td>\n",
       "      <td>https://fraser.stlouisfed.org/title/federal-op...</td>\n",
       "    </tr>\n",
       "    <tr>\n",
       "      <th>2</th>\n",
       "      <td>Meeting, October 10, 1933</td>\n",
       "      <td>https://fraser.stlouisfed.org/title/federal-op...</td>\n",
       "    </tr>\n",
       "    <tr>\n",
       "      <th>3</th>\n",
       "      <td>Meeting, October 25, 1933</td>\n",
       "      <td>https://fraser.stlouisfed.org/title/federal-op...</td>\n",
       "    </tr>\n",
       "    <tr>\n",
       "      <th>4</th>\n",
       "      <td>Meeting, March 5, 1934</td>\n",
       "      <td>https://fraser.stlouisfed.org/title/federal-op...</td>\n",
       "    </tr>\n",
       "  </tbody>\n",
       "</table>\n",
       "</div>"
      ],
      "text/plain": [
       "                     type_date  \\\n",
       "0       Meeting, July 20, 1933   \n",
       "1  Meeting, September 21, 1933   \n",
       "2    Meeting, October 10, 1933   \n",
       "3    Meeting, October 25, 1933   \n",
       "4       Meeting, March 5, 1934   \n",
       "\n",
       "                                               links  \n",
       "0  https://fraser.stlouisfed.org/title/federal-op...  \n",
       "1  https://fraser.stlouisfed.org/title/federal-op...  \n",
       "2  https://fraser.stlouisfed.org/title/federal-op...  \n",
       "3  https://fraser.stlouisfed.org/title/federal-op...  \n",
       "4  https://fraser.stlouisfed.org/title/federal-op...  "
      ]
     },
     "execution_count": 4,
     "metadata": {},
     "output_type": "execute_result"
    }
   ],
   "source": [
    "minutes=pd.DataFrame(list(zip(dates, links)), columns =['type_date', 'links'])\n",
    "minutes.head(5)"
   ]
  },
  {
   "cell_type": "code",
   "execution_count": 5,
   "metadata": {},
   "outputs": [],
   "source": [
    "#todo: improve this later\n",
    "def clean_date(date):\n",
    "    date=date.replace('(Unscheduled)','')\n",
    "    date=date.split(', ')\n",
    "    date=[date[0], date[-1]].join(', ')\n",
    "    return date\n",
    "\n",
    "minutes['context']=minutes.type_date.str.split(pat=', ', n=1, expand=False).str[0]\n",
    "minutes['date']=minutes.type_date.str.split(pat=', ', n=1, expand=False).str[1]\n",
    "minutes['unscheduled']=minutes.type_date.str.contains('(Unscheduled)', regex=False)\n",
    "minutes['date']=minutes.date.str.replace('(Unscheduled)','')\n",
    "#minutes['date']=pd.to_datetime(minutes['date'], errors='coerce')\n",
    "\n",
    "#minutes['datestring']=minutes['date'].dt.strftime('%Y%m%d')#there might be stuff after the date, like (Unscheduled)\n",
    "    \n",
    "#minutesv are for historical minutes\n",
    "\n",
    "#the datestring is added onto the end of this\n",
    "#https://fraser.stlouisfed.org/files/docs/historical/FOMC/meetingdocuments/"
   ]
  },
  {
   "cell_type": "code",
   "execution_count": 6,
   "metadata": {},
   "outputs": [
    {
     "data": {
      "text/html": [
       "<div>\n",
       "<style scoped>\n",
       "    .dataframe tbody tr th:only-of-type {\n",
       "        vertical-align: middle;\n",
       "    }\n",
       "\n",
       "    .dataframe tbody tr th {\n",
       "        vertical-align: top;\n",
       "    }\n",
       "\n",
       "    .dataframe thead th {\n",
       "        text-align: right;\n",
       "    }\n",
       "</style>\n",
       "<table border=\"1\" class=\"dataframe\">\n",
       "  <thead>\n",
       "    <tr style=\"text-align: right;\">\n",
       "      <th></th>\n",
       "      <th>type_date</th>\n",
       "      <th>links</th>\n",
       "      <th>context</th>\n",
       "      <th>date</th>\n",
       "      <th>unscheduled</th>\n",
       "    </tr>\n",
       "  </thead>\n",
       "  <tbody>\n",
       "    <tr>\n",
       "      <th>0</th>\n",
       "      <td>Meeting, July 20, 1933</td>\n",
       "      <td>https://fraser.stlouisfed.org/title/federal-op...</td>\n",
       "      <td>Meeting</td>\n",
       "      <td>July 20, 1933</td>\n",
       "      <td>False</td>\n",
       "    </tr>\n",
       "    <tr>\n",
       "      <th>1</th>\n",
       "      <td>Meeting, September 21, 1933</td>\n",
       "      <td>https://fraser.stlouisfed.org/title/federal-op...</td>\n",
       "      <td>Meeting</td>\n",
       "      <td>September 21, 1933</td>\n",
       "      <td>False</td>\n",
       "    </tr>\n",
       "  </tbody>\n",
       "</table>\n",
       "</div>"
      ],
      "text/plain": [
       "                     type_date  \\\n",
       "0       Meeting, July 20, 1933   \n",
       "1  Meeting, September 21, 1933   \n",
       "\n",
       "                                               links  context  \\\n",
       "0  https://fraser.stlouisfed.org/title/federal-op...  Meeting   \n",
       "1  https://fraser.stlouisfed.org/title/federal-op...  Meeting   \n",
       "\n",
       "                 date  unscheduled  \n",
       "0       July 20, 1933        False  \n",
       "1  September 21, 1933        False  "
      ]
     },
     "execution_count": 6,
     "metadata": {},
     "output_type": "execute_result"
    }
   ],
   "source": [
    "#minutes.type_date.str.contains('Meeting')\n",
    "minutes.head(2)"
   ]
  },
  {
   "cell_type": "code",
   "execution_count": 26,
   "metadata": {},
   "outputs": [],
   "source": [
    "#minutes[minutes.date.isna()].type_date\n",
    "#minutes2.isna().sum()"
   ]
  },
  {
   "cell_type": "code",
   "execution_count": 23,
   "metadata": {},
   "outputs": [],
   "source": [
    "minutes2=minutes.dropna()"
   ]
  },
  {
   "cell_type": "code",
   "execution_count": 27,
   "metadata": {},
   "outputs": [
    {
     "name": "stderr",
     "output_type": "stream",
     "text": [
      "/Users/jamesmoss/opt/anaconda3/lib/python3.7/site-packages/ipykernel_launcher.py:1: SettingWithCopyWarning: \n",
      "A value is trying to be set on a copy of a slice from a DataFrame.\n",
      "Try using .loc[row_indexer,col_indexer] = value instead\n",
      "\n",
      "See the caveats in the documentation: https://pandas.pydata.org/pandas-docs/stable/user_guide/indexing.html#returning-a-view-versus-a-copy\n",
      "  \"\"\"Entry point for launching an IPython kernel.\n"
     ]
    }
   ],
   "source": [
    "minutes2['minuteslinks']=minutes2['links'].apply(lambda x: correctlinks(x))"
   ]
  },
  {
   "cell_type": "code",
   "execution_count": 47,
   "metadata": {},
   "outputs": [],
   "source": [
    "#minutes_copy=minutes2.copy()"
   ]
  },
  {
   "cell_type": "code",
   "execution_count": 96,
   "metadata": {},
   "outputs": [],
   "source": [
    "minutes2=minutes_copy.copy()"
   ]
  },
  {
   "cell_type": "code",
   "execution_count": 98,
   "metadata": {},
   "outputs": [
    {
     "name": "stderr",
     "output_type": "stream",
     "text": [
      "/Users/jamesmoss/opt/anaconda3/lib/python3.7/site-packages/ipykernel_launcher.py:2: SettingWithCopyWarning: \n",
      "A value is trying to be set on a copy of a slice from a DataFrame\n",
      "\n",
      "See the caveats in the documentation: https://pandas.pydata.org/pandas-docs/stable/user_guide/indexing.html#returning-a-view-versus-a-copy\n",
      "  \n"
     ]
    }
   ],
   "source": [
    "#minutes2.loc[minutes2.minuteslinks.str.len()==0, 'minuteslinks']=[minutes2['links']]\n",
    "minutes2['minuteslinks'][minutes2['minuteslinks'].str.len()==0]=minutes2['links']"
   ]
  },
  {
   "cell_type": "code",
   "execution_count": 103,
   "metadata": {},
   "outputs": [],
   "source": [
    "minutes2['minuteslinks']=minutes2['minuteslinks'].apply(lambda x: listify(x))"
   ]
  },
  {
   "cell_type": "code",
   "execution_count": 114,
   "metadata": {
    "scrolled": true
   },
   "outputs": [],
   "source": [
    "minutes2['pdflinks']=minutes2['minuteslinks'].apply(lambda x: [getpdflink(link) for link in x])"
   ]
  },
  {
   "cell_type": "markdown",
   "metadata": {},
   "source": [
    "## Saving the DataFrame"
   ]
  },
  {
   "cell_type": "code",
   "execution_count": 120,
   "metadata": {},
   "outputs": [],
   "source": [
    "minutes2.to_csv('/Users/jamesmoss/Documents/GitHub/CapstoneProjects/Capstone4/minuteslinks_dates.csv')\n",
    "#Unnamed column was the index"
   ]
  },
  {
   "cell_type": "code",
   "execution_count": 123,
   "metadata": {},
   "outputs": [],
   "source": [
    "minutes2.to_pickle('/Users/jamesmoss/Documents/GitHub/CapstoneProjects/Capstone4/minuteslinks_datesDF.pkl')"
   ]
  },
  {
   "cell_type": "code",
   "execution_count": 7,
   "metadata": {},
   "outputs": [],
   "source": [
    "#minutes2=pd.read_csv('/Users/jamesmoss/Documents/GitHub/CapstoneProjects/Capstone4/minuteslinks_dates.csv')"
   ]
  },
  {
   "cell_type": "code",
   "execution_count": 12,
   "metadata": {},
   "outputs": [],
   "source": [
    "minutes2=pickle.load(open('/Users/jamesmoss/Documents/GitHub/CapstoneProjects/Capstone4/minuteslinks_datesDF.pkl', 'rb'))"
   ]
  },
  {
   "cell_type": "markdown",
   "metadata": {
    "scrolled": true
   },
   "source": [
    "## Saving the PDFs"
   ]
  },
  {
   "cell_type": "code",
   "execution_count": 32,
   "metadata": {},
   "outputs": [],
   "source": [
    "file_destination_path='/Users/jamesmoss/Documents/GitHub/CapstoneProjects/Capstone4/minutespdfs/'\n",
    "\n",
    "for date in minutes2.pdflinks:\n",
    "    for url in date:\n",
    "        try:\n",
    "            name=url.split('/')[-1]\n",
    "            r=requests.get(url)\n",
    "            time.sleep(1)\n",
    "\n",
    "            with open(file_destination_path+name, 'wb') as f:\n",
    "                f.write(r.content)\n",
    "        except:\n",
    "            continue"
   ]
  },
  {
   "cell_type": "markdown",
   "metadata": {},
   "source": [
    "## Making the text files"
   ]
  },
  {
   "cell_type": "code",
   "execution_count": 52,
   "metadata": {},
   "outputs": [
    {
     "name": "stderr",
     "output_type": "stream",
     "text": [
      "mupdf: cannot recognize version marker\n",
      "mupdf: no objects found\n"
     ]
    },
    {
     "name": "stdout",
     "output_type": "stream",
     "text": [
      ".DS_Store\n"
     ]
    }
   ],
   "source": [
    "# for document in file:\n",
    "text_path='/Users/jamesmoss/Documents/GitHub/CapstoneProjects/Capstone4/minutestexts/'\n",
    "pdf_path='/Users/jamesmoss/Documents/GitHub/CapstoneProjects/Capstone4/minutespdfs/'\n",
    "pdf_list=os.listdir(pdf_path)\n",
    "for document in pdf_list:\n",
    "    textfile_name=document.split('.')[0]\n",
    "    try:\n",
    "        with fitz.open(pdf_path+document) as doc:\n",
    "            text = \"\"\n",
    "            for page in doc:\n",
    "                text += page.getText()\n",
    "            with open(text_path+textfile_name+'.txt', 'w') as textfile:\n",
    "                textfile.write(text)\n",
    "    except:\n",
    "        print(document)"
   ]
  },
  {
   "cell_type": "markdown",
   "metadata": {},
   "source": [
    "## Creating the corpus"
   ]
  },
  {
   "cell_type": "code",
   "execution_count": 14,
   "metadata": {},
   "outputs": [],
   "source": [
    "text_path='/Users/jamesmoss/Documents/GitHub/CapstoneProjects/Capstone4/minutestexts/'\n",
    "text_list=os.listdir(text_path)"
   ]
  },
  {
   "cell_type": "code",
   "execution_count": 13,
   "metadata": {
    "scrolled": true
   },
   "outputs": [],
   "source": [
    "def find_date(filename):\n",
    "    datestring=re.findall('20\\d\\d\\d\\d\\d\\d|19\\d\\d\\d\\d\\d\\d|21\\d\\d\\d\\d\\d\\d', filename)\n",
    "    return datestring\n",
    "def text_from_filename(directory, filename):\n",
    "    with open(directory+filename, 'r') as file:\n",
    "        text = file.read()\n",
    "    return text"
   ]
  },
  {
   "cell_type": "code",
   "execution_count": null,
   "metadata": {
    "scrolled": true
   },
   "outputs": [],
   "source": [
    "sample_list=text_list[:20]\n",
    "for file in sample_list:\n",
    "    if find_date(file):\n",
    "        print(file)\n",
    "        print(find_date(file)[0])"
   ]
  },
  {
   "cell_type": "code",
   "execution_count": 21,
   "metadata": {},
   "outputs": [
    {
     "name": "stdout",
     "output_type": "stream",
     "text": [
      "964\n"
     ]
    }
   ],
   "source": [
    "minutes={}\n",
    "minutes['date']=[]\n",
    "minutes['filename']=[]\n",
    "#minutes['text']=[]\n",
    "count=0\n",
    "for txtfile in text_list:\n",
    "    if find_date(txtfile) and '.txt' in txtfile:\n",
    "        count=count+1\n",
    "        minutes['date'].append(find_date(txtfile)[0])\n",
    "        minutes['filename'].append(txtfile)\n",
    "print(count)"
   ]
  },
  {
   "cell_type": "markdown",
   "metadata": {},
   "source": [
    "I messed up my first time through and used the following code to correct my mistake, but it should be fixed above."
   ]
  },
  {
   "cell_type": "code",
   "execution_count": 90,
   "metadata": {},
   "outputs": [
    {
     "name": "stdout",
     "output_type": "stream",
     "text": [
      "900917ConfCall.txt\n",
      "marconf.txt\n"
     ]
    }
   ],
   "source": [
    "#Debugging\n",
    "#TODO: use the above to apply to filename column to recalculate dates, or just redo it\n",
    "# def fix_date(doc_name):\n",
    "#     try:\n",
    "#         date=find_date(doc_name)[0]\n",
    "#         return date\n",
    "#     except:\n",
    "#         print(doc_name)\n",
    "#         return np.nan\n",
    "# minutes_df['date']=minutes_df['filename'].apply(lambda x: fix_date(x))"
   ]
  },
  {
   "cell_type": "code",
   "execution_count": 22,
   "metadata": {
    "scrolled": true
   },
   "outputs": [
    {
     "data": {
      "text/html": [
       "<div>\n",
       "<style scoped>\n",
       "    .dataframe tbody tr th:only-of-type {\n",
       "        vertical-align: middle;\n",
       "    }\n",
       "\n",
       "    .dataframe tbody tr th {\n",
       "        vertical-align: top;\n",
       "    }\n",
       "\n",
       "    .dataframe thead th {\n",
       "        text-align: right;\n",
       "    }\n",
       "</style>\n",
       "<table border=\"1\" class=\"dataframe\">\n",
       "  <thead>\n",
       "    <tr style=\"text-align: right;\">\n",
       "      <th></th>\n",
       "      <th>date</th>\n",
       "      <th>filename</th>\n",
       "    </tr>\n",
       "  </thead>\n",
       "  <tbody>\n",
       "    <tr>\n",
       "      <th>0</th>\n",
       "      <td>20121023</td>\n",
       "      <td>fomchistmin19560417.txt</td>\n",
       "    </tr>\n",
       "    <tr>\n",
       "      <th>1</th>\n",
       "      <td>20121023</td>\n",
       "      <td>fomcminutes20090603.txt</td>\n",
       "    </tr>\n",
       "    <tr>\n",
       "      <th>2</th>\n",
       "      <td>20121023</td>\n",
       "      <td>fomcmoa19680206.txt</td>\n",
       "    </tr>\n",
       "    <tr>\n",
       "      <th>3</th>\n",
       "      <td>20121023</td>\n",
       "      <td>19971216min.txt</td>\n",
       "    </tr>\n",
       "    <tr>\n",
       "      <th>4</th>\n",
       "      <td>20121023</td>\n",
       "      <td>19851001MoA.txt</td>\n",
       "    </tr>\n",
       "  </tbody>\n",
       "</table>\n",
       "</div>"
      ],
      "text/plain": [
       "       date                 filename\n",
       "0  20121023  fomchistmin19560417.txt\n",
       "1  20121023  fomcminutes20090603.txt\n",
       "2  20121023      fomcmoa19680206.txt\n",
       "3  20121023          19971216min.txt\n",
       "4  20121023          19851001MoA.txt"
      ]
     },
     "execution_count": 22,
     "metadata": {},
     "output_type": "execute_result"
    }
   ],
   "source": [
    "minutes_df=pd.DataFrame.from_dict(minutes)\n",
    "minutes_df.head(2)"
   ]
  },
  {
   "cell_type": "code",
   "execution_count": 23,
   "metadata": {},
   "outputs": [],
   "source": [
    "minutes_df['raw_text']=minutes_df['filename'].apply(lambda x: text_from_filename(text_path, x))"
   ]
  },
  {
   "cell_type": "code",
   "execution_count": 93,
   "metadata": {},
   "outputs": [
    {
     "data": {
      "text/html": [
       "<div>\n",
       "<style scoped>\n",
       "    .dataframe tbody tr th:only-of-type {\n",
       "        vertical-align: middle;\n",
       "    }\n",
       "\n",
       "    .dataframe tbody tr th {\n",
       "        vertical-align: top;\n",
       "    }\n",
       "\n",
       "    .dataframe thead th {\n",
       "        text-align: right;\n",
       "    }\n",
       "</style>\n",
       "<table border=\"1\" class=\"dataframe\">\n",
       "  <thead>\n",
       "    <tr style=\"text-align: right;\">\n",
       "      <th></th>\n",
       "      <th>date</th>\n",
       "      <th>filename</th>\n",
       "      <th>raw_text</th>\n",
       "      <th>preprocessed</th>\n",
       "      <th>datetime</th>\n",
       "      <th>next_month</th>\n",
       "    </tr>\n",
       "  </thead>\n",
       "  <tbody>\n",
       "    <tr>\n",
       "      <th>0</th>\n",
       "      <td>19560417</td>\n",
       "      <td>fomchistmin19560417.txt</td>\n",
       "      <td>A meeting of the Federal Open Market Committee...</td>\n",
       "      <td>meet feder open market committe held offic boa...</td>\n",
       "      <td>2012-10-23</td>\n",
       "      <td>2012-11-01</td>\n",
       "    </tr>\n",
       "    <tr>\n",
       "      <th>1</th>\n",
       "      <td>20090603</td>\n",
       "      <td>fomcminutes20090603.txt</td>\n",
       "      <td>Minutes of the Federal Open Market Committee \\...</td>\n",
       "      <td>minut feder open market committe june 2009 joi...</td>\n",
       "      <td>2012-10-23</td>\n",
       "      <td>2012-11-01</td>\n",
       "    </tr>\n",
       "  </tbody>\n",
       "</table>\n",
       "</div>"
      ],
      "text/plain": [
       "       date                 filename  \\\n",
       "0  19560417  fomchistmin19560417.txt   \n",
       "1  20090603  fomcminutes20090603.txt   \n",
       "\n",
       "                                            raw_text  \\\n",
       "0  A meeting of the Federal Open Market Committee...   \n",
       "1  Minutes of the Federal Open Market Committee \\...   \n",
       "\n",
       "                                        preprocessed   datetime next_month  \n",
       "0  meet feder open market committe held offic boa... 2012-10-23 2012-11-01  \n",
       "1  minut feder open market committe june 2009 joi... 2012-10-23 2012-11-01  "
      ]
     },
     "execution_count": 93,
     "metadata": {},
     "output_type": "execute_result"
    }
   ],
   "source": [
    "minutes_df.head(2)"
   ]
  },
  {
   "cell_type": "markdown",
   "metadata": {},
   "source": [
    "## Preprocessing the text"
   ]
  },
  {
   "cell_type": "code",
   "execution_count": 36,
   "metadata": {},
   "outputs": [],
   "source": [
    "def preprocess(doc):\n",
    "    lemmatizer = WordNetLemmatizer()\n",
    "    stemmer = SnowballStemmer('english')\n",
    "    \n",
    "    tokenized = word_tokenize(doc)\n",
    "\n",
    "    cleaned = [stemmer.stem(lemmatizer.lemmatize(token.lower())) \n",
    "               for token in tokenized \n",
    "               if not token.lower() in stopwords.words('english') \n",
    "               if token.isalnum()] #should I make this also include numbers?\n",
    "               \n",
    "\n",
    "    untokenized = \" \".join(cleaned)\n",
    "    #preprocessed.append(untokenized)\n",
    "        \n",
    "    return untokenized"
   ]
  },
  {
   "cell_type": "code",
   "execution_count": 38,
   "metadata": {
    "scrolled": false
   },
   "outputs": [],
   "source": [
    "minutes_df['preprocessed']=minutes_df['raw_text'].apply(lambda x: preprocess(x))"
   ]
  },
  {
   "cell_type": "code",
   "execution_count": 94,
   "metadata": {},
   "outputs": [],
   "source": [
    "minutes_df['datetime']=pd.to_datetime(minutes_df['date'])"
   ]
  },
  {
   "cell_type": "code",
   "execution_count": 95,
   "metadata": {},
   "outputs": [],
   "source": [
    "minutes_df['next_month']=minutes_df['datetime']+pd.offsets.MonthBegin(0)"
   ]
  },
  {
   "cell_type": "code",
   "execution_count": 99,
   "metadata": {},
   "outputs": [
    {
     "name": "stdout",
     "output_type": "stream",
     "text": [
      "<class 'pandas.core.frame.DataFrame'>\n",
      "Int64Index: 962 entries, 0 to 963\n",
      "Data columns (total 6 columns):\n",
      " #   Column        Non-Null Count  Dtype         \n",
      "---  ------        --------------  -----         \n",
      " 0   date          962 non-null    object        \n",
      " 1   filename      962 non-null    object        \n",
      " 2   raw_text      962 non-null    object        \n",
      " 3   preprocessed  962 non-null    object        \n",
      " 4   datetime      962 non-null    datetime64[ns]\n",
      " 5   next_month    962 non-null    datetime64[ns]\n",
      "dtypes: datetime64[ns](2), object(4)\n",
      "memory usage: 52.6+ KB\n"
     ]
    }
   ],
   "source": [
    "minutes_df=minutes_df.dropna()\n",
    "minutes_df.info()"
   ]
  },
  {
   "cell_type": "code",
   "execution_count": 100,
   "metadata": {},
   "outputs": [],
   "source": [
    "minutes_df.to_pickle('/Users/jamesmoss/Documents/GitHub/CapstoneProjects/Capstone4/preprocessed_minutes_df.pkl')"
   ]
  },
  {
   "cell_type": "markdown",
   "metadata": {},
   "source": [
    "## Getting the federal funds rate changes"
   ]
  },
  {
   "cell_type": "code",
   "execution_count": 43,
   "metadata": {},
   "outputs": [],
   "source": [
    "fed_funds=pd.read_csv('/Users/jamesmoss/Documents/GitHub/CapstoneProjects/Capstone4/FEDFUNDS.csv')"
   ]
  },
  {
   "cell_type": "code",
   "execution_count": 46,
   "metadata": {},
   "outputs": [],
   "source": [
    "fed_funds['datetime']=pd.to_datetime(fed_funds['DATE'])"
   ]
  },
  {
   "cell_type": "code",
   "execution_count": 48,
   "metadata": {},
   "outputs": [],
   "source": [
    "fed_funds['shifted']=fed_funds['FEDFUNDS'].shift(1)"
   ]
  },
  {
   "cell_type": "code",
   "execution_count": 50,
   "metadata": {},
   "outputs": [],
   "source": [
    "fed_funds['change']=fed_funds['FEDFUNDS']-fed_funds['shifted']"
   ]
  },
  {
   "cell_type": "code",
   "execution_count": 266,
   "metadata": {},
   "outputs": [],
   "source": [
    "fed_funds['change_cat']=0\n",
    "fed_funds.loc[fed_funds['change']>.125, 'change_cat']=1\n",
    "fed_funds.loc[fed_funds['change']<-.125, 'change_cat']=-1"
   ]
  },
  {
   "cell_type": "code",
   "execution_count": 118,
   "metadata": {},
   "outputs": [],
   "source": [
    "fed_funds['change_binary']=0\n",
    "fed_funds.loc[fed_funds['change'].abs()>.125, 'change_binary']=1"
   ]
  },
  {
   "cell_type": "code",
   "execution_count": 119,
   "metadata": {},
   "outputs": [
    {
     "data": {
      "text/html": [
       "<div>\n",
       "<style scoped>\n",
       "    .dataframe tbody tr th:only-of-type {\n",
       "        vertical-align: middle;\n",
       "    }\n",
       "\n",
       "    .dataframe tbody tr th {\n",
       "        vertical-align: top;\n",
       "    }\n",
       "\n",
       "    .dataframe thead th {\n",
       "        text-align: right;\n",
       "    }\n",
       "</style>\n",
       "<table border=\"1\" class=\"dataframe\">\n",
       "  <thead>\n",
       "    <tr style=\"text-align: right;\">\n",
       "      <th></th>\n",
       "      <th>DATE</th>\n",
       "      <th>FEDFUNDS</th>\n",
       "      <th>datetime</th>\n",
       "      <th>shifted</th>\n",
       "      <th>change</th>\n",
       "      <th>change_cat</th>\n",
       "      <th>change_binary</th>\n",
       "    </tr>\n",
       "  </thead>\n",
       "  <tbody>\n",
       "    <tr>\n",
       "      <th>0</th>\n",
       "      <td>1954-07-01</td>\n",
       "      <td>0.80</td>\n",
       "      <td>1954-07-01</td>\n",
       "      <td>NaN</td>\n",
       "      <td>NaN</td>\n",
       "      <td>0</td>\n",
       "      <td>0</td>\n",
       "    </tr>\n",
       "    <tr>\n",
       "      <th>1</th>\n",
       "      <td>1954-08-01</td>\n",
       "      <td>1.22</td>\n",
       "      <td>1954-08-01</td>\n",
       "      <td>0.80</td>\n",
       "      <td>0.42</td>\n",
       "      <td>1</td>\n",
       "      <td>1</td>\n",
       "    </tr>\n",
       "    <tr>\n",
       "      <th>2</th>\n",
       "      <td>1954-09-01</td>\n",
       "      <td>1.07</td>\n",
       "      <td>1954-09-01</td>\n",
       "      <td>1.22</td>\n",
       "      <td>-0.15</td>\n",
       "      <td>-1</td>\n",
       "      <td>1</td>\n",
       "    </tr>\n",
       "  </tbody>\n",
       "</table>\n",
       "</div>"
      ],
      "text/plain": [
       "         DATE  FEDFUNDS   datetime  shifted  change  change_cat  change_binary\n",
       "0  1954-07-01      0.80 1954-07-01      NaN     NaN           0              0\n",
       "1  1954-08-01      1.22 1954-08-01     0.80    0.42           1              1\n",
       "2  1954-09-01      1.07 1954-09-01     1.22   -0.15          -1              1"
      ]
     },
     "execution_count": 119,
     "metadata": {},
     "output_type": "execute_result"
    }
   ],
   "source": [
    "fed_funds.head(3)"
   ]
  },
  {
   "cell_type": "markdown",
   "metadata": {},
   "source": [
    "I added the change column, which indicates month over month change in the interest rate; change_cat, which indicates if there was negative (-1), no (0), or positive (1) change in the federal funds rate."
   ]
  },
  {
   "cell_type": "code",
   "execution_count": 110,
   "metadata": {},
   "outputs": [
    {
     "data": {
      "text/plain": [
       "Timestamp('1954-07-01 00:00:00')"
      ]
     },
     "execution_count": 110,
     "metadata": {},
     "output_type": "execute_result"
    }
   ],
   "source": [
    "fed_funds.datetime.min()"
   ]
  },
  {
   "cell_type": "markdown",
   "metadata": {},
   "source": [
    "Remember that the minutes_df dataset contains minutes from before 1954, which will be lost after merging"
   ]
  },
  {
   "cell_type": "markdown",
   "metadata": {},
   "source": [
    "## Merging the data"
   ]
  },
  {
   "cell_type": "code",
   "execution_count": 121,
   "metadata": {},
   "outputs": [],
   "source": [
    "merged_df=minutes_df.merge(fed_funds, how='inner', left_on='next_month', right_on='datetime', suffixes=['_min','_fed'])\n",
    "merged_df=merged_df.drop(columns=['shifted'])"
   ]
  },
  {
   "cell_type": "code",
   "execution_count": 286,
   "metadata": {},
   "outputs": [
    {
     "data": {
      "text/html": [
       "<div>\n",
       "<style scoped>\n",
       "    .dataframe tbody tr th:only-of-type {\n",
       "        vertical-align: middle;\n",
       "    }\n",
       "\n",
       "    .dataframe tbody tr th {\n",
       "        vertical-align: top;\n",
       "    }\n",
       "\n",
       "    .dataframe thead th {\n",
       "        text-align: right;\n",
       "    }\n",
       "</style>\n",
       "<table border=\"1\" class=\"dataframe\">\n",
       "  <thead>\n",
       "    <tr style=\"text-align: right;\">\n",
       "      <th></th>\n",
       "      <th>date</th>\n",
       "      <th>filename</th>\n",
       "      <th>raw_text</th>\n",
       "      <th>preprocessed</th>\n",
       "      <th>datetime_min</th>\n",
       "      <th>next_month</th>\n",
       "      <th>DATE</th>\n",
       "      <th>FEDFUNDS</th>\n",
       "      <th>datetime_fed</th>\n",
       "      <th>change</th>\n",
       "      <th>change_cat</th>\n",
       "      <th>change_binary</th>\n",
       "      <th>change_1</th>\n",
       "      <th>change_binary_1</th>\n",
       "    </tr>\n",
       "  </thead>\n",
       "  <tbody>\n",
       "    <tr>\n",
       "      <th>820</th>\n",
       "      <td>19880630</td>\n",
       "      <td>19880630MoA.txt</td>\n",
       "      <td>Meeting of the Federal Open Market Committee\\n...</td>\n",
       "      <td>meet feder open market committe june 1988 minu...</td>\n",
       "      <td>1988-06-30</td>\n",
       "      <td>1988-07-01</td>\n",
       "      <td>1988-07-01</td>\n",
       "      <td>7.75</td>\n",
       "      <td>1988-07-01</td>\n",
       "      <td>0.24</td>\n",
       "      <td>1</td>\n",
       "      <td>1</td>\n",
       "      <td>0.26</td>\n",
       "      <td>1.0</td>\n",
       "    </tr>\n",
       "    <tr>\n",
       "      <th>821</th>\n",
       "      <td>19720718</td>\n",
       "      <td>fomcmoa19720718.txt</td>\n",
       "      <td>Meeting of Federal Open Market Committee\\nJuly...</td>\n",
       "      <td>meet feder open market committe juli 18 1972 m...</td>\n",
       "      <td>1972-07-18</td>\n",
       "      <td>1972-08-01</td>\n",
       "      <td>1972-08-01</td>\n",
       "      <td>4.81</td>\n",
       "      <td>1972-08-01</td>\n",
       "      <td>0.26</td>\n",
       "      <td>1</td>\n",
       "      <td>1</td>\n",
       "      <td>-0.17</td>\n",
       "      <td>1.0</td>\n",
       "    </tr>\n",
       "    <tr>\n",
       "      <th>822</th>\n",
       "      <td>19830429</td>\n",
       "      <td>FOMC19830429confcall.txt</td>\n",
       "      <td>Federal Open Market Committee\\nConference Call...</td>\n",
       "      <td>feder open market committe confer call april 2...</td>\n",
       "      <td>1983-04-29</td>\n",
       "      <td>1983-05-01</td>\n",
       "      <td>1983-05-01</td>\n",
       "      <td>8.63</td>\n",
       "      <td>1983-05-01</td>\n",
       "      <td>-0.17</td>\n",
       "      <td>-1</td>\n",
       "      <td>1</td>\n",
       "      <td>-1.05</td>\n",
       "      <td>1.0</td>\n",
       "    </tr>\n",
       "    <tr>\n",
       "      <th>823</th>\n",
       "      <td>19841107</td>\n",
       "      <td>19841107MoA.txt</td>\n",
       "      <td>Meeting of the Federal Open Market Committee\\n...</td>\n",
       "      <td>meet feder open market committe novemb 7 1984 ...</td>\n",
       "      <td>1984-11-07</td>\n",
       "      <td>1984-12-01</td>\n",
       "      <td>1984-12-01</td>\n",
       "      <td>8.38</td>\n",
       "      <td>1984-12-01</td>\n",
       "      <td>-1.05</td>\n",
       "      <td>-1</td>\n",
       "      <td>1</td>\n",
       "      <td>-0.01</td>\n",
       "      <td>0.0</td>\n",
       "    </tr>\n",
       "    <tr>\n",
       "      <th>824</th>\n",
       "      <td>20101103</td>\n",
       "      <td>fomcminutes20101103.txt</td>\n",
       "      <td>Minutes of the Federal Open Market Committee \\...</td>\n",
       "      <td>minut feder open market committe novemb 2010 m...</td>\n",
       "      <td>2010-11-03</td>\n",
       "      <td>2010-12-01</td>\n",
       "      <td>2010-12-01</td>\n",
       "      <td>0.18</td>\n",
       "      <td>2010-12-01</td>\n",
       "      <td>-0.01</td>\n",
       "      <td>-1</td>\n",
       "      <td>0</td>\n",
       "      <td>NaN</td>\n",
       "      <td>NaN</td>\n",
       "    </tr>\n",
       "  </tbody>\n",
       "</table>\n",
       "</div>"
      ],
      "text/plain": [
       "         date                  filename  \\\n",
       "820  19880630           19880630MoA.txt   \n",
       "821  19720718       fomcmoa19720718.txt   \n",
       "822  19830429  FOMC19830429confcall.txt   \n",
       "823  19841107           19841107MoA.txt   \n",
       "824  20101103   fomcminutes20101103.txt   \n",
       "\n",
       "                                              raw_text  \\\n",
       "820  Meeting of the Federal Open Market Committee\\n...   \n",
       "821  Meeting of Federal Open Market Committee\\nJuly...   \n",
       "822  Federal Open Market Committee\\nConference Call...   \n",
       "823  Meeting of the Federal Open Market Committee\\n...   \n",
       "824  Minutes of the Federal Open Market Committee \\...   \n",
       "\n",
       "                                          preprocessed datetime_min  \\\n",
       "820  meet feder open market committe june 1988 minu...   1988-06-30   \n",
       "821  meet feder open market committe juli 18 1972 m...   1972-07-18   \n",
       "822  feder open market committe confer call april 2...   1983-04-29   \n",
       "823  meet feder open market committe novemb 7 1984 ...   1984-11-07   \n",
       "824  minut feder open market committe novemb 2010 m...   2010-11-03   \n",
       "\n",
       "    next_month        DATE  FEDFUNDS datetime_fed  change  change_cat  \\\n",
       "820 1988-07-01  1988-07-01      7.75   1988-07-01    0.24           1   \n",
       "821 1972-08-01  1972-08-01      4.81   1972-08-01    0.26           1   \n",
       "822 1983-05-01  1983-05-01      8.63   1983-05-01   -0.17          -1   \n",
       "823 1984-12-01  1984-12-01      8.38   1984-12-01   -1.05          -1   \n",
       "824 2010-12-01  2010-12-01      0.18   2010-12-01   -0.01          -1   \n",
       "\n",
       "     change_binary  change_1  change_binary_1  \n",
       "820              1      0.26              1.0  \n",
       "821              1     -0.17              1.0  \n",
       "822              1     -1.05              1.0  \n",
       "823              1     -0.01              0.0  \n",
       "824              0       NaN              NaN  "
      ]
     },
     "execution_count": 286,
     "metadata": {},
     "output_type": "execute_result"
    }
   ],
   "source": [
    "merged_df.tail()"
   ]
  },
  {
   "cell_type": "code",
   "execution_count": 255,
   "metadata": {},
   "outputs": [
    {
     "name": "stdout",
     "output_type": "stream",
     "text": [
      "<class 'pandas.core.frame.DataFrame'>\n",
      "Int64Index: 825 entries, 0 to 824\n",
      "Data columns (total 12 columns):\n",
      " #   Column         Non-Null Count  Dtype         \n",
      "---  ------         --------------  -----         \n",
      " 0   date           825 non-null    object        \n",
      " 1   filename       825 non-null    object        \n",
      " 2   raw_text       825 non-null    object        \n",
      " 3   preprocessed   825 non-null    object        \n",
      " 4   datetime_min   825 non-null    datetime64[ns]\n",
      " 5   next_month     825 non-null    datetime64[ns]\n",
      " 6   DATE           825 non-null    object        \n",
      " 7   FEDFUNDS       825 non-null    float64       \n",
      " 8   datetime_fed   825 non-null    datetime64[ns]\n",
      " 9   change         824 non-null    float64       \n",
      " 10  change_cat     825 non-null    int64         \n",
      " 11  change_binary  825 non-null    int64         \n",
      "dtypes: datetime64[ns](3), float64(2), int64(2), object(5)\n",
      "memory usage: 83.8+ KB\n"
     ]
    }
   ],
   "source": [
    "merged_df.info()"
   ]
  },
  {
   "cell_type": "markdown",
   "metadata": {},
   "source": [
    "shiting the changes down one"
   ]
  },
  {
   "cell_type": "code",
   "execution_count": 285,
   "metadata": {},
   "outputs": [],
   "source": [
    "merged_df['change_1']=merged_df['change'].shift(-1)\n",
    "merged_df['change_binary_1']=merged_df['change_binary'].shift(-1)"
   ]
  },
  {
   "cell_type": "markdown",
   "metadata": {},
   "source": [
    "## EDA"
   ]
  },
  {
   "cell_type": "markdown",
   "metadata": {},
   "source": [
    "Examining federal funds rate changes:"
   ]
  },
  {
   "cell_type": "code",
   "execution_count": 268,
   "metadata": {},
   "outputs": [
    {
     "data": {
      "text/plain": [
       "<matplotlib.axes._subplots.AxesSubplot at 0x7fa874da6d10>"
      ]
     },
     "execution_count": 268,
     "metadata": {},
     "output_type": "execute_result"
    },
    {
     "data": {
      "image/png": "[encoded data removed]",
      "text/plain": [
       "<Figure size 432x288 with 1 Axes>"
      ]
     },
     "metadata": {
      "needs_background": "light"
     },
     "output_type": "display_data"
    }
   ],
   "source": [
    "merged_df.plot(y='FEDFUNDS',x='datetime_fed')"
   ]
  },
  {
   "cell_type": "code",
   "execution_count": 267,
   "metadata": {},
   "outputs": [
    {
     "data": {
      "text/plain": [
       "<matplotlib.axes._subplots.AxesSubplot at 0x7fa874ae7b10>"
      ]
     },
     "execution_count": 267,
     "metadata": {},
     "output_type": "execute_result"
    },
    {
     "data": {
      "image/png": "[encoded data removed]",
      "text/plain": [
       "<Figure size 432x288 with 1 Axes>"
      ]
     },
     "metadata": {
      "needs_background": "light"
     },
     "output_type": "display_data"
    }
   ],
   "source": [
    "merged_df.plot(y='change',x='datetime_fed')"
   ]
  },
  {
   "cell_type": "markdown",
   "metadata": {},
   "source": [
    "## Making the classifiers"
   ]
  },
  {
   "cell_type": "markdown",
   "metadata": {},
   "source": [
    "### binary classification:\n",
    "\n",
    "#### Using all available dates (back to 1954):"
   ]
  },
  {
   "cell_type": "code",
   "execution_count": 147,
   "metadata": {},
   "outputs": [
    {
     "data": {
      "text/plain": [
       "Pipeline(memory=None,\n",
       "         steps=[('vect',\n",
       "                 CountVectorizer(analyzer='word', binary=False,\n",
       "                                 decode_error='strict',\n",
       "                                 dtype=<class 'numpy.int64'>, encoding='utf-8',\n",
       "                                 input='content', lowercase=True, max_df=1.0,\n",
       "                                 max_features=None, min_df=1,\n",
       "                                 ngram_range=(1, 1), preprocessor=None,\n",
       "                                 stop_words=None, strip_accents=None,\n",
       "                                 token_pattern='(?u)\\\\b\\\\w\\\\w+\\\\b',\n",
       "                                 tokenizer=None, vocabulary=Non...\n",
       "                 RandomForestClassifier(bootstrap=True, ccp_alpha=0.0,\n",
       "                                        class_weight=None, criterion='gini',\n",
       "                                        max_depth=None, max_features='auto',\n",
       "                                        max_leaf_nodes=None, max_samples=None,\n",
       "                                        min_impurity_decrease=0.0,\n",
       "                                        min_impurity_split=None,\n",
       "                                        min_samples_leaf=1, min_samples_split=2,\n",
       "                                        min_weight_fraction_leaf=0.0,\n",
       "                                        n_estimators=50, n_jobs=None,\n",
       "                                        oob_score=False, random_state=None,\n",
       "                                        verbose=0, warm_start=False))],\n",
       "         verbose=False)"
      ]
     },
     "execution_count": 147,
     "metadata": {},
     "output_type": "execute_result"
    }
   ],
   "source": [
    "rfc_model"
   ]
  },
  {
   "cell_type": "code",
   "execution_count": 136,
   "metadata": {},
   "outputs": [
    {
     "data": {
      "text/plain": [
       "Pipeline(memory=None,\n",
       "         steps=[('vect',\n",
       "                 CountVectorizer(analyzer='word', binary=False,\n",
       "                                 decode_error='strict',\n",
       "                                 dtype=<class 'numpy.int64'>, encoding='utf-8',\n",
       "                                 input='content', lowercase=True, max_df=1.0,\n",
       "                                 max_features=None, min_df=1,\n",
       "                                 ngram_range=(1, 1), preprocessor=None,\n",
       "                                 stop_words=None, strip_accents=None,\n",
       "                                 token_pattern='(?u)\\\\b\\\\w\\\\w+\\\\b',\n",
       "                                 tokenizer=None, vocabulary=Non...\n",
       "                 RandomForestClassifier(bootstrap=True, ccp_alpha=0.0,\n",
       "                                        class_weight=None, criterion='gini',\n",
       "                                        max_depth=None, max_features='auto',\n",
       "                                        max_leaf_nodes=None, max_samples=None,\n",
       "                                        min_impurity_decrease=0.0,\n",
       "                                        min_impurity_split=None,\n",
       "                                        min_samples_leaf=1, min_samples_split=2,\n",
       "                                        min_weight_fraction_leaf=0.0,\n",
       "                                        n_estimators=50, n_jobs=None,\n",
       "                                        oob_score=False, random_state=None,\n",
       "                                        verbose=0, warm_start=False))],\n",
       "         verbose=False)"
      ]
     },
     "execution_count": 136,
     "metadata": {},
     "output_type": "execute_result"
    }
   ],
   "source": [
    "#why is this model so good?\n",
    "model"
   ]
  },
  {
   "cell_type": "code",
   "execution_count": 248,
   "metadata": {},
   "outputs": [
    {
     "data": {
      "text/plain": [
       "Pipeline(memory=None,\n",
       "         steps=[('vect',\n",
       "                 CountVectorizer(analyzer='word', binary=False,\n",
       "                                 decode_error='strict',\n",
       "                                 dtype=<class 'numpy.int64'>, encoding='utf-8',\n",
       "                                 input='content', lowercase=True, max_df=1.0,\n",
       "                                 max_features=None, min_df=1,\n",
       "                                 ngram_range=(1, 1), preprocessor=None,\n",
       "                                 stop_words=None, strip_accents=None,\n",
       "                                 token_pattern='(?u)\\\\b\\\\w\\\\w+\\\\b',\n",
       "                                 tokenizer=None, vocabulary=Non...\n",
       "                 RandomForestClassifier(bootstrap=True, ccp_alpha=0.0,\n",
       "                                        class_weight=None, criterion='gini',\n",
       "                                        max_depth=12, max_features='auto',\n",
       "                                        max_leaf_nodes=None, max_samples=None,\n",
       "                                        min_impurity_decrease=0.0,\n",
       "                                        min_impurity_split=None,\n",
       "                                        min_samples_leaf=4, min_samples_split=2,\n",
       "                                        min_weight_fraction_leaf=0.0,\n",
       "                                        n_estimators=75, n_jobs=None,\n",
       "                                        oob_score=False, random_state=None,\n",
       "                                        verbose=0, warm_start=False))],\n",
       "         verbose=False)"
      ]
     },
     "execution_count": 248,
     "metadata": {},
     "output_type": "execute_result"
    }
   ],
   "source": [
    "#random forest\n",
    "x_train, x_test, y_train, y_test = tts(merged_df['preprocessed'], merged_df['change_binary'], test_size=0.3)\n",
    "\n",
    "rfc_model = Pipeline([\n",
    "    ('vect', CountVectorizer()),\n",
    "    ('tfidf', TfidfTransformer()),\n",
    "    ('clf', RandomForestClassifier(n_estimators=75, min_samples_leaf=4, max_depth=12)),\n",
    "])\n",
    "\n",
    "rfc_model.fit(x_train, y_train)"
   ]
  },
  {
   "cell_type": "code",
   "execution_count": 249,
   "metadata": {},
   "outputs": [
    {
     "data": {
      "text/plain": [
       "0.9376083188908145"
      ]
     },
     "execution_count": 249,
     "metadata": {},
     "output_type": "execute_result"
    }
   ],
   "source": [
    "rfc_model.score(x_train, y_train)"
   ]
  },
  {
   "cell_type": "code",
   "execution_count": 250,
   "metadata": {},
   "outputs": [
    {
     "name": "stdout",
     "output_type": "stream",
     "text": [
      "              precision    recall  f1-score   support\n",
      "\n",
      "           0       0.74      0.62      0.67       136\n",
      "           1       0.61      0.74      0.67       112\n",
      "\n",
      "    accuracy                           0.67       248\n",
      "   macro avg       0.68      0.68      0.67       248\n",
      "weighted avg       0.69      0.67      0.67       248\n",
      "\n"
     ]
    }
   ],
   "source": [
    "rfc_model_predictions = rfc_model.predict(x_test)\n",
    "print(classification_report(y_test, rfc_model_predictions))"
   ]
  },
  {
   "cell_type": "code",
   "execution_count": 135,
   "metadata": {
    "scrolled": true
   },
   "outputs": [
    {
     "name": "stdout",
     "output_type": "stream",
     "text": [
      "              precision    recall  f1-score   support\n",
      "\n",
      "           0       0.93      0.87      0.90       126\n",
      "           1       0.88      0.93      0.90       122\n",
      "\n",
      "    accuracy                           0.90       248\n",
      "   macro avg       0.90      0.90      0.90       248\n",
      "weighted avg       0.91      0.90      0.90       248\n",
      "\n"
     ]
    }
   ],
   "source": [
    "#why is this one so good?\n",
    "rfc_model_predictions = model.predict(x_test)\n",
    "print(classification_report(y_test, rfc_model_predictions))"
   ]
  },
  {
   "cell_type": "code",
   "execution_count": 148,
   "metadata": {},
   "outputs": [
    {
     "ename": "AttributeError",
     "evalue": "'Pipeline' object has no attribute 'to_pickle'",
     "output_type": "error",
     "traceback": [
      "\u001b[0;31m---------------------------------------------------------------------------\u001b[0m",
      "\u001b[0;31mAttributeError\u001b[0m                            Traceback (most recent call last)",
      "\u001b[0;32m<ipython-input-148-8d960e01d479>\u001b[0m in \u001b[0;36m<module>\u001b[0;34m\u001b[0m\n\u001b[0;32m----> 1\u001b[0;31m \u001b[0mmodel\u001b[0m\u001b[0;34m.\u001b[0m\u001b[0mto_pickle\u001b[0m\u001b[0;34m(\u001b[0m\u001b[0;34m'/Users/jamesmoss/Documents/GitHub/CapstoneProjects/Capstone4/good_binary_class_model.pkl'\u001b[0m\u001b[0;34m)\u001b[0m\u001b[0;34m\u001b[0m\u001b[0;34m\u001b[0m\u001b[0m\n\u001b[0m",
      "\u001b[0;31mAttributeError\u001b[0m: 'Pipeline' object has no attribute 'to_pickle'"
     ]
    }
   ],
   "source": [
    "model.to_pickle('/Users/jamesmoss/Documents/GitHub/CapstoneProjects/Capstone4/good_binary_class_model.pkl')"
   ]
  },
  {
   "cell_type": "code",
   "execution_count": 253,
   "metadata": {},
   "outputs": [
    {
     "data": {
      "text/plain": [
       "Pipeline(memory=None,\n",
       "         steps=[('vect',\n",
       "                 CountVectorizer(analyzer='word', binary=False,\n",
       "                                 decode_error='strict',\n",
       "                                 dtype=<class 'numpy.int64'>, encoding='utf-8',\n",
       "                                 input='content', lowercase=True, max_df=1.0,\n",
       "                                 max_features=None, min_df=1,\n",
       "                                 ngram_range=(1, 1), preprocessor=None,\n",
       "                                 stop_words=None, strip_accents=None,\n",
       "                                 token_pattern='(?u)\\\\b\\\\w\\\\w+\\\\b',\n",
       "                                 tokenizer=None, vocabulary=Non...\n",
       "                                  sublinear_tf=False, use_idf=True)),\n",
       "                ('scl',\n",
       "                 StandardScaler(copy=True, with_mean=False, with_std=True)),\n",
       "                ('log',\n",
       "                 LogisticRegression(C=1.0, class_weight=None, dual=False,\n",
       "                                    fit_intercept=True, intercept_scaling=1,\n",
       "                                    l1_ratio=None, max_iter=100,\n",
       "                                    multi_class='auto', n_jobs=None,\n",
       "                                    penalty='l2', random_state=None,\n",
       "                                    solver='lbfgs', tol=0.0001, verbose=0,\n",
       "                                    warm_start=False))],\n",
       "         verbose=False)"
      ]
     },
     "execution_count": 253,
     "metadata": {},
     "output_type": "execute_result"
    }
   ],
   "source": [
    "#logistic regression\n",
    "log_model = Pipeline([\n",
    "    ('vect', CountVectorizer()),\n",
    "    ('tfidf', TfidfTransformer()),\n",
    "    ('scl', StandardScaler(with_mean=False)),\n",
    "    ('log', LogisticRegression()),\n",
    "])\n",
    "\n",
    "log_model.fit(x_train, y_train)"
   ]
  },
  {
   "cell_type": "code",
   "execution_count": 254,
   "metadata": {},
   "outputs": [
    {
     "name": "stdout",
     "output_type": "stream",
     "text": [
      "              precision    recall  f1-score   support\n",
      "\n",
      "           0       0.73      0.66      0.69       136\n",
      "           1       0.63      0.71      0.67       112\n",
      "\n",
      "    accuracy                           0.68       248\n",
      "   macro avg       0.68      0.68      0.68       248\n",
      "weighted avg       0.69      0.68      0.68       248\n",
      "\n"
     ]
    }
   ],
   "source": [
    "log_model_predictions = log_model.predict(x_test)\n",
    "print(classification_report(y_test, log_model_predictions))"
   ]
  },
  {
   "cell_type": "code",
   "execution_count": 229,
   "metadata": {},
   "outputs": [
    {
     "data": {
      "text/plain": [
       "0.9410745233968805"
      ]
     },
     "execution_count": 229,
     "metadata": {},
     "output_type": "execute_result"
    }
   ],
   "source": [
    "# AdaBoost\n",
    "ada_model = Pipeline([\n",
    "    ('vect', CountVectorizer()),\n",
    "    ('tfidf', TfidfTransformer()),\n",
    "    ('log', AdaBoostClassifier()),\n",
    "])\n",
    "ada_model.fit(x_train, y_train)\n",
    "ada_model.score(x_train, y_train)"
   ]
  },
  {
   "cell_type": "code",
   "execution_count": 230,
   "metadata": {},
   "outputs": [
    {
     "name": "stdout",
     "output_type": "stream",
     "text": [
      "              precision    recall  f1-score   support\n",
      "\n",
      "           0       0.68      0.73      0.71       127\n",
      "           1       0.70      0.64      0.67       121\n",
      "\n",
      "    accuracy                           0.69       248\n",
      "   macro avg       0.69      0.69      0.69       248\n",
      "weighted avg       0.69      0.69      0.69       248\n",
      "\n"
     ]
    }
   ],
   "source": [
    "ada_model_predictions = ada_model.predict(x_test)\n",
    "print(classification_report(y_test, ada_model_predictions))"
   ]
  },
  {
   "cell_type": "markdown",
   "metadata": {},
   "source": [
    "#### Post 1993:"
   ]
  },
  {
   "cell_type": "code",
   "execution_count": 287,
   "metadata": {},
   "outputs": [
    {
     "data": {
      "text/html": [
       "<div>\n",
       "<style scoped>\n",
       "    .dataframe tbody tr th:only-of-type {\n",
       "        vertical-align: middle;\n",
       "    }\n",
       "\n",
       "    .dataframe tbody tr th {\n",
       "        vertical-align: top;\n",
       "    }\n",
       "\n",
       "    .dataframe thead th {\n",
       "        text-align: right;\n",
       "    }\n",
       "</style>\n",
       "<table border=\"1\" class=\"dataframe\">\n",
       "  <thead>\n",
       "    <tr style=\"text-align: right;\">\n",
       "      <th></th>\n",
       "      <th>date</th>\n",
       "      <th>filename</th>\n",
       "      <th>raw_text</th>\n",
       "      <th>preprocessed</th>\n",
       "      <th>datetime_min</th>\n",
       "      <th>next_month</th>\n",
       "      <th>DATE</th>\n",
       "      <th>FEDFUNDS</th>\n",
       "      <th>datetime_fed</th>\n",
       "      <th>change</th>\n",
       "      <th>change_cat</th>\n",
       "      <th>change_binary</th>\n",
       "      <th>change_1</th>\n",
       "      <th>change_binary_1</th>\n",
       "    </tr>\n",
       "  </thead>\n",
       "  <tbody>\n",
       "    <tr>\n",
       "      <th>81</th>\n",
       "      <td>19930203</td>\n",
       "      <td>19930203min.txt</td>\n",
       "      <td>Meeting of February 2-3, 1993\\nA meeting of th...</td>\n",
       "      <td>meet februari 1993 meet feder open market comm...</td>\n",
       "      <td>1993-02-03</td>\n",
       "      <td>1993-03-01</td>\n",
       "      <td>1993-03-01</td>\n",
       "      <td>3.07</td>\n",
       "      <td>1993-03-01</td>\n",
       "      <td>0.04</td>\n",
       "      <td>-1</td>\n",
       "      <td>0</td>\n",
       "      <td>0.04</td>\n",
       "      <td>0.0</td>\n",
       "    </tr>\n",
       "    <tr>\n",
       "      <th>80</th>\n",
       "      <td>19930218</td>\n",
       "      <td>FOMC19930218confcall.txt</td>\n",
       "      <td>FEDERAL OPEN MARKET COMMITTEE\\nCONFERENCE CALL...</td>\n",
       "      <td>feder open market committe confer call februar...</td>\n",
       "      <td>1993-02-18</td>\n",
       "      <td>1993-03-01</td>\n",
       "      <td>1993-03-01</td>\n",
       "      <td>3.07</td>\n",
       "      <td>1993-03-01</td>\n",
       "      <td>0.04</td>\n",
       "      <td>-1</td>\n",
       "      <td>0</td>\n",
       "      <td>0.04</td>\n",
       "      <td>0.0</td>\n",
       "    </tr>\n",
       "    <tr>\n",
       "      <th>82</th>\n",
       "      <td>19930301</td>\n",
       "      <td>FOMC19930301confcall.txt</td>\n",
       "      <td>FEDERAL OPEN MARKET COMMITTEE\\nCONFERENCE CALL...</td>\n",
       "      <td>feder open market committe confer call march 1...</td>\n",
       "      <td>1993-03-01</td>\n",
       "      <td>1993-03-01</td>\n",
       "      <td>1993-03-01</td>\n",
       "      <td>3.07</td>\n",
       "      <td>1993-03-01</td>\n",
       "      <td>0.04</td>\n",
       "      <td>-1</td>\n",
       "      <td>0</td>\n",
       "      <td>0.21</td>\n",
       "      <td>1.0</td>\n",
       "    </tr>\n",
       "  </tbody>\n",
       "</table>\n",
       "</div>"
      ],
      "text/plain": [
       "        date                  filename  \\\n",
       "81  19930203           19930203min.txt   \n",
       "80  19930218  FOMC19930218confcall.txt   \n",
       "82  19930301  FOMC19930301confcall.txt   \n",
       "\n",
       "                                             raw_text  \\\n",
       "81  Meeting of February 2-3, 1993\\nA meeting of th...   \n",
       "80  FEDERAL OPEN MARKET COMMITTEE\\nCONFERENCE CALL...   \n",
       "82  FEDERAL OPEN MARKET COMMITTEE\\nCONFERENCE CALL...   \n",
       "\n",
       "                                         preprocessed datetime_min next_month  \\\n",
       "81  meet februari 1993 meet feder open market comm...   1993-02-03 1993-03-01   \n",
       "80  feder open market committe confer call februar...   1993-02-18 1993-03-01   \n",
       "82  feder open market committe confer call march 1...   1993-03-01 1993-03-01   \n",
       "\n",
       "          DATE  FEDFUNDS datetime_fed  change  change_cat  change_binary  \\\n",
       "81  1993-03-01      3.07   1993-03-01    0.04          -1              0   \n",
       "80  1993-03-01      3.07   1993-03-01    0.04          -1              0   \n",
       "82  1993-03-01      3.07   1993-03-01    0.04          -1              0   \n",
       "\n",
       "    change_1  change_binary_1  \n",
       "81      0.04              0.0  \n",
       "80      0.04              0.0  \n",
       "82      0.21              1.0  "
      ]
     },
     "execution_count": 287,
     "metadata": {},
     "output_type": "execute_result"
    }
   ],
   "source": [
    "merged_1993_df=merged_df[merged_df['datetime_min'] > '1993-01-01']\n",
    "merged_1993_df.sort_values(by=['datetime_min']).head(3)"
   ]
  },
  {
   "cell_type": "code",
   "execution_count": 288,
   "metadata": {},
   "outputs": [
    {
     "data": {
      "text/plain": [
       "1.0    130\n",
       "0.0    129\n",
       "Name: change_binary_1, dtype: int64"
      ]
     },
     "execution_count": 288,
     "metadata": {},
     "output_type": "execute_result"
    }
   ],
   "source": [
    "merged_1993_df.change_binary_1.value_counts()"
   ]
  },
  {
   "cell_type": "code",
   "execution_count": 263,
   "metadata": {
    "scrolled": true
   },
   "outputs": [
    {
     "name": "stdout",
     "output_type": "stream",
     "text": [
      "<class 'pandas.core.frame.DataFrame'>\n",
      "Int64Index: 260 entries, 1 to 824\n",
      "Data columns (total 12 columns):\n",
      " #   Column         Non-Null Count  Dtype         \n",
      "---  ------         --------------  -----         \n",
      " 0   date           260 non-null    object        \n",
      " 1   filename       260 non-null    object        \n",
      " 2   raw_text       260 non-null    object        \n",
      " 3   preprocessed   260 non-null    object        \n",
      " 4   datetime_min   260 non-null    datetime64[ns]\n",
      " 5   next_month     260 non-null    datetime64[ns]\n",
      " 6   DATE           260 non-null    object        \n",
      " 7   FEDFUNDS       260 non-null    float64       \n",
      " 8   datetime_fed   260 non-null    datetime64[ns]\n",
      " 9   change         260 non-null    float64       \n",
      " 10  change_cat     260 non-null    int64         \n",
      " 11  change_binary  260 non-null    int64         \n",
      "dtypes: datetime64[ns](3), float64(2), int64(2), object(5)\n",
      "memory usage: 36.4+ KB\n"
     ]
    }
   ],
   "source": [
    "merged_1993_df.info()"
   ]
  },
  {
   "cell_type": "code",
   "execution_count": 262,
   "metadata": {},
   "outputs": [
    {
     "name": "stdout",
     "output_type": "stream",
     "text": [
      "              precision    recall  f1-score   support\n",
      "\n",
      "           0       0.94      0.98      0.96        59\n",
      "           1       0.94      0.79      0.86        19\n",
      "\n",
      "    accuracy                           0.94        78\n",
      "   macro avg       0.94      0.89      0.91        78\n",
      "weighted avg       0.94      0.94      0.93        78\n",
      "\n"
     ]
    }
   ],
   "source": [
    "x_train1993, x_test1993, y_train1993, y_test1993 = tts(merged_1993_df['preprocessed'], merged_1993_df['change_binary'], test_size=0.3)\n",
    "\n",
    "rfc_model = Pipeline([\n",
    "    ('vect', CountVectorizer()),\n",
    "    ('tfidf', TfidfTransformer()),\n",
    "    ('clf', RandomForestClassifier(n_estimators=75, min_samples_leaf=4, max_depth=12)),\n",
    "])\n",
    "\n",
    "rfc_model.fit(x_train1993, y_train1993)\n",
    "rfc_model_predictions = model.predict(x_test1993)\n",
    "print(classification_report(y_test1993, rfc_model_predictions))\n"
   ]
  },
  {
   "cell_type": "markdown",
   "metadata": {},
   "source": [
    "Now looking one period into the future:"
   ]
  },
  {
   "cell_type": "code",
   "execution_count": null,
   "metadata": {
    "scrolled": true
   },
   "outputs": [],
   "source": [
    "x_train1993, x_test1993, y_train1993, y_test1993 = tts(merged_1993_df['preprocessed'], merged_1993_df['change_binary_1'], test_size=0.3)\n",
    "\n",
    "rfc_model = Pipeline([\n",
    "    ('vect', CountVectorizer()),\n",
    "    ('tfidf', TfidfTransformer()),\n",
    "    ('clf', RandomForestClassifier(n_estimators=75, min_samples_leaf=4, max_depth=12)),\n",
    "])\n",
    "\n",
    "rfc_model.fit(x_train1993, y_train1993)\n",
    "rfc_model_predictions = model.predict(x_test1993)\n",
    "print(classification_report(y_test1993, rfc_model_predictions))"
   ]
  },
  {
   "cell_type": "markdown",
   "metadata": {},
   "source": [
    "Trying regression, rather than classification:"
   ]
  },
  {
   "cell_type": "code",
   "execution_count": 282,
   "metadata": {},
   "outputs": [
    {
     "name": "stdout",
     "output_type": "stream",
     "text": [
      "0.603802449384434\n",
      "0.47472169127071673\n"
     ]
    }
   ],
   "source": [
    "x_train1993, x_test1993, y_train1993, y_test1993 = tts(merged_1993_df['preprocessed'], merged_1993_df['change'], test_size=0.3)\n",
    "\n",
    "rfc_model = Pipeline([\n",
    "    ('vect', CountVectorizer()),\n",
    "    ('tfidf', TfidfTransformer()),\n",
    "    ('clf', RandomForestRegressor(n_estimators=200, min_samples_leaf=10, max_depth=12)),\n",
    "])\n",
    "\n",
    "rfc_model.fit(x_train1993, y_train1993)\n",
    "#rfc_model_predictions = model.predict(x_test1993)\n",
    "print(rfc_model.score(x_train1993, y_train1993))\n",
    "print(rfc_model.score(x_test1993, y_test1993))\n"
   ]
  },
  {
   "cell_type": "code",
   "execution_count": 265,
   "metadata": {},
   "outputs": [
    {
     "data": {
      "text/plain": [
       "-1    225\n",
       " 1     35\n",
       "Name: change_cat, dtype: int64"
      ]
     },
     "execution_count": 265,
     "metadata": {},
     "output_type": "execute_result"
    }
   ],
   "source": [
    "merged_1993_df['change_cat'].value_counts()"
   ]
  },
  {
   "cell_type": "code",
   "execution_count": 264,
   "metadata": {},
   "outputs": [
    {
     "name": "stdout",
     "output_type": "stream",
     "text": [
      "              precision    recall  f1-score   support\n",
      "\n",
      "          -1       0.00      0.00      0.00        68\n",
      "           0       0.00      0.00      0.00         0\n",
      "           1       0.60      0.90      0.72        10\n",
      "\n",
      "    accuracy                           0.12        78\n",
      "   macro avg       0.20      0.30      0.24        78\n",
      "weighted avg       0.08      0.12      0.09        78\n",
      "\n"
     ]
    },
    {
     "name": "stderr",
     "output_type": "stream",
     "text": [
      "/Users/jamesmoss/opt/anaconda3/lib/python3.7/site-packages/sklearn/metrics/_classification.py:1272: UndefinedMetricWarning: Precision and F-score are ill-defined and being set to 0.0 in labels with no predicted samples. Use `zero_division` parameter to control this behavior.\n",
      "  _warn_prf(average, modifier, msg_start, len(result))\n",
      "/Users/jamesmoss/opt/anaconda3/lib/python3.7/site-packages/sklearn/metrics/_classification.py:1272: UndefinedMetricWarning: Recall and F-score are ill-defined and being set to 0.0 in labels with no true samples. Use `zero_division` parameter to control this behavior.\n",
      "  _warn_prf(average, modifier, msg_start, len(result))\n"
     ]
    }
   ],
   "source": [
    "#Now trying to predict multiple classes:\n",
    "\n",
    "x_train1993, x_test1993, y_train1993, y_test1993 = tts(merged_1993_df['preprocessed'], merged_1993_df['change_cat'], test_size=0.3)\n",
    "\n",
    "rfc_model = Pipeline([\n",
    "    ('vect', CountVectorizer()),\n",
    "    ('tfidf', TfidfTransformer()),\n",
    "    ('clf', RandomForestClassifier(n_estimators=75, min_samples_leaf=4, max_depth=12)),\n",
    "])\n",
    "\n",
    "rfc_model.fit(x_train1993, y_train1993)\n",
    "rfc_model_predictions = model.predict(x_test1993)\n",
    "print(classification_report(y_test1993, rfc_model_predictions))"
   ]
  },
  {
   "cell_type": "markdown",
   "metadata": {},
   "source": [
    "1993 is when the modern minutes of the FOMC developed, and they began to become more transparent about planning with the public. You can see that the predictive power of the model greatly improves"
   ]
  },
  {
   "cell_type": "markdown",
   "metadata": {},
   "source": [
    "## Extra Code:"
   ]
  },
  {
   "cell_type": "code",
   "execution_count": null,
   "metadata": {
    "scrolled": true
   },
   "outputs": [],
   "source": [
    "#creating the corpus\n",
    "meeting_types=['MoA', 'fomcminutes', 'fomcmoa', 'minutesv', 'fomchistmin']\n",
    "pdf_url_base='https://fraser.stlouisfed.org/files/docs/historical/FOMC/meetingdocuments/'\n",
    "file_destination_path='/Users/jamesmoss/Documents/GitHub/Notes and Exercises/IndividualExercises/Week15/FedMinutes/'\n",
    "\n",
    "for date_string in minutes2['datestring']:\n",
    "    try:\n",
    "        r2=requests.get(pdf_url_base+date_string+meeting_type[0]+'.pdf')\n",
    "        #request(pdf_url_base+date_string+meeting_type[0]+'.pdf', file_destination_path+date_string+'.pdf')\n",
    "    except:\n",
    "        try:\n",
    "            r2=requests.get(pdf_url_base+date_string+meeting_type[1]+'.pdf')\n",
    "            time.sleep(1)\n",
    "        except:\n",
    "            try:\n",
    "                r2=requests.get(pdf_url_base+date_string+meeting_type[2]+'.pdf')\n",
    "                time.sleep(1)\n",
    "            except:\n",
    "                try:\n",
    "                    r2=requests.get(pdf_url_base+date_string+meeting_type[3]+'.pdf')\n",
    "                    time.sleep(1)\n",
    "                except:\n",
    "                    print(date_string)\n",
    "    with open(file_destination_path+'pdfs/'+date_string+'.pdf', 'wb') as f:\n",
    "        f.write(r2.content)\n",
    "\n",
    "    with io.BytesIO(r2.content) as open_pdf_file:\n",
    "        pdf_reader = PyPDF2.PdfFileReader(open_pdf_file)\n",
    "        num_pages = pdf_reader.numPages\n",
    "\n",
    "        if pdf_reader.isEncrypted:\n",
    "            pdf_reader.decrypt(\"\")\n",
    "            #print(pdf_reader.getPage(page).extractText())\n",
    "            with open(file_destination_path+date_string+\".txt\", \"w\") as text_file:\n",
    "                for page in range(num_pages):\n",
    "                    text_file.write(pdf_reader.getPage(page).extractText())\n",
    "        else:\n",
    "            #print(pdf_reader.getPage(page).extractText())\n",
    "            with open(file_destination_path+date_string+\".txt\", \"w\") as text_file:\n",
    "                for page in range(num_pages):\n",
    "                    text_file.write(pdf_reader.getPage(page).extractText())\n",
    "#hopefully multiple meetings didn't occur on the same date\n"
   ]
  },
  {
   "cell_type": "code",
   "execution_count": null,
   "metadata": {},
   "outputs": [],
   "source": [
    "#finished doing 1930s by hand"
   ]
  },
  {
   "cell_type": "code",
   "execution_count": 133,
   "metadata": {
    "scrolled": true
   },
   "outputs": [
    {
     "data": {
      "text/plain": [
       "<div class=\"hidden-xs hidden-sm col-md-5 browse-by-right\">\n",
       "<div class=\"instructions-text\">\n",
       "<div class=\"instructions-text-arrow pull-left\"></div>\n",
       "<div style=\"padding-top: 10%\">Select a resource to view.</div>\n",
       "</div>\n",
       "</div>"
      ]
     },
     "execution_count": 133,
     "metadata": {},
     "output_type": "execute_result"
    }
   ],
   "source": [
    "soup.div.find(attrs={'id':'content'}).find('div', class_='tab-content').find(attrs={'role':'tabpanel'}).div\n",
    "soup.find(class_=\"hidden-xs hidden-sm col-md-5 browse-by-right\")\n",
    "#.find(attrs={'style':'display'})\n"
   ]
  },
  {
   "cell_type": "code",
   "execution_count": 44,
   "metadata": {},
   "outputs": [],
   "source": [
    "#r2=requests.get('https://fraser.stlouisfed.org/files/docs/historical/FOMC/meetingdocuments/19800812MoA.pdf')\n",
    "with io.BytesIO(r2.content) as open_pdf_file:\n",
    "    pdf_reader = PyPDF2.PdfFileReader(open_pdf_file)\n",
    "    num_pages = pdf_reader.numPages\n",
    "\n",
    "    if pdf_reader.isEncrypted:\n",
    "        pdf_reader.decrypt(\"\")\n",
    "        #print(pdf_reader.getPage(page).extractText())\n",
    "        with open(\"/Users/jamesmoss/Documents/GitHub/Notes and Exercises/IndividualExercises/Week15/FedMinutes/test.txt\", \"w\") as text_file:\n",
    "            for page in range(num_pages):\n",
    "                #print(pdf_reader.getPage(page).extractText(), file=text_file)\n",
    "                text_file.write(pdf_reader.getPage(page).extractText())\n",
    "    else:\n",
    "        #print(pdf_reader.getPage(page).extractText())\n",
    "        with open(\"/Users/jamesmoss/Documents/GitHub/Notes and Exercises/IndividualExercises/Week15/FedMinutes/test.txt\", \"w\") as text_file:\n",
    "            for page in range(num_pages):\n",
    "            #print(pdf_reader.getPage(page).extractText(), file=text_file)\n",
    "                text_file.write(pdf_reader.getPage(page).extractText())\n",
    "\n",
    "            \n",
    "            "
   ]
  },
  {
   "cell_type": "code",
   "execution_count": null,
   "metadata": {},
   "outputs": [],
   "source": [
    "with open(date_string\".txt\", \"w\") as text_file:\n",
    "    print(pdf_reader.getPage(page).extractText(), file=text_file)\n"
   ]
  },
  {
   "cell_type": "code",
   "execution_count": null,
   "metadata": {},
   "outputs": [],
   "source": [
    "#Download Historical Minutes (PDF)\n",
    "#Download Minutes of Actions (PDF)\n",
    "\n",
    "# \t Download Minutes of Actions (PDF)\n",
    "    #soup6.find_all(text=re.compile('Historical Minutes'))[0].parent.parent\n",
    "#soup6.find(text=re.compile('Historical Minutes'))[0].parent.parent['href']\n",
    "#soup6.find_all('a', class_='btn')[0].text\n",
    "#text=re.compile('Historical Minutes'))\n",
    "#'Historical Minutes' in s.text or 'Minutes of Action' in s.text\n"
   ]
  },
  {
   "cell_type": "markdown",
   "metadata": {},
   "source": [
    "Notes on hand minutes files:\n",
    "\n",
    "Early minutes template: https://fraser.stlouisfed.org/files/docs/historical/FOMC/meetingdocuments/19500228Minutesv.pdf\n",
    "\n",
    "19560110: \n",
    "https://fraser.stlouisfed.org/files/docs/historical/FOMC/meetingdocuments/fomchistmin19560110.pdf\n",
    "\n",
    "(1950s done)"
   ]
  }
 ],
 "metadata": {
  "kernelspec": {
   "display_name": "Python 3",
   "language": "python",
   "name": "python3"
  },
  "language_info": {
   "codemirror_mode": {
    "name": "ipython",
    "version": 3
   },
   "file_extension": ".py",
   "mimetype": "text/x-python",
   "name": "python",
   "nbconvert_exporter": "python",
   "pygments_lexer": "ipython3",
   "version": "3.7.6"
  }
 },
 "nbformat": 4,
 "nbformat_minor": 4
}
