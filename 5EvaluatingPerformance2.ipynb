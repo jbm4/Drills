{
 "cells": [
  {
   "cell_type": "markdown",
   "metadata": {},
   "source": [
    "## Load the houseprices data from Thinkful's database.\n",
    "Run your house prices model again and assess the goodness of fit of your model using F-test, R-squared, adjusted R-squared, AIC and BIC.\n",
    "Do you think your model is satisfactory? If so, why?\n"
   ]
  },
  {
   "cell_type": "code",
   "execution_count": 2,
   "metadata": {},
   "outputs": [],
   "source": [
    "from sklearn.model_selection import train_test_split\n",
    "import statsmodels.api as sm\n",
    "import statsmodels.formula.api as smf\n",
    "from statsmodels.stats.diagnostic import het_breuschpagan\n",
    "import numpy as np\n",
    "import pandas as pd\n",
    "from sklearn import linear_model\n",
    "import matplotlib.pyplot as plt\n",
    "from sqlalchemy import create_engine\n",
    "import seaborn as sns\n",
    "import matplotlib.pyplot as plt\n",
    "\n",
    "%matplotlib inline\n",
    "\n",
    "import warnings\n",
    "warnings.filterwarnings('ignore')\n"
   ]
  },
  {
   "cell_type": "code",
   "execution_count": 3,
   "metadata": {},
   "outputs": [
    {
     "name": "stdout",
     "output_type": "stream",
     "text": [
      "                            OLS Regression Results                            \n",
      "==============================================================================\n",
      "Dep. Variable:              saleprice   R-squared:                       0.785\n",
      "Model:                            OLS   Adj. R-squared:                  0.783\n",
      "Method:                 Least Squares   F-statistic:                     440.4\n",
      "Date:                Tue, 01 Sep 2020   Prob (F-statistic):               0.00\n",
      "Time:                        22:06:20   Log-Likelihood:                -13104.\n",
      "No. Observations:                1094   AIC:                         2.623e+04\n",
      "Df Residuals:                    1084   BIC:                         2.628e+04\n",
      "Df Model:                           9                                         \n",
      "Covariance Type:            nonrobust                                         \n",
      "================================================================================\n",
      "                   coef    std err          t      P>|t|      [0.025      0.975]\n",
      "--------------------------------------------------------------------------------\n",
      "const         -2.15e+07   5.77e+06     -3.723      0.000   -3.28e+07   -1.02e+07\n",
      "overallqual   1.948e+04   1541.085     12.638      0.000    1.65e+04    2.25e+04\n",
      "grlivarea       50.2831      3.164     15.891      0.000      44.074      56.492\n",
      "garagearea      35.7954      8.440      4.241      0.000      19.235      52.356\n",
      "totalbsmtsf     22.5488      3.815      5.911      0.000      15.064      30.033\n",
      "yearremodadd   421.9231     82.179      5.134      0.000     260.676     583.170\n",
      "yearbuilt     2.093e+04   5848.647      3.578      0.000    9452.588    3.24e+04\n",
      "yrsbltqared     -5.3170      1.497     -3.552      0.000      -8.254      -2.380\n",
      "lotarea          0.7171      0.156      4.600      0.000       0.411       1.023\n",
      "nicehood      3.759e+04   3772.503      9.964      0.000    3.02e+04     4.5e+04\n",
      "==============================================================================\n",
      "Omnibus:                      463.511   Durbin-Watson:                   1.951\n",
      "Prob(Omnibus):                  0.000   Jarque-Bera (JB):            54419.822\n",
      "Skew:                          -0.926   Prob(JB):                         0.00\n",
      "Kurtosis:                      37.502   Cond. No.                     1.92e+10\n",
      "==============================================================================\n",
      "\n",
      "Warnings:\n",
      "[1] Standard Errors assume that the covariance matrix of the errors is correctly specified.\n",
      "[2] The condition number is large, 1.92e+10. This might indicate that there are\n",
      "strong multicollinearity or other numerical problems.\n"
     ]
    }
   ],
   "source": [
    "postgres_user = 'dsbc_student'\n",
    "postgres_pw = '7*.8G9QH21'\n",
    "postgres_host = '142.93.121.174'\n",
    "postgres_port = '5432'\n",
    "postgres_db = 'houseprices'\n",
    "engine = create_engine('postgresql://{}:{}@{}:{}/{}'.format(\n",
    "    postgres_user, postgres_pw, postgres_host, postgres_port, postgres_db))\n",
    "df = pd.read_sql_query('select * from houseprices',con=engine)\n",
    "\n",
    "# no need for an open connection, as we're only doing a single query\n",
    "engine.dispose()\n",
    "drop_cols=[]\n",
    "for col in df.columns:\n",
    "    if df[col].isna().mean()>.4:\n",
    "        drop_cols=drop_cols+[col]\n",
    "df_clean=df.drop(columns=drop_cols).dropna()\n",
    "df_clean['secondflrexists']=0\n",
    "df_clean.loc[df['secondflrsf']>0,'secondflrexists']=1 #can prob drop 2nd fl sq ft\n",
    "df_clean['totalsf']=df_clean['firstflrsf']=+df_clean['secondflrsf']\n",
    "df_clean['yrsbltqared']=df_clean['yearbuilt']*df_clean['yearbuilt']\n",
    "y=df_clean['saleprice']\n",
    "X=df_clean.drop(columns=['saleprice','id'])\n",
    "X.mszoning.dtype==int\n",
    "cat_cols=[c for c in X.columns if X[c].dtype=='O']\n",
    "numeric_cols=[c for c in X.columns if X[c].dtype!='O']\n",
    "niceneighborhoods=['NridgHt', 'NoRidge', 'Somerst', 'Timber', 'Veenker', 'StoneBr']\n",
    "df_clean['nicehood']=0\n",
    "df_clean.loc[df_clean.neighborhood.isin(niceneighborhoods),'nicehood']=1\n",
    "X2 = df_clean[['overallqual','grlivarea', 'garagearea', 'totalbsmtsf','yearremodadd','yearbuilt','yrsbltqared','lotarea','nicehood']]\n",
    "Y2 = df_clean.saleprice\n",
    "X2 = sm.add_constant(X2)\n",
    "results = sm.OLS(Y2, X2).fit()\n",
    "print(results.summary())\n"
   ]
  },
  {
   "cell_type": "markdown",
   "metadata": {},
   "source": [
    "It seems satisfactory. The R2 number is decent (.785). BIC is 26280 (not sure what that means). The F-statistic is practically 0. All the variables are significant (and their coefficients make intuitive sense)"
   ]
  },
  {
   "cell_type": "markdown",
   "metadata": {},
   "source": [
    "## In order to improve the goodness of fit of your model, try different model specifications by adding or removing some variables.\n"
   ]
  },
  {
   "cell_type": "code",
   "execution_count": 4,
   "metadata": {},
   "outputs": [
    {
     "name": "stdout",
     "output_type": "stream",
     "text": [
      "<class 'pandas.core.frame.DataFrame'>\n",
      "Int64Index: 1094 entries, 0 to 1459\n",
      "Data columns (total 80 columns):\n",
      " #   Column           Non-Null Count  Dtype  \n",
      "---  ------           --------------  -----  \n",
      " 0   id               1094 non-null   int64  \n",
      " 1   mssubclass       1094 non-null   int64  \n",
      " 2   mszoning         1094 non-null   object \n",
      " 3   lotfrontage      1094 non-null   float64\n",
      " 4   lotarea          1094 non-null   int64  \n",
      " 5   street           1094 non-null   object \n",
      " 6   lotshape         1094 non-null   object \n",
      " 7   landcontour      1094 non-null   object \n",
      " 8   utilities        1094 non-null   object \n",
      " 9   lotconfig        1094 non-null   object \n",
      " 10  landslope        1094 non-null   object \n",
      " 11  neighborhood     1094 non-null   object \n",
      " 12  condition1       1094 non-null   object \n",
      " 13  condition2       1094 non-null   object \n",
      " 14  bldgtype         1094 non-null   object \n",
      " 15  housestyle       1094 non-null   object \n",
      " 16  overallqual      1094 non-null   int64  \n",
      " 17  overallcond      1094 non-null   int64  \n",
      " 18  yearbuilt        1094 non-null   int64  \n",
      " 19  yearremodadd     1094 non-null   int64  \n",
      " 20  roofstyle        1094 non-null   object \n",
      " 21  roofmatl         1094 non-null   object \n",
      " 22  exterior1st      1094 non-null   object \n",
      " 23  exterior2nd      1094 non-null   object \n",
      " 24  masvnrtype       1094 non-null   object \n",
      " 25  masvnrarea       1094 non-null   float64\n",
      " 26  exterqual        1094 non-null   object \n",
      " 27  extercond        1094 non-null   object \n",
      " 28  foundation       1094 non-null   object \n",
      " 29  bsmtqual         1094 non-null   object \n",
      " 30  bsmtcond         1094 non-null   object \n",
      " 31  bsmtexposure     1094 non-null   object \n",
      " 32  bsmtfintype1     1094 non-null   object \n",
      " 33  bsmtfinsf1       1094 non-null   int64  \n",
      " 34  bsmtfintype2     1094 non-null   object \n",
      " 35  bsmtfinsf2       1094 non-null   int64  \n",
      " 36  bsmtunfsf        1094 non-null   int64  \n",
      " 37  totalbsmtsf      1094 non-null   int64  \n",
      " 38  heating          1094 non-null   object \n",
      " 39  heatingqc        1094 non-null   object \n",
      " 40  centralair       1094 non-null   object \n",
      " 41  electrical       1094 non-null   object \n",
      " 42  firstflrsf       1094 non-null   int64  \n",
      " 43  secondflrsf      1094 non-null   int64  \n",
      " 44  lowqualfinsf     1094 non-null   int64  \n",
      " 45  grlivarea        1094 non-null   int64  \n",
      " 46  bsmtfullbath     1094 non-null   int64  \n",
      " 47  bsmthalfbath     1094 non-null   int64  \n",
      " 48  fullbath         1094 non-null   int64  \n",
      " 49  halfbath         1094 non-null   int64  \n",
      " 50  bedroomabvgr     1094 non-null   int64  \n",
      " 51  kitchenabvgr     1094 non-null   int64  \n",
      " 52  kitchenqual      1094 non-null   object \n",
      " 53  totrmsabvgrd     1094 non-null   int64  \n",
      " 54  functional       1094 non-null   object \n",
      " 55  fireplaces       1094 non-null   int64  \n",
      " 56  garagetype       1094 non-null   object \n",
      " 57  garageyrblt      1094 non-null   float64\n",
      " 58  garagefinish     1094 non-null   object \n",
      " 59  garagecars       1094 non-null   int64  \n",
      " 60  garagearea       1094 non-null   int64  \n",
      " 61  garagequal       1094 non-null   object \n",
      " 62  garagecond       1094 non-null   object \n",
      " 63  paveddrive       1094 non-null   object \n",
      " 64  wooddecksf       1094 non-null   int64  \n",
      " 65  openporchsf      1094 non-null   int64  \n",
      " 66  enclosedporch    1094 non-null   int64  \n",
      " 67  threessnporch    1094 non-null   int64  \n",
      " 68  screenporch      1094 non-null   int64  \n",
      " 69  poolarea         1094 non-null   int64  \n",
      " 70  miscval          1094 non-null   int64  \n",
      " 71  mosold           1094 non-null   int64  \n",
      " 72  yrsold           1094 non-null   int64  \n",
      " 73  saletype         1094 non-null   object \n",
      " 74  salecondition    1094 non-null   object \n",
      " 75  saleprice        1094 non-null   int64  \n",
      " 76  secondflrexists  1094 non-null   int64  \n",
      " 77  totalsf          1094 non-null   int64  \n",
      " 78  yrsbltqared      1094 non-null   int64  \n",
      " 79  nicehood         1094 non-null   int64  \n",
      "dtypes: float64(3), int64(39), object(38)\n",
      "memory usage: 692.3+ KB\n"
     ]
    }
   ],
   "source": [
    "df_clean.info()"
   ]
  },
  {
   "cell_type": "code",
   "execution_count": 7,
   "metadata": {},
   "outputs": [
    {
     "name": "stdout",
     "output_type": "stream",
     "text": [
      "                            OLS Regression Results                            \n",
      "==============================================================================\n",
      "Dep. Variable:              saleprice   R-squared:                       0.789\n",
      "Model:                            OLS   Adj. R-squared:                  0.787\n",
      "Method:                 Least Squares   F-statistic:                     404.0\n",
      "Date:                Tue, 01 Sep 2020   Prob (F-statistic):               0.00\n",
      "Time:                        22:14:20   Log-Likelihood:                -13095.\n",
      "No. Observations:                1094   AIC:                         2.621e+04\n",
      "Df Residuals:                    1083   BIC:                         2.627e+04\n",
      "Df Model:                          10                                         \n",
      "Covariance Type:            nonrobust                                         \n",
      "================================================================================\n",
      "                   coef    std err          t      P>|t|      [0.025      0.975]\n",
      "--------------------------------------------------------------------------------\n",
      "const        -1.639e+07   5.86e+06     -2.796      0.005   -2.79e+07   -4.89e+06\n",
      "overallqual   1.794e+04   1573.956     11.398      0.000    1.49e+04     2.1e+04\n",
      "grlivarea       46.7645      3.254     14.373      0.000      40.380      53.149\n",
      "garagearea      38.4333      8.402      4.574      0.000      21.948      54.919\n",
      "totalbsmtsf     21.1282      3.802      5.557      0.000      13.668      28.588\n",
      "yearremodadd   423.7469     81.574      5.195      0.000     263.686     583.808\n",
      "yearbuilt      1.57e+04   5940.985      2.643      0.008    4045.207    2.74e+04\n",
      "yrsbltqared     -3.9776      1.521     -2.615      0.009      -6.962      -0.994\n",
      "lotarea          0.6580      0.155      4.235      0.000       0.353       0.963\n",
      "nicehood      3.703e+04   3747.165      9.881      0.000    2.97e+04    4.44e+04\n",
      "fireplaces    9211.6896   2223.419      4.143      0.000    4848.993    1.36e+04\n",
      "==============================================================================\n",
      "Omnibus:                      440.331   Durbin-Watson:                   1.959\n",
      "Prob(Omnibus):                  0.000   Jarque-Bera (JB):            54501.293\n",
      "Skew:                          -0.805   Prob(JB):                         0.00\n",
      "Kurtosis:                      37.541   Cond. No.                     1.97e+10\n",
      "==============================================================================\n",
      "\n",
      "Warnings:\n",
      "[1] Standard Errors assume that the covariance matrix of the errors is correctly specified.\n",
      "[2] The condition number is large, 1.97e+10. This might indicate that there are\n",
      "strong multicollinearity or other numerical problems.\n"
     ]
    }
   ],
   "source": [
    "X3 = df_clean[['overallqual','grlivarea', 'garagearea', 'totalbsmtsf','yearremodadd','yearbuilt','yrsbltqared','lotarea','nicehood','fireplaces']]\n",
    "Y3 = df_clean.saleprice\n",
    "X3 = sm.add_constant(X3)\n",
    "results3 = sm.OLS(Y3, X3).fit()\n",
    "print(results3.summary())\n"
   ]
  },
  {
   "cell_type": "markdown",
   "metadata": {},
   "source": [
    "Adding a fireplaces term increased R2 and decreased BIC a little bit. You can see that each fireplace increased the value by around 9000 dollars."
   ]
  },
  {
   "cell_type": "code",
   "execution_count": 10,
   "metadata": {},
   "outputs": [
    {
     "name": "stdout",
     "output_type": "stream",
     "text": [
      "                            OLS Regression Results                            \n",
      "==============================================================================\n",
      "Dep. Variable:              saleprice   R-squared:                       0.792\n",
      "Model:                            OLS   Adj. R-squared:                  0.789\n",
      "Method:                 Least Squares   F-statistic:                     342.2\n",
      "Date:                Tue, 01 Sep 2020   Prob (F-statistic):               0.00\n",
      "Time:                        22:23:15   Log-Likelihood:                -13087.\n",
      "No. Observations:                1094   AIC:                         2.620e+04\n",
      "Df Residuals:                    1081   BIC:                         2.627e+04\n",
      "Df Model:                          12                                         \n",
      "Covariance Type:            nonrobust                                         \n",
      "================================================================================\n",
      "                   coef    std err          t      P>|t|      [0.025      0.975]\n",
      "--------------------------------------------------------------------------------\n",
      "const        -1.606e+07   5.85e+06     -2.748      0.006   -2.75e+07   -4.59e+06\n",
      "overallqual   1.778e+04   1564.679     11.361      0.000    1.47e+04    2.08e+04\n",
      "grlivarea       46.6811      3.287     14.201      0.000      40.231      53.131\n",
      "garagearea      37.5858      8.352      4.500      0.000      21.198      53.974\n",
      "totalbsmtsf     22.1116      3.806      5.809      0.000      14.643      29.580\n",
      "yearremodadd   404.6321     81.454      4.968      0.000     244.806     564.458\n",
      "yearbuilt     1.542e+04   5922.808      2.603      0.009    3795.792     2.7e+04\n",
      "yrsbltqared     -3.9085      1.516     -2.578      0.010      -6.883      -0.934\n",
      "lotarea          0.6393      0.155      4.134      0.000       0.336       0.943\n",
      "nicehood      3.641e+04   3730.388      9.759      0.000    2.91e+04    4.37e+04\n",
      "fireplaces    9028.5629   2210.574      4.084      0.000    4691.060    1.34e+04\n",
      "wooddecksf      30.8282     10.048      3.068      0.002      11.113      50.543\n",
      "poolarea       -71.4463     29.384     -2.431      0.015    -129.102     -13.790\n",
      "==============================================================================\n",
      "Omnibus:                      362.144   Durbin-Watson:                   1.953\n",
      "Prob(Omnibus):                  0.000   Jarque-Bera (JB):            45571.052\n",
      "Skew:                          -0.386   Prob(JB):                         0.00\n",
      "Kurtosis:                      34.609   Cond. No.                     1.97e+10\n",
      "==============================================================================\n",
      "\n",
      "Warnings:\n",
      "[1] Standard Errors assume that the covariance matrix of the errors is correctly specified.\n",
      "[2] The condition number is large, 1.97e+10. This might indicate that there are\n",
      "strong multicollinearity or other numerical problems.\n"
     ]
    }
   ],
   "source": [
    "X4 = df_clean[['overallqual','grlivarea', 'garagearea', 'totalbsmtsf','yearremodadd','yearbuilt','yrsbltqared','lotarea','nicehood','fireplaces', 'wooddecksf','poolarea']]\n",
    "Y4 = df_clean.saleprice\n",
    "X4 = sm.add_constant(X4)\n",
    "results4 = sm.OLS(Y4, X4).fit()\n",
    "print(results4.summary())\n"
   ]
  },
  {
   "cell_type": "markdown",
   "metadata": {},
   "source": [
    "Adding pool area and deck sf somewhat improve our R2 but not the BIC."
   ]
  },
  {
   "cell_type": "code",
   "execution_count": 11,
   "metadata": {},
   "outputs": [
    {
     "name": "stdout",
     "output_type": "stream",
     "text": [
      "                            OLS Regression Results                            \n",
      "==============================================================================\n",
      "Dep. Variable:              saleprice   R-squared:                       0.789\n",
      "Model:                            OLS   Adj. R-squared:                  0.787\n",
      "Method:                 Least Squares   F-statistic:                     368.2\n",
      "Date:                Tue, 01 Sep 2020   Prob (F-statistic):               0.00\n",
      "Time:                        22:29:09   Log-Likelihood:                -13094.\n",
      "No. Observations:                1094   AIC:                         2.621e+04\n",
      "Df Residuals:                    1082   BIC:                         2.627e+04\n",
      "Df Model:                          11                                         \n",
      "Covariance Type:            nonrobust                                         \n",
      "================================================================================\n",
      "                   coef    std err          t      P>|t|      [0.025      0.975]\n",
      "--------------------------------------------------------------------------------\n",
      "const        -1.408e+07   6.01e+06     -2.341      0.019   -2.59e+07   -2.28e+06\n",
      "overallqual   1.779e+04   1575.086     11.294      0.000    1.47e+04    2.09e+04\n",
      "grlivarea       46.9321      3.252     14.431      0.000      40.551      53.314\n",
      "garagearea      38.4859      8.394      4.585      0.000      22.015      54.957\n",
      "totalbsmtsf     21.1576      3.799      5.570      0.000      13.704      28.611\n",
      "yearremodadd   400.3519     82.646      4.844      0.000     238.188     562.516\n",
      "yearbuilt     1.339e+04   6087.902      2.200      0.028    1447.588    2.53e+04\n",
      "yrsbltqared     -3.3927      1.558     -2.178      0.030      -6.449      -0.337\n",
      "lotarea          0.6570      0.155      4.232      0.000       0.352       0.962\n",
      "nicehood      3.728e+04   3746.830      9.950      0.000    2.99e+04    4.46e+04\n",
      "fireplaces    8897.5651   2229.062      3.992      0.000    4523.792    1.33e+04\n",
      "CentralAC     9885.1557   5789.852      1.707      0.088   -1475.454    2.12e+04\n",
      "==============================================================================\n",
      "Omnibus:                      439.008   Durbin-Watson:                   1.961\n",
      "Prob(Omnibus):                  0.000   Jarque-Bera (JB):            54938.585\n",
      "Skew:                          -0.796   Prob(JB):                         0.00\n",
      "Kurtosis:                      37.680   Cond. No.                     2.02e+10\n",
      "==============================================================================\n",
      "\n",
      "Warnings:\n",
      "[1] Standard Errors assume that the covariance matrix of the errors is correctly specified.\n",
      "[2] The condition number is large, 2.02e+10. This might indicate that there are\n",
      "strong multicollinearity or other numerical problems.\n"
     ]
    }
   ],
   "source": [
    "df_clean['CentralAC']=0\n",
    "df_clean.loc[df_clean['centralair']=='Y','CentralAC']=1\n",
    "X4 = df_clean[['overallqual','grlivarea', 'garagearea', 'totalbsmtsf','yearremodadd','yearbuilt','yrsbltqared','lotarea','nicehood','fireplaces','CentralAC']]\n",
    "Y4 = df_clean.saleprice\n",
    "X4 = sm.add_constant(X4)\n",
    "results4 = sm.OLS(Y4, X4).fit()\n",
    "print(results4.summary())\n"
   ]
  },
  {
   "cell_type": "markdown",
   "metadata": {},
   "source": [
    "Adding a central AC term doesn't improve the R2 at all."
   ]
  },
  {
   "cell_type": "markdown",
   "metadata": {},
   "source": [
    "The best one might be the one that includes fireplaces, wood deck space, and pool area. I don't think any of those were particularly multicolinear, so that isn't much of a problem, plus it explains the most variance."
   ]
  },
  {
   "cell_type": "code",
   "execution_count": null,
   "metadata": {},
   "outputs": [],
   "source": []
  }
 ],
 "metadata": {
  "kernelspec": {
   "display_name": "Python 3",
   "language": "python",
   "name": "python3"
  },
  "language_info": {
   "codemirror_mode": {
    "name": "ipython",
    "version": 3
   },
   "file_extension": ".py",
   "mimetype": "text/x-python",
   "name": "python",
   "nbconvert_exporter": "python",
   "pygments_lexer": "ipython3",
   "version": "3.7.6"
  }
 },
 "nbformat": 4,
 "nbformat_minor": 4
}
