{
 "cells": [
  {
   "cell_type": "markdown",
   "metadata": {},
   "source": [
    "This is a final draft of my potential wordscores calculator before I break up a few of the functions.\n",
    "\n",
    "Able to take in an array representation of a scrabble board and outputs the possible moves and their scores.\n",
    "\n",
    "Method:\n",
    "\n",
    "1. Finds all possible placements of hand letters on a per-row basis\n",
    "\n",
    "2. Checks to see if these words are in the dictionary\n",
    "\n",
    "3. Finds the crossing words the valid words would make\n",
    "\n",
    "4. Checks to see if all crossing words are valid per valid main word\n",
    "\n",
    "5. Scores these words by adding up their tile values, after letter multipliers are applied. Then word multipliers are applied. This is through their interaction with multiplier arrays, which have been masked for tiles previously placed on the board.\n",
    "\n",
    "6. Board is transposed and 1-5 are run again for the column words.\n",
    "\n",
    "Possible improvements:\n",
    "1. Biggest one is improving the time. I think I should be able to check all the crossing words at the same time rather than for each individual main word. It takes around 40 seconds now.\n",
    "    * Actually, at this point, all the time seems to come from generating the permutations\n",
    "    * Almost all the time comes in one for loop that generates the permutations\n",
    "2. Edge words and crossing words should be able to use the same method. You would just have more hook letters and no hand letters for crossing words. Would that be worth it though? Probably not.\n",
    "\n",
    "3. The dictionary I use is slightly different than the official WWF dictionary, so there will be some differences.\n",
    "\n",
    "4. Stop transposing the original board, and just refer to the transposed board when you need it.\n",
    "\n",
    "5. Another strategy could be to pre-separate the dictionary according to word length, then use regex to find which of those words would fit on the board.\n",
    "\n",
    "6. Figure out the \"leave values\" for hand tiles and add them to the board scores to find the expected value of a play.\n",
    "\n",
    "7. Use this for learning moves https://www.cross-tables.com/annolistself.php , (Or perhaps from the scrabblr github)\n",
    "\n",
    "8. Use a more sophisticated version of leave values from here: https://www.cross-tables.com/leaves.php"
   ]
  },
  {
   "cell_type": "code",
   "execution_count": 61,
   "metadata": {},
   "outputs": [
    {
     "data": {
      "application/javascript": [
       "\n",
       "            setTimeout(function() {\n",
       "                var nbb_cell_id = 61;\n",
       "                var nbb_unformatted_code = \"%reload_ext nb_black\";\n",
       "                var nbb_formatted_code = \"%reload_ext nb_black\";\n",
       "                var nbb_cells = Jupyter.notebook.get_cells();\n",
       "                for (var i = 0; i < nbb_cells.length; ++i) {\n",
       "                    if (nbb_cells[i].input_prompt_number == nbb_cell_id) {\n",
       "                        if (nbb_cells[i].get_text() == nbb_unformatted_code) {\n",
       "                             nbb_cells[i].set_text(nbb_formatted_code);\n",
       "                        }\n",
       "                        break;\n",
       "                    }\n",
       "                }\n",
       "            }, 500);\n",
       "            "
      ],
      "text/plain": [
       "<IPython.core.display.Javascript object>"
      ]
     },
     "metadata": {},
     "output_type": "display_data"
    },
    {
     "data": {
      "application/javascript": [
       "\n",
       "            setTimeout(function() {\n",
       "                var nbb_cell_id = 61;\n",
       "                var nbb_unformatted_code = \"%reload_ext nb_black\";\n",
       "                var nbb_formatted_code = \"%reload_ext nb_black\";\n",
       "                var nbb_cells = Jupyter.notebook.get_cells();\n",
       "                for (var i = 0; i < nbb_cells.length; ++i) {\n",
       "                    if (nbb_cells[i].input_prompt_number == nbb_cell_id) {\n",
       "                        if (nbb_cells[i].get_text() == nbb_unformatted_code) {\n",
       "                             nbb_cells[i].set_text(nbb_formatted_code);\n",
       "                        }\n",
       "                        break;\n",
       "                    }\n",
       "                }\n",
       "            }, 500);\n",
       "            "
      ],
      "text/plain": [
       "<IPython.core.display.Javascript object>"
      ]
     },
     "metadata": {},
     "output_type": "display_data"
    }
   ],
   "source": [
    "%reload_ext nb_black"
   ]
  },
  {
   "cell_type": "code",
   "execution_count": 62,
   "metadata": {},
   "outputs": [
    {
     "data": {
      "application/javascript": [
       "\n",
       "            setTimeout(function() {\n",
       "                var nbb_cell_id = 62;\n",
       "                var nbb_unformatted_code = \"import numpy as np\\nimport csv\\nimport itertools\\nimport re\\nfrom collections import defaultdict\\nimport time\";\n",
       "                var nbb_formatted_code = \"import numpy as np\\nimport csv\\nimport itertools\\nimport re\\nfrom collections import defaultdict\\nimport time\";\n",
       "                var nbb_cells = Jupyter.notebook.get_cells();\n",
       "                for (var i = 0; i < nbb_cells.length; ++i) {\n",
       "                    if (nbb_cells[i].input_prompt_number == nbb_cell_id) {\n",
       "                        if (nbb_cells[i].get_text() == nbb_unformatted_code) {\n",
       "                             nbb_cells[i].set_text(nbb_formatted_code);\n",
       "                        }\n",
       "                        break;\n",
       "                    }\n",
       "                }\n",
       "            }, 500);\n",
       "            "
      ],
      "text/plain": [
       "<IPython.core.display.Javascript object>"
      ]
     },
     "metadata": {},
     "output_type": "display_data"
    },
    {
     "data": {
      "application/javascript": [
       "\n",
       "            setTimeout(function() {\n",
       "                var nbb_cell_id = 62;\n",
       "                var nbb_unformatted_code = \"import numpy as np\\nimport csv\\nimport itertools\\nimport re\\nfrom collections import defaultdict\\nimport time\";\n",
       "                var nbb_formatted_code = \"import numpy as np\\nimport csv\\nimport itertools\\nimport re\\nfrom collections import defaultdict\\nimport time\";\n",
       "                var nbb_cells = Jupyter.notebook.get_cells();\n",
       "                for (var i = 0; i < nbb_cells.length; ++i) {\n",
       "                    if (nbb_cells[i].input_prompt_number == nbb_cell_id) {\n",
       "                        if (nbb_cells[i].get_text() == nbb_unformatted_code) {\n",
       "                             nbb_cells[i].set_text(nbb_formatted_code);\n",
       "                        }\n",
       "                        break;\n",
       "                    }\n",
       "                }\n",
       "            }, 500);\n",
       "            "
      ],
      "text/plain": [
       "<IPython.core.display.Javascript object>"
      ]
     },
     "metadata": {},
     "output_type": "display_data"
    }
   ],
   "source": [
    "import numpy as np\n",
    "import csv\n",
    "import itertools\n",
    "import re\n",
    "from collections import defaultdict\n",
    "import time"
   ]
  },
  {
   "cell_type": "code",
   "execution_count": 63,
   "metadata": {},
   "outputs": [
    {
     "data": {
      "application/javascript": [
       "\n",
       "            setTimeout(function() {\n",
       "                var nbb_cell_id = 63;\n",
       "                var nbb_unformatted_code = \"class Scrabbler:\\n    # https://raw.githubusercontent.com/jmlewis/valett/master/scrabble/sowpods.txt\\n    data_path = \\\"../sowpods.txt\\\"  # from above\\n    with open(data_path, newline=\\\"\\\") as f:\\n        reader = csv.reader(f)\\n        allwords = list(reader)\\n    WORDLIST = list(itertools.chain.from_iterable(allwords))\\n    WORDLIST = [x.lower() for x in WORDLIST]\\n    WORDSET = set(WORDLIST)\\n    BOARD_LENGTH = 15\\n    MAX_I = 14\\n    row_mainword_scores = {}\\n    column_mainword_scores = {}\\n\\n    LETTER_MULTIPLIERS = [\\n        [1, 1, 1, 1, 1, 1, 3, 1, 3, 1, 1, 1, 1, 1, 1],  # 0\\n        [1, 1, 2, 1, 1, 1, 1, 1, 1, 1, 1, 1, 2, 1, 1],\\n        [1, 2, 1, 1, 2, 1, 1, 1, 1, 1, 2, 1, 1, 2, 1],  # 2\\n        [1, 1, 1, 3, 1, 1, 1, 1, 1, 1, 1, 3, 1, 1, 1],\\n        [1, 1, 2, 1, 1, 1, 2, 1, 2, 1, 1, 1, 2, 1, 1],  # 4\\n        [1, 1, 1, 1, 1, 3, 1, 1, 1, 3, 1, 1, 1, 1, 1],\\n        [3, 1, 1, 1, 2, 1, 1, 1, 1, 1, 2, 1, 1, 1, 3],  # 6\\n        [1, 1, 1, 1, 1, 1, 1, 1, 1, 1, 1, 1, 1, 1, 1],\\n        [3, 1, 1, 1, 2, 1, 1, 1, 1, 1, 2, 1, 1, 1, 3],  # 8\\n        [1, 1, 1, 1, 1, 3, 1, 1, 1, 3, 1, 1, 1, 1, 1],\\n        [1, 1, 2, 1, 1, 1, 2, 1, 2, 1, 1, 1, 2, 1, 1],  # 10\\n        [1, 1, 1, 3, 1, 1, 1, 1, 1, 1, 1, 3, 1, 1, 1],\\n        [1, 2, 1, 1, 2, 1, 1, 1, 1, 1, 2, 1, 1, 2, 1],  # 12\\n        [1, 1, 2, 1, 1, 1, 1, 1, 1, 1, 1, 1, 2, 1, 1],\\n        [1, 1, 1, 1, 1, 1, 3, 1, 3, 1, 1, 1, 1, 1, 1],  # 14\\n    ]\\n    LETTER_MULTIPLIERS_ARRAY = np.array(LETTER_MULTIPLIERS)\\n\\n    WORD_MULTIPLIERS = [\\n        [1, 1, 1, 3, 1, 1, 1, 1, 1, 1, 1, 3, 1, 1, 1],  # 0\\n        [1, 1, 1, 1, 1, 2, 1, 1, 1, 2, 1, 1, 1, 1, 1],\\n        [1, 1, 1, 1, 1, 1, 1, 1, 1, 1, 1, 1, 1, 1, 1],  # 2\\n        [3, 1, 1, 1, 1, 1, 1, 2, 1, 1, 1, 1, 1, 1, 3],\\n        [1, 1, 1, 1, 1, 1, 1, 1, 1, 1, 1, 1, 1, 1, 1],  # 4\\n        [1, 2, 1, 1, 1, 1, 1, 1, 1, 1, 1, 1, 1, 2, 1],\\n        [1, 1, 1, 1, 1, 1, 1, 1, 1, 1, 1, 1, 1, 1, 1],  # 6\\n        [1, 1, 1, 2, 1, 1, 1, 1, 1, 1, 1, 2, 1, 1, 1],\\n        [1, 1, 1, 1, 1, 1, 1, 1, 1, 1, 1, 1, 1, 1, 1],  # 8\\n        [1, 2, 1, 1, 1, 1, 1, 1, 1, 1, 1, 1, 1, 2, 1],\\n        [1, 1, 1, 1, 1, 1, 1, 1, 1, 1, 1, 1, 1, 1, 1],  # 10\\n        [3, 1, 1, 1, 1, 1, 1, 2, 1, 1, 1, 1, 1, 1, 3],\\n        [1, 1, 1, 1, 1, 1, 1, 1, 1, 1, 1, 1, 1, 1, 1],  # 12\\n        [1, 1, 1, 1, 1, 2, 1, 1, 1, 2, 1, 1, 1, 1, 1],\\n        [1, 1, 1, 3, 1, 1, 1, 1, 1, 1, 1, 3, 1, 1, 1],  # 14\\n    ]\\n    WORD_MULTIPLIERS_ARRAY = np.array(WORD_MULTIPLIERS)\\n\\n    TILE_SCORES = {\\n        \\\"a\\\": 1,\\n        \\\"b\\\": 4,\\n        \\\"c\\\": 4,\\n        \\\"d\\\": 2,\\n        \\\"e\\\": 1,\\n        \\\"f\\\": 4,\\n        \\\"g\\\": 3,\\n        \\\"h\\\": 3,\\n        \\\"i\\\": 1,\\n        \\\"j\\\": 10,\\n        \\\"k\\\": 5,\\n        \\\"l\\\": 2,\\n        \\\"m\\\": 4,\\n        \\\"n\\\": 2,\\n        \\\"o\\\": 1,\\n        \\\"p\\\": 4,\\n        \\\"q\\\": 10,\\n        \\\"r\\\": 1,\\n        \\\"s\\\": 1,\\n        \\\"t\\\": 1,\\n        \\\"u\\\": 2,\\n        \\\"v\\\": 5,\\n        \\\"w\\\": 4,\\n        \\\"x\\\": 8,\\n        \\\"y\\\": 3,\\n        \\\"z\\\": 10,\\n    }\\n\\n    # The leave values for the hand tiles. Basically, the present value of tile in the hand\\n    # Add the the total value of the tiles in the hand to the play on the board to find the\\n    # expected value of a play\\n    LEAVE_VALUES = {\\n        \\\"a\\\": 1.7,\\n        \\\"b\\\": -3.5,\\n        \\\"c\\\": -2.0,\\n        \\\"d\\\": 0.0,\\n        \\\"e\\\": 2.7,\\n        \\\"f\\\": -2.5,\\n        \\\"g\\\": -4.5,\\n        \\\"h\\\": 2.0,\\n        \\\"i\\\": -0.3,\\n        \\\"j\\\": -4.5,\\n        \\\"k\\\": -0.5,\\n        \\\"l\\\": -1.0,\\n        \\\"m\\\": -1.0,\\n        \\\"n\\\": -1.0,\\n        \\\"o\\\": 0.2,\\n        \\\"p\\\": -2.5,\\n        \\\"q\\\": -9.5,\\n        \\\"r\\\": 0.5,\\n        \\\"s\\\": 7.5,\\n        \\\"t\\\": -0.5,\\n        \\\"u\\\": -4.3,\\n        \\\"v\\\": -7.5,\\n        \\\"w\\\": -3.5,\\n        \\\"x\\\": 2.0,\\n        \\\"y\\\": 0.0,\\n        \\\"z\\\": 4.5,\\n    }\\n\\n    def __init__(self, board, hand_letters):\\n        self.board = board\\n        self.hand_letters = hand_letters\\n        # self.T_board = np.copy(board).transpose()  # TODO: should this be here?\\n        # self.board_mask = (np.copy(board) != \\\"\\\").astype(int)\\n\\n    # Navigator functions\\n    def check_yx(self, y, x):\\n        if x > -1 and x < 15 and y > -1 and y < 15:\\n            return bool(self.board[y, x])\\n        else:\\n            return \\\"out\\\"\\n\\n    def check_right(self, y, x):\\n        if x < self.BOARD_LENGTH - 1:\\n            return bool(self.board[y, x + 1]), self.board[y, x + 1]\\n        else:\\n            return \\\"out\\\"\\n\\n    def check_left(self, y, x):\\n        if x > 0:\\n            return bool(self.board[y, x - 1]), self.board[y, x - 1]\\n        else:\\n            return \\\"out\\\"\\n\\n    def check_above(self, y, x):\\n        if y > 0:\\n            return bool(self.board[y - 1, x]), self.board[y - 1, x]\\n        else:\\n            return \\\"out\\\"\\n\\n    def check_below(self, y, x):\\n        if y < self.BOARD_LENGTH - 1:\\n            return bool(self.board[y + 1, x]), self.board[y + 1, x]\\n        else:\\n            return \\\"out\\\"\\n\\n    # For potential words of a given length\\n    # start at the left, travel right (keep track of empties) till you hit a letter\\n    def hand_letter_permutations(self, length):\\n        # this returns a list of permutations of the hand letters of a given length\\n        letter_permutations = list(itertools.permutations(self.hand_letters, length))\\n        return letter_permutations\\n\\n    # Find all the possible ways of placing tiles on the board in a row\\n    # TODO: how to speed up this? It takes around 40 seconds in total, almost all the time of the program\\n    def row_permutations(self, row):\\n        y = row\\n        board_row = self.board[row]\\n\\n        # no_ means \\\"number of\\\" here\\n        no_hand_letters = len(self.hand_letters)\\n        no_pre_filled = sum(list(map(bool, board_row)))\\n        row_perms_dict = {}\\n\\n        if no_pre_filled > 0:\\n            for perm_len in range(1, no_hand_letters + 1):\\n                hand_perms = self.hand_letter_permutations(perm_len)\\n                # for x in range(0, BOARD_LENGTH-(len(self.hand_letters)-1)-no_pre_filled):\\n                # x=0\\n                no_tiles_to_right = no_pre_filled\\n                for hand_perm in hand_perms:\\n                    # while x + no_tiles_to_right+perm_len<self.BOARD_LENGTH:\\n                    x = 0\\n                    if (\\n                        self.check_yx(y, x) == False\\n                    ):  # and sum(list(map(bool,board_row[x:x+no_hand_letters])))\\n                        while True:\\n                            # TODO check this\\n                            if (\\n                                any(\\n                                    board_row[max(0, x - 1) : min(x + perm_len + 1, 14)]\\n                                )\\n                                == True\\n                            ):\\n                                complete_word, word_y, word_x = self.complete_word_y_x(\\n                                    row, x, hand_perm\\n                                )\\n                                if complete_word == []:\\n                                    break\\n                                elif len(complete_word) > perm_len:\\n                                    # TODO: could leave out the part after the and below and delete duplicates later\\n                                    if (\\n                                        complete_word in row_perms_dict\\n                                        and [word_y, word_x]\\n                                        not in row_perms_dict[complete_word]\\n                                    ):\\n                                        row_perms_dict[complete_word].append(\\n                                            [word_y, word_x]\\n                                        )\\n                                    else:\\n                                        row_perms_dict[complete_word] = [\\n                                            [word_y, word_x]\\n                                        ]\\n                            x = x + 1\\n                            if x == self.BOARD_LENGTH:\\n                                break\\n                    # no_tiles_to_right=sum(list(map(bool,board_row[x+1:])))#TODO: +1 here?\\n        return row_perms_dict\\n\\n    # fill the next len(hand_perm) spaces with hand tiles and find the connecting words\\n    # row=y\\n    def complete_word_y_x(self, row, x, hand_perm):\\n        hand_perm = list(hand_perm)\\n        perm_len = len(hand_perm)\\n        X = x\\n        board_row = self.board[row]\\n        y = row\\n        no_filled = 0\\n        filled_tiles = []\\n        left_letters = []\\n        right_letters = []\\n        while self.check_left(y, x)[0] == True:\\n            x = x - 1\\n            left_letters = left_letters + [board_row[x]]\\n        left_letters = left_letters[::-1]\\n        x = X\\n        while no_filled < perm_len:\\n            if self.check_yx(y, x) == True:\\n                filled_tiles = filled_tiles + [board_row[x]]\\n            elif self.check_yx(y, x) == \\\"out\\\":\\n                return [], [], []\\n            elif self.check_yx(y, x) == False:\\n                new_tile = hand_perm.pop(0)\\n                filled_tiles = filled_tiles + [new_tile]\\n                no_filled = no_filled + 1\\n            x = x + 1\\n        x = x - 1\\n        while self.check_right(y, x)[0] == True:\\n            x = x + 1\\n            right_letters = right_letters + [board_row[x]]\\n        complete_word_as_list = left_letters + filled_tiles + right_letters\\n        word_x = X - len(left_letters)\\n        complete_word = \\\"\\\".join(complete_word_as_list)\\n        return complete_word, y, word_x\\n\\n    # Find the crossing words for a given complete_word_y_x info\\n    def find_crosses(self, complete_word, y, x):\\n        crossing_words = set()\\n        count = 0\\n        for tile in complete_word:\\n            # TODO: don't think I need this if part, only the last part and len(crossing_word)>1\\n            if (\\n                self.check_above(y, x)[0] == True or self.check_below(y, x)[0] == True\\n            ) and self.board[y, x] != tile:\\n                crossing_word, T_y, T_x = self.crossing_words_at_tile(tile, y, x)\\n                if len(crossing_word) > 1:\\n                    crossing_words.add((crossing_word, T_y, T_x))\\n            x = x + 1\\n        # TODO should I use/fix this?\\n        #         if count == 1 and len(crossing_words) == 0:\\n        #             crossing_words.add((edge_letter, edge_y, edge_x))\\n        if len(crossing_words) == 0:\\n            crossing_words.add((\\\"\\\", -1, -1))\\n        return crossing_words\\n\\n    # Enter a tile and its location and return the crosses that it makes\\n    def crossing_words_at_tile(self, tile, y, x):\\n        # We will be using the transpose board so y and x are switched\\n        self.board = self.board.transpose()\\n        y, x = x, y\\n        crossing_word, T_y, T_x = self.complete_word_y_x(y, x, (tile))\\n        self.board = self.board.transpose()\\n        return crossing_word, T_y, T_x\\n\\n    # insert the \\\"hook letter\\\" into a shadow board and find the output connected to that\\n    # assume the board has already been transposed and you are operating with the right y and x\\n    # TODO: probably better to create a copy and remove from that\\n    def edge_perms(self, hook_letter, y, x):\\n        self.board[y, x] = hook_letter\\n        self.hand_letters.remove(hook_letter)\\n        shadow_row_perms = self.row_permutations(y)\\n        edge_perms_dict = {\\n            k: v\\n            for (k, v) in shadow_row_perms.items()\\n            if v[0][1] <= x\\n            and v[0][1] + len(k)\\n            >= x  # TODO: see if I really need to put out a nested list here\\n        }\\n\\n        self.hand_letters.append(hook_letter)\\n        self.board[y, x] = \\\"\\\"\\n        return edge_perms_dict\\n\\n    # Figure out which permutations are in the dictionary\\n    def find_valid_perms(self):\\n        crossing_set = set()\\n        board_perms_dict = {}\\n\\n        for row in range(0, self.BOARD_LENGTH):\\n            # Debugging\\n            # start = time.time()\\n            row_perms = self.row_permutations(row)\\n            # Debugging\\n            # print(time.time() - start)\\n            for complete_word in row_perms:\\n                if complete_word in board_perms_dict:\\n                    board_perms_dict[complete_word] = (\\n                        board_perms_dict[complete_word] + row_perms[complete_word]\\n                    )\\n                else:\\n                    board_perms_dict[complete_word] = row_perms[complete_word]\\n        perms_set = set(board_perms_dict.keys())\\n        valid_perms = self.WORDSET.intersection(perms_set)\\n        valid_perms_dict = {\\n            k: v for (k, v) in board_perms_dict.items() if k in valid_perms\\n        }\\n        return valid_perms_dict\\n\\n    # use the perms to find crossings and check if they are all valid\\n    # TODO: ask to see if I can somehow check all of these sets at once so I only have to iter through once\\n    def check_crosses(self, valid_perm, y, x):\\n        crosses_with_position = self.find_crosses(valid_perm, y, x)\\n        crossing_words = set([i for i in zip(*crosses_with_position)][0])\\n        crosses_valid = crossing_words.issubset(\\n            self.WORDSET\\n        ) or crosses_with_position == {(\\\"\\\", -1, -1)}\\n        return crosses_valid, crosses_with_position\\n\\n    # make a dictionary of valid plays for one direction as a dictionary of words with a nested crossing dict\\n    # in the first entry of a list that are the values of the dictionary\\n    def valid_plays(self, valid_perms):\\n        # valid_perms = self.find_valid_perms() #TODO is this right to move to a parameter?\\n\\n        valid_plays = defaultdict(lambda: defaultdict(lambda: defaultdict(list)))\\n        for valid_perm in valid_perms:\\n            potential_positions = valid_perms[valid_perm]\\n            for potential_position in potential_positions:\\n                y = potential_position[0]\\n                x = potential_position[1]\\n                crosses_valid, crosses_with_position = self.check_crosses(\\n                    valid_perm, y, x\\n                )\\n                if crosses_valid == True:\\n                    # TODO: I need to be able to add new positionf of the same cross here\\n                    # probably need to make another default dict here\\n                    for cross_with_position in crosses_with_position:\\n                        valid_plays[valid_perm][tuple(potential_position)][\\n                            cross_with_position[0]\\n                        ].append((cross_with_position[1:3]))\\n        return valid_plays\\n\\n    # remember the crosses returned above have the x and y switched, as well as nested default dicts\\n\\n    # Find which tiles of a word originated from the hand\\n    def new_tiles(self, valid_word, y, x):\\n        new_tiles = []\\n        for letter in valid_word:\\n            if self.check_yx(y, x) == False:\\n                new_tiles.append(\\n                    [letter, y, x]\\n                )  # should this really be a dictionary list?\\n            x = x + 1\\n        return new_tiles\\n\\n    # Find which tiles could be used to build a crossing word\\n    def find_edge_hooks(self, valid_plays):\\n        edge_hooks = []\\n        for valid_word in valid_plays:\\n            for position in valid_plays[valid_word]:\\n                y = position[0]\\n                x = position[1]\\n                new_tiles = self.new_tiles(valid_word, y, x)\\n                if len(new_tiles) == 1:\\n                    edge_hooks = edge_hooks + new_tiles\\n        return edge_hooks\\n\\n    # create a dictionary of the valid edge words\\n    # could probably adapt find valid perms above for this\\n    def valid_edge_words(self, edge_hooks):\\n        edge_perms_dict = {}\\n        for hook in edge_hooks:\\n            hook_letter = hook[0]\\n            # x and y are transposed\\n            y = hook[2]\\n            x = hook[1]\\n            edge_perms = self.edge_perms(hook_letter, y, x)\\n\\n            for complete_word in edge_perms:\\n                if complete_word not in edge_perms_dict:\\n                    edge_perms_dict[complete_word] = edge_perms[complete_word]\\n                elif edge_perms[complete_word][0] not in edge_perms_dict[complete_word]:\\n                    edge_perms_dict[complete_word] = (\\n                        edge_perms_dict[complete_word] + edge_perms[complete_word]\\n                    )\\n        # copied from above, checking if perm in the dictionary\\n        edge_perms_set = set(edge_perms_dict.keys())\\n        valid_edge_perms = self.WORDSET.intersection(edge_perms_set)\\n        valid_edge_perms_dict = {\\n            k: v for (k, v) in edge_perms_dict.items() if k in valid_edge_perms\\n        }\\n        return valid_edge_perms_dict\\n\\n    # Flattens the row and column dictionaries, making them more intuitive/combinable\\n    def unpack_dictionary(self, dict1):\\n        new_dict = {}\\n        for word in dict1:\\n            location_crosses = dict1[word]\\n            for location in location_crosses:\\n                crosses_dict = location_crosses[location]\\n                last_word_location = []\\n                for crossing_word in crosses_dict:\\n                    crossing_word_locations = crosses_dict[crossing_word]\\n                    for crossing_location in crossing_word_locations:\\n                        if len(last_word_location) > 0:\\n                            new_dict[(word, location)] = new_dict[\\n                                last_word_location\\n                            ] + (crossing_word, crossing_location)\\n                        else:\\n                            new_dict[(word, location)] = (\\n                                crossing_word,\\n                                crossing_location,\\n                            )\\n                        last_word_location = (word, location)\\n        new_new_dict = {}\\n        for key in new_dict:\\n            crossers_list = new_dict[key]\\n            new_new_dict[key] = tuple(zip(crossers_list, crossers_list[1:]))[::2]\\n        return new_new_dict\\n\\n    # Returns 2 dictionaries of all the valid words and their crosses\\n    def all_board_words(self):\\n\\n        # find the valid row plays\\n        valid_row_perms = self.find_valid_perms()\\n\\n        valid_row_plays = self.valid_plays(valid_row_perms)\\n\\n        # find the edge hooks for the column-wise edge words\\n        edge_hooks_for_columns = self.find_edge_hooks(valid_row_plays)\\n\\n        # transpose\\n        self.board = self.board.transpose()\\n\\n        # find the valid column plays\\n        valid_column_perms = self.find_valid_perms()\\n        valid_column_plays = self.valid_plays(valid_column_perms)\\n\\n        # find the valid column edge plays\\n        valid_column_edge_perms = self.valid_edge_words(edge_hooks_for_columns)\\n        valid_column_edge_plays = self.valid_plays(valid_column_edge_perms)\\n\\n        # find the edge hooks for the row-wise edge words\\n        edge_hooks_for_rows = self.find_edge_hooks(valid_column_plays)\\n\\n        # transpose\\n        self.board = self.board.transpose()\\n\\n        # find the valid row edge plays\\n        valid_row_edge_perms = self.valid_edge_words(edge_hooks_for_rows)\\n        valid_row_edge_plays = self.valid_plays(valid_row_edge_perms)\\n\\n        # transform them all into a more readable format\\n        valid_row_plays = self.unpack_dictionary(valid_row_plays)\\n        valid_row_edge_plays = self.unpack_dictionary(valid_row_edge_plays)\\n        valid_column_plays = self.unpack_dictionary(valid_column_plays)\\n        valid_column_edge_plays = self.unpack_dictionary(valid_column_edge_plays)\\n\\n        # collapse the row and column dictionaries\\n        all_row_words = {**valid_row_plays, **valid_row_edge_plays}\\n        all_column_words = {**valid_column_plays, **valid_column_edge_plays}\\n\\n        # now I have two dictionaries: row and column in the format of:\\n        # {(mainword, y, x): ((crossingword, y, x), (crossingword, y, x), etc)\\n        # (mainword, y, x): ((crossingword, y, x), etc)\\n        # ...\\n        # }\\n        # remember that the y and x of the crossing words refer to a transposed board vis-a-vis the main word\\n        # Also, the crossing words' x and y will be referring to the transposed board, so they are switched\\n\\n        return all_row_words, all_column_words\\n\\n    # calculate the score of a group of tiles (not the whole play)\\n    def calculate_word_score(\\n        self, word, y, x, letter_multipliers_array, word_multipliers_array\\n    ):\\n        letter_multipliers = np.copy(letter_multipliers_array[y, x : x + len(word)])\\n        word_multipliers = np.copy(word_multipliers_array[y, x : x + len(word)])\\n        scores = [self.TILE_SCORES[l] for l in word]\\n        word_score = np.dot(letter_multipliers, scores)\\n        word_score = word_score * np.prod(word_multipliers)\\n        return word_score\\n\\n    # calculating the total value of a main word and its crosses\\n    def total_score(\\n        self, main_word_and_location, crossing_words_and_locations, adjustion=False\\n    ):\\n        letter_multipliers_array = np.copy(self.LETTER_MULTIPLIERS_ARRAY)\\n        word_multipliers_array = np.copy(self.WORD_MULTIPLIERS_ARRAY)\\n\\n        # make the  multipliers==1 if there are pieces on them on the board\\n        # TODO: how permanent is the below?\\n        bool_mask = (self.board != \\\"\\\").astype(int)\\n        letter_multipliers_array = np.where(bool_mask == 1, 1, letter_multipliers_array)\\n        word_multipliers_array = np.where(bool_mask == 1, 1, word_multipliers_array)\\n\\n        main_word = main_word_and_location[0]\\n        y = main_word_and_location[1][0]\\n        x = main_word_and_location[1][1]\\n        m_y, m_x = y, x\\n        main_score = self.calculate_word_score(\\n            main_word, y, x, letter_multipliers_array, word_multipliers_array\\n        )\\n\\n        # transpose the multiplier arrays to use to score the crossing words\\n        T_word_multipliers = np.copy(word_multipliers_array.transpose())\\n        T_letter_multipliers = np.copy(letter_multipliers_array.transpose())\\n\\n        # calculating the crossing words' total score\\n        crossers_score = 0\\n        for crossing_word_and_location in crossing_words_and_locations:\\n            if len(crossing_word_and_location[0]) > 1:\\n                y = crossing_word_and_location[1][0]\\n                x = crossing_word_and_location[1][1]\\n                crossing_word = crossing_word_and_location[0]\\n                crosser_score = self.calculate_word_score(\\n                    crossing_word, y, x, T_letter_multipliers, T_word_multipliers\\n                )\\n            else:\\n                crosser_score = 0\\n            crossers_score = crossers_score + crosser_score\\n        placed_tiles = self.new_tiles(main_word, m_y, m_x)\\n        total_score = main_score + crossers_score + int(len(placed_tiles) == 7) * 35\\n\\n        # allow people to use 'adjusted values', which takes into account the future value of remaining hand tiles\\n        if adjustion == \\\"leave_values\\\":\\n            hand_letters = self.hand_letters.copy()\\n            LEAVE_VALUES_DICT = self.LEAVE_VALUES\\n            for letter in placed_tiles:\\n                hand_letters.remove(letter[0])\\n            hand_value = sum([LEAVE_VALUES_DICT[tile] for tile in hand_letters])\\n            total_score = total_score + hand_value\\n        return total_score\\n\\n    # Create a dictionary of all valid main words and their scores\\n    def valid_score_choices(self, adjustion=False):\\n        board = self.board\\n        hand_letters = self.hand_letters\\n        letter_multiplier_array = self.LETTER_MULTIPLIERS_ARRAY\\n        word_multiplier_array = self.WORD_MULTIPLIERS_ARRAY\\n\\n        # make a transpose board\\n        transpose_board = np.copy(board)\\n        transpose_board = transpose_board.transpose()\\n\\n        # calculate the words/placement allowed by the rules of the game\\n        all_row_words, all_column_words = self.all_board_words()\\n\\n        # create a dictionary of each of these row words along with their score\\n        row_score_dict = {}\\n        column_score_dict = {}\\n        for main_word_and_location in all_row_words:\\n            crossing_words_and_locations = all_row_words[main_word_and_location]\\n            score = self.total_score(\\n                main_word_and_location,\\n                crossing_words_and_locations,\\n                adjustion=adjustion,  # TODO: is this BP?\\n            )\\n            row_score_dict[main_word_and_location] = score\\n\\n        # transpose the board\\n        self.board = self.board.transpose()\\n\\n        # same for the column words\\n        for main_word_and_location in all_column_words:\\n            crossing_words_and_locations = all_column_words[main_word_and_location]\\n            score = self.total_score(\\n                main_word_and_location,\\n                crossing_words_and_locations,\\n                adjustion=adjustion,\\n            )\\n            column_score_dict[main_word_and_location] = score\\n\\n        self.board = self.board.transpose()\\n        self.row_mainword_scores = row_score_dict\\n        self.column_mainword_scores = column_score_dict\\n        return row_score_dict, column_score_dict\\n\\n    # Return the highest scoring k words for rows and columns, if you have already run valid_score_choices\\n    def top_k_words(self, k):\\n        top_k_rows = {\\n            k: v\\n            for k, v in sorted(\\n                self.row_mainword_scores.items(), key=lambda item: item[1], reverse=True\\n            )[:k]\\n        }\\n        top_k_columns = {\\n            k: v\\n            for k, v in sorted(\\n                self.column_mainword_scores.items(),\\n                key=lambda item: item[1],\\n                reverse=True,\\n            )[:k]\\n        }\\n        return top_k_rows, top_k_columns\";\n",
       "                var nbb_formatted_code = \"class Scrabbler:\\n    # https://raw.githubusercontent.com/jmlewis/valett/master/scrabble/sowpods.txt\\n    data_path = \\\"../sowpods.txt\\\"  # from above\\n    with open(data_path, newline=\\\"\\\") as f:\\n        reader = csv.reader(f)\\n        allwords = list(reader)\\n    WORDLIST = list(itertools.chain.from_iterable(allwords))\\n    WORDLIST = [x.lower() for x in WORDLIST]\\n    WORDSET = set(WORDLIST)\\n    BOARD_LENGTH = 15\\n    MAX_I = 14\\n    row_mainword_scores = {}\\n    column_mainword_scores = {}\\n\\n    LETTER_MULTIPLIERS = [\\n        [1, 1, 1, 1, 1, 1, 3, 1, 3, 1, 1, 1, 1, 1, 1],  # 0\\n        [1, 1, 2, 1, 1, 1, 1, 1, 1, 1, 1, 1, 2, 1, 1],\\n        [1, 2, 1, 1, 2, 1, 1, 1, 1, 1, 2, 1, 1, 2, 1],  # 2\\n        [1, 1, 1, 3, 1, 1, 1, 1, 1, 1, 1, 3, 1, 1, 1],\\n        [1, 1, 2, 1, 1, 1, 2, 1, 2, 1, 1, 1, 2, 1, 1],  # 4\\n        [1, 1, 1, 1, 1, 3, 1, 1, 1, 3, 1, 1, 1, 1, 1],\\n        [3, 1, 1, 1, 2, 1, 1, 1, 1, 1, 2, 1, 1, 1, 3],  # 6\\n        [1, 1, 1, 1, 1, 1, 1, 1, 1, 1, 1, 1, 1, 1, 1],\\n        [3, 1, 1, 1, 2, 1, 1, 1, 1, 1, 2, 1, 1, 1, 3],  # 8\\n        [1, 1, 1, 1, 1, 3, 1, 1, 1, 3, 1, 1, 1, 1, 1],\\n        [1, 1, 2, 1, 1, 1, 2, 1, 2, 1, 1, 1, 2, 1, 1],  # 10\\n        [1, 1, 1, 3, 1, 1, 1, 1, 1, 1, 1, 3, 1, 1, 1],\\n        [1, 2, 1, 1, 2, 1, 1, 1, 1, 1, 2, 1, 1, 2, 1],  # 12\\n        [1, 1, 2, 1, 1, 1, 1, 1, 1, 1, 1, 1, 2, 1, 1],\\n        [1, 1, 1, 1, 1, 1, 3, 1, 3, 1, 1, 1, 1, 1, 1],  # 14\\n    ]\\n    LETTER_MULTIPLIERS_ARRAY = np.array(LETTER_MULTIPLIERS)\\n\\n    WORD_MULTIPLIERS = [\\n        [1, 1, 1, 3, 1, 1, 1, 1, 1, 1, 1, 3, 1, 1, 1],  # 0\\n        [1, 1, 1, 1, 1, 2, 1, 1, 1, 2, 1, 1, 1, 1, 1],\\n        [1, 1, 1, 1, 1, 1, 1, 1, 1, 1, 1, 1, 1, 1, 1],  # 2\\n        [3, 1, 1, 1, 1, 1, 1, 2, 1, 1, 1, 1, 1, 1, 3],\\n        [1, 1, 1, 1, 1, 1, 1, 1, 1, 1, 1, 1, 1, 1, 1],  # 4\\n        [1, 2, 1, 1, 1, 1, 1, 1, 1, 1, 1, 1, 1, 2, 1],\\n        [1, 1, 1, 1, 1, 1, 1, 1, 1, 1, 1, 1, 1, 1, 1],  # 6\\n        [1, 1, 1, 2, 1, 1, 1, 1, 1, 1, 1, 2, 1, 1, 1],\\n        [1, 1, 1, 1, 1, 1, 1, 1, 1, 1, 1, 1, 1, 1, 1],  # 8\\n        [1, 2, 1, 1, 1, 1, 1, 1, 1, 1, 1, 1, 1, 2, 1],\\n        [1, 1, 1, 1, 1, 1, 1, 1, 1, 1, 1, 1, 1, 1, 1],  # 10\\n        [3, 1, 1, 1, 1, 1, 1, 2, 1, 1, 1, 1, 1, 1, 3],\\n        [1, 1, 1, 1, 1, 1, 1, 1, 1, 1, 1, 1, 1, 1, 1],  # 12\\n        [1, 1, 1, 1, 1, 2, 1, 1, 1, 2, 1, 1, 1, 1, 1],\\n        [1, 1, 1, 3, 1, 1, 1, 1, 1, 1, 1, 3, 1, 1, 1],  # 14\\n    ]\\n    WORD_MULTIPLIERS_ARRAY = np.array(WORD_MULTIPLIERS)\\n\\n    TILE_SCORES = {\\n        \\\"a\\\": 1,\\n        \\\"b\\\": 4,\\n        \\\"c\\\": 4,\\n        \\\"d\\\": 2,\\n        \\\"e\\\": 1,\\n        \\\"f\\\": 4,\\n        \\\"g\\\": 3,\\n        \\\"h\\\": 3,\\n        \\\"i\\\": 1,\\n        \\\"j\\\": 10,\\n        \\\"k\\\": 5,\\n        \\\"l\\\": 2,\\n        \\\"m\\\": 4,\\n        \\\"n\\\": 2,\\n        \\\"o\\\": 1,\\n        \\\"p\\\": 4,\\n        \\\"q\\\": 10,\\n        \\\"r\\\": 1,\\n        \\\"s\\\": 1,\\n        \\\"t\\\": 1,\\n        \\\"u\\\": 2,\\n        \\\"v\\\": 5,\\n        \\\"w\\\": 4,\\n        \\\"x\\\": 8,\\n        \\\"y\\\": 3,\\n        \\\"z\\\": 10,\\n    }\\n\\n    # The leave values for the hand tiles. Basically, the present value of tile in the hand\\n    # Add the the total value of the tiles in the hand to the play on the board to find the\\n    # expected value of a play\\n    LEAVE_VALUES = {\\n        \\\"a\\\": 1.7,\\n        \\\"b\\\": -3.5,\\n        \\\"c\\\": -2.0,\\n        \\\"d\\\": 0.0,\\n        \\\"e\\\": 2.7,\\n        \\\"f\\\": -2.5,\\n        \\\"g\\\": -4.5,\\n        \\\"h\\\": 2.0,\\n        \\\"i\\\": -0.3,\\n        \\\"j\\\": -4.5,\\n        \\\"k\\\": -0.5,\\n        \\\"l\\\": -1.0,\\n        \\\"m\\\": -1.0,\\n        \\\"n\\\": -1.0,\\n        \\\"o\\\": 0.2,\\n        \\\"p\\\": -2.5,\\n        \\\"q\\\": -9.5,\\n        \\\"r\\\": 0.5,\\n        \\\"s\\\": 7.5,\\n        \\\"t\\\": -0.5,\\n        \\\"u\\\": -4.3,\\n        \\\"v\\\": -7.5,\\n        \\\"w\\\": -3.5,\\n        \\\"x\\\": 2.0,\\n        \\\"y\\\": 0.0,\\n        \\\"z\\\": 4.5,\\n    }\\n\\n    def __init__(self, board, hand_letters):\\n        self.board = board\\n        self.hand_letters = hand_letters\\n        # self.T_board = np.copy(board).transpose()  # TODO: should this be here?\\n        # self.board_mask = (np.copy(board) != \\\"\\\").astype(int)\\n\\n    # Navigator functions\\n    def check_yx(self, y, x):\\n        if x > -1 and x < 15 and y > -1 and y < 15:\\n            return bool(self.board[y, x])\\n        else:\\n            return \\\"out\\\"\\n\\n    def check_right(self, y, x):\\n        if x < self.BOARD_LENGTH - 1:\\n            return bool(self.board[y, x + 1]), self.board[y, x + 1]\\n        else:\\n            return \\\"out\\\"\\n\\n    def check_left(self, y, x):\\n        if x > 0:\\n            return bool(self.board[y, x - 1]), self.board[y, x - 1]\\n        else:\\n            return \\\"out\\\"\\n\\n    def check_above(self, y, x):\\n        if y > 0:\\n            return bool(self.board[y - 1, x]), self.board[y - 1, x]\\n        else:\\n            return \\\"out\\\"\\n\\n    def check_below(self, y, x):\\n        if y < self.BOARD_LENGTH - 1:\\n            return bool(self.board[y + 1, x]), self.board[y + 1, x]\\n        else:\\n            return \\\"out\\\"\\n\\n    # For potential words of a given length\\n    # start at the left, travel right (keep track of empties) till you hit a letter\\n    def hand_letter_permutations(self, length):\\n        # this returns a list of permutations of the hand letters of a given length\\n        letter_permutations = list(itertools.permutations(self.hand_letters, length))\\n        return letter_permutations\\n\\n    # Find all the possible ways of placing tiles on the board in a row\\n    # TODO: how to speed up this? It takes around 40 seconds in total, almost all the time of the program\\n    def row_permutations(self, row):\\n        y = row\\n        board_row = self.board[row]\\n\\n        # no_ means \\\"number of\\\" here\\n        no_hand_letters = len(self.hand_letters)\\n        no_pre_filled = sum(list(map(bool, board_row)))\\n        row_perms_dict = {}\\n\\n        if no_pre_filled > 0:\\n            for perm_len in range(1, no_hand_letters + 1):\\n                hand_perms = self.hand_letter_permutations(perm_len)\\n                # for x in range(0, BOARD_LENGTH-(len(self.hand_letters)-1)-no_pre_filled):\\n                # x=0\\n                no_tiles_to_right = no_pre_filled\\n                for hand_perm in hand_perms:\\n                    # while x + no_tiles_to_right+perm_len<self.BOARD_LENGTH:\\n                    x = 0\\n                    if (\\n                        self.check_yx(y, x) == False\\n                    ):  # and sum(list(map(bool,board_row[x:x+no_hand_letters])))\\n                        while True:\\n                            # TODO check this\\n                            if (\\n                                any(\\n                                    board_row[max(0, x - 1) : min(x + perm_len + 1, 14)]\\n                                )\\n                                == True\\n                            ):\\n                                complete_word, word_y, word_x = self.complete_word_y_x(\\n                                    row, x, hand_perm\\n                                )\\n                                if complete_word == []:\\n                                    break\\n                                elif len(complete_word) > perm_len:\\n                                    # TODO: could leave out the part after the and below and delete duplicates later\\n                                    if (\\n                                        complete_word in row_perms_dict\\n                                        and [word_y, word_x]\\n                                        not in row_perms_dict[complete_word]\\n                                    ):\\n                                        row_perms_dict[complete_word].append(\\n                                            [word_y, word_x]\\n                                        )\\n                                    else:\\n                                        row_perms_dict[complete_word] = [\\n                                            [word_y, word_x]\\n                                        ]\\n                            x = x + 1\\n                            if x == self.BOARD_LENGTH:\\n                                break\\n                    # no_tiles_to_right=sum(list(map(bool,board_row[x+1:])))#TODO: +1 here?\\n        return row_perms_dict\\n\\n    # fill the next len(hand_perm) spaces with hand tiles and find the connecting words\\n    # row=y\\n    def complete_word_y_x(self, row, x, hand_perm):\\n        hand_perm = list(hand_perm)\\n        perm_len = len(hand_perm)\\n        X = x\\n        board_row = self.board[row]\\n        y = row\\n        no_filled = 0\\n        filled_tiles = []\\n        left_letters = []\\n        right_letters = []\\n        while self.check_left(y, x)[0] == True:\\n            x = x - 1\\n            left_letters = left_letters + [board_row[x]]\\n        left_letters = left_letters[::-1]\\n        x = X\\n        while no_filled < perm_len:\\n            if self.check_yx(y, x) == True:\\n                filled_tiles = filled_tiles + [board_row[x]]\\n            elif self.check_yx(y, x) == \\\"out\\\":\\n                return [], [], []\\n            elif self.check_yx(y, x) == False:\\n                new_tile = hand_perm.pop(0)\\n                filled_tiles = filled_tiles + [new_tile]\\n                no_filled = no_filled + 1\\n            x = x + 1\\n        x = x - 1\\n        while self.check_right(y, x)[0] == True:\\n            x = x + 1\\n            right_letters = right_letters + [board_row[x]]\\n        complete_word_as_list = left_letters + filled_tiles + right_letters\\n        word_x = X - len(left_letters)\\n        complete_word = \\\"\\\".join(complete_word_as_list)\\n        return complete_word, y, word_x\\n\\n    # Find the crossing words for a given complete_word_y_x info\\n    def find_crosses(self, complete_word, y, x):\\n        crossing_words = set()\\n        count = 0\\n        for tile in complete_word:\\n            # TODO: don't think I need this if part, only the last part and len(crossing_word)>1\\n            if (\\n                self.check_above(y, x)[0] == True or self.check_below(y, x)[0] == True\\n            ) and self.board[y, x] != tile:\\n                crossing_word, T_y, T_x = self.crossing_words_at_tile(tile, y, x)\\n                if len(crossing_word) > 1:\\n                    crossing_words.add((crossing_word, T_y, T_x))\\n            x = x + 1\\n        # TODO should I use/fix this?\\n        #         if count == 1 and len(crossing_words) == 0:\\n        #             crossing_words.add((edge_letter, edge_y, edge_x))\\n        if len(crossing_words) == 0:\\n            crossing_words.add((\\\"\\\", -1, -1))\\n        return crossing_words\\n\\n    # Enter a tile and its location and return the crosses that it makes\\n    def crossing_words_at_tile(self, tile, y, x):\\n        # We will be using the transpose board so y and x are switched\\n        self.board = self.board.transpose()\\n        y, x = x, y\\n        crossing_word, T_y, T_x = self.complete_word_y_x(y, x, (tile))\\n        self.board = self.board.transpose()\\n        return crossing_word, T_y, T_x\\n\\n    # insert the \\\"hook letter\\\" into a shadow board and find the output connected to that\\n    # assume the board has already been transposed and you are operating with the right y and x\\n    # TODO: probably better to create a copy and remove from that\\n    def edge_perms(self, hook_letter, y, x):\\n        self.board[y, x] = hook_letter\\n        self.hand_letters.remove(hook_letter)\\n        shadow_row_perms = self.row_permutations(y)\\n        edge_perms_dict = {\\n            k: v\\n            for (k, v) in shadow_row_perms.items()\\n            if v[0][1] <= x\\n            and v[0][1] + len(k)\\n            >= x  # TODO: see if I really need to put out a nested list here\\n        }\\n\\n        self.hand_letters.append(hook_letter)\\n        self.board[y, x] = \\\"\\\"\\n        return edge_perms_dict\\n\\n    # Figure out which permutations are in the dictionary\\n    def find_valid_perms(self):\\n        crossing_set = set()\\n        board_perms_dict = {}\\n\\n        for row in range(0, self.BOARD_LENGTH):\\n            # Debugging\\n            # start = time.time()\\n            row_perms = self.row_permutations(row)\\n            # Debugging\\n            # print(time.time() - start)\\n            for complete_word in row_perms:\\n                if complete_word in board_perms_dict:\\n                    board_perms_dict[complete_word] = (\\n                        board_perms_dict[complete_word] + row_perms[complete_word]\\n                    )\\n                else:\\n                    board_perms_dict[complete_word] = row_perms[complete_word]\\n        perms_set = set(board_perms_dict.keys())\\n        valid_perms = self.WORDSET.intersection(perms_set)\\n        valid_perms_dict = {\\n            k: v for (k, v) in board_perms_dict.items() if k in valid_perms\\n        }\\n        return valid_perms_dict\\n\\n    # use the perms to find crossings and check if they are all valid\\n    # TODO: ask to see if I can somehow check all of these sets at once so I only have to iter through once\\n    def check_crosses(self, valid_perm, y, x):\\n        crosses_with_position = self.find_crosses(valid_perm, y, x)\\n        crossing_words = set([i for i in zip(*crosses_with_position)][0])\\n        crosses_valid = crossing_words.issubset(\\n            self.WORDSET\\n        ) or crosses_with_position == {(\\\"\\\", -1, -1)}\\n        return crosses_valid, crosses_with_position\\n\\n    # make a dictionary of valid plays for one direction as a dictionary of words with a nested crossing dict\\n    # in the first entry of a list that are the values of the dictionary\\n    def valid_plays(self, valid_perms):\\n        # valid_perms = self.find_valid_perms() #TODO is this right to move to a parameter?\\n\\n        valid_plays = defaultdict(lambda: defaultdict(lambda: defaultdict(list)))\\n        for valid_perm in valid_perms:\\n            potential_positions = valid_perms[valid_perm]\\n            for potential_position in potential_positions:\\n                y = potential_position[0]\\n                x = potential_position[1]\\n                crosses_valid, crosses_with_position = self.check_crosses(\\n                    valid_perm, y, x\\n                )\\n                if crosses_valid == True:\\n                    # TODO: I need to be able to add new positionf of the same cross here\\n                    # probably need to make another default dict here\\n                    for cross_with_position in crosses_with_position:\\n                        valid_plays[valid_perm][tuple(potential_position)][\\n                            cross_with_position[0]\\n                        ].append((cross_with_position[1:3]))\\n        return valid_plays\\n\\n    # remember the crosses returned above have the x and y switched, as well as nested default dicts\\n\\n    # Find which tiles of a word originated from the hand\\n    def new_tiles(self, valid_word, y, x):\\n        new_tiles = []\\n        for letter in valid_word:\\n            if self.check_yx(y, x) == False:\\n                new_tiles.append(\\n                    [letter, y, x]\\n                )  # should this really be a dictionary list?\\n            x = x + 1\\n        return new_tiles\\n\\n    # Find which tiles could be used to build a crossing word\\n    def find_edge_hooks(self, valid_plays):\\n        edge_hooks = []\\n        for valid_word in valid_plays:\\n            for position in valid_plays[valid_word]:\\n                y = position[0]\\n                x = position[1]\\n                new_tiles = self.new_tiles(valid_word, y, x)\\n                if len(new_tiles) == 1:\\n                    edge_hooks = edge_hooks + new_tiles\\n        return edge_hooks\\n\\n    # create a dictionary of the valid edge words\\n    # could probably adapt find valid perms above for this\\n    def valid_edge_words(self, edge_hooks):\\n        edge_perms_dict = {}\\n        for hook in edge_hooks:\\n            hook_letter = hook[0]\\n            # x and y are transposed\\n            y = hook[2]\\n            x = hook[1]\\n            edge_perms = self.edge_perms(hook_letter, y, x)\\n\\n            for complete_word in edge_perms:\\n                if complete_word not in edge_perms_dict:\\n                    edge_perms_dict[complete_word] = edge_perms[complete_word]\\n                elif edge_perms[complete_word][0] not in edge_perms_dict[complete_word]:\\n                    edge_perms_dict[complete_word] = (\\n                        edge_perms_dict[complete_word] + edge_perms[complete_word]\\n                    )\\n        # copied from above, checking if perm in the dictionary\\n        edge_perms_set = set(edge_perms_dict.keys())\\n        valid_edge_perms = self.WORDSET.intersection(edge_perms_set)\\n        valid_edge_perms_dict = {\\n            k: v for (k, v) in edge_perms_dict.items() if k in valid_edge_perms\\n        }\\n        return valid_edge_perms_dict\\n\\n    # Flattens the row and column dictionaries, making them more intuitive/combinable\\n    def unpack_dictionary(self, dict1):\\n        new_dict = {}\\n        for word in dict1:\\n            location_crosses = dict1[word]\\n            for location in location_crosses:\\n                crosses_dict = location_crosses[location]\\n                last_word_location = []\\n                for crossing_word in crosses_dict:\\n                    crossing_word_locations = crosses_dict[crossing_word]\\n                    for crossing_location in crossing_word_locations:\\n                        if len(last_word_location) > 0:\\n                            new_dict[(word, location)] = new_dict[\\n                                last_word_location\\n                            ] + (crossing_word, crossing_location)\\n                        else:\\n                            new_dict[(word, location)] = (\\n                                crossing_word,\\n                                crossing_location,\\n                            )\\n                        last_word_location = (word, location)\\n        new_new_dict = {}\\n        for key in new_dict:\\n            crossers_list = new_dict[key]\\n            new_new_dict[key] = tuple(zip(crossers_list, crossers_list[1:]))[::2]\\n        return new_new_dict\\n\\n    # Returns 2 dictionaries of all the valid words and their crosses\\n    def all_board_words(self):\\n\\n        # find the valid row plays\\n        valid_row_perms = self.find_valid_perms()\\n\\n        valid_row_plays = self.valid_plays(valid_row_perms)\\n\\n        # find the edge hooks for the column-wise edge words\\n        edge_hooks_for_columns = self.find_edge_hooks(valid_row_plays)\\n\\n        # transpose\\n        self.board = self.board.transpose()\\n\\n        # find the valid column plays\\n        valid_column_perms = self.find_valid_perms()\\n        valid_column_plays = self.valid_plays(valid_column_perms)\\n\\n        # find the valid column edge plays\\n        valid_column_edge_perms = self.valid_edge_words(edge_hooks_for_columns)\\n        valid_column_edge_plays = self.valid_plays(valid_column_edge_perms)\\n\\n        # find the edge hooks for the row-wise edge words\\n        edge_hooks_for_rows = self.find_edge_hooks(valid_column_plays)\\n\\n        # transpose\\n        self.board = self.board.transpose()\\n\\n        # find the valid row edge plays\\n        valid_row_edge_perms = self.valid_edge_words(edge_hooks_for_rows)\\n        valid_row_edge_plays = self.valid_plays(valid_row_edge_perms)\\n\\n        # transform them all into a more readable format\\n        valid_row_plays = self.unpack_dictionary(valid_row_plays)\\n        valid_row_edge_plays = self.unpack_dictionary(valid_row_edge_plays)\\n        valid_column_plays = self.unpack_dictionary(valid_column_plays)\\n        valid_column_edge_plays = self.unpack_dictionary(valid_column_edge_plays)\\n\\n        # collapse the row and column dictionaries\\n        all_row_words = {**valid_row_plays, **valid_row_edge_plays}\\n        all_column_words = {**valid_column_plays, **valid_column_edge_plays}\\n\\n        # now I have two dictionaries: row and column in the format of:\\n        # {(mainword, y, x): ((crossingword, y, x), (crossingword, y, x), etc)\\n        # (mainword, y, x): ((crossingword, y, x), etc)\\n        # ...\\n        # }\\n        # remember that the y and x of the crossing words refer to a transposed board vis-a-vis the main word\\n        # Also, the crossing words' x and y will be referring to the transposed board, so they are switched\\n\\n        return all_row_words, all_column_words\\n\\n    # calculate the score of a group of tiles (not the whole play)\\n    def calculate_word_score(\\n        self, word, y, x, letter_multipliers_array, word_multipliers_array\\n    ):\\n        letter_multipliers = np.copy(letter_multipliers_array[y, x : x + len(word)])\\n        word_multipliers = np.copy(word_multipliers_array[y, x : x + len(word)])\\n        scores = [self.TILE_SCORES[l] for l in word]\\n        word_score = np.dot(letter_multipliers, scores)\\n        word_score = word_score * np.prod(word_multipliers)\\n        return word_score\\n\\n    # calculating the total value of a main word and its crosses\\n    def total_score(\\n        self, main_word_and_location, crossing_words_and_locations, adjustion=False\\n    ):\\n        letter_multipliers_array = np.copy(self.LETTER_MULTIPLIERS_ARRAY)\\n        word_multipliers_array = np.copy(self.WORD_MULTIPLIERS_ARRAY)\\n\\n        # make the  multipliers==1 if there are pieces on them on the board\\n        # TODO: how permanent is the below?\\n        bool_mask = (self.board != \\\"\\\").astype(int)\\n        letter_multipliers_array = np.where(bool_mask == 1, 1, letter_multipliers_array)\\n        word_multipliers_array = np.where(bool_mask == 1, 1, word_multipliers_array)\\n\\n        main_word = main_word_and_location[0]\\n        y = main_word_and_location[1][0]\\n        x = main_word_and_location[1][1]\\n        m_y, m_x = y, x\\n        main_score = self.calculate_word_score(\\n            main_word, y, x, letter_multipliers_array, word_multipliers_array\\n        )\\n\\n        # transpose the multiplier arrays to use to score the crossing words\\n        T_word_multipliers = np.copy(word_multipliers_array.transpose())\\n        T_letter_multipliers = np.copy(letter_multipliers_array.transpose())\\n\\n        # calculating the crossing words' total score\\n        crossers_score = 0\\n        for crossing_word_and_location in crossing_words_and_locations:\\n            if len(crossing_word_and_location[0]) > 1:\\n                y = crossing_word_and_location[1][0]\\n                x = crossing_word_and_location[1][1]\\n                crossing_word = crossing_word_and_location[0]\\n                crosser_score = self.calculate_word_score(\\n                    crossing_word, y, x, T_letter_multipliers, T_word_multipliers\\n                )\\n            else:\\n                crosser_score = 0\\n            crossers_score = crossers_score + crosser_score\\n        placed_tiles = self.new_tiles(main_word, m_y, m_x)\\n        total_score = main_score + crossers_score + int(len(placed_tiles) == 7) * 35\\n\\n        # allow people to use 'adjusted values', which takes into account the future value of remaining hand tiles\\n        if adjustion == \\\"leave_values\\\":\\n            hand_letters = self.hand_letters.copy()\\n            LEAVE_VALUES_DICT = self.LEAVE_VALUES\\n            for letter in placed_tiles:\\n                hand_letters.remove(letter[0])\\n            hand_value = sum([LEAVE_VALUES_DICT[tile] for tile in hand_letters])\\n            total_score = total_score + hand_value\\n        return total_score\\n\\n    # Create a dictionary of all valid main words and their scores\\n    def valid_score_choices(self, adjustion=False):\\n        board = self.board\\n        hand_letters = self.hand_letters\\n        letter_multiplier_array = self.LETTER_MULTIPLIERS_ARRAY\\n        word_multiplier_array = self.WORD_MULTIPLIERS_ARRAY\\n\\n        # make a transpose board\\n        transpose_board = np.copy(board)\\n        transpose_board = transpose_board.transpose()\\n\\n        # calculate the words/placement allowed by the rules of the game\\n        all_row_words, all_column_words = self.all_board_words()\\n\\n        # create a dictionary of each of these row words along with their score\\n        row_score_dict = {}\\n        column_score_dict = {}\\n        for main_word_and_location in all_row_words:\\n            crossing_words_and_locations = all_row_words[main_word_and_location]\\n            score = self.total_score(\\n                main_word_and_location,\\n                crossing_words_and_locations,\\n                adjustion=adjustion,  # TODO: is this BP?\\n            )\\n            row_score_dict[main_word_and_location] = score\\n\\n        # transpose the board\\n        self.board = self.board.transpose()\\n\\n        # same for the column words\\n        for main_word_and_location in all_column_words:\\n            crossing_words_and_locations = all_column_words[main_word_and_location]\\n            score = self.total_score(\\n                main_word_and_location,\\n                crossing_words_and_locations,\\n                adjustion=adjustion,\\n            )\\n            column_score_dict[main_word_and_location] = score\\n\\n        self.board = self.board.transpose()\\n        self.row_mainword_scores = row_score_dict\\n        self.column_mainword_scores = column_score_dict\\n        return row_score_dict, column_score_dict\\n\\n    # Return the highest scoring k words for rows and columns, if you have already run valid_score_choices\\n    def top_k_words(self, k):\\n        top_k_rows = {\\n            k: v\\n            for k, v in sorted(\\n                self.row_mainword_scores.items(), key=lambda item: item[1], reverse=True\\n            )[:k]\\n        }\\n        top_k_columns = {\\n            k: v\\n            for k, v in sorted(\\n                self.column_mainword_scores.items(),\\n                key=lambda item: item[1],\\n                reverse=True,\\n            )[:k]\\n        }\\n        return top_k_rows, top_k_columns\";\n",
       "                var nbb_cells = Jupyter.notebook.get_cells();\n",
       "                for (var i = 0; i < nbb_cells.length; ++i) {\n",
       "                    if (nbb_cells[i].input_prompt_number == nbb_cell_id) {\n",
       "                        if (nbb_cells[i].get_text() == nbb_unformatted_code) {\n",
       "                             nbb_cells[i].set_text(nbb_formatted_code);\n",
       "                        }\n",
       "                        break;\n",
       "                    }\n",
       "                }\n",
       "            }, 500);\n",
       "            "
      ],
      "text/plain": [
       "<IPython.core.display.Javascript object>"
      ]
     },
     "metadata": {},
     "output_type": "display_data"
    },
    {
     "data": {
      "application/javascript": [
       "\n",
       "            setTimeout(function() {\n",
       "                var nbb_cell_id = 63;\n",
       "                var nbb_unformatted_code = \"class Scrabbler:\\n    # https://raw.githubusercontent.com/jmlewis/valett/master/scrabble/sowpods.txt\\n    data_path = \\\"../sowpods.txt\\\"  # from above\\n    with open(data_path, newline=\\\"\\\") as f:\\n        reader = csv.reader(f)\\n        allwords = list(reader)\\n    WORDLIST = list(itertools.chain.from_iterable(allwords))\\n    WORDLIST = [x.lower() for x in WORDLIST]\\n    WORDSET = set(WORDLIST)\\n    BOARD_LENGTH = 15\\n    MAX_I = 14\\n    row_mainword_scores = {}\\n    column_mainword_scores = {}\\n\\n    LETTER_MULTIPLIERS = [\\n        [1, 1, 1, 1, 1, 1, 3, 1, 3, 1, 1, 1, 1, 1, 1],  # 0\\n        [1, 1, 2, 1, 1, 1, 1, 1, 1, 1, 1, 1, 2, 1, 1],\\n        [1, 2, 1, 1, 2, 1, 1, 1, 1, 1, 2, 1, 1, 2, 1],  # 2\\n        [1, 1, 1, 3, 1, 1, 1, 1, 1, 1, 1, 3, 1, 1, 1],\\n        [1, 1, 2, 1, 1, 1, 2, 1, 2, 1, 1, 1, 2, 1, 1],  # 4\\n        [1, 1, 1, 1, 1, 3, 1, 1, 1, 3, 1, 1, 1, 1, 1],\\n        [3, 1, 1, 1, 2, 1, 1, 1, 1, 1, 2, 1, 1, 1, 3],  # 6\\n        [1, 1, 1, 1, 1, 1, 1, 1, 1, 1, 1, 1, 1, 1, 1],\\n        [3, 1, 1, 1, 2, 1, 1, 1, 1, 1, 2, 1, 1, 1, 3],  # 8\\n        [1, 1, 1, 1, 1, 3, 1, 1, 1, 3, 1, 1, 1, 1, 1],\\n        [1, 1, 2, 1, 1, 1, 2, 1, 2, 1, 1, 1, 2, 1, 1],  # 10\\n        [1, 1, 1, 3, 1, 1, 1, 1, 1, 1, 1, 3, 1, 1, 1],\\n        [1, 2, 1, 1, 2, 1, 1, 1, 1, 1, 2, 1, 1, 2, 1],  # 12\\n        [1, 1, 2, 1, 1, 1, 1, 1, 1, 1, 1, 1, 2, 1, 1],\\n        [1, 1, 1, 1, 1, 1, 3, 1, 3, 1, 1, 1, 1, 1, 1],  # 14\\n    ]\\n    LETTER_MULTIPLIERS_ARRAY = np.array(LETTER_MULTIPLIERS)\\n\\n    WORD_MULTIPLIERS = [\\n        [1, 1, 1, 3, 1, 1, 1, 1, 1, 1, 1, 3, 1, 1, 1],  # 0\\n        [1, 1, 1, 1, 1, 2, 1, 1, 1, 2, 1, 1, 1, 1, 1],\\n        [1, 1, 1, 1, 1, 1, 1, 1, 1, 1, 1, 1, 1, 1, 1],  # 2\\n        [3, 1, 1, 1, 1, 1, 1, 2, 1, 1, 1, 1, 1, 1, 3],\\n        [1, 1, 1, 1, 1, 1, 1, 1, 1, 1, 1, 1, 1, 1, 1],  # 4\\n        [1, 2, 1, 1, 1, 1, 1, 1, 1, 1, 1, 1, 1, 2, 1],\\n        [1, 1, 1, 1, 1, 1, 1, 1, 1, 1, 1, 1, 1, 1, 1],  # 6\\n        [1, 1, 1, 2, 1, 1, 1, 1, 1, 1, 1, 2, 1, 1, 1],\\n        [1, 1, 1, 1, 1, 1, 1, 1, 1, 1, 1, 1, 1, 1, 1],  # 8\\n        [1, 2, 1, 1, 1, 1, 1, 1, 1, 1, 1, 1, 1, 2, 1],\\n        [1, 1, 1, 1, 1, 1, 1, 1, 1, 1, 1, 1, 1, 1, 1],  # 10\\n        [3, 1, 1, 1, 1, 1, 1, 2, 1, 1, 1, 1, 1, 1, 3],\\n        [1, 1, 1, 1, 1, 1, 1, 1, 1, 1, 1, 1, 1, 1, 1],  # 12\\n        [1, 1, 1, 1, 1, 2, 1, 1, 1, 2, 1, 1, 1, 1, 1],\\n        [1, 1, 1, 3, 1, 1, 1, 1, 1, 1, 1, 3, 1, 1, 1],  # 14\\n    ]\\n    WORD_MULTIPLIERS_ARRAY = np.array(WORD_MULTIPLIERS)\\n\\n    TILE_SCORES = {\\n        \\\"a\\\": 1,\\n        \\\"b\\\": 4,\\n        \\\"c\\\": 4,\\n        \\\"d\\\": 2,\\n        \\\"e\\\": 1,\\n        \\\"f\\\": 4,\\n        \\\"g\\\": 3,\\n        \\\"h\\\": 3,\\n        \\\"i\\\": 1,\\n        \\\"j\\\": 10,\\n        \\\"k\\\": 5,\\n        \\\"l\\\": 2,\\n        \\\"m\\\": 4,\\n        \\\"n\\\": 2,\\n        \\\"o\\\": 1,\\n        \\\"p\\\": 4,\\n        \\\"q\\\": 10,\\n        \\\"r\\\": 1,\\n        \\\"s\\\": 1,\\n        \\\"t\\\": 1,\\n        \\\"u\\\": 2,\\n        \\\"v\\\": 5,\\n        \\\"w\\\": 4,\\n        \\\"x\\\": 8,\\n        \\\"y\\\": 3,\\n        \\\"z\\\": 10,\\n    }\\n\\n    # The leave values for the hand tiles. Basically, the present value of tile in the hand\\n    # Add the the total value of the tiles in the hand to the play on the board to find the\\n    # expected value of a play\\n    LEAVE_VALUES = {\\n        \\\"a\\\": 1.7,\\n        \\\"b\\\": -3.5,\\n        \\\"c\\\": -2.0,\\n        \\\"d\\\": 0.0,\\n        \\\"e\\\": 2.7,\\n        \\\"f\\\": -2.5,\\n        \\\"g\\\": -4.5,\\n        \\\"h\\\": 2.0,\\n        \\\"i\\\": -0.3,\\n        \\\"j\\\": -4.5,\\n        \\\"k\\\": -0.5,\\n        \\\"l\\\": -1.0,\\n        \\\"m\\\": -1.0,\\n        \\\"n\\\": -1.0,\\n        \\\"o\\\": 0.2,\\n        \\\"p\\\": -2.5,\\n        \\\"q\\\": -9.5,\\n        \\\"r\\\": 0.5,\\n        \\\"s\\\": 7.5,\\n        \\\"t\\\": -0.5,\\n        \\\"u\\\": -4.3,\\n        \\\"v\\\": -7.5,\\n        \\\"w\\\": -3.5,\\n        \\\"x\\\": 2.0,\\n        \\\"y\\\": 0.0,\\n        \\\"z\\\": 4.5,\\n    }\\n\\n    def __init__(self, board, hand_letters):\\n        self.board = board\\n        self.hand_letters = hand_letters\\n        # self.T_board = np.copy(board).transpose()  # TODO: should this be here?\\n        # self.board_mask = (np.copy(board) != \\\"\\\").astype(int)\\n\\n    # Navigator functions\\n    def check_yx(self, y, x):\\n        if x > -1 and x < 15 and y > -1 and y < 15:\\n            return bool(self.board[y, x])\\n        else:\\n            return \\\"out\\\"\\n\\n    def check_right(self, y, x):\\n        if x < self.BOARD_LENGTH - 1:\\n            return bool(self.board[y, x + 1]), self.board[y, x + 1]\\n        else:\\n            return \\\"out\\\"\\n\\n    def check_left(self, y, x):\\n        if x > 0:\\n            return bool(self.board[y, x - 1]), self.board[y, x - 1]\\n        else:\\n            return \\\"out\\\"\\n\\n    def check_above(self, y, x):\\n        if y > 0:\\n            return bool(self.board[y - 1, x]), self.board[y - 1, x]\\n        else:\\n            return \\\"out\\\"\\n\\n    def check_below(self, y, x):\\n        if y < self.BOARD_LENGTH - 1:\\n            return bool(self.board[y + 1, x]), self.board[y + 1, x]\\n        else:\\n            return \\\"out\\\"\\n\\n    # For potential words of a given length\\n    # start at the left, travel right (keep track of empties) till you hit a letter\\n    def hand_letter_permutations(self, length):\\n        # this returns a list of permutations of the hand letters of a given length\\n        letter_permutations = list(itertools.permutations(self.hand_letters, length))\\n        return letter_permutations\\n\\n    # Find all the possible ways of placing tiles on the board in a row\\n    # TODO: how to speed up this? It takes around 40 seconds in total, almost all the time of the program\\n    def row_permutations(self, row):\\n        y = row\\n        board_row = self.board[row]\\n\\n        # no_ means \\\"number of\\\" here\\n        no_hand_letters = len(self.hand_letters)\\n        no_pre_filled = sum(list(map(bool, board_row)))\\n        row_perms_dict = {}\\n\\n        if no_pre_filled > 0:\\n            for perm_len in range(1, no_hand_letters + 1):\\n                hand_perms = self.hand_letter_permutations(perm_len)\\n                # for x in range(0, BOARD_LENGTH-(len(self.hand_letters)-1)-no_pre_filled):\\n                # x=0\\n                no_tiles_to_right = no_pre_filled\\n                for hand_perm in hand_perms:\\n                    # while x + no_tiles_to_right+perm_len<self.BOARD_LENGTH:\\n                    x = 0\\n                    if (\\n                        self.check_yx(y, x) == False\\n                    ):  # and sum(list(map(bool,board_row[x:x+no_hand_letters])))\\n                        while True:\\n                            # TODO check this\\n                            if (\\n                                any(\\n                                    board_row[max(0, x - 1) : min(x + perm_len + 1, 14)]\\n                                )\\n                                == True\\n                            ):\\n                                complete_word, word_y, word_x = self.complete_word_y_x(\\n                                    row, x, hand_perm\\n                                )\\n                                if complete_word == []:\\n                                    break\\n                                elif len(complete_word) > perm_len:\\n                                    # TODO: could leave out the part after the and below and delete duplicates later\\n                                    if (\\n                                        complete_word in row_perms_dict\\n                                        and [word_y, word_x]\\n                                        not in row_perms_dict[complete_word]\\n                                    ):\\n                                        row_perms_dict[complete_word].append(\\n                                            [word_y, word_x]\\n                                        )\\n                                    else:\\n                                        row_perms_dict[complete_word] = [\\n                                            [word_y, word_x]\\n                                        ]\\n                            x = x + 1\\n                            if x == self.BOARD_LENGTH:\\n                                break\\n                    # no_tiles_to_right=sum(list(map(bool,board_row[x+1:])))#TODO: +1 here?\\n        return row_perms_dict\\n\\n    # fill the next len(hand_perm) spaces with hand tiles and find the connecting words\\n    # row=y\\n    def complete_word_y_x(self, row, x, hand_perm):\\n        hand_perm = list(hand_perm)\\n        perm_len = len(hand_perm)\\n        X = x\\n        board_row = self.board[row]\\n        y = row\\n        no_filled = 0\\n        filled_tiles = []\\n        left_letters = []\\n        right_letters = []\\n        while self.check_left(y, x)[0] == True:\\n            x = x - 1\\n            left_letters = left_letters + [board_row[x]]\\n        left_letters = left_letters[::-1]\\n        x = X\\n        while no_filled < perm_len:\\n            if self.check_yx(y, x) == True:\\n                filled_tiles = filled_tiles + [board_row[x]]\\n            elif self.check_yx(y, x) == \\\"out\\\":\\n                return [], [], []\\n            elif self.check_yx(y, x) == False:\\n                new_tile = hand_perm.pop(0)\\n                filled_tiles = filled_tiles + [new_tile]\\n                no_filled = no_filled + 1\\n            x = x + 1\\n        x = x - 1\\n        while self.check_right(y, x)[0] == True:\\n            x = x + 1\\n            right_letters = right_letters + [board_row[x]]\\n        complete_word_as_list = left_letters + filled_tiles + right_letters\\n        word_x = X - len(left_letters)\\n        complete_word = \\\"\\\".join(complete_word_as_list)\\n        return complete_word, y, word_x\\n\\n    # Find the crossing words for a given complete_word_y_x info\\n    def find_crosses(self, complete_word, y, x):\\n        crossing_words = set()\\n        count = 0\\n        for tile in complete_word:\\n            # TODO: don't think I need this if part, only the last part and len(crossing_word)>1\\n            if (\\n                self.check_above(y, x)[0] == True or self.check_below(y, x)[0] == True\\n            ) and self.board[y, x] != tile:\\n                crossing_word, T_y, T_x = self.crossing_words_at_tile(tile, y, x)\\n                if len(crossing_word) > 1:\\n                    crossing_words.add((crossing_word, T_y, T_x))\\n            x = x + 1\\n        # TODO should I use/fix this?\\n        #         if count == 1 and len(crossing_words) == 0:\\n        #             crossing_words.add((edge_letter, edge_y, edge_x))\\n        if len(crossing_words) == 0:\\n            crossing_words.add((\\\"\\\", -1, -1))\\n        return crossing_words\\n\\n    # Enter a tile and its location and return the crosses that it makes\\n    def crossing_words_at_tile(self, tile, y, x):\\n        # We will be using the transpose board so y and x are switched\\n        self.board = self.board.transpose()\\n        y, x = x, y\\n        crossing_word, T_y, T_x = self.complete_word_y_x(y, x, (tile))\\n        self.board = self.board.transpose()\\n        return crossing_word, T_y, T_x\\n\\n    # insert the \\\"hook letter\\\" into a shadow board and find the output connected to that\\n    # assume the board has already been transposed and you are operating with the right y and x\\n    # TODO: probably better to create a copy and remove from that\\n    def edge_perms(self, hook_letter, y, x):\\n        self.board[y, x] = hook_letter\\n        self.hand_letters.remove(hook_letter)\\n        shadow_row_perms = self.row_permutations(y)\\n        edge_perms_dict = {\\n            k: v\\n            for (k, v) in shadow_row_perms.items()\\n            if v[0][1] <= x\\n            and v[0][1] + len(k)\\n            >= x  # TODO: see if I really need to put out a nested list here\\n        }\\n\\n        self.hand_letters.append(hook_letter)\\n        self.board[y, x] = \\\"\\\"\\n        return edge_perms_dict\\n\\n    # Figure out which permutations are in the dictionary\\n    def find_valid_perms(self):\\n        crossing_set = set()\\n        board_perms_dict = {}\\n\\n        for row in range(0, self.BOARD_LENGTH):\\n            # Debugging\\n            # start = time.time()\\n            row_perms = self.row_permutations(row)\\n            # Debugging\\n            # print(time.time() - start)\\n            for complete_word in row_perms:\\n                if complete_word in board_perms_dict:\\n                    board_perms_dict[complete_word] = (\\n                        board_perms_dict[complete_word] + row_perms[complete_word]\\n                    )\\n                else:\\n                    board_perms_dict[complete_word] = row_perms[complete_word]\\n        perms_set = set(board_perms_dict.keys())\\n        valid_perms = self.WORDSET.intersection(perms_set)\\n        valid_perms_dict = {\\n            k: v for (k, v) in board_perms_dict.items() if k in valid_perms\\n        }\\n        return valid_perms_dict\\n\\n    # use the perms to find crossings and check if they are all valid\\n    # TODO: ask to see if I can somehow check all of these sets at once so I only have to iter through once\\n    def check_crosses(self, valid_perm, y, x):\\n        crosses_with_position = self.find_crosses(valid_perm, y, x)\\n        crossing_words = set([i for i in zip(*crosses_with_position)][0])\\n        crosses_valid = crossing_words.issubset(\\n            self.WORDSET\\n        ) or crosses_with_position == {(\\\"\\\", -1, -1)}\\n        return crosses_valid, crosses_with_position\\n\\n    # make a dictionary of valid plays for one direction as a dictionary of words with a nested crossing dict\\n    # in the first entry of a list that are the values of the dictionary\\n    def valid_plays(self, valid_perms):\\n        # valid_perms = self.find_valid_perms() #TODO is this right to move to a parameter?\\n\\n        valid_plays = defaultdict(lambda: defaultdict(lambda: defaultdict(list)))\\n        for valid_perm in valid_perms:\\n            potential_positions = valid_perms[valid_perm]\\n            for potential_position in potential_positions:\\n                y = potential_position[0]\\n                x = potential_position[1]\\n                crosses_valid, crosses_with_position = self.check_crosses(\\n                    valid_perm, y, x\\n                )\\n                if crosses_valid == True:\\n                    # TODO: I need to be able to add new positionf of the same cross here\\n                    # probably need to make another default dict here\\n                    for cross_with_position in crosses_with_position:\\n                        valid_plays[valid_perm][tuple(potential_position)][\\n                            cross_with_position[0]\\n                        ].append((cross_with_position[1:3]))\\n        return valid_plays\\n\\n    # remember the crosses returned above have the x and y switched, as well as nested default dicts\\n\\n    # Find which tiles of a word originated from the hand\\n    def new_tiles(self, valid_word, y, x):\\n        new_tiles = []\\n        for letter in valid_word:\\n            if self.check_yx(y, x) == False:\\n                new_tiles.append(\\n                    [letter, y, x]\\n                )  # should this really be a dictionary list?\\n            x = x + 1\\n        return new_tiles\\n\\n    # Find which tiles could be used to build a crossing word\\n    def find_edge_hooks(self, valid_plays):\\n        edge_hooks = []\\n        for valid_word in valid_plays:\\n            for position in valid_plays[valid_word]:\\n                y = position[0]\\n                x = position[1]\\n                new_tiles = self.new_tiles(valid_word, y, x)\\n                if len(new_tiles) == 1:\\n                    edge_hooks = edge_hooks + new_tiles\\n        return edge_hooks\\n\\n    # create a dictionary of the valid edge words\\n    # could probably adapt find valid perms above for this\\n    def valid_edge_words(self, edge_hooks):\\n        edge_perms_dict = {}\\n        for hook in edge_hooks:\\n            hook_letter = hook[0]\\n            # x and y are transposed\\n            y = hook[2]\\n            x = hook[1]\\n            edge_perms = self.edge_perms(hook_letter, y, x)\\n\\n            for complete_word in edge_perms:\\n                if complete_word not in edge_perms_dict:\\n                    edge_perms_dict[complete_word] = edge_perms[complete_word]\\n                elif edge_perms[complete_word][0] not in edge_perms_dict[complete_word]:\\n                    edge_perms_dict[complete_word] = (\\n                        edge_perms_dict[complete_word] + edge_perms[complete_word]\\n                    )\\n        # copied from above, checking if perm in the dictionary\\n        edge_perms_set = set(edge_perms_dict.keys())\\n        valid_edge_perms = self.WORDSET.intersection(edge_perms_set)\\n        valid_edge_perms_dict = {\\n            k: v for (k, v) in edge_perms_dict.items() if k in valid_edge_perms\\n        }\\n        return valid_edge_perms_dict\\n\\n    # Flattens the row and column dictionaries, making them more intuitive/combinable\\n    def unpack_dictionary(self, dict1):\\n        new_dict = {}\\n        for word in dict1:\\n            location_crosses = dict1[word]\\n            for location in location_crosses:\\n                crosses_dict = location_crosses[location]\\n                last_word_location = []\\n                for crossing_word in crosses_dict:\\n                    crossing_word_locations = crosses_dict[crossing_word]\\n                    for crossing_location in crossing_word_locations:\\n                        if len(last_word_location) > 0:\\n                            new_dict[(word, location)] = new_dict[\\n                                last_word_location\\n                            ] + (crossing_word, crossing_location)\\n                        else:\\n                            new_dict[(word, location)] = (\\n                                crossing_word,\\n                                crossing_location,\\n                            )\\n                        last_word_location = (word, location)\\n        new_new_dict = {}\\n        for key in new_dict:\\n            crossers_list = new_dict[key]\\n            new_new_dict[key] = tuple(zip(crossers_list, crossers_list[1:]))[::2]\\n        return new_new_dict\\n\\n    # Returns 2 dictionaries of all the valid words and their crosses\\n    def all_board_words(self):\\n\\n        # find the valid row plays\\n        valid_row_perms = self.find_valid_perms()\\n\\n        valid_row_plays = self.valid_plays(valid_row_perms)\\n\\n        # find the edge hooks for the column-wise edge words\\n        edge_hooks_for_columns = self.find_edge_hooks(valid_row_plays)\\n\\n        # transpose\\n        self.board = self.board.transpose()\\n\\n        # find the valid column plays\\n        valid_column_perms = self.find_valid_perms()\\n        valid_column_plays = self.valid_plays(valid_column_perms)\\n\\n        # find the valid column edge plays\\n        valid_column_edge_perms = self.valid_edge_words(edge_hooks_for_columns)\\n        valid_column_edge_plays = self.valid_plays(valid_column_edge_perms)\\n\\n        # find the edge hooks for the row-wise edge words\\n        edge_hooks_for_rows = self.find_edge_hooks(valid_column_plays)\\n\\n        # transpose\\n        self.board = self.board.transpose()\\n\\n        # find the valid row edge plays\\n        valid_row_edge_perms = self.valid_edge_words(edge_hooks_for_rows)\\n        valid_row_edge_plays = self.valid_plays(valid_row_edge_perms)\\n\\n        # transform them all into a more readable format\\n        valid_row_plays = self.unpack_dictionary(valid_row_plays)\\n        valid_row_edge_plays = self.unpack_dictionary(valid_row_edge_plays)\\n        valid_column_plays = self.unpack_dictionary(valid_column_plays)\\n        valid_column_edge_plays = self.unpack_dictionary(valid_column_edge_plays)\\n\\n        # collapse the row and column dictionaries\\n        all_row_words = {**valid_row_plays, **valid_row_edge_plays}\\n        all_column_words = {**valid_column_plays, **valid_column_edge_plays}\\n\\n        # now I have two dictionaries: row and column in the format of:\\n        # {(mainword, y, x): ((crossingword, y, x), (crossingword, y, x), etc)\\n        # (mainword, y, x): ((crossingword, y, x), etc)\\n        # ...\\n        # }\\n        # remember that the y and x of the crossing words refer to a transposed board vis-a-vis the main word\\n        # Also, the crossing words' x and y will be referring to the transposed board, so they are switched\\n\\n        return all_row_words, all_column_words\\n\\n    # calculate the score of a group of tiles (not the whole play)\\n    def calculate_word_score(\\n        self, word, y, x, letter_multipliers_array, word_multipliers_array\\n    ):\\n        letter_multipliers = np.copy(letter_multipliers_array[y, x : x + len(word)])\\n        word_multipliers = np.copy(word_multipliers_array[y, x : x + len(word)])\\n        scores = [self.TILE_SCORES[l] for l in word]\\n        word_score = np.dot(letter_multipliers, scores)\\n        word_score = word_score * np.prod(word_multipliers)\\n        return word_score\\n\\n    # calculating the total value of a main word and its crosses\\n    def total_score(\\n        self, main_word_and_location, crossing_words_and_locations, adjustion=False\\n    ):\\n        letter_multipliers_array = np.copy(self.LETTER_MULTIPLIERS_ARRAY)\\n        word_multipliers_array = np.copy(self.WORD_MULTIPLIERS_ARRAY)\\n\\n        # make the  multipliers==1 if there are pieces on them on the board\\n        # TODO: how permanent is the below?\\n        bool_mask = (self.board != \\\"\\\").astype(int)\\n        letter_multipliers_array = np.where(bool_mask == 1, 1, letter_multipliers_array)\\n        word_multipliers_array = np.where(bool_mask == 1, 1, word_multipliers_array)\\n\\n        main_word = main_word_and_location[0]\\n        y = main_word_and_location[1][0]\\n        x = main_word_and_location[1][1]\\n        m_y, m_x = y, x\\n        main_score = self.calculate_word_score(\\n            main_word, y, x, letter_multipliers_array, word_multipliers_array\\n        )\\n\\n        # transpose the multiplier arrays to use to score the crossing words\\n        T_word_multipliers = np.copy(word_multipliers_array.transpose())\\n        T_letter_multipliers = np.copy(letter_multipliers_array.transpose())\\n\\n        # calculating the crossing words' total score\\n        crossers_score = 0\\n        for crossing_word_and_location in crossing_words_and_locations:\\n            if len(crossing_word_and_location[0]) > 1:\\n                y = crossing_word_and_location[1][0]\\n                x = crossing_word_and_location[1][1]\\n                crossing_word = crossing_word_and_location[0]\\n                crosser_score = self.calculate_word_score(\\n                    crossing_word, y, x, T_letter_multipliers, T_word_multipliers\\n                )\\n            else:\\n                crosser_score = 0\\n            crossers_score = crossers_score + crosser_score\\n        placed_tiles = self.new_tiles(main_word, m_y, m_x)\\n        total_score = main_score + crossers_score + int(len(placed_tiles) == 7) * 35\\n\\n        # allow people to use 'adjusted values', which takes into account the future value of remaining hand tiles\\n        if adjustion == \\\"leave_values\\\":\\n            hand_letters = self.hand_letters.copy()\\n            LEAVE_VALUES_DICT = self.LEAVE_VALUES\\n            for letter in placed_tiles:\\n                hand_letters.remove(letter[0])\\n            hand_value = sum([LEAVE_VALUES_DICT[tile] for tile in hand_letters])\\n            total_score = total_score + hand_value\\n        return total_score\\n\\n    # Create a dictionary of all valid main words and their scores\\n    def valid_score_choices(self, adjustion=False):\\n        board = self.board\\n        hand_letters = self.hand_letters\\n        letter_multiplier_array = self.LETTER_MULTIPLIERS_ARRAY\\n        word_multiplier_array = self.WORD_MULTIPLIERS_ARRAY\\n\\n        # make a transpose board\\n        transpose_board = np.copy(board)\\n        transpose_board = transpose_board.transpose()\\n\\n        # calculate the words/placement allowed by the rules of the game\\n        all_row_words, all_column_words = self.all_board_words()\\n\\n        # create a dictionary of each of these row words along with their score\\n        row_score_dict = {}\\n        column_score_dict = {}\\n        for main_word_and_location in all_row_words:\\n            crossing_words_and_locations = all_row_words[main_word_and_location]\\n            score = self.total_score(\\n                main_word_and_location,\\n                crossing_words_and_locations,\\n                adjustion=adjustion,  # TODO: is this BP?\\n            )\\n            row_score_dict[main_word_and_location] = score\\n\\n        # transpose the board\\n        self.board = self.board.transpose()\\n\\n        # same for the column words\\n        for main_word_and_location in all_column_words:\\n            crossing_words_and_locations = all_column_words[main_word_and_location]\\n            score = self.total_score(\\n                main_word_and_location,\\n                crossing_words_and_locations,\\n                adjustion=adjustion,\\n            )\\n            column_score_dict[main_word_and_location] = score\\n\\n        self.board = self.board.transpose()\\n        self.row_mainword_scores = row_score_dict\\n        self.column_mainword_scores = column_score_dict\\n        return row_score_dict, column_score_dict\\n\\n    # Return the highest scoring k words for rows and columns, if you have already run valid_score_choices\\n    def top_k_words(self, k):\\n        top_k_rows = {\\n            k: v\\n            for k, v in sorted(\\n                self.row_mainword_scores.items(), key=lambda item: item[1], reverse=True\\n            )[:k]\\n        }\\n        top_k_columns = {\\n            k: v\\n            for k, v in sorted(\\n                self.column_mainword_scores.items(),\\n                key=lambda item: item[1],\\n                reverse=True,\\n            )[:k]\\n        }\\n        return top_k_rows, top_k_columns\";\n",
       "                var nbb_formatted_code = \"class Scrabbler:\\n    # https://raw.githubusercontent.com/jmlewis/valett/master/scrabble/sowpods.txt\\n    data_path = \\\"../sowpods.txt\\\"  # from above\\n    with open(data_path, newline=\\\"\\\") as f:\\n        reader = csv.reader(f)\\n        allwords = list(reader)\\n    WORDLIST = list(itertools.chain.from_iterable(allwords))\\n    WORDLIST = [x.lower() for x in WORDLIST]\\n    WORDSET = set(WORDLIST)\\n    BOARD_LENGTH = 15\\n    MAX_I = 14\\n    row_mainword_scores = {}\\n    column_mainword_scores = {}\\n\\n    LETTER_MULTIPLIERS = [\\n        [1, 1, 1, 1, 1, 1, 3, 1, 3, 1, 1, 1, 1, 1, 1],  # 0\\n        [1, 1, 2, 1, 1, 1, 1, 1, 1, 1, 1, 1, 2, 1, 1],\\n        [1, 2, 1, 1, 2, 1, 1, 1, 1, 1, 2, 1, 1, 2, 1],  # 2\\n        [1, 1, 1, 3, 1, 1, 1, 1, 1, 1, 1, 3, 1, 1, 1],\\n        [1, 1, 2, 1, 1, 1, 2, 1, 2, 1, 1, 1, 2, 1, 1],  # 4\\n        [1, 1, 1, 1, 1, 3, 1, 1, 1, 3, 1, 1, 1, 1, 1],\\n        [3, 1, 1, 1, 2, 1, 1, 1, 1, 1, 2, 1, 1, 1, 3],  # 6\\n        [1, 1, 1, 1, 1, 1, 1, 1, 1, 1, 1, 1, 1, 1, 1],\\n        [3, 1, 1, 1, 2, 1, 1, 1, 1, 1, 2, 1, 1, 1, 3],  # 8\\n        [1, 1, 1, 1, 1, 3, 1, 1, 1, 3, 1, 1, 1, 1, 1],\\n        [1, 1, 2, 1, 1, 1, 2, 1, 2, 1, 1, 1, 2, 1, 1],  # 10\\n        [1, 1, 1, 3, 1, 1, 1, 1, 1, 1, 1, 3, 1, 1, 1],\\n        [1, 2, 1, 1, 2, 1, 1, 1, 1, 1, 2, 1, 1, 2, 1],  # 12\\n        [1, 1, 2, 1, 1, 1, 1, 1, 1, 1, 1, 1, 2, 1, 1],\\n        [1, 1, 1, 1, 1, 1, 3, 1, 3, 1, 1, 1, 1, 1, 1],  # 14\\n    ]\\n    LETTER_MULTIPLIERS_ARRAY = np.array(LETTER_MULTIPLIERS)\\n\\n    WORD_MULTIPLIERS = [\\n        [1, 1, 1, 3, 1, 1, 1, 1, 1, 1, 1, 3, 1, 1, 1],  # 0\\n        [1, 1, 1, 1, 1, 2, 1, 1, 1, 2, 1, 1, 1, 1, 1],\\n        [1, 1, 1, 1, 1, 1, 1, 1, 1, 1, 1, 1, 1, 1, 1],  # 2\\n        [3, 1, 1, 1, 1, 1, 1, 2, 1, 1, 1, 1, 1, 1, 3],\\n        [1, 1, 1, 1, 1, 1, 1, 1, 1, 1, 1, 1, 1, 1, 1],  # 4\\n        [1, 2, 1, 1, 1, 1, 1, 1, 1, 1, 1, 1, 1, 2, 1],\\n        [1, 1, 1, 1, 1, 1, 1, 1, 1, 1, 1, 1, 1, 1, 1],  # 6\\n        [1, 1, 1, 2, 1, 1, 1, 1, 1, 1, 1, 2, 1, 1, 1],\\n        [1, 1, 1, 1, 1, 1, 1, 1, 1, 1, 1, 1, 1, 1, 1],  # 8\\n        [1, 2, 1, 1, 1, 1, 1, 1, 1, 1, 1, 1, 1, 2, 1],\\n        [1, 1, 1, 1, 1, 1, 1, 1, 1, 1, 1, 1, 1, 1, 1],  # 10\\n        [3, 1, 1, 1, 1, 1, 1, 2, 1, 1, 1, 1, 1, 1, 3],\\n        [1, 1, 1, 1, 1, 1, 1, 1, 1, 1, 1, 1, 1, 1, 1],  # 12\\n        [1, 1, 1, 1, 1, 2, 1, 1, 1, 2, 1, 1, 1, 1, 1],\\n        [1, 1, 1, 3, 1, 1, 1, 1, 1, 1, 1, 3, 1, 1, 1],  # 14\\n    ]\\n    WORD_MULTIPLIERS_ARRAY = np.array(WORD_MULTIPLIERS)\\n\\n    TILE_SCORES = {\\n        \\\"a\\\": 1,\\n        \\\"b\\\": 4,\\n        \\\"c\\\": 4,\\n        \\\"d\\\": 2,\\n        \\\"e\\\": 1,\\n        \\\"f\\\": 4,\\n        \\\"g\\\": 3,\\n        \\\"h\\\": 3,\\n        \\\"i\\\": 1,\\n        \\\"j\\\": 10,\\n        \\\"k\\\": 5,\\n        \\\"l\\\": 2,\\n        \\\"m\\\": 4,\\n        \\\"n\\\": 2,\\n        \\\"o\\\": 1,\\n        \\\"p\\\": 4,\\n        \\\"q\\\": 10,\\n        \\\"r\\\": 1,\\n        \\\"s\\\": 1,\\n        \\\"t\\\": 1,\\n        \\\"u\\\": 2,\\n        \\\"v\\\": 5,\\n        \\\"w\\\": 4,\\n        \\\"x\\\": 8,\\n        \\\"y\\\": 3,\\n        \\\"z\\\": 10,\\n    }\\n\\n    # The leave values for the hand tiles. Basically, the present value of tile in the hand\\n    # Add the the total value of the tiles in the hand to the play on the board to find the\\n    # expected value of a play\\n    LEAVE_VALUES = {\\n        \\\"a\\\": 1.7,\\n        \\\"b\\\": -3.5,\\n        \\\"c\\\": -2.0,\\n        \\\"d\\\": 0.0,\\n        \\\"e\\\": 2.7,\\n        \\\"f\\\": -2.5,\\n        \\\"g\\\": -4.5,\\n        \\\"h\\\": 2.0,\\n        \\\"i\\\": -0.3,\\n        \\\"j\\\": -4.5,\\n        \\\"k\\\": -0.5,\\n        \\\"l\\\": -1.0,\\n        \\\"m\\\": -1.0,\\n        \\\"n\\\": -1.0,\\n        \\\"o\\\": 0.2,\\n        \\\"p\\\": -2.5,\\n        \\\"q\\\": -9.5,\\n        \\\"r\\\": 0.5,\\n        \\\"s\\\": 7.5,\\n        \\\"t\\\": -0.5,\\n        \\\"u\\\": -4.3,\\n        \\\"v\\\": -7.5,\\n        \\\"w\\\": -3.5,\\n        \\\"x\\\": 2.0,\\n        \\\"y\\\": 0.0,\\n        \\\"z\\\": 4.5,\\n    }\\n\\n    def __init__(self, board, hand_letters):\\n        self.board = board\\n        self.hand_letters = hand_letters\\n        # self.T_board = np.copy(board).transpose()  # TODO: should this be here?\\n        # self.board_mask = (np.copy(board) != \\\"\\\").astype(int)\\n\\n    # Navigator functions\\n    def check_yx(self, y, x):\\n        if x > -1 and x < 15 and y > -1 and y < 15:\\n            return bool(self.board[y, x])\\n        else:\\n            return \\\"out\\\"\\n\\n    def check_right(self, y, x):\\n        if x < self.BOARD_LENGTH - 1:\\n            return bool(self.board[y, x + 1]), self.board[y, x + 1]\\n        else:\\n            return \\\"out\\\"\\n\\n    def check_left(self, y, x):\\n        if x > 0:\\n            return bool(self.board[y, x - 1]), self.board[y, x - 1]\\n        else:\\n            return \\\"out\\\"\\n\\n    def check_above(self, y, x):\\n        if y > 0:\\n            return bool(self.board[y - 1, x]), self.board[y - 1, x]\\n        else:\\n            return \\\"out\\\"\\n\\n    def check_below(self, y, x):\\n        if y < self.BOARD_LENGTH - 1:\\n            return bool(self.board[y + 1, x]), self.board[y + 1, x]\\n        else:\\n            return \\\"out\\\"\\n\\n    # For potential words of a given length\\n    # start at the left, travel right (keep track of empties) till you hit a letter\\n    def hand_letter_permutations(self, length):\\n        # this returns a list of permutations of the hand letters of a given length\\n        letter_permutations = list(itertools.permutations(self.hand_letters, length))\\n        return letter_permutations\\n\\n    # Find all the possible ways of placing tiles on the board in a row\\n    # TODO: how to speed up this? It takes around 40 seconds in total, almost all the time of the program\\n    def row_permutations(self, row):\\n        y = row\\n        board_row = self.board[row]\\n\\n        # no_ means \\\"number of\\\" here\\n        no_hand_letters = len(self.hand_letters)\\n        no_pre_filled = sum(list(map(bool, board_row)))\\n        row_perms_dict = {}\\n\\n        if no_pre_filled > 0:\\n            for perm_len in range(1, no_hand_letters + 1):\\n                hand_perms = self.hand_letter_permutations(perm_len)\\n                # for x in range(0, BOARD_LENGTH-(len(self.hand_letters)-1)-no_pre_filled):\\n                # x=0\\n                no_tiles_to_right = no_pre_filled\\n                for hand_perm in hand_perms:\\n                    # while x + no_tiles_to_right+perm_len<self.BOARD_LENGTH:\\n                    x = 0\\n                    if (\\n                        self.check_yx(y, x) == False\\n                    ):  # and sum(list(map(bool,board_row[x:x+no_hand_letters])))\\n                        while True:\\n                            # TODO check this\\n                            if (\\n                                any(\\n                                    board_row[max(0, x - 1) : min(x + perm_len + 1, 14)]\\n                                )\\n                                == True\\n                            ):\\n                                complete_word, word_y, word_x = self.complete_word_y_x(\\n                                    row, x, hand_perm\\n                                )\\n                                if complete_word == []:\\n                                    break\\n                                elif len(complete_word) > perm_len:\\n                                    # TODO: could leave out the part after the and below and delete duplicates later\\n                                    if (\\n                                        complete_word in row_perms_dict\\n                                        and [word_y, word_x]\\n                                        not in row_perms_dict[complete_word]\\n                                    ):\\n                                        row_perms_dict[complete_word].append(\\n                                            [word_y, word_x]\\n                                        )\\n                                    else:\\n                                        row_perms_dict[complete_word] = [\\n                                            [word_y, word_x]\\n                                        ]\\n                            x = x + 1\\n                            if x == self.BOARD_LENGTH:\\n                                break\\n                    # no_tiles_to_right=sum(list(map(bool,board_row[x+1:])))#TODO: +1 here?\\n        return row_perms_dict\\n\\n    # fill the next len(hand_perm) spaces with hand tiles and find the connecting words\\n    # row=y\\n    def complete_word_y_x(self, row, x, hand_perm):\\n        hand_perm = list(hand_perm)\\n        perm_len = len(hand_perm)\\n        X = x\\n        board_row = self.board[row]\\n        y = row\\n        no_filled = 0\\n        filled_tiles = []\\n        left_letters = []\\n        right_letters = []\\n        while self.check_left(y, x)[0] == True:\\n            x = x - 1\\n            left_letters = left_letters + [board_row[x]]\\n        left_letters = left_letters[::-1]\\n        x = X\\n        while no_filled < perm_len:\\n            if self.check_yx(y, x) == True:\\n                filled_tiles = filled_tiles + [board_row[x]]\\n            elif self.check_yx(y, x) == \\\"out\\\":\\n                return [], [], []\\n            elif self.check_yx(y, x) == False:\\n                new_tile = hand_perm.pop(0)\\n                filled_tiles = filled_tiles + [new_tile]\\n                no_filled = no_filled + 1\\n            x = x + 1\\n        x = x - 1\\n        while self.check_right(y, x)[0] == True:\\n            x = x + 1\\n            right_letters = right_letters + [board_row[x]]\\n        complete_word_as_list = left_letters + filled_tiles + right_letters\\n        word_x = X - len(left_letters)\\n        complete_word = \\\"\\\".join(complete_word_as_list)\\n        return complete_word, y, word_x\\n\\n    # Find the crossing words for a given complete_word_y_x info\\n    def find_crosses(self, complete_word, y, x):\\n        crossing_words = set()\\n        count = 0\\n        for tile in complete_word:\\n            # TODO: don't think I need this if part, only the last part and len(crossing_word)>1\\n            if (\\n                self.check_above(y, x)[0] == True or self.check_below(y, x)[0] == True\\n            ) and self.board[y, x] != tile:\\n                crossing_word, T_y, T_x = self.crossing_words_at_tile(tile, y, x)\\n                if len(crossing_word) > 1:\\n                    crossing_words.add((crossing_word, T_y, T_x))\\n            x = x + 1\\n        # TODO should I use/fix this?\\n        #         if count == 1 and len(crossing_words) == 0:\\n        #             crossing_words.add((edge_letter, edge_y, edge_x))\\n        if len(crossing_words) == 0:\\n            crossing_words.add((\\\"\\\", -1, -1))\\n        return crossing_words\\n\\n    # Enter a tile and its location and return the crosses that it makes\\n    def crossing_words_at_tile(self, tile, y, x):\\n        # We will be using the transpose board so y and x are switched\\n        self.board = self.board.transpose()\\n        y, x = x, y\\n        crossing_word, T_y, T_x = self.complete_word_y_x(y, x, (tile))\\n        self.board = self.board.transpose()\\n        return crossing_word, T_y, T_x\\n\\n    # insert the \\\"hook letter\\\" into a shadow board and find the output connected to that\\n    # assume the board has already been transposed and you are operating with the right y and x\\n    # TODO: probably better to create a copy and remove from that\\n    def edge_perms(self, hook_letter, y, x):\\n        self.board[y, x] = hook_letter\\n        self.hand_letters.remove(hook_letter)\\n        shadow_row_perms = self.row_permutations(y)\\n        edge_perms_dict = {\\n            k: v\\n            for (k, v) in shadow_row_perms.items()\\n            if v[0][1] <= x\\n            and v[0][1] + len(k)\\n            >= x  # TODO: see if I really need to put out a nested list here\\n        }\\n\\n        self.hand_letters.append(hook_letter)\\n        self.board[y, x] = \\\"\\\"\\n        return edge_perms_dict\\n\\n    # Figure out which permutations are in the dictionary\\n    def find_valid_perms(self):\\n        crossing_set = set()\\n        board_perms_dict = {}\\n\\n        for row in range(0, self.BOARD_LENGTH):\\n            # Debugging\\n            # start = time.time()\\n            row_perms = self.row_permutations(row)\\n            # Debugging\\n            # print(time.time() - start)\\n            for complete_word in row_perms:\\n                if complete_word in board_perms_dict:\\n                    board_perms_dict[complete_word] = (\\n                        board_perms_dict[complete_word] + row_perms[complete_word]\\n                    )\\n                else:\\n                    board_perms_dict[complete_word] = row_perms[complete_word]\\n        perms_set = set(board_perms_dict.keys())\\n        valid_perms = self.WORDSET.intersection(perms_set)\\n        valid_perms_dict = {\\n            k: v for (k, v) in board_perms_dict.items() if k in valid_perms\\n        }\\n        return valid_perms_dict\\n\\n    # use the perms to find crossings and check if they are all valid\\n    # TODO: ask to see if I can somehow check all of these sets at once so I only have to iter through once\\n    def check_crosses(self, valid_perm, y, x):\\n        crosses_with_position = self.find_crosses(valid_perm, y, x)\\n        crossing_words = set([i for i in zip(*crosses_with_position)][0])\\n        crosses_valid = crossing_words.issubset(\\n            self.WORDSET\\n        ) or crosses_with_position == {(\\\"\\\", -1, -1)}\\n        return crosses_valid, crosses_with_position\\n\\n    # make a dictionary of valid plays for one direction as a dictionary of words with a nested crossing dict\\n    # in the first entry of a list that are the values of the dictionary\\n    def valid_plays(self, valid_perms):\\n        # valid_perms = self.find_valid_perms() #TODO is this right to move to a parameter?\\n\\n        valid_plays = defaultdict(lambda: defaultdict(lambda: defaultdict(list)))\\n        for valid_perm in valid_perms:\\n            potential_positions = valid_perms[valid_perm]\\n            for potential_position in potential_positions:\\n                y = potential_position[0]\\n                x = potential_position[1]\\n                crosses_valid, crosses_with_position = self.check_crosses(\\n                    valid_perm, y, x\\n                )\\n                if crosses_valid == True:\\n                    # TODO: I need to be able to add new positionf of the same cross here\\n                    # probably need to make another default dict here\\n                    for cross_with_position in crosses_with_position:\\n                        valid_plays[valid_perm][tuple(potential_position)][\\n                            cross_with_position[0]\\n                        ].append((cross_with_position[1:3]))\\n        return valid_plays\\n\\n    # remember the crosses returned above have the x and y switched, as well as nested default dicts\\n\\n    # Find which tiles of a word originated from the hand\\n    def new_tiles(self, valid_word, y, x):\\n        new_tiles = []\\n        for letter in valid_word:\\n            if self.check_yx(y, x) == False:\\n                new_tiles.append(\\n                    [letter, y, x]\\n                )  # should this really be a dictionary list?\\n            x = x + 1\\n        return new_tiles\\n\\n    # Find which tiles could be used to build a crossing word\\n    def find_edge_hooks(self, valid_plays):\\n        edge_hooks = []\\n        for valid_word in valid_plays:\\n            for position in valid_plays[valid_word]:\\n                y = position[0]\\n                x = position[1]\\n                new_tiles = self.new_tiles(valid_word, y, x)\\n                if len(new_tiles) == 1:\\n                    edge_hooks = edge_hooks + new_tiles\\n        return edge_hooks\\n\\n    # create a dictionary of the valid edge words\\n    # could probably adapt find valid perms above for this\\n    def valid_edge_words(self, edge_hooks):\\n        edge_perms_dict = {}\\n        for hook in edge_hooks:\\n            hook_letter = hook[0]\\n            # x and y are transposed\\n            y = hook[2]\\n            x = hook[1]\\n            edge_perms = self.edge_perms(hook_letter, y, x)\\n\\n            for complete_word in edge_perms:\\n                if complete_word not in edge_perms_dict:\\n                    edge_perms_dict[complete_word] = edge_perms[complete_word]\\n                elif edge_perms[complete_word][0] not in edge_perms_dict[complete_word]:\\n                    edge_perms_dict[complete_word] = (\\n                        edge_perms_dict[complete_word] + edge_perms[complete_word]\\n                    )\\n        # copied from above, checking if perm in the dictionary\\n        edge_perms_set = set(edge_perms_dict.keys())\\n        valid_edge_perms = self.WORDSET.intersection(edge_perms_set)\\n        valid_edge_perms_dict = {\\n            k: v for (k, v) in edge_perms_dict.items() if k in valid_edge_perms\\n        }\\n        return valid_edge_perms_dict\\n\\n    # Flattens the row and column dictionaries, making them more intuitive/combinable\\n    def unpack_dictionary(self, dict1):\\n        new_dict = {}\\n        for word in dict1:\\n            location_crosses = dict1[word]\\n            for location in location_crosses:\\n                crosses_dict = location_crosses[location]\\n                last_word_location = []\\n                for crossing_word in crosses_dict:\\n                    crossing_word_locations = crosses_dict[crossing_word]\\n                    for crossing_location in crossing_word_locations:\\n                        if len(last_word_location) > 0:\\n                            new_dict[(word, location)] = new_dict[\\n                                last_word_location\\n                            ] + (crossing_word, crossing_location)\\n                        else:\\n                            new_dict[(word, location)] = (\\n                                crossing_word,\\n                                crossing_location,\\n                            )\\n                        last_word_location = (word, location)\\n        new_new_dict = {}\\n        for key in new_dict:\\n            crossers_list = new_dict[key]\\n            new_new_dict[key] = tuple(zip(crossers_list, crossers_list[1:]))[::2]\\n        return new_new_dict\\n\\n    # Returns 2 dictionaries of all the valid words and their crosses\\n    def all_board_words(self):\\n\\n        # find the valid row plays\\n        valid_row_perms = self.find_valid_perms()\\n\\n        valid_row_plays = self.valid_plays(valid_row_perms)\\n\\n        # find the edge hooks for the column-wise edge words\\n        edge_hooks_for_columns = self.find_edge_hooks(valid_row_plays)\\n\\n        # transpose\\n        self.board = self.board.transpose()\\n\\n        # find the valid column plays\\n        valid_column_perms = self.find_valid_perms()\\n        valid_column_plays = self.valid_plays(valid_column_perms)\\n\\n        # find the valid column edge plays\\n        valid_column_edge_perms = self.valid_edge_words(edge_hooks_for_columns)\\n        valid_column_edge_plays = self.valid_plays(valid_column_edge_perms)\\n\\n        # find the edge hooks for the row-wise edge words\\n        edge_hooks_for_rows = self.find_edge_hooks(valid_column_plays)\\n\\n        # transpose\\n        self.board = self.board.transpose()\\n\\n        # find the valid row edge plays\\n        valid_row_edge_perms = self.valid_edge_words(edge_hooks_for_rows)\\n        valid_row_edge_plays = self.valid_plays(valid_row_edge_perms)\\n\\n        # transform them all into a more readable format\\n        valid_row_plays = self.unpack_dictionary(valid_row_plays)\\n        valid_row_edge_plays = self.unpack_dictionary(valid_row_edge_plays)\\n        valid_column_plays = self.unpack_dictionary(valid_column_plays)\\n        valid_column_edge_plays = self.unpack_dictionary(valid_column_edge_plays)\\n\\n        # collapse the row and column dictionaries\\n        all_row_words = {**valid_row_plays, **valid_row_edge_plays}\\n        all_column_words = {**valid_column_plays, **valid_column_edge_plays}\\n\\n        # now I have two dictionaries: row and column in the format of:\\n        # {(mainword, y, x): ((crossingword, y, x), (crossingword, y, x), etc)\\n        # (mainword, y, x): ((crossingword, y, x), etc)\\n        # ...\\n        # }\\n        # remember that the y and x of the crossing words refer to a transposed board vis-a-vis the main word\\n        # Also, the crossing words' x and y will be referring to the transposed board, so they are switched\\n\\n        return all_row_words, all_column_words\\n\\n    # calculate the score of a group of tiles (not the whole play)\\n    def calculate_word_score(\\n        self, word, y, x, letter_multipliers_array, word_multipliers_array\\n    ):\\n        letter_multipliers = np.copy(letter_multipliers_array[y, x : x + len(word)])\\n        word_multipliers = np.copy(word_multipliers_array[y, x : x + len(word)])\\n        scores = [self.TILE_SCORES[l] for l in word]\\n        word_score = np.dot(letter_multipliers, scores)\\n        word_score = word_score * np.prod(word_multipliers)\\n        return word_score\\n\\n    # calculating the total value of a main word and its crosses\\n    def total_score(\\n        self, main_word_and_location, crossing_words_and_locations, adjustion=False\\n    ):\\n        letter_multipliers_array = np.copy(self.LETTER_MULTIPLIERS_ARRAY)\\n        word_multipliers_array = np.copy(self.WORD_MULTIPLIERS_ARRAY)\\n\\n        # make the  multipliers==1 if there are pieces on them on the board\\n        # TODO: how permanent is the below?\\n        bool_mask = (self.board != \\\"\\\").astype(int)\\n        letter_multipliers_array = np.where(bool_mask == 1, 1, letter_multipliers_array)\\n        word_multipliers_array = np.where(bool_mask == 1, 1, word_multipliers_array)\\n\\n        main_word = main_word_and_location[0]\\n        y = main_word_and_location[1][0]\\n        x = main_word_and_location[1][1]\\n        m_y, m_x = y, x\\n        main_score = self.calculate_word_score(\\n            main_word, y, x, letter_multipliers_array, word_multipliers_array\\n        )\\n\\n        # transpose the multiplier arrays to use to score the crossing words\\n        T_word_multipliers = np.copy(word_multipliers_array.transpose())\\n        T_letter_multipliers = np.copy(letter_multipliers_array.transpose())\\n\\n        # calculating the crossing words' total score\\n        crossers_score = 0\\n        for crossing_word_and_location in crossing_words_and_locations:\\n            if len(crossing_word_and_location[0]) > 1:\\n                y = crossing_word_and_location[1][0]\\n                x = crossing_word_and_location[1][1]\\n                crossing_word = crossing_word_and_location[0]\\n                crosser_score = self.calculate_word_score(\\n                    crossing_word, y, x, T_letter_multipliers, T_word_multipliers\\n                )\\n            else:\\n                crosser_score = 0\\n            crossers_score = crossers_score + crosser_score\\n        placed_tiles = self.new_tiles(main_word, m_y, m_x)\\n        total_score = main_score + crossers_score + int(len(placed_tiles) == 7) * 35\\n\\n        # allow people to use 'adjusted values', which takes into account the future value of remaining hand tiles\\n        if adjustion == \\\"leave_values\\\":\\n            hand_letters = self.hand_letters.copy()\\n            LEAVE_VALUES_DICT = self.LEAVE_VALUES\\n            for letter in placed_tiles:\\n                hand_letters.remove(letter[0])\\n            hand_value = sum([LEAVE_VALUES_DICT[tile] for tile in hand_letters])\\n            total_score = total_score + hand_value\\n        return total_score\\n\\n    # Create a dictionary of all valid main words and their scores\\n    def valid_score_choices(self, adjustion=False):\\n        board = self.board\\n        hand_letters = self.hand_letters\\n        letter_multiplier_array = self.LETTER_MULTIPLIERS_ARRAY\\n        word_multiplier_array = self.WORD_MULTIPLIERS_ARRAY\\n\\n        # make a transpose board\\n        transpose_board = np.copy(board)\\n        transpose_board = transpose_board.transpose()\\n\\n        # calculate the words/placement allowed by the rules of the game\\n        all_row_words, all_column_words = self.all_board_words()\\n\\n        # create a dictionary of each of these row words along with their score\\n        row_score_dict = {}\\n        column_score_dict = {}\\n        for main_word_and_location in all_row_words:\\n            crossing_words_and_locations = all_row_words[main_word_and_location]\\n            score = self.total_score(\\n                main_word_and_location,\\n                crossing_words_and_locations,\\n                adjustion=adjustion,  # TODO: is this BP?\\n            )\\n            row_score_dict[main_word_and_location] = score\\n\\n        # transpose the board\\n        self.board = self.board.transpose()\\n\\n        # same for the column words\\n        for main_word_and_location in all_column_words:\\n            crossing_words_and_locations = all_column_words[main_word_and_location]\\n            score = self.total_score(\\n                main_word_and_location,\\n                crossing_words_and_locations,\\n                adjustion=adjustion,\\n            )\\n            column_score_dict[main_word_and_location] = score\\n\\n        self.board = self.board.transpose()\\n        self.row_mainword_scores = row_score_dict\\n        self.column_mainword_scores = column_score_dict\\n        return row_score_dict, column_score_dict\\n\\n    # Return the highest scoring k words for rows and columns, if you have already run valid_score_choices\\n    def top_k_words(self, k):\\n        top_k_rows = {\\n            k: v\\n            for k, v in sorted(\\n                self.row_mainword_scores.items(), key=lambda item: item[1], reverse=True\\n            )[:k]\\n        }\\n        top_k_columns = {\\n            k: v\\n            for k, v in sorted(\\n                self.column_mainword_scores.items(),\\n                key=lambda item: item[1],\\n                reverse=True,\\n            )[:k]\\n        }\\n        return top_k_rows, top_k_columns\";\n",
       "                var nbb_cells = Jupyter.notebook.get_cells();\n",
       "                for (var i = 0; i < nbb_cells.length; ++i) {\n",
       "                    if (nbb_cells[i].input_prompt_number == nbb_cell_id) {\n",
       "                        if (nbb_cells[i].get_text() == nbb_unformatted_code) {\n",
       "                             nbb_cells[i].set_text(nbb_formatted_code);\n",
       "                        }\n",
       "                        break;\n",
       "                    }\n",
       "                }\n",
       "            }, 500);\n",
       "            "
      ],
      "text/plain": [
       "<IPython.core.display.Javascript object>"
      ]
     },
     "metadata": {},
     "output_type": "display_data"
    }
   ],
   "source": [
    "class Scrabbler:\n",
    "    # https://raw.githubusercontent.com/jmlewis/valett/master/scrabble/sowpods.txt\n",
    "    data_path = \"../sowpods.txt\"  # from above\n",
    "    with open(data_path, newline=\"\") as f:\n",
    "        reader = csv.reader(f)\n",
    "        allwords = list(reader)\n",
    "    WORDLIST = list(itertools.chain.from_iterable(allwords))\n",
    "    WORDLIST = [x.lower() for x in WORDLIST]\n",
    "    WORDSET = set(WORDLIST)\n",
    "    BOARD_LENGTH = 15\n",
    "    MAX_I = 14\n",
    "    row_mainword_scores = {}\n",
    "    column_mainword_scores = {}\n",
    "\n",
    "    LETTER_MULTIPLIERS = [\n",
    "        [1, 1, 1, 1, 1, 1, 3, 1, 3, 1, 1, 1, 1, 1, 1],  # 0\n",
    "        [1, 1, 2, 1, 1, 1, 1, 1, 1, 1, 1, 1, 2, 1, 1],\n",
    "        [1, 2, 1, 1, 2, 1, 1, 1, 1, 1, 2, 1, 1, 2, 1],  # 2\n",
    "        [1, 1, 1, 3, 1, 1, 1, 1, 1, 1, 1, 3, 1, 1, 1],\n",
    "        [1, 1, 2, 1, 1, 1, 2, 1, 2, 1, 1, 1, 2, 1, 1],  # 4\n",
    "        [1, 1, 1, 1, 1, 3, 1, 1, 1, 3, 1, 1, 1, 1, 1],\n",
    "        [3, 1, 1, 1, 2, 1, 1, 1, 1, 1, 2, 1, 1, 1, 3],  # 6\n",
    "        [1, 1, 1, 1, 1, 1, 1, 1, 1, 1, 1, 1, 1, 1, 1],\n",
    "        [3, 1, 1, 1, 2, 1, 1, 1, 1, 1, 2, 1, 1, 1, 3],  # 8\n",
    "        [1, 1, 1, 1, 1, 3, 1, 1, 1, 3, 1, 1, 1, 1, 1],\n",
    "        [1, 1, 2, 1, 1, 1, 2, 1, 2, 1, 1, 1, 2, 1, 1],  # 10\n",
    "        [1, 1, 1, 3, 1, 1, 1, 1, 1, 1, 1, 3, 1, 1, 1],\n",
    "        [1, 2, 1, 1, 2, 1, 1, 1, 1, 1, 2, 1, 1, 2, 1],  # 12\n",
    "        [1, 1, 2, 1, 1, 1, 1, 1, 1, 1, 1, 1, 2, 1, 1],\n",
    "        [1, 1, 1, 1, 1, 1, 3, 1, 3, 1, 1, 1, 1, 1, 1],  # 14\n",
    "    ]\n",
    "    LETTER_MULTIPLIERS_ARRAY = np.array(LETTER_MULTIPLIERS)\n",
    "\n",
    "    WORD_MULTIPLIERS = [\n",
    "        [1, 1, 1, 3, 1, 1, 1, 1, 1, 1, 1, 3, 1, 1, 1],  # 0\n",
    "        [1, 1, 1, 1, 1, 2, 1, 1, 1, 2, 1, 1, 1, 1, 1],\n",
    "        [1, 1, 1, 1, 1, 1, 1, 1, 1, 1, 1, 1, 1, 1, 1],  # 2\n",
    "        [3, 1, 1, 1, 1, 1, 1, 2, 1, 1, 1, 1, 1, 1, 3],\n",
    "        [1, 1, 1, 1, 1, 1, 1, 1, 1, 1, 1, 1, 1, 1, 1],  # 4\n",
    "        [1, 2, 1, 1, 1, 1, 1, 1, 1, 1, 1, 1, 1, 2, 1],\n",
    "        [1, 1, 1, 1, 1, 1, 1, 1, 1, 1, 1, 1, 1, 1, 1],  # 6\n",
    "        [1, 1, 1, 2, 1, 1, 1, 1, 1, 1, 1, 2, 1, 1, 1],\n",
    "        [1, 1, 1, 1, 1, 1, 1, 1, 1, 1, 1, 1, 1, 1, 1],  # 8\n",
    "        [1, 2, 1, 1, 1, 1, 1, 1, 1, 1, 1, 1, 1, 2, 1],\n",
    "        [1, 1, 1, 1, 1, 1, 1, 1, 1, 1, 1, 1, 1, 1, 1],  # 10\n",
    "        [3, 1, 1, 1, 1, 1, 1, 2, 1, 1, 1, 1, 1, 1, 3],\n",
    "        [1, 1, 1, 1, 1, 1, 1, 1, 1, 1, 1, 1, 1, 1, 1],  # 12\n",
    "        [1, 1, 1, 1, 1, 2, 1, 1, 1, 2, 1, 1, 1, 1, 1],\n",
    "        [1, 1, 1, 3, 1, 1, 1, 1, 1, 1, 1, 3, 1, 1, 1],  # 14\n",
    "    ]\n",
    "    WORD_MULTIPLIERS_ARRAY = np.array(WORD_MULTIPLIERS)\n",
    "\n",
    "    TILE_SCORES = {\n",
    "        \"a\": 1,\n",
    "        \"b\": 4,\n",
    "        \"c\": 4,\n",
    "        \"d\": 2,\n",
    "        \"e\": 1,\n",
    "        \"f\": 4,\n",
    "        \"g\": 3,\n",
    "        \"h\": 3,\n",
    "        \"i\": 1,\n",
    "        \"j\": 10,\n",
    "        \"k\": 5,\n",
    "        \"l\": 2,\n",
    "        \"m\": 4,\n",
    "        \"n\": 2,\n",
    "        \"o\": 1,\n",
    "        \"p\": 4,\n",
    "        \"q\": 10,\n",
    "        \"r\": 1,\n",
    "        \"s\": 1,\n",
    "        \"t\": 1,\n",
    "        \"u\": 2,\n",
    "        \"v\": 5,\n",
    "        \"w\": 4,\n",
    "        \"x\": 8,\n",
    "        \"y\": 3,\n",
    "        \"z\": 10,\n",
    "    }\n",
    "\n",
    "    # The leave values for the hand tiles. Basically, the present value of tile in the hand\n",
    "    # Add the the total value of the tiles in the hand to the play on the board to find the\n",
    "    # expected value of a play\n",
    "    LEAVE_VALUES = {\n",
    "        \"a\": 1.7,\n",
    "        \"b\": -3.5,\n",
    "        \"c\": -2.0,\n",
    "        \"d\": 0.0,\n",
    "        \"e\": 2.7,\n",
    "        \"f\": -2.5,\n",
    "        \"g\": -4.5,\n",
    "        \"h\": 2.0,\n",
    "        \"i\": -0.3,\n",
    "        \"j\": -4.5,\n",
    "        \"k\": -0.5,\n",
    "        \"l\": -1.0,\n",
    "        \"m\": -1.0,\n",
    "        \"n\": -1.0,\n",
    "        \"o\": 0.2,\n",
    "        \"p\": -2.5,\n",
    "        \"q\": -9.5,\n",
    "        \"r\": 0.5,\n",
    "        \"s\": 7.5,\n",
    "        \"t\": -0.5,\n",
    "        \"u\": -4.3,\n",
    "        \"v\": -7.5,\n",
    "        \"w\": -3.5,\n",
    "        \"x\": 2.0,\n",
    "        \"y\": 0.0,\n",
    "        \"z\": 4.5,\n",
    "    }\n",
    "\n",
    "    def __init__(self, board, hand_letters):\n",
    "        self.board = board\n",
    "        self.hand_letters = hand_letters\n",
    "        # self.T_board = np.copy(board).transpose()  # TODO: should this be here?\n",
    "        # self.board_mask = (np.copy(board) != \"\").astype(int)\n",
    "\n",
    "    # Navigator functions\n",
    "    def check_yx(self, y, x):\n",
    "        if x > -1 and x < 15 and y > -1 and y < 15:\n",
    "            return bool(self.board[y, x])\n",
    "        else:\n",
    "            return \"out\"\n",
    "\n",
    "    def check_right(self, y, x):\n",
    "        if x < self.BOARD_LENGTH - 1:\n",
    "            return bool(self.board[y, x + 1]), self.board[y, x + 1]\n",
    "        else:\n",
    "            return \"out\"\n",
    "\n",
    "    def check_left(self, y, x):\n",
    "        if x > 0:\n",
    "            return bool(self.board[y, x - 1]), self.board[y, x - 1]\n",
    "        else:\n",
    "            return \"out\"\n",
    "\n",
    "    def check_above(self, y, x):\n",
    "        if y > 0:\n",
    "            return bool(self.board[y - 1, x]), self.board[y - 1, x]\n",
    "        else:\n",
    "            return \"out\"\n",
    "\n",
    "    def check_below(self, y, x):\n",
    "        if y < self.BOARD_LENGTH - 1:\n",
    "            return bool(self.board[y + 1, x]), self.board[y + 1, x]\n",
    "        else:\n",
    "            return \"out\"\n",
    "\n",
    "    # For potential words of a given length\n",
    "    # start at the left, travel right (keep track of empties) till you hit a letter\n",
    "    def hand_letter_permutations(self, length):\n",
    "        # this returns a list of permutations of the hand letters of a given length\n",
    "        letter_permutations = list(itertools.permutations(self.hand_letters, length))\n",
    "        return letter_permutations\n",
    "\n",
    "    # Find all the possible ways of placing tiles on the board in a row\n",
    "    # TODO: how to speed up this? It takes around 40 seconds in total, almost all the time of the program\n",
    "    def row_permutations(self, row):\n",
    "        y = row\n",
    "        board_row = self.board[row]\n",
    "\n",
    "        # no_ means \"number of\" here\n",
    "        no_hand_letters = len(self.hand_letters)\n",
    "        no_pre_filled = sum(list(map(bool, board_row)))\n",
    "        row_perms_dict = {}\n",
    "\n",
    "        if no_pre_filled > 0:\n",
    "            for perm_len in range(1, no_hand_letters + 1):\n",
    "                hand_perms = self.hand_letter_permutations(perm_len)\n",
    "                # for x in range(0, BOARD_LENGTH-(len(self.hand_letters)-1)-no_pre_filled):\n",
    "                # x=0\n",
    "                no_tiles_to_right = no_pre_filled\n",
    "                for hand_perm in hand_perms:\n",
    "                    # while x + no_tiles_to_right+perm_len<self.BOARD_LENGTH:\n",
    "                    x = 0\n",
    "                    if (\n",
    "                        self.check_yx(y, x) == False\n",
    "                    ):  # and sum(list(map(bool,board_row[x:x+no_hand_letters])))\n",
    "                        while True:\n",
    "                            # TODO check this\n",
    "                            if (\n",
    "                                any(\n",
    "                                    board_row[max(0, x - 1) : min(x + perm_len + 1, 14)]\n",
    "                                )\n",
    "                                == True\n",
    "                            ):\n",
    "                                complete_word, word_y, word_x = self.complete_word_y_x(\n",
    "                                    row, x, hand_perm\n",
    "                                )\n",
    "                                if complete_word == []:\n",
    "                                    break\n",
    "                                elif len(complete_word) > perm_len:\n",
    "                                    # TODO: could leave out the part after the and below and delete duplicates later\n",
    "                                    if (\n",
    "                                        complete_word in row_perms_dict\n",
    "                                        and [word_y, word_x]\n",
    "                                        not in row_perms_dict[complete_word]\n",
    "                                    ):\n",
    "                                        row_perms_dict[complete_word].append(\n",
    "                                            [word_y, word_x]\n",
    "                                        )\n",
    "                                    else:\n",
    "                                        row_perms_dict[complete_word] = [\n",
    "                                            [word_y, word_x]\n",
    "                                        ]\n",
    "                            x = x + 1\n",
    "                            if x == self.BOARD_LENGTH:\n",
    "                                break\n",
    "                    # no_tiles_to_right=sum(list(map(bool,board_row[x+1:])))#TODO: +1 here?\n",
    "        return row_perms_dict\n",
    "\n",
    "    # fill the next len(hand_perm) spaces with hand tiles and find the connecting words\n",
    "    # row=y\n",
    "    def complete_word_y_x(self, row, x, hand_perm):\n",
    "        hand_perm = list(hand_perm)\n",
    "        perm_len = len(hand_perm)\n",
    "        X = x\n",
    "        board_row = self.board[row]\n",
    "        y = row\n",
    "        no_filled = 0\n",
    "        filled_tiles = []\n",
    "        left_letters = []\n",
    "        right_letters = []\n",
    "        while self.check_left(y, x)[0] == True:\n",
    "            x = x - 1\n",
    "            left_letters = left_letters + [board_row[x]]\n",
    "        left_letters = left_letters[::-1]\n",
    "        x = X\n",
    "        while no_filled < perm_len:\n",
    "            if self.check_yx(y, x) == True:\n",
    "                filled_tiles = filled_tiles + [board_row[x]]\n",
    "            elif self.check_yx(y, x) == \"out\":\n",
    "                return [], [], []\n",
    "            elif self.check_yx(y, x) == False:\n",
    "                new_tile = hand_perm.pop(0)\n",
    "                filled_tiles = filled_tiles + [new_tile]\n",
    "                no_filled = no_filled + 1\n",
    "            x = x + 1\n",
    "        x = x - 1\n",
    "        while self.check_right(y, x)[0] == True:\n",
    "            x = x + 1\n",
    "            right_letters = right_letters + [board_row[x]]\n",
    "        complete_word_as_list = left_letters + filled_tiles + right_letters\n",
    "        word_x = X - len(left_letters)\n",
    "        complete_word = \"\".join(complete_word_as_list)\n",
    "        return complete_word, y, word_x\n",
    "\n",
    "    # Find the crossing words for a given complete_word_y_x info\n",
    "    def find_crosses(self, complete_word, y, x):\n",
    "        crossing_words = set()\n",
    "        count = 0\n",
    "        for tile in complete_word:\n",
    "            # TODO: don't think I need this if part, only the last part and len(crossing_word)>1\n",
    "            if (\n",
    "                self.check_above(y, x)[0] == True or self.check_below(y, x)[0] == True\n",
    "            ) and self.board[y, x] != tile:\n",
    "                crossing_word, T_y, T_x = self.crossing_words_at_tile(tile, y, x)\n",
    "                if len(crossing_word) > 1:\n",
    "                    crossing_words.add((crossing_word, T_y, T_x))\n",
    "            x = x + 1\n",
    "        # TODO should I use/fix this?\n",
    "        #         if count == 1 and len(crossing_words) == 0:\n",
    "        #             crossing_words.add((edge_letter, edge_y, edge_x))\n",
    "        if len(crossing_words) == 0:\n",
    "            crossing_words.add((\"\", -1, -1))\n",
    "        return crossing_words\n",
    "\n",
    "    # Enter a tile and its location and return the crosses that it makes\n",
    "    def crossing_words_at_tile(self, tile, y, x):\n",
    "        # We will be using the transpose board so y and x are switched\n",
    "        self.board = self.board.transpose()\n",
    "        y, x = x, y\n",
    "        crossing_word, T_y, T_x = self.complete_word_y_x(y, x, (tile))\n",
    "        self.board = self.board.transpose()\n",
    "        return crossing_word, T_y, T_x\n",
    "\n",
    "    # insert the \"hook letter\" into a shadow board and find the output connected to that\n",
    "    # assume the board has already been transposed and you are operating with the right y and x\n",
    "    # TODO: probably better to create a copy and remove from that\n",
    "    def edge_perms(self, hook_letter, y, x):\n",
    "        self.board[y, x] = hook_letter\n",
    "        self.hand_letters.remove(hook_letter)\n",
    "        shadow_row_perms = self.row_permutations(y)\n",
    "        edge_perms_dict = {\n",
    "            k: v\n",
    "            for (k, v) in shadow_row_perms.items()\n",
    "            if v[0][1] <= x\n",
    "            and v[0][1] + len(k)\n",
    "            >= x  # TODO: see if I really need to put out a nested list here\n",
    "        }\n",
    "\n",
    "        self.hand_letters.append(hook_letter)\n",
    "        self.board[y, x] = \"\"\n",
    "        return edge_perms_dict\n",
    "\n",
    "    # Figure out which permutations are in the dictionary\n",
    "    def find_valid_perms(self):\n",
    "        crossing_set = set()\n",
    "        board_perms_dict = {}\n",
    "\n",
    "        for row in range(0, self.BOARD_LENGTH):\n",
    "            # Debugging\n",
    "            # start = time.time()\n",
    "            row_perms = self.row_permutations(row)\n",
    "            # Debugging\n",
    "            # print(time.time() - start)\n",
    "            for complete_word in row_perms:\n",
    "                if complete_word in board_perms_dict:\n",
    "                    board_perms_dict[complete_word] = (\n",
    "                        board_perms_dict[complete_word] + row_perms[complete_word]\n",
    "                    )\n",
    "                else:\n",
    "                    board_perms_dict[complete_word] = row_perms[complete_word]\n",
    "        perms_set = set(board_perms_dict.keys())\n",
    "        valid_perms = self.WORDSET.intersection(perms_set)\n",
    "        valid_perms_dict = {\n",
    "            k: v for (k, v) in board_perms_dict.items() if k in valid_perms\n",
    "        }\n",
    "        return valid_perms_dict\n",
    "\n",
    "    # use the perms to find crossings and check if they are all valid\n",
    "    # TODO: ask to see if I can somehow check all of these sets at once so I only have to iter through once\n",
    "    def check_crosses(self, valid_perm, y, x):\n",
    "        crosses_with_position = self.find_crosses(valid_perm, y, x)\n",
    "        crossing_words = set([i for i in zip(*crosses_with_position)][0])\n",
    "        crosses_valid = crossing_words.issubset(\n",
    "            self.WORDSET\n",
    "        ) or crosses_with_position == {(\"\", -1, -1)}\n",
    "        return crosses_valid, crosses_with_position\n",
    "\n",
    "    # make a dictionary of valid plays for one direction as a dictionary of words with a nested crossing dict\n",
    "    # in the first entry of a list that are the values of the dictionary\n",
    "    def valid_plays(self, valid_perms):\n",
    "        # valid_perms = self.find_valid_perms() #TODO is this right to move to a parameter?\n",
    "\n",
    "        valid_plays = defaultdict(lambda: defaultdict(lambda: defaultdict(list)))\n",
    "        for valid_perm in valid_perms:\n",
    "            potential_positions = valid_perms[valid_perm]\n",
    "            for potential_position in potential_positions:\n",
    "                y = potential_position[0]\n",
    "                x = potential_position[1]\n",
    "                crosses_valid, crosses_with_position = self.check_crosses(\n",
    "                    valid_perm, y, x\n",
    "                )\n",
    "                if crosses_valid == True:\n",
    "                    # TODO: I need to be able to add new positionf of the same cross here\n",
    "                    # probably need to make another default dict here\n",
    "                    for cross_with_position in crosses_with_position:\n",
    "                        valid_plays[valid_perm][tuple(potential_position)][\n",
    "                            cross_with_position[0]\n",
    "                        ].append((cross_with_position[1:3]))\n",
    "        return valid_plays\n",
    "\n",
    "    # remember the crosses returned above have the x and y switched, as well as nested default dicts\n",
    "\n",
    "    # Find which tiles of a word originated from the hand\n",
    "    def new_tiles(self, valid_word, y, x):\n",
    "        new_tiles = []\n",
    "        for letter in valid_word:\n",
    "            if self.check_yx(y, x) == False:\n",
    "                new_tiles.append(\n",
    "                    [letter, y, x]\n",
    "                )  # should this really be a dictionary list?\n",
    "            x = x + 1\n",
    "        return new_tiles\n",
    "\n",
    "    # Find which tiles could be used to build a crossing word\n",
    "    def find_edge_hooks(self, valid_plays):\n",
    "        edge_hooks = []\n",
    "        for valid_word in valid_plays:\n",
    "            for position in valid_plays[valid_word]:\n",
    "                y = position[0]\n",
    "                x = position[1]\n",
    "                new_tiles = self.new_tiles(valid_word, y, x)\n",
    "                if len(new_tiles) == 1:\n",
    "                    edge_hooks = edge_hooks + new_tiles\n",
    "        return edge_hooks\n",
    "\n",
    "    # create a dictionary of the valid edge words\n",
    "    # could probably adapt find valid perms above for this\n",
    "    def valid_edge_words(self, edge_hooks):\n",
    "        edge_perms_dict = {}\n",
    "        for hook in edge_hooks:\n",
    "            hook_letter = hook[0]\n",
    "            # x and y are transposed\n",
    "            y = hook[2]\n",
    "            x = hook[1]\n",
    "            edge_perms = self.edge_perms(hook_letter, y, x)\n",
    "\n",
    "            for complete_word in edge_perms:\n",
    "                if complete_word not in edge_perms_dict:\n",
    "                    edge_perms_dict[complete_word] = edge_perms[complete_word]\n",
    "                elif edge_perms[complete_word][0] not in edge_perms_dict[complete_word]:\n",
    "                    edge_perms_dict[complete_word] = (\n",
    "                        edge_perms_dict[complete_word] + edge_perms[complete_word]\n",
    "                    )\n",
    "        # copied from above, checking if perm in the dictionary\n",
    "        edge_perms_set = set(edge_perms_dict.keys())\n",
    "        valid_edge_perms = self.WORDSET.intersection(edge_perms_set)\n",
    "        valid_edge_perms_dict = {\n",
    "            k: v for (k, v) in edge_perms_dict.items() if k in valid_edge_perms\n",
    "        }\n",
    "        return valid_edge_perms_dict\n",
    "\n",
    "    # Flattens the row and column dictionaries, making them more intuitive/combinable\n",
    "    def unpack_dictionary(self, dict1):\n",
    "        new_dict = {}\n",
    "        for word in dict1:\n",
    "            location_crosses = dict1[word]\n",
    "            for location in location_crosses:\n",
    "                crosses_dict = location_crosses[location]\n",
    "                last_word_location = []\n",
    "                for crossing_word in crosses_dict:\n",
    "                    crossing_word_locations = crosses_dict[crossing_word]\n",
    "                    for crossing_location in crossing_word_locations:\n",
    "                        if len(last_word_location) > 0:\n",
    "                            new_dict[(word, location)] = new_dict[\n",
    "                                last_word_location\n",
    "                            ] + (crossing_word, crossing_location)\n",
    "                        else:\n",
    "                            new_dict[(word, location)] = (\n",
    "                                crossing_word,\n",
    "                                crossing_location,\n",
    "                            )\n",
    "                        last_word_location = (word, location)\n",
    "        new_new_dict = {}\n",
    "        for key in new_dict:\n",
    "            crossers_list = new_dict[key]\n",
    "            new_new_dict[key] = tuple(zip(crossers_list, crossers_list[1:]))[::2]\n",
    "        return new_new_dict\n",
    "\n",
    "    # Returns 2 dictionaries of all the valid words and their crosses\n",
    "    def all_board_words(self):\n",
    "\n",
    "        # find the valid row plays\n",
    "        valid_row_perms = self.find_valid_perms()\n",
    "\n",
    "        valid_row_plays = self.valid_plays(valid_row_perms)\n",
    "\n",
    "        # find the edge hooks for the column-wise edge words\n",
    "        edge_hooks_for_columns = self.find_edge_hooks(valid_row_plays)\n",
    "\n",
    "        # transpose\n",
    "        self.board = self.board.transpose()\n",
    "\n",
    "        # find the valid column plays\n",
    "        valid_column_perms = self.find_valid_perms()\n",
    "        valid_column_plays = self.valid_plays(valid_column_perms)\n",
    "\n",
    "        # find the valid column edge plays\n",
    "        valid_column_edge_perms = self.valid_edge_words(edge_hooks_for_columns)\n",
    "        valid_column_edge_plays = self.valid_plays(valid_column_edge_perms)\n",
    "\n",
    "        # find the edge hooks for the row-wise edge words\n",
    "        edge_hooks_for_rows = self.find_edge_hooks(valid_column_plays)\n",
    "\n",
    "        # transpose\n",
    "        self.board = self.board.transpose()\n",
    "\n",
    "        # find the valid row edge plays\n",
    "        valid_row_edge_perms = self.valid_edge_words(edge_hooks_for_rows)\n",
    "        valid_row_edge_plays = self.valid_plays(valid_row_edge_perms)\n",
    "\n",
    "        # transform them all into a more readable format\n",
    "        valid_row_plays = self.unpack_dictionary(valid_row_plays)\n",
    "        valid_row_edge_plays = self.unpack_dictionary(valid_row_edge_plays)\n",
    "        valid_column_plays = self.unpack_dictionary(valid_column_plays)\n",
    "        valid_column_edge_plays = self.unpack_dictionary(valid_column_edge_plays)\n",
    "\n",
    "        # collapse the row and column dictionaries\n",
    "        all_row_words = {**valid_row_plays, **valid_row_edge_plays}\n",
    "        all_column_words = {**valid_column_plays, **valid_column_edge_plays}\n",
    "\n",
    "        # now I have two dictionaries: row and column in the format of:\n",
    "        # {(mainword, y, x): ((crossingword, y, x), (crossingword, y, x), etc)\n",
    "        # (mainword, y, x): ((crossingword, y, x), etc)\n",
    "        # ...\n",
    "        # }\n",
    "        # remember that the y and x of the crossing words refer to a transposed board vis-a-vis the main word\n",
    "        # Also, the crossing words' x and y will be referring to the transposed board, so they are switched\n",
    "\n",
    "        return all_row_words, all_column_words\n",
    "\n",
    "    # calculate the score of a group of tiles (not the whole play)\n",
    "    def calculate_word_score(\n",
    "        self, word, y, x, letter_multipliers_array, word_multipliers_array\n",
    "    ):\n",
    "        letter_multipliers = np.copy(letter_multipliers_array[y, x : x + len(word)])\n",
    "        word_multipliers = np.copy(word_multipliers_array[y, x : x + len(word)])\n",
    "        scores = [self.TILE_SCORES[l] for l in word]\n",
    "        word_score = np.dot(letter_multipliers, scores)\n",
    "        word_score = word_score * np.prod(word_multipliers)\n",
    "        return word_score\n",
    "\n",
    "    # calculating the total value of a main word and its crosses\n",
    "    def total_score(\n",
    "        self, main_word_and_location, crossing_words_and_locations, adjustion=False\n",
    "    ):\n",
    "        letter_multipliers_array = np.copy(self.LETTER_MULTIPLIERS_ARRAY)\n",
    "        word_multipliers_array = np.copy(self.WORD_MULTIPLIERS_ARRAY)\n",
    "\n",
    "        # make the  multipliers==1 if there are pieces on them on the board\n",
    "        # TODO: how permanent is the below?\n",
    "        bool_mask = (self.board != \"\").astype(int)\n",
    "        letter_multipliers_array = np.where(bool_mask == 1, 1, letter_multipliers_array)\n",
    "        word_multipliers_array = np.where(bool_mask == 1, 1, word_multipliers_array)\n",
    "\n",
    "        main_word = main_word_and_location[0]\n",
    "        y = main_word_and_location[1][0]\n",
    "        x = main_word_and_location[1][1]\n",
    "        m_y, m_x = y, x\n",
    "        main_score = self.calculate_word_score(\n",
    "            main_word, y, x, letter_multipliers_array, word_multipliers_array\n",
    "        )\n",
    "\n",
    "        # transpose the multiplier arrays to use to score the crossing words\n",
    "        T_word_multipliers = np.copy(word_multipliers_array.transpose())\n",
    "        T_letter_multipliers = np.copy(letter_multipliers_array.transpose())\n",
    "\n",
    "        # calculating the crossing words' total score\n",
    "        crossers_score = 0\n",
    "        for crossing_word_and_location in crossing_words_and_locations:\n",
    "            if len(crossing_word_and_location[0]) > 1:\n",
    "                y = crossing_word_and_location[1][0]\n",
    "                x = crossing_word_and_location[1][1]\n",
    "                crossing_word = crossing_word_and_location[0]\n",
    "                crosser_score = self.calculate_word_score(\n",
    "                    crossing_word, y, x, T_letter_multipliers, T_word_multipliers\n",
    "                )\n",
    "            else:\n",
    "                crosser_score = 0\n",
    "            crossers_score = crossers_score + crosser_score\n",
    "        placed_tiles = self.new_tiles(main_word, m_y, m_x)\n",
    "        total_score = main_score + crossers_score + int(len(placed_tiles) == 7) * 35\n",
    "\n",
    "        # allow people to use 'adjusted values', which takes into account the future value of remaining hand tiles\n",
    "        if adjustion == \"leave_values\":\n",
    "            hand_letters = self.hand_letters.copy()\n",
    "            LEAVE_VALUES_DICT = self.LEAVE_VALUES\n",
    "            for letter in placed_tiles:\n",
    "                hand_letters.remove(letter[0])\n",
    "            hand_value = sum([LEAVE_VALUES_DICT[tile] for tile in hand_letters])\n",
    "            total_score = total_score + hand_value\n",
    "        return total_score\n",
    "\n",
    "    # Create a dictionary of all valid main words and their scores\n",
    "    def valid_score_choices(self, adjustion=False):\n",
    "        board = self.board\n",
    "        hand_letters = self.hand_letters\n",
    "        letter_multiplier_array = self.LETTER_MULTIPLIERS_ARRAY\n",
    "        word_multiplier_array = self.WORD_MULTIPLIERS_ARRAY\n",
    "\n",
    "        # make a transpose board\n",
    "        transpose_board = np.copy(board)\n",
    "        transpose_board = transpose_board.transpose()\n",
    "\n",
    "        # calculate the words/placement allowed by the rules of the game\n",
    "        all_row_words, all_column_words = self.all_board_words()\n",
    "\n",
    "        # create a dictionary of each of these row words along with their score\n",
    "        row_score_dict = {}\n",
    "        column_score_dict = {}\n",
    "        for main_word_and_location in all_row_words:\n",
    "            crossing_words_and_locations = all_row_words[main_word_and_location]\n",
    "            score = self.total_score(\n",
    "                main_word_and_location,\n",
    "                crossing_words_and_locations,\n",
    "                adjustion=adjustion,  # TODO: is this BP?\n",
    "            )\n",
    "            row_score_dict[main_word_and_location] = score\n",
    "\n",
    "        # transpose the board\n",
    "        self.board = self.board.transpose()\n",
    "\n",
    "        # same for the column words\n",
    "        for main_word_and_location in all_column_words:\n",
    "            crossing_words_and_locations = all_column_words[main_word_and_location]\n",
    "            score = self.total_score(\n",
    "                main_word_and_location,\n",
    "                crossing_words_and_locations,\n",
    "                adjustion=adjustion,\n",
    "            )\n",
    "            column_score_dict[main_word_and_location] = score\n",
    "\n",
    "        self.board = self.board.transpose()\n",
    "        self.row_mainword_scores = row_score_dict\n",
    "        self.column_mainword_scores = column_score_dict\n",
    "        return row_score_dict, column_score_dict\n",
    "\n",
    "    # Return the highest scoring k words for rows and columns, if you have already run valid_score_choices\n",
    "    def top_k_words(self, k):\n",
    "        top_k_rows = {\n",
    "            k: v\n",
    "            for k, v in sorted(\n",
    "                self.row_mainword_scores.items(), key=lambda item: item[1], reverse=True\n",
    "            )[:k]\n",
    "        }\n",
    "        top_k_columns = {\n",
    "            k: v\n",
    "            for k, v in sorted(\n",
    "                self.column_mainword_scores.items(),\n",
    "                key=lambda item: item[1],\n",
    "                reverse=True,\n",
    "            )[:k]\n",
    "        }\n",
    "        return top_k_rows, top_k_columns"
   ]
  },
  {
   "cell_type": "code",
   "execution_count": 64,
   "metadata": {},
   "outputs": [
    {
     "data": {
      "application/javascript": [
       "\n",
       "            setTimeout(function() {\n",
       "                var nbb_cell_id = 64;\n",
       "                var nbb_unformatted_code = \"sample_board = [\\n    [\\\"\\\", \\\"\\\", \\\"\\\", \\\"\\\", \\\"\\\", \\\"\\\", \\\"\\\", \\\"\\\", \\\"\\\", \\\"\\\", \\\"d\\\", \\\"e\\\", \\\"a\\\", \\\"d\\\", \\\"\\\"],  # 0\\n    [\\\"\\\", \\\"\\\", \\\"\\\", \\\"\\\", \\\"\\\", \\\"\\\", \\\"\\\", \\\"\\\", \\\"\\\", \\\"z\\\", \\\"o\\\", \\\"n\\\", \\\"a\\\", \\\"\\\", \\\"w\\\"],  # 1\\n    [\\\"\\\", \\\"\\\", \\\"\\\", \\\"\\\", \\\"\\\", \\\"\\\", \\\"\\\", \\\"\\\", \\\"\\\", \\\"\\\", \\\"\\\", \\\"a\\\", \\\"\\\", \\\"\\\", \\\"i\\\"],  # 2\\n    [\\\"\\\", \\\"\\\", \\\"\\\", \\\"\\\", \\\"\\\", \\\"\\\", \\\"\\\", \\\"\\\", \\\"\\\", \\\"r\\\", \\\"i\\\", \\\"m\\\", \\\"a\\\", \\\"\\\", \\\"l\\\"],  # 3\\n    [\\\"\\\", \\\"\\\", \\\"\\\", \\\"\\\", \\\"\\\", \\\"\\\", \\\"\\\", \\\"\\\", \\\"\\\", \\\"\\\", \\\"\\\", \\\"o\\\", \\\"b\\\", \\\"e\\\", \\\"y\\\"],  # 4\\n    [\\\"\\\", \\\"\\\", \\\"\\\", \\\"\\\", \\\"\\\", \\\"\\\", \\\"\\\", \\\"\\\", \\\"\\\", \\\"j\\\", \\\"u\\\", \\\"r\\\", \\\"a\\\", \\\"l\\\", \\\"\\\"],\\n    [\\\"\\\", \\\"\\\", \\\"\\\", \\\"\\\", \\\"\\\", \\\"\\\", \\\"\\\", \\\"b\\\", \\\"e\\\", \\\"e\\\", \\\"p\\\", \\\"\\\", \\\"\\\", \\\"\\\", \\\"\\\"],  # 6\\n    [\\\"\\\", \\\"\\\", \\\"\\\", \\\"f\\\", \\\"\\\", \\\"\\\", \\\"y\\\", \\\"e\\\", \\\"w\\\", \\\"s\\\", \\\"\\\", \\\"t\\\", \\\"\\\", \\\"\\\", \\\"\\\"],\\n    [\\\"\\\", \\\"\\\", \\\"\\\", \\\"o\\\", \\\"\\\", \\\"\\\", \\\"\\\", \\\"l\\\", \\\"e\\\", \\\"t\\\", \\\"c\\\", \\\"h\\\", \\\"\\\", \\\"\\\", \\\"\\\"],  # 8\\n    [\\\"\\\", \\\"\\\", \\\"\\\", \\\"c\\\", \\\"h\\\", \\\"u\\\", \\\"r\\\", \\\"l\\\", \\\"\\\", \\\"\\\", \\\"\\\", \\\"i\\\", \\\"\\\", \\\"r\\\", \\\"\\\"],\\n    [\\\"\\\", \\\"\\\", \\\"g\\\", \\\"i\\\", \\\"\\\", \\\"\\\", \\\"\\\", \\\"e\\\", \\\"\\\", \\\"\\\", \\\"\\\", \\\"g\\\", \\\"\\\", \\\"e\\\", \\\"\\\"],  # 10\\n    [\\\"\\\", \\\"\\\", \\\"i\\\", \\\"\\\", \\\"\\\", \\\"\\\", \\\"\\\", \\\"n\\\", \\\"\\\", \\\"\\\", \\\"\\\", \\\"h\\\", \\\"u\\\", \\\"e\\\", \\\"d\\\"],\\n    [\\\"\\\", \\\"\\\", \\\"n\\\", \\\"\\\", \\\"\\\", \\\"\\\", \\\"\\\", \\\"d\\\", \\\"\\\", \\\"\\\", \\\"\\\", \\\"\\\", \\\"\\\", \\\"f\\\", \\\"\\\"],  # 12\\n    [\\\"\\\", \\\"\\\", \\\"\\\", \\\"\\\", \\\"\\\", \\\"\\\", \\\"\\\", \\\"\\\", \\\"\\\", \\\"v\\\", \\\"e\\\", \\\"e\\\", \\\"p\\\", \\\"s\\\", \\\"\\\"],\\n    [\\\"\\\", \\\"\\\", \\\"\\\", \\\"\\\", \\\"\\\", \\\"\\\", \\\"\\\", \\\"\\\", \\\"n\\\", \\\"u\\\", \\\"n\\\", \\\"\\\", \\\"\\\", \\\"\\\", \\\"\\\"],  # 14\\n]\\nsample_board_letters = [\\\"o\\\", \\\"a\\\", \\\"s\\\", \\\"r\\\", \\\"l\\\",'r','t']\\n\\n# numpy of the board\\nboard_array = np.array(sample_board)\\n\\n# making the empty strings spaces\\nneat_sample_array = np.copy(board_array)\\nneat_sample_array[neat_sample_array == \\\"\\\"] = \\\" \\\"\";\n",
       "                var nbb_formatted_code = \"sample_board = [\\n    [\\\"\\\", \\\"\\\", \\\"\\\", \\\"\\\", \\\"\\\", \\\"\\\", \\\"\\\", \\\"\\\", \\\"\\\", \\\"\\\", \\\"d\\\", \\\"e\\\", \\\"a\\\", \\\"d\\\", \\\"\\\"],  # 0\\n    [\\\"\\\", \\\"\\\", \\\"\\\", \\\"\\\", \\\"\\\", \\\"\\\", \\\"\\\", \\\"\\\", \\\"\\\", \\\"z\\\", \\\"o\\\", \\\"n\\\", \\\"a\\\", \\\"\\\", \\\"w\\\"],  # 1\\n    [\\\"\\\", \\\"\\\", \\\"\\\", \\\"\\\", \\\"\\\", \\\"\\\", \\\"\\\", \\\"\\\", \\\"\\\", \\\"\\\", \\\"\\\", \\\"a\\\", \\\"\\\", \\\"\\\", \\\"i\\\"],  # 2\\n    [\\\"\\\", \\\"\\\", \\\"\\\", \\\"\\\", \\\"\\\", \\\"\\\", \\\"\\\", \\\"\\\", \\\"\\\", \\\"r\\\", \\\"i\\\", \\\"m\\\", \\\"a\\\", \\\"\\\", \\\"l\\\"],  # 3\\n    [\\\"\\\", \\\"\\\", \\\"\\\", \\\"\\\", \\\"\\\", \\\"\\\", \\\"\\\", \\\"\\\", \\\"\\\", \\\"\\\", \\\"\\\", \\\"o\\\", \\\"b\\\", \\\"e\\\", \\\"y\\\"],  # 4\\n    [\\\"\\\", \\\"\\\", \\\"\\\", \\\"\\\", \\\"\\\", \\\"\\\", \\\"\\\", \\\"\\\", \\\"\\\", \\\"j\\\", \\\"u\\\", \\\"r\\\", \\\"a\\\", \\\"l\\\", \\\"\\\"],\\n    [\\\"\\\", \\\"\\\", \\\"\\\", \\\"\\\", \\\"\\\", \\\"\\\", \\\"\\\", \\\"b\\\", \\\"e\\\", \\\"e\\\", \\\"p\\\", \\\"\\\", \\\"\\\", \\\"\\\", \\\"\\\"],  # 6\\n    [\\\"\\\", \\\"\\\", \\\"\\\", \\\"f\\\", \\\"\\\", \\\"\\\", \\\"y\\\", \\\"e\\\", \\\"w\\\", \\\"s\\\", \\\"\\\", \\\"t\\\", \\\"\\\", \\\"\\\", \\\"\\\"],\\n    [\\\"\\\", \\\"\\\", \\\"\\\", \\\"o\\\", \\\"\\\", \\\"\\\", \\\"\\\", \\\"l\\\", \\\"e\\\", \\\"t\\\", \\\"c\\\", \\\"h\\\", \\\"\\\", \\\"\\\", \\\"\\\"],  # 8\\n    [\\\"\\\", \\\"\\\", \\\"\\\", \\\"c\\\", \\\"h\\\", \\\"u\\\", \\\"r\\\", \\\"l\\\", \\\"\\\", \\\"\\\", \\\"\\\", \\\"i\\\", \\\"\\\", \\\"r\\\", \\\"\\\"],\\n    [\\\"\\\", \\\"\\\", \\\"g\\\", \\\"i\\\", \\\"\\\", \\\"\\\", \\\"\\\", \\\"e\\\", \\\"\\\", \\\"\\\", \\\"\\\", \\\"g\\\", \\\"\\\", \\\"e\\\", \\\"\\\"],  # 10\\n    [\\\"\\\", \\\"\\\", \\\"i\\\", \\\"\\\", \\\"\\\", \\\"\\\", \\\"\\\", \\\"n\\\", \\\"\\\", \\\"\\\", \\\"\\\", \\\"h\\\", \\\"u\\\", \\\"e\\\", \\\"d\\\"],\\n    [\\\"\\\", \\\"\\\", \\\"n\\\", \\\"\\\", \\\"\\\", \\\"\\\", \\\"\\\", \\\"d\\\", \\\"\\\", \\\"\\\", \\\"\\\", \\\"\\\", \\\"\\\", \\\"f\\\", \\\"\\\"],  # 12\\n    [\\\"\\\", \\\"\\\", \\\"\\\", \\\"\\\", \\\"\\\", \\\"\\\", \\\"\\\", \\\"\\\", \\\"\\\", \\\"v\\\", \\\"e\\\", \\\"e\\\", \\\"p\\\", \\\"s\\\", \\\"\\\"],\\n    [\\\"\\\", \\\"\\\", \\\"\\\", \\\"\\\", \\\"\\\", \\\"\\\", \\\"\\\", \\\"\\\", \\\"n\\\", \\\"u\\\", \\\"n\\\", \\\"\\\", \\\"\\\", \\\"\\\", \\\"\\\"],  # 14\\n]\\nsample_board_letters = [\\\"o\\\", \\\"a\\\", \\\"s\\\", \\\"r\\\", \\\"l\\\", \\\"r\\\", \\\"t\\\"]\\n\\n# numpy of the board\\nboard_array = np.array(sample_board)\\n\\n# making the empty strings spaces\\nneat_sample_array = np.copy(board_array)\\nneat_sample_array[neat_sample_array == \\\"\\\"] = \\\" \\\"\";\n",
       "                var nbb_cells = Jupyter.notebook.get_cells();\n",
       "                for (var i = 0; i < nbb_cells.length; ++i) {\n",
       "                    if (nbb_cells[i].input_prompt_number == nbb_cell_id) {\n",
       "                        if (nbb_cells[i].get_text() == nbb_unformatted_code) {\n",
       "                             nbb_cells[i].set_text(nbb_formatted_code);\n",
       "                        }\n",
       "                        break;\n",
       "                    }\n",
       "                }\n",
       "            }, 500);\n",
       "            "
      ],
      "text/plain": [
       "<IPython.core.display.Javascript object>"
      ]
     },
     "metadata": {},
     "output_type": "display_data"
    },
    {
     "data": {
      "application/javascript": [
       "\n",
       "            setTimeout(function() {\n",
       "                var nbb_cell_id = 64;\n",
       "                var nbb_unformatted_code = \"sample_board = [\\n    [\\\"\\\", \\\"\\\", \\\"\\\", \\\"\\\", \\\"\\\", \\\"\\\", \\\"\\\", \\\"\\\", \\\"\\\", \\\"\\\", \\\"d\\\", \\\"e\\\", \\\"a\\\", \\\"d\\\", \\\"\\\"],  # 0\\n    [\\\"\\\", \\\"\\\", \\\"\\\", \\\"\\\", \\\"\\\", \\\"\\\", \\\"\\\", \\\"\\\", \\\"\\\", \\\"z\\\", \\\"o\\\", \\\"n\\\", \\\"a\\\", \\\"\\\", \\\"w\\\"],  # 1\\n    [\\\"\\\", \\\"\\\", \\\"\\\", \\\"\\\", \\\"\\\", \\\"\\\", \\\"\\\", \\\"\\\", \\\"\\\", \\\"\\\", \\\"\\\", \\\"a\\\", \\\"\\\", \\\"\\\", \\\"i\\\"],  # 2\\n    [\\\"\\\", \\\"\\\", \\\"\\\", \\\"\\\", \\\"\\\", \\\"\\\", \\\"\\\", \\\"\\\", \\\"\\\", \\\"r\\\", \\\"i\\\", \\\"m\\\", \\\"a\\\", \\\"\\\", \\\"l\\\"],  # 3\\n    [\\\"\\\", \\\"\\\", \\\"\\\", \\\"\\\", \\\"\\\", \\\"\\\", \\\"\\\", \\\"\\\", \\\"\\\", \\\"\\\", \\\"\\\", \\\"o\\\", \\\"b\\\", \\\"e\\\", \\\"y\\\"],  # 4\\n    [\\\"\\\", \\\"\\\", \\\"\\\", \\\"\\\", \\\"\\\", \\\"\\\", \\\"\\\", \\\"\\\", \\\"\\\", \\\"j\\\", \\\"u\\\", \\\"r\\\", \\\"a\\\", \\\"l\\\", \\\"\\\"],\\n    [\\\"\\\", \\\"\\\", \\\"\\\", \\\"\\\", \\\"\\\", \\\"\\\", \\\"\\\", \\\"b\\\", \\\"e\\\", \\\"e\\\", \\\"p\\\", \\\"\\\", \\\"\\\", \\\"\\\", \\\"\\\"],  # 6\\n    [\\\"\\\", \\\"\\\", \\\"\\\", \\\"f\\\", \\\"\\\", \\\"\\\", \\\"y\\\", \\\"e\\\", \\\"w\\\", \\\"s\\\", \\\"\\\", \\\"t\\\", \\\"\\\", \\\"\\\", \\\"\\\"],\\n    [\\\"\\\", \\\"\\\", \\\"\\\", \\\"o\\\", \\\"\\\", \\\"\\\", \\\"\\\", \\\"l\\\", \\\"e\\\", \\\"t\\\", \\\"c\\\", \\\"h\\\", \\\"\\\", \\\"\\\", \\\"\\\"],  # 8\\n    [\\\"\\\", \\\"\\\", \\\"\\\", \\\"c\\\", \\\"h\\\", \\\"u\\\", \\\"r\\\", \\\"l\\\", \\\"\\\", \\\"\\\", \\\"\\\", \\\"i\\\", \\\"\\\", \\\"r\\\", \\\"\\\"],\\n    [\\\"\\\", \\\"\\\", \\\"g\\\", \\\"i\\\", \\\"\\\", \\\"\\\", \\\"\\\", \\\"e\\\", \\\"\\\", \\\"\\\", \\\"\\\", \\\"g\\\", \\\"\\\", \\\"e\\\", \\\"\\\"],  # 10\\n    [\\\"\\\", \\\"\\\", \\\"i\\\", \\\"\\\", \\\"\\\", \\\"\\\", \\\"\\\", \\\"n\\\", \\\"\\\", \\\"\\\", \\\"\\\", \\\"h\\\", \\\"u\\\", \\\"e\\\", \\\"d\\\"],\\n    [\\\"\\\", \\\"\\\", \\\"n\\\", \\\"\\\", \\\"\\\", \\\"\\\", \\\"\\\", \\\"d\\\", \\\"\\\", \\\"\\\", \\\"\\\", \\\"\\\", \\\"\\\", \\\"f\\\", \\\"\\\"],  # 12\\n    [\\\"\\\", \\\"\\\", \\\"\\\", \\\"\\\", \\\"\\\", \\\"\\\", \\\"\\\", \\\"\\\", \\\"\\\", \\\"v\\\", \\\"e\\\", \\\"e\\\", \\\"p\\\", \\\"s\\\", \\\"\\\"],\\n    [\\\"\\\", \\\"\\\", \\\"\\\", \\\"\\\", \\\"\\\", \\\"\\\", \\\"\\\", \\\"\\\", \\\"n\\\", \\\"u\\\", \\\"n\\\", \\\"\\\", \\\"\\\", \\\"\\\", \\\"\\\"],  # 14\\n]\\nsample_board_letters = [\\\"o\\\", \\\"a\\\", \\\"s\\\", \\\"r\\\", \\\"l\\\",'r','t']\\n\\n# numpy of the board\\nboard_array = np.array(sample_board)\\n\\n# making the empty strings spaces\\nneat_sample_array = np.copy(board_array)\\nneat_sample_array[neat_sample_array == \\\"\\\"] = \\\" \\\"\";\n",
       "                var nbb_formatted_code = \"sample_board = [\\n    [\\\"\\\", \\\"\\\", \\\"\\\", \\\"\\\", \\\"\\\", \\\"\\\", \\\"\\\", \\\"\\\", \\\"\\\", \\\"\\\", \\\"d\\\", \\\"e\\\", \\\"a\\\", \\\"d\\\", \\\"\\\"],  # 0\\n    [\\\"\\\", \\\"\\\", \\\"\\\", \\\"\\\", \\\"\\\", \\\"\\\", \\\"\\\", \\\"\\\", \\\"\\\", \\\"z\\\", \\\"o\\\", \\\"n\\\", \\\"a\\\", \\\"\\\", \\\"w\\\"],  # 1\\n    [\\\"\\\", \\\"\\\", \\\"\\\", \\\"\\\", \\\"\\\", \\\"\\\", \\\"\\\", \\\"\\\", \\\"\\\", \\\"\\\", \\\"\\\", \\\"a\\\", \\\"\\\", \\\"\\\", \\\"i\\\"],  # 2\\n    [\\\"\\\", \\\"\\\", \\\"\\\", \\\"\\\", \\\"\\\", \\\"\\\", \\\"\\\", \\\"\\\", \\\"\\\", \\\"r\\\", \\\"i\\\", \\\"m\\\", \\\"a\\\", \\\"\\\", \\\"l\\\"],  # 3\\n    [\\\"\\\", \\\"\\\", \\\"\\\", \\\"\\\", \\\"\\\", \\\"\\\", \\\"\\\", \\\"\\\", \\\"\\\", \\\"\\\", \\\"\\\", \\\"o\\\", \\\"b\\\", \\\"e\\\", \\\"y\\\"],  # 4\\n    [\\\"\\\", \\\"\\\", \\\"\\\", \\\"\\\", \\\"\\\", \\\"\\\", \\\"\\\", \\\"\\\", \\\"\\\", \\\"j\\\", \\\"u\\\", \\\"r\\\", \\\"a\\\", \\\"l\\\", \\\"\\\"],\\n    [\\\"\\\", \\\"\\\", \\\"\\\", \\\"\\\", \\\"\\\", \\\"\\\", \\\"\\\", \\\"b\\\", \\\"e\\\", \\\"e\\\", \\\"p\\\", \\\"\\\", \\\"\\\", \\\"\\\", \\\"\\\"],  # 6\\n    [\\\"\\\", \\\"\\\", \\\"\\\", \\\"f\\\", \\\"\\\", \\\"\\\", \\\"y\\\", \\\"e\\\", \\\"w\\\", \\\"s\\\", \\\"\\\", \\\"t\\\", \\\"\\\", \\\"\\\", \\\"\\\"],\\n    [\\\"\\\", \\\"\\\", \\\"\\\", \\\"o\\\", \\\"\\\", \\\"\\\", \\\"\\\", \\\"l\\\", \\\"e\\\", \\\"t\\\", \\\"c\\\", \\\"h\\\", \\\"\\\", \\\"\\\", \\\"\\\"],  # 8\\n    [\\\"\\\", \\\"\\\", \\\"\\\", \\\"c\\\", \\\"h\\\", \\\"u\\\", \\\"r\\\", \\\"l\\\", \\\"\\\", \\\"\\\", \\\"\\\", \\\"i\\\", \\\"\\\", \\\"r\\\", \\\"\\\"],\\n    [\\\"\\\", \\\"\\\", \\\"g\\\", \\\"i\\\", \\\"\\\", \\\"\\\", \\\"\\\", \\\"e\\\", \\\"\\\", \\\"\\\", \\\"\\\", \\\"g\\\", \\\"\\\", \\\"e\\\", \\\"\\\"],  # 10\\n    [\\\"\\\", \\\"\\\", \\\"i\\\", \\\"\\\", \\\"\\\", \\\"\\\", \\\"\\\", \\\"n\\\", \\\"\\\", \\\"\\\", \\\"\\\", \\\"h\\\", \\\"u\\\", \\\"e\\\", \\\"d\\\"],\\n    [\\\"\\\", \\\"\\\", \\\"n\\\", \\\"\\\", \\\"\\\", \\\"\\\", \\\"\\\", \\\"d\\\", \\\"\\\", \\\"\\\", \\\"\\\", \\\"\\\", \\\"\\\", \\\"f\\\", \\\"\\\"],  # 12\\n    [\\\"\\\", \\\"\\\", \\\"\\\", \\\"\\\", \\\"\\\", \\\"\\\", \\\"\\\", \\\"\\\", \\\"\\\", \\\"v\\\", \\\"e\\\", \\\"e\\\", \\\"p\\\", \\\"s\\\", \\\"\\\"],\\n    [\\\"\\\", \\\"\\\", \\\"\\\", \\\"\\\", \\\"\\\", \\\"\\\", \\\"\\\", \\\"\\\", \\\"n\\\", \\\"u\\\", \\\"n\\\", \\\"\\\", \\\"\\\", \\\"\\\", \\\"\\\"],  # 14\\n]\\nsample_board_letters = [\\\"o\\\", \\\"a\\\", \\\"s\\\", \\\"r\\\", \\\"l\\\", \\\"r\\\", \\\"t\\\"]\\n\\n# numpy of the board\\nboard_array = np.array(sample_board)\\n\\n# making the empty strings spaces\\nneat_sample_array = np.copy(board_array)\\nneat_sample_array[neat_sample_array == \\\"\\\"] = \\\" \\\"\";\n",
       "                var nbb_cells = Jupyter.notebook.get_cells();\n",
       "                for (var i = 0; i < nbb_cells.length; ++i) {\n",
       "                    if (nbb_cells[i].input_prompt_number == nbb_cell_id) {\n",
       "                        if (nbb_cells[i].get_text() == nbb_unformatted_code) {\n",
       "                             nbb_cells[i].set_text(nbb_formatted_code);\n",
       "                        }\n",
       "                        break;\n",
       "                    }\n",
       "                }\n",
       "            }, 500);\n",
       "            "
      ],
      "text/plain": [
       "<IPython.core.display.Javascript object>"
      ]
     },
     "metadata": {},
     "output_type": "display_data"
    }
   ],
   "source": [
    "sample_board = [\n",
    "    [\"\", \"\", \"\", \"\", \"\", \"\", \"\", \"\", \"\", \"\", \"d\", \"e\", \"a\", \"d\", \"\"],  # 0\n",
    "    [\"\", \"\", \"\", \"\", \"\", \"\", \"\", \"\", \"\", \"z\", \"o\", \"n\", \"a\", \"\", \"w\"],  # 1\n",
    "    [\"\", \"\", \"\", \"\", \"\", \"\", \"\", \"\", \"\", \"\", \"\", \"a\", \"\", \"\", \"i\"],  # 2\n",
    "    [\"\", \"\", \"\", \"\", \"\", \"\", \"\", \"\", \"\", \"r\", \"i\", \"m\", \"a\", \"\", \"l\"],  # 3\n",
    "    [\"\", \"\", \"\", \"\", \"\", \"\", \"\", \"\", \"\", \"\", \"\", \"o\", \"b\", \"e\", \"y\"],  # 4\n",
    "    [\"\", \"\", \"\", \"\", \"\", \"\", \"\", \"\", \"\", \"j\", \"u\", \"r\", \"a\", \"l\", \"\"],\n",
    "    [\"\", \"\", \"\", \"\", \"\", \"\", \"\", \"b\", \"e\", \"e\", \"p\", \"\", \"\", \"\", \"\"],  # 6\n",
    "    [\"\", \"\", \"\", \"f\", \"\", \"\", \"y\", \"e\", \"w\", \"s\", \"\", \"t\", \"\", \"\", \"\"],\n",
    "    [\"\", \"\", \"\", \"o\", \"\", \"\", \"\", \"l\", \"e\", \"t\", \"c\", \"h\", \"\", \"\", \"\"],  # 8\n",
    "    [\"\", \"\", \"\", \"c\", \"h\", \"u\", \"r\", \"l\", \"\", \"\", \"\", \"i\", \"\", \"r\", \"\"],\n",
    "    [\"\", \"\", \"g\", \"i\", \"\", \"\", \"\", \"e\", \"\", \"\", \"\", \"g\", \"\", \"e\", \"\"],  # 10\n",
    "    [\"\", \"\", \"i\", \"\", \"\", \"\", \"\", \"n\", \"\", \"\", \"\", \"h\", \"u\", \"e\", \"d\"],\n",
    "    [\"\", \"\", \"n\", \"\", \"\", \"\", \"\", \"d\", \"\", \"\", \"\", \"\", \"\", \"f\", \"\"],  # 12\n",
    "    [\"\", \"\", \"\", \"\", \"\", \"\", \"\", \"\", \"\", \"v\", \"e\", \"e\", \"p\", \"s\", \"\"],\n",
    "    [\"\", \"\", \"\", \"\", \"\", \"\", \"\", \"\", \"n\", \"u\", \"n\", \"\", \"\", \"\", \"\"],  # 14\n",
    "]\n",
    "sample_board_letters = [\"o\", \"a\", \"s\", \"r\", \"l\",'r','t']\n",
    "\n",
    "# numpy of the board\n",
    "board_array = np.array(sample_board)\n",
    "\n",
    "# making the empty strings spaces\n",
    "neat_sample_array = np.copy(board_array)\n",
    "neat_sample_array[neat_sample_array == \"\"] = \" \"\n"
   ]
  },
  {
   "cell_type": "code",
   "execution_count": 5,
   "metadata": {},
   "outputs": [
    {
     "name": "stdout",
     "output_type": "stream",
     "text": [
      "[[' ' ' ' ' ' ' ' ' ' ' ' ' ' ' ' ' ' ' ' 'd' 'e' 'a' 'd' ' ']\n",
      " [' ' ' ' ' ' ' ' ' ' ' ' ' ' ' ' ' ' 'z' 'o' 'n' 'a' ' ' 'w']\n",
      " [' ' ' ' ' ' ' ' ' ' ' ' ' ' ' ' ' ' ' ' ' ' 'a' ' ' ' ' 'i']\n",
      " [' ' ' ' ' ' ' ' ' ' ' ' ' ' ' ' ' ' 'r' 'i' 'm' 'a' ' ' 'l']\n",
      " [' ' ' ' ' ' ' ' ' ' ' ' ' ' ' ' ' ' ' ' ' ' 'o' 'b' 'e' 'y']\n",
      " [' ' ' ' ' ' ' ' ' ' ' ' ' ' ' ' ' ' 'j' 'u' 'r' 'a' 'l' ' ']\n",
      " [' ' ' ' ' ' ' ' ' ' ' ' ' ' 'b' 'e' 'e' 'p' ' ' ' ' ' ' ' ']\n",
      " [' ' ' ' ' ' 'f' ' ' ' ' 'y' 'e' 'w' 's' ' ' 't' ' ' ' ' ' ']\n",
      " [' ' ' ' ' ' 'o' ' ' ' ' ' ' 'l' 'e' 't' 'c' 'h' ' ' ' ' ' ']\n",
      " [' ' ' ' ' ' 'c' 'h' 'u' 'r' 'l' ' ' ' ' ' ' 'i' ' ' 'r' ' ']\n",
      " [' ' ' ' 'g' 'i' ' ' ' ' ' ' 'e' ' ' ' ' ' ' 'g' ' ' 'e' ' ']\n",
      " [' ' ' ' 'i' ' ' ' ' ' ' ' ' 'n' ' ' ' ' ' ' 'h' 'u' 'e' 'd']\n",
      " [' ' ' ' 'n' ' ' ' ' ' ' ' ' 'd' ' ' ' ' ' ' ' ' ' ' 'f' ' ']\n",
      " [' ' ' ' ' ' ' ' ' ' ' ' ' ' ' ' ' ' 'v' 'e' 'e' 'p' 's' ' ']\n",
      " [' ' ' ' ' ' ' ' ' ' ' ' ' ' ' ' 'n' 'u' 'n' ' ' ' ' ' ' ' ']]\n"
     ]
    },
    {
     "data": {
      "application/javascript": [
       "\n",
       "            setTimeout(function() {\n",
       "                var nbb_cell_id = 5;\n",
       "                var nbb_unformatted_code = \"print(np.where(board_array == \\\"\\\", \\\" \\\", board_array))\";\n",
       "                var nbb_formatted_code = \"print(np.where(board_array == \\\"\\\", \\\" \\\", board_array))\";\n",
       "                var nbb_cells = Jupyter.notebook.get_cells();\n",
       "                for (var i = 0; i < nbb_cells.length; ++i) {\n",
       "                    if (nbb_cells[i].input_prompt_number == nbb_cell_id) {\n",
       "                        if (nbb_cells[i].get_text() == nbb_unformatted_code) {\n",
       "                             nbb_cells[i].set_text(nbb_formatted_code);\n",
       "                        }\n",
       "                        break;\n",
       "                    }\n",
       "                }\n",
       "            }, 500);\n",
       "            "
      ],
      "text/plain": [
       "<IPython.core.display.Javascript object>"
      ]
     },
     "metadata": {},
     "output_type": "display_data"
    }
   ],
   "source": [
    "print(np.where(board_array == \"\", \" \", board_array))"
   ]
  },
  {
   "cell_type": "code",
   "execution_count": 6,
   "metadata": {},
   "outputs": [
    {
     "data": {
      "text/plain": [
       "({('ta', (7, 11)): 9.2,\n",
       "  ('tao', (7, 11)): 10.0,\n",
       "  ('tao', (8, 1)): 10.7,\n",
       "  ('tas', (7, 11)): 2.7,\n",
       "  ('tar', (7, 11)): 9.7,\n",
       "  ('stoa', (8, 1)): 10.2,\n",
       "  ('tosa', (7, 11)): 3.5,\n",
       "  ('tora', (7, 11)): 10.5,\n",
       "  ('tola', (7, 11)): 13.0,\n",
       "  ('tsar', (7, 11)): 3.2,\n",
       "  ('of', (7, 2)): 13.7,\n",
       "  ('to', (7, 11)): 10.7,\n",
       "  ('to', (8, 2)): 11.4,\n",
       "  ('fa', (7, 3)): 12.2,\n",
       "  ('fa', (12, 13)): 15.2,\n",
       "  ('oaf', (7, 1)): 13.0,\n",
       "  ('orf', (7, 1)): 14.2,\n",
       "  ('tor', (7, 11)): 11.2,\n",
       "  ('oft', (7, 2)): 15.2,\n",
       "  ('tot', (7, 11)): 12.2,\n",
       "  ('arf', (7, 1)): 12.7,\n",
       "  ('alf', (7, 1)): 15.2,\n",
       "  ('aft', (7, 2)): 13.7,\n",
       "  ('tat', (7, 11)): 10.7,\n",
       "  ('oafs', (7, 1)): 6.5,\n",
       "  ('tost', (7, 11)): 5.7,\n",
       "  ('orfs', (7, 1)): 7.7,\n",
       "  ('tors', (7, 11)): 4.7,\n",
       "  ('torr', (7, 11)): 11.7,\n",
       "  ('tort', (7, 11)): 12.7,\n",
       "  ('tolt', (7, 11)): 15.2,\n",
       "  ('tots', (7, 11)): 5.7,\n",
       "  ('taos', (7, 11)): 3.5,\n",
       "  ('taos', (8, 1)): 10.2,\n",
       "  ('taro', (7, 11)): 10.5,\n",
       "  ('taro', (8, 0)): 13.2,\n",
       "  ('arfs', (7, 1)): 6.2,\n",
       "  ('tars', (7, 11)): 3.2,\n",
       "  ('tart', (7, 11)): 11.2,\n",
       "  ('alfs', (7, 1)): 8.7,\n",
       "  ('tats', (7, 11)): 4.2,\n",
       "  ('sofa', (7, 1)): 6.5,\n",
       "  ('soft', (7, 1)): 8.7,\n",
       "  ('saft', (7, 1)): 7.2,\n",
       "  ('rolf', (7, 0)): 17.2,\n",
       "  ('trot', (7, 11)): 12.7,\n",
       "  ('raft', (7, 1)): 14.2,\n",
       "  ('trat', (7, 11)): 11.2,\n",
       "  ('loaf', (7, 0)): 16.0,\n",
       "  ('loft', (7, 1)): 18.2,\n",
       "  ('aloft', (7, 0)): 17.5,\n",
       "  ('rolfs', (7, 0)): 10.7,\n",
       "  ('loafs', (7, 0)): 9.5,\n",
       "  ('oo', (8, 3)): 16.7,\n",
       "  ('so', (8, 2)): 3.4,\n",
       "  ('os', (8, 3)): 9.4,\n",
       "  ('lo', (8, 2)): 12.899999999999999,\n",
       "  ('roo', (8, 1)): 11.2,\n",
       "  ('roo', (8, 2)): 17.2,\n",
       "  ('loo', (8, 1)): 13.7,\n",
       "  ('loo', (8, 2)): 19.7,\n",
       "  ('los', (8, 2)): 12.4,\n",
       "  ('too', (8, 1)): 12.2,\n",
       "  ('too', (8, 2)): 18.2,\n",
       "  ('also', (8, 0)): 7.7,\n",
       "  ('alto', (8, 0)): 15.7,\n",
       "  ('solo', (8, 0)): 9.2,\n",
       "  ('roos', (8, 1)): 10.7,\n",
       "  ('roto', (8, 0)): 14.7,\n",
       "  ('rato', (8, 0)): 13.2,\n",
       "  ('loos', (8, 1)): 13.2,\n",
       "  ('loto', (8, 0)): 19.2,\n",
       "  ('altos', (8, 0)): 15.2,\n",
       "  ('rotos', (8, 0)): 14.2,\n",
       "  ('ratoo', (8, 0)): 20.0,\n",
       "  ('ratos', (8, 0)): 12.7,\n",
       "  ('lotos', (8, 0)): 18.7,\n",
       "  ('toros', (8, 0)): 14.2,\n",
       "  ('taros', (8, 0)): 12.7,\n",
       "  ('oi', (11, 1)): 10.7,\n",
       "  ('ai', (11, 1)): 9.2,\n",
       "  ('churls', (9, 3)): 21.4,\n",
       "  ('si', (11, 1)): 3.4,\n",
       "  ('li', (11, 1)): 12.899999999999999,\n",
       "  ('ti', (11, 1)): 11.4,\n",
       "  ('sai', (11, 0)): 8.7,\n",
       "  ('sri', (11, 0)): 9.9,\n",
       "  ('rai', (11, 0)): 15.7,\n",
       "  ('tai', (11, 0)): 16.7,\n",
       "  ('gio', (10, 2)): 17.7,\n",
       "  ('goe', (10, 11)): 18.7,\n",
       "  ('ea', (10, 13)): 12.2,\n",
       "  ('ag', (10, 10)): 11.2,\n",
       "  ('gios', (10, 2)): 14.2,\n",
       "  ('agio', (10, 1)): 17.0,\n",
       "  ('eas', (10, 7)): 3.7,\n",
       "  ('ear', (10, 7)): 10.7,\n",
       "  ('eat', (10, 7)): 11.7,\n",
       "  ('sog', (10, 9)): 6.2,\n",
       "  ('sag', (10, 9)): 4.7,\n",
       "  ('est', (10, 7)): 5.9,\n",
       "  ('ragi', (10, 0)): 12.7,\n",
       "  ('era', (10, 7)): 10.7,\n",
       "  ('rag', (10, 9)): 11.7,\n",
       "  ('ers', (10, 7)): 4.9,\n",
       "  ('err', (10, 7)): 11.9,\n",
       "  ('log', (10, 9)): 15.7,\n",
       "  ('lag', (10, 9)): 14.2,\n",
       "  ('els', (10, 7)): 8.4,\n",
       "  ('elt', (10, 7)): 16.4,\n",
       "  ('tog', (10, 9)): 14.2,\n",
       "  ('eta', (10, 7)): 11.7,\n",
       "  ('tag', (10, 9)): 12.7,\n",
       "  ('orgia', (10, 0)): 17.5,\n",
       "  ('agios', (10, 1)): 13.5,\n",
       "  ('logia', (10, 0)): 20.0,\n",
       "  ('orgias', (10, 0)): 14.0,\n",
       "  ('on', (11, 6)): 11.7,\n",
       "  ('on', (12, 1)): 12.7,\n",
       "  ('no', (11, 7)): 11.7,\n",
       "  ('no', (12, 2)): 11.7,\n",
       "  ('an', (11, 6)): 10.2,\n",
       "  ('an', (12, 1)): 11.2,\n",
       "  ('na', (11, 7)): 10.2,\n",
       "  ('na', (12, 2)): 10.2,\n",
       "  ('ons', (11, 6)): 5.2,\n",
       "  ('ons', (12, 1)): 6.2,\n",
       "  ('nos', (11, 7)): 5.2,\n",
       "  ('nos', (12, 2)): 6.2,\n",
       "  ('nor', (11, 7)): 12.2,\n",
       "  ('nor', (12, 2)): 13.2,\n",
       "  ('not', (11, 7)): 13.2,\n",
       "  ('not', (12, 2)): 14.2,\n",
       "  ('nas', (11, 7)): 3.7,\n",
       "  ('nas', (12, 2)): 4.7,\n",
       "  ('ant', (11, 6)): 11.7,\n",
       "  ('ant', (12, 1)): 12.7,\n",
       "  ('nat', (11, 7)): 11.7,\n",
       "  ('nat', (12, 2)): 12.7,\n",
       "  ('son', (11, 5)): 5.2,\n",
       "  ('son', (12, 0)): 6.2,\n",
       "  ('san', (11, 5)): 3.7,\n",
       "  ('san', (12, 0)): 4.7,\n",
       "  ('ran', (11, 5)): 10.7,\n",
       "  ('ran', (12, 0)): 11.7,\n",
       "  ('ton', (11, 5)): 13.2,\n",
       "  ('ton', (12, 0)): 14.2,\n",
       "  ('tan', (11, 5)): 11.7,\n",
       "  ('tan', (12, 0)): 12.7,\n",
       "  ('onst', (11, 6)): 6.7,\n",
       "  ('onst', (12, 1)): 8.7,\n",
       "  ('ants', (11, 6)): 5.2,\n",
       "  ('ants', (12, 1)): 7.2,\n",
       "  ('sorn', (11, 4)): 5.7,\n",
       "  ('snot', (11, 6)): 6.7,\n",
       "  ('snot', (12, 1)): 8.7,\n",
       "  ('snar', (11, 6)): 4.2,\n",
       "  ('snar', (12, 1)): 6.2,\n",
       "  ('sant', (11, 5)): 5.2,\n",
       "  ('sant', (12, 0)): 6.2,\n",
       "  ('roan', (11, 4)): 11.5,\n",
       "  ('ront', (11, 5)): 13.7,\n",
       "  ('ront', (12, 0)): 14.7,\n",
       "  ('rant', (11, 5)): 12.2,\n",
       "  ('rant', (12, 0)): 13.2,\n",
       "  ('loan', (11, 4)): 14.0,\n",
       "  ('lorn', (11, 4)): 15.2,\n",
       "  ('larn', (11, 4)): 13.7,\n",
       "  ('lant', (11, 5)): 14.7,\n",
       "  ('lant', (12, 0)): 15.7,\n",
       "  ('tons', (11, 5)): 6.7,\n",
       "  ('tons', (12, 0)): 7.7,\n",
       "  ('torn', (11, 4)): 13.7,\n",
       "  ('tans', (11, 5)): 5.2,\n",
       "  ('tans', (12, 0)): 6.2,\n",
       "  ('tarn', (11, 4)): 12.2,\n",
       "  ('tron', (11, 4)): 13.7,\n",
       "  ('orant', (11, 4)): 13.0,\n",
       "  ('sonar', (11, 5)): 5.0,\n",
       "  ('sonar', (12, 0)): 7.0,\n",
       "  ('santo', (11, 5)): 6.0,\n",
       "  ('santo', (12, 0)): 8.0,\n",
       "  ('slant', (11, 4)): 8.2,\n",
       "  ('roans', (11, 4)): 5.0,\n",
       "  ('ronts', (11, 5)): 7.2,\n",
       "  ('ronts', (12, 0)): 9.2,\n",
       "  ('rants', (11, 5)): 5.7,\n",
       "  ('rants', (12, 0)): 7.7,\n",
       "  ('loans', (11, 4)): 7.5,\n",
       "  ('larns', (11, 4)): 7.2,\n",
       "  ('lants', (11, 5)): 8.2,\n",
       "  ('lants', (12, 0)): 10.2,\n",
       "  ('tonal', (11, 5)): 15.5,\n",
       "  ('tonal', (12, 0)): 18.5,\n",
       "  ('tarns', (11, 4)): 5.7,\n",
       "  ('trona', (11, 4)): 13.0,\n",
       "  ('trons', (11, 4)): 7.2,\n",
       "  ('trans', (11, 4)): 5.7,\n",
       "  ('orants', (11, 4)): 6.5,\n",
       "  ('stanol', (11, 4)): 9.0,\n",
       "  ('tronas', (11, 4)): 6.5,\n",
       "  ('od', (12, 6)): 11.7,\n",
       "  ('do', (12, 7)): 11.7,\n",
       "  ('ad', (12, 6)): 10.2,\n",
       "  ('da', (12, 7)): 10.2,\n",
       "  ('oda', (12, 6)): 11.0,\n",
       "  ('ods', (12, 6)): 5.2,\n",
       "  ('ord', (12, 5)): 12.2,\n",
       "  ('old', (12, 5)): 14.7,\n",
       "  ('ado', (12, 6)): 11.0,\n",
       "  ('ads', (12, 6)): 3.7,\n",
       "  ('ard', (12, 5)): 10.7,\n",
       "  ('sod', (12, 5)): 5.2,\n",
       "  ('sad', (12, 5)): 3.7,\n",
       "  ('rod', (12, 5)): 12.2,\n",
       "  ('rad', (12, 5)): 10.7,\n",
       "  ('lod', (12, 5)): 14.7,\n",
       "  ('lad', (12, 5)): 13.2,\n",
       "  ('tod', (12, 5)): 13.2,\n",
       "  ('tad', (12, 5)): 11.7,\n",
       "  ('orad', (12, 4)): 12.5,\n",
       "  ('ords', (12, 5)): 5.7,\n",
       "  ('olds', (12, 5)): 8.2,\n",
       "  ('nota', (12, 2)): 13.5,\n",
       "  ('naos', (12, 2)): 5.5,\n",
       "  ('ards', (12, 5)): 4.2,\n",
       "  ('alod', (12, 4)): 15.0,\n",
       "  ('nats', (12, 2)): 6.2,\n",
       "  ('soda', (12, 5)): 4.5,\n",
       "  ('sord', (12, 4)): 6.7,\n",
       "  ('sold', (12, 4)): 9.2,\n",
       "  ('sado', (12, 5)): 4.5,\n",
       "  ('sard', (12, 4)): 5.2,\n",
       "  ('road', (12, 4)): 12.5,\n",
       "  ('rods', (12, 5)): 5.7,\n",
       "  ('rads', (12, 5)): 4.2,\n",
       "  ('load', (12, 4)): 16.0,\n",
       "  ('lods', (12, 5)): 8.2,\n",
       "  ('lord', (12, 4)): 17.2,\n",
       "  ('lads', (12, 5)): 6.7,\n",
       "  ('lard', (12, 4)): 15.7,\n",
       "  ('toad', (12, 4)): 13.5,\n",
       "  ('tods', (12, 5)): 6.7,\n",
       "  ('told', (12, 4)): 17.2,\n",
       "  ('tads', (12, 5)): 5.2,\n",
       "  ('trod', (12, 4)): 14.7,\n",
       "  ('trad', (12, 4)): 13.2,\n",
       "  ('alods', (12, 4)): 8.5,\n",
       "  ('sorda', (12, 4)): 6.0,\n",
       "  ('snort', (12, 1)): 9.2,\n",
       "  ('snarl', (12, 1)): 9.2,\n",
       "  ('roads', (12, 4)): 6.0,\n",
       "  ('loads', (12, 4)): 9.5,\n",
       "  ('lords', (12, 4)): 10.7,\n",
       "  ('lards', (12, 4)): 9.2,\n",
       "  ('toads', (12, 4)): 7.0,\n",
       "  ('tardo', (12, 4)): 14.0,\n",
       "  ('trods', (12, 4)): 8.2,\n",
       "  ('trads', (12, 4)): 6.7,\n",
       "  ('santol', (12, 0)): 11.0,\n",
       "  ('nuns', (14, 8)): 28.4,\n",
       "  ('st', (13, 2)): 12.9,\n",
       "  ('os', (13, 1)): 12.2,\n",
       "  ('so', (13, 2)): 12.2,\n",
       "  ('as', (13, 1)): 10.7,\n",
       "  ('ras', (13, 0)): 11.2,\n",
       "  ('los', (13, 0)): 15.2,\n",
       "  ('las', (13, 0)): 13.7,\n",
       "  ('tas', (13, 0)): 12.2,\n",
       "  ('ors', (13, 0)): 12.7,\n",
       "  ('sol', (13, 2)): 15.2,\n",
       "  ('sot', (13, 2)): 13.7,\n",
       "  ('ars', (13, 0)): 11.2,\n",
       "  ('sar', (13, 2)): 11.2,\n",
       "  ('als', (13, 0)): 13.7,\n",
       "  ('sal', (13, 2)): 13.7,\n",
       "  ('sat', (13, 2)): 12.2,\n",
       "  ('rost', (13, 0)): 14.2,\n",
       "  ('rast', (13, 0)): 12.7,\n",
       "  ('lost', (13, 0)): 16.7,\n",
       "  ('slot', (13, 2)): 22.7,\n",
       "  ('last', (13, 0)): 15.2,\n",
       "  ('slat', (13, 2)): 21.2,\n",
       "  ('tosa', (13, 0)): 13.0,\n",
       "  ('stoa', (13, 2)): 18.0,\n",
       "  ('tsar', (13, 1)): 12.7,\n",
       "  ('star', (13, 2)): 17.7,\n",
       "  ('sort', (13, 2)): 19.2,\n",
       "  ('sora', (13, 2)): 17.0,\n",
       "  ('sola', (13, 2)): 20.5,\n",
       "  ('osar', (13, 1)): 12.0,\n",
       "  ('soar', (13, 2)): 17.0,\n",
       "  ('oast', (13, 0)): 13.0,\n",
       "  ('salt', (13, 2)): 21.2,\n",
       "  ('also', (13, 0)): 14.5,\n",
       "  ('slart', (13, 2)): 22.7,\n",
       "  ('starr', (13, 2)): 19.2,\n",
       "  ('sorra', (13, 2)): 18.5,\n",
       "  ('sorta', (13, 2)): 19.5,\n",
       "  ('soral', (13, 2)): 22.0,\n",
       "  ('solar', (13, 2)): 22.0,\n",
       "  ('salto', (13, 2)): 23.0,\n",
       "  ('rostra', (13, 0)): 21.0,\n",
       "  ('rostral', (13, 0)): 61,\n",
       "  ('oos', (8, 2)): 10.2},\n",
       " {('gins', (2, 10)): 9.4,\n",
       "  ('oh', (4, 8)): 16.7,\n",
       "  ('ho', (4, 9)): 17.7,\n",
       "  ('sh', (4, 8)): 9.4,\n",
       "  ('hoa', (4, 9)): 17.0,\n",
       "  ('ohs', (4, 8)): 15.2,\n",
       "  ('hos', (4, 9)): 11.2,\n",
       "  ('hot', (4, 9)): 19.2,\n",
       "  ('ash', (4, 7)): 13.7,\n",
       "  ('rho', (4, 8)): 22.2,\n",
       "  ('hoas', (4, 9)): 11.5,\n",
       "  ('hoar', (4, 9)): 18.5,\n",
       "  ('host', (4, 9)): 13.7,\n",
       "  ('hora', (4, 9)): 18.5,\n",
       "  ('hors', (4, 9)): 12.7,\n",
       "  ('hols', (4, 9)): 15.2,\n",
       "  ('holt', (4, 9)): 23.2,\n",
       "  ('hots', (4, 9)): 13.7,\n",
       "  ('shot', (4, 8)): 16.7,\n",
       "  ('rhos', (4, 8)): 15.7,\n",
       "  ('rash', (4, 6)): 15.2,\n",
       "  ('lash', (4, 6)): 18.7,\n",
       "  ('tash', (4, 6)): 16.2,\n",
       "  ('hoast', (4, 9)): 13.0,\n",
       "  ('hoars', (4, 9)): 12.0,\n",
       "  ('hosta', (4, 9)): 13.0,\n",
       "  ('horas', (4, 9)): 12.0,\n",
       "  ('horal', (4, 9)): 21.5,\n",
       "  ('horst', (4, 9)): 14.2,\n",
       "  ('holts', (4, 9)): 16.7,\n",
       "  ('shoal', (4, 8)): 19.5,\n",
       "  ('shoat', (4, 8)): 17.0,\n",
       "  ('shorl', (4, 8)): 20.7,\n",
       "  ('short', (4, 8)): 18.2,\n",
       "  ('shola', (4, 8)): 18.5,\n",
       "  ('trash', (4, 5)): 16.7,\n",
       "  ('ou', (5, 8)): 11.7,\n",
       "  ('us', (5, 9)): 4.4,\n",
       "  ('ur', (5, 9)): 11.4,\n",
       "  ('ut', (5, 9)): 12.4,\n",
       "  ('ous', (5, 8)): 5.2,\n",
       "  ('our', (5, 8)): 12.2,\n",
       "  ('out', (5, 8)): 13.2,\n",
       "  ('sur', (5, 8)): 4.9,\n",
       "  ('rut', (5, 8)): 12.9,\n",
       "  ('lur', (5, 8)): 14.4,\n",
       "  ('uta', (5, 9)): 11.7,\n",
       "  ('uts', (5, 9)): 5.9,\n",
       "  ('oust', (5, 8)): 6.7,\n",
       "  ('ours', (5, 8)): 5.7,\n",
       "  ('outs', (5, 8)): 6.7,\n",
       "  ('auto', (5, 8)): 12.5,\n",
       "  ('sura', (5, 8)): 4.2,\n",
       "  ('urao', (5, 9)): 11.5,\n",
       "  ('rusa', (5, 8)): 4.2,\n",
       "  ('ursa', (5, 9)): 4.2,\n",
       "  ('rust', (5, 8)): 6.4,\n",
       "  ('ruts', (5, 8)): 6.4,\n",
       "  ('lust', (5, 8)): 8.9,\n",
       "  ('lurs', (5, 8)): 7.9,\n",
       "  ('utas', (5, 9)): 5.2,\n",
       "  ('aulos', (5, 8)): 7.5,\n",
       "  ('autos', (5, 8)): 6.0,\n",
       "  ('sural', (5, 8)): 7.2,\n",
       "  ('surat', (5, 8)): 5.7,\n",
       "  ('surra', (5, 8)): 4.7,\n",
       "  ('sutor', (5, 8)): 7.2,\n",
       "  ('sutra', (5, 8)): 5.7,\n",
       "  ('uraos', (5, 9)): 11.0,\n",
       "  ('rural', (5, 8)): 14.2,\n",
       "  ('ultra', (5, 9)): 22.2,\n",
       "  ('rurals', (5, 8)): 15.7,\n",
       "  ('lustra', (5, 8)): 16.7,\n",
       "  ('ultras', (5, 9)): 16.7,\n",
       "  ('ewes', (8, 6)): 21.4,\n",
       "  ('ewest', (8, 6)): 26.9,\n",
       "  ('jests', (9, 5)): 17.4,\n",
       "  ('ad', (14, 10)): 12.2,\n",
       "  ('da', (14, 11)): 15.2,\n",
       "  ('so', (2, 6)): 8.2,\n",
       "  ('so', (1, 11)): 10.2,\n",
       "  ('so', (8, 10)): 10.2,\n",
       "  ('os', (2, 7)): 10.2,\n",
       "  ('os', (1, 12)): 8.2,\n",
       "  ('os', (3, 12)): 6.2,\n",
       "  ('os', (6, 12)): 6.2,\n",
       "  ('or', (1, 12)): 15.2,\n",
       "  ('or', (3, 12)): 13.2,\n",
       "  ('or', (6, 12)): 13.2,\n",
       "  ('lo', (2, 6)): 17.7,\n",
       "  ('lo', (1, 11)): 20.7,\n",
       "  ('lo', (8, 10)): 22.7,\n",
       "  ('to', (2, 6)): 16.2,\n",
       "  ('to', (1, 11)): 18.2,\n",
       "  ('to', (8, 10)): 18.2,\n",
       "  ('sol', (2, 6)): 14.2,\n",
       "  ('sol', (1, 11)): 13.2,\n",
       "  ('sot', (2, 6)): 11.7,\n",
       "  ('sot', (1, 11)): 11.7,\n",
       "  ('rot', (2, 6)): 18.7,\n",
       "  ('los', (2, 6)): 13.2,\n",
       "  ('los', (1, 11)): 14.2,\n",
       "  ('lor', (1, 11)): 21.2,\n",
       "  ('lot', (2, 6)): 21.2,\n",
       "  ('lot', (1, 11)): 22.2,\n",
       "  ('tor', (1, 11)): 18.7,\n",
       "  ('tao', (2, 5)): 15.5,\n",
       "  ('tao', (1, 11)): 17.5,\n",
       "  ('tao', (8, 10)): 20.5,\n",
       "  ('slot', (2, 5)): 14.7,\n",
       "  ('stoa', (4, 4)): 10.0,\n",
       "  ('rato', (2, 4)): 17.0,\n",
       "  ('taos', (2, 5)): 11.0,\n",
       "  ('taos', (1, 11)): 11.0,\n",
       "  ('taro', (2, 4)): 17.0,\n",
       "  ('taro', (1, 11)): 18.0,\n",
       "  ('also', (2, 4)): 11.5,\n",
       "  ('alto', (2, 4)): 19.5,\n",
       "  ('salto', (2, 3)): 13.0,\n",
       "  ('ratos', (2, 4)): 12.5,\n",
       "  ('taros', (2, 4)): 12.5,\n",
       "  ('altos', (2, 4)): 15.0,\n",
       "  ('at', (1, 12)): 14.7,\n",
       "  ('at', (3, 12)): 12.7,\n",
       "  ('at', (6, 12)): 12.7,\n",
       "  ('sat', (1, 11)): 10.2,\n",
       "  ('lat', (1, 11)): 20.7,\n",
       "  ('art', (1, 12)): 15.2,\n",
       "  ('art', (3, 12)): 19.2,\n",
       "  ('art', (6, 12)): 15.2,\n",
       "  ('alt', (1, 12)): 17.7,\n",
       "  ('alt', (3, 12)): 23.7,\n",
       "  ('alt', (6, 12)): 17.7,\n",
       "  ('ort', (1, 12)): 16.7,\n",
       "  ('ort', (3, 12)): 20.7,\n",
       "  ('ort', (6, 12)): 16.7,\n",
       "  ('oat', (1, 11)): 17.5,\n",
       "  ('oat', (6, 11)): 16.5,\n",
       "  ('oat', (1, 12)): 15.5,\n",
       "  ('oat', (3, 12)): 19.5,\n",
       "  ('oat', (6, 12)): 15.5,\n",
       "  ('salt', (1, 11)): 13.2,\n",
       "  ('sort', (1, 11)): 12.2,\n",
       "  ('last', (1, 11)): 14.2,\n",
       "  ('lost', (1, 11)): 15.7,\n",
       "  ('oast', (1, 11)): 11.0,\n",
       "  ('oast', (6, 11)): 12.0,\n",
       "  ('la', (4, 6)): 18.2,\n",
       "  ('la', (1, 11)): 19.2,\n",
       "  ('la', (8, 10)): 21.2,\n",
       "  ('ta', (4, 6)): 15.7,\n",
       "  ('ta', (1, 11)): 16.7,\n",
       "  ('ta', (8, 10)): 16.7,\n",
       "  ('ora', (4, 5)): 15.5,\n",
       "  ('ora', (1, 12)): 14.5,\n",
       "  ('ora', (3, 12)): 18.5,\n",
       "  ('ora', (6, 12)): 14.5,\n",
       "  ('sora', (4, 4)): 9.0,\n",
       "  ('sora', (1, 11)): 10.0,\n",
       "  ('sola', (4, 4)): 12.5,\n",
       "  ('sola', (1, 11)): 12.5,\n",
       "  ('rota', (4, 4)): 17.0,\n",
       "  ('lota', (4, 4)): 19.5,\n",
       "  ('lota', (1, 11)): 21.5,\n",
       "  ('orra', (4, 4)): 16.0,\n",
       "  ('tosa', (4, 4)): 10.0,\n",
       "  ('tosa', (1, 11)): 11.0,\n",
       "  ('tora', (4, 4)): 17.0,\n",
       "  ('tora', (1, 11)): 18.0,\n",
       "  ('tola', (4, 4)): 20.5,\n",
       "  ('tola', (1, 11)): 20.5,\n",
       "  ('sorra', (4, 3)): 9.5,\n",
       "  ('sorta', (4, 3)): 10.5,\n",
       "  ('rostra', (4, 2)): 12.0,\n",
       "  ('as', (1, 12)): 6.7,\n",
       "  ('as', (3, 12)): 4.7,\n",
       "  ('as', (6, 12)): 4.7,\n",
       "  ('las', (1, 11)): 12.7,\n",
       "  ('tas', (1, 11)): 10.2,\n",
       "  ('ars', (1, 12)): 7.2,\n",
       "  ('ars', (3, 12)): 11.2,\n",
       "  ('ars', (6, 12)): 7.2,\n",
       "  ('als', (1, 12)): 9.7,\n",
       "  ('als', (3, 12)): 15.7,\n",
       "  ('als', (6, 12)): 9.7,\n",
       "  ('ors', (1, 12)): 8.7,\n",
       "  ('ors', (3, 12)): 12.7,\n",
       "  ('ors', (6, 12)): 8.7,\n",
       "  ('lars', (1, 11)): 13.2,\n",
       "  ('lats', (1, 11)): 14.2,\n",
       "  ('lots', (1, 11)): 15.7,\n",
       "  ('tars', (1, 11)): 10.7,\n",
       "  ('tors', (1, 11)): 12.2,\n",
       "  ('oars', (1, 11)): 10.0,\n",
       "  ('oars', (6, 11)): 11.0,\n",
       "  ('oats', (1, 11)): 11.0,\n",
       "  ('oats', (6, 11)): 12.0,\n",
       "  ('al', (1, 12)): 16.2,\n",
       "  ('al', (3, 12)): 14.2,\n",
       "  ('al', (6, 12)): 14.2,\n",
       "  ('sal', (1, 11)): 11.7,\n",
       "  ('oar', (1, 11)): 16.5,\n",
       "  ('oar', (6, 11)): 15.5,\n",
       "  ('oar', (1, 12)): 14.5,\n",
       "  ('oar', (3, 12)): 18.5,\n",
       "  ('oar', (6, 12)): 14.5,\n",
       "  ('torr', (1, 11)): 19.2,\n",
       "  ('soar', (1, 11)): 10.0,\n",
       "  ('ar', (1, 12)): 13.7,\n",
       "  ('ar', (3, 12)): 11.7,\n",
       "  ('ar', (6, 12)): 11.7,\n",
       "  ('tar', (1, 11)): 17.2,\n",
       "  ('sar', (1, 11)): 9.2,\n",
       "  ('lar', (1, 11)): 19.7})"
      ]
     },
     "execution_count": 6,
     "metadata": {},
     "output_type": "execute_result"
    },
    {
     "data": {
      "application/javascript": [
       "\n",
       "            setTimeout(function() {\n",
       "                var nbb_cell_id = 6;\n",
       "                var nbb_unformatted_code = \"sam = Scrabbler(board_array, sample_board_letters)\\nsam.valid_score_choices(adjustion='leave_values')\";\n",
       "                var nbb_formatted_code = \"sam = Scrabbler(board_array, sample_board_letters)\\nsam.valid_score_choices(adjustion=\\\"leave_values\\\")\";\n",
       "                var nbb_cells = Jupyter.notebook.get_cells();\n",
       "                for (var i = 0; i < nbb_cells.length; ++i) {\n",
       "                    if (nbb_cells[i].input_prompt_number == nbb_cell_id) {\n",
       "                        if (nbb_cells[i].get_text() == nbb_unformatted_code) {\n",
       "                             nbb_cells[i].set_text(nbb_formatted_code);\n",
       "                        }\n",
       "                        break;\n",
       "                    }\n",
       "                }\n",
       "            }, 500);\n",
       "            "
      ],
      "text/plain": [
       "<IPython.core.display.Javascript object>"
      ]
     },
     "metadata": {},
     "output_type": "display_data"
    }
   ],
   "source": [
    "sam = Scrabbler(board_array, sample_board_letters)\n",
    "sam.valid_score_choices(adjustion=\"leave_values\")"
   ]
  },
  {
   "cell_type": "code",
   "execution_count": 8,
   "metadata": {
    "scrolled": true
   },
   "outputs": [
    {
     "data": {
      "text/plain": [
       "({('rostral', (13, 0)): 61,\n",
       "  ('nuns', (14, 8)): 28.4,\n",
       "  ('salto', (13, 2)): 23.0,\n",
       "  ('slot', (13, 2)): 22.7,\n",
       "  ('slart', (13, 2)): 22.7},\n",
       " {('ewest', (8, 6)): 26.9,\n",
       "  ('alt', (3, 12)): 23.7,\n",
       "  ('holt', (4, 9)): 23.2,\n",
       "  ('lo', (8, 10)): 22.7,\n",
       "  ('rho', (4, 8)): 22.2})"
      ]
     },
     "execution_count": 8,
     "metadata": {},
     "output_type": "execute_result"
    },
    {
     "data": {
      "application/javascript": [
       "\n",
       "            setTimeout(function() {\n",
       "                var nbb_cell_id = 8;\n",
       "                var nbb_unformatted_code = \"# with the leave values adjustion\\nsam.top_k_words(5)\";\n",
       "                var nbb_formatted_code = \"# with the leave values adjustion\\nsam.top_k_words(5)\";\n",
       "                var nbb_cells = Jupyter.notebook.get_cells();\n",
       "                for (var i = 0; i < nbb_cells.length; ++i) {\n",
       "                    if (nbb_cells[i].input_prompt_number == nbb_cell_id) {\n",
       "                        if (nbb_cells[i].get_text() == nbb_unformatted_code) {\n",
       "                             nbb_cells[i].set_text(nbb_formatted_code);\n",
       "                        }\n",
       "                        break;\n",
       "                    }\n",
       "                }\n",
       "            }, 500);\n",
       "            "
      ],
      "text/plain": [
       "<IPython.core.display.Javascript object>"
      ]
     },
     "metadata": {},
     "output_type": "display_data"
    }
   ],
   "source": [
    "# with the leave values adjustion\n",
    "sam.top_k_words(5)"
   ]
  },
  {
   "cell_type": "code",
   "execution_count": 14,
   "metadata": {},
   "outputs": [
    {
     "data": {
      "text/plain": [
       "({('rostral', (13, 0)): 61,\n",
       "  ('nuns', (14, 8)): 27,\n",
       "  ('slart', (13, 2)): 22,\n",
       "  ('soral', (13, 2)): 22,\n",
       "  ('solar', (13, 2)): 22},\n",
       " {('ewest', (8, 6)): 25,\n",
       "  ('ewes', (8, 6)): 20,\n",
       "  ('shorl', (4, 8)): 19,\n",
       "  ('shoal', (4, 8)): 19,\n",
       "  ('lash', (4, 6)): 18})"
      ]
     },
     "execution_count": 14,
     "metadata": {},
     "output_type": "execute_result"
    }
   ],
   "source": [
    "#without the leave values adjustion\n",
    "#seems like LV is just adding 10 points to everything\n",
    "#TODO: fix that \n",
    "sam.top_k_words(5)"
   ]
  },
  {
   "cell_type": "markdown",
   "metadata": {},
   "source": [
    "**More accurate (Scrabble) leave values:**\n",
    "\n",
    "Subtract .5 from the consonants and add .7 to the vowels for the individual approximate leave values:\n",
    "\n",
    "S 8.04\n",
    "Z 5.12\n",
    "X 3.31\n",
    "R 1.10\n",
    "H 1.09\n",
    "C 0.85\n",
    "M 0.58\n",
    "D 0.45\n",
    "E 0.35\n",
    "N 0.22\n",
    "T -0.10\n",
    "L -0.17\n",
    "P -0.46\n",
    "K -0.54\n",
    "Y -0.63\n",
    "A -0.63\n",
    "J -1.47\n",
    "B -2.00\n",
    "I -2.07\n",
    "F -2.21\n",
    "O -2.50\n",
    "G -2.85\n",
    "W -3.82\n",
    "U -5.10\n",
    "V -5.55\n",
    "Q -6.79"
   ]
  },
  {
   "cell_type": "code",
   "execution_count": 10,
   "metadata": {},
   "outputs": [
    {
     "data": {
      "text/plain": [
       "array([['', '', '', '', '', '', '', '', '', '', 'd', 'e', 'a', 'd', ''],\n",
       "       ['', '', '', '', '', '', '', '', '', 'z', 'o', 'n', 'a', '', 'w'],\n",
       "       ['', '', '', '', '', '', '', '', '', '', '', 'a', '', '', 'i'],\n",
       "       ['', '', '', '', '', '', '', '', '', 'r', 'i', 'm', 'a', '', 'l'],\n",
       "       ['', '', '', '', '', '', '', '', '', '', '', 'o', 'b', 'e', 'y'],\n",
       "       ['', '', '', '', '', '', '', '', '', 'j', 'u', 'r', 'a', 'l', ''],\n",
       "       ['', '', '', '', '', '', '', 'b', 'e', 'e', 'p', '', '', '', ''],\n",
       "       ['', '', '', 'f', '', '', 'y', 'e', 'w', 's', '', 't', '', '', ''],\n",
       "       ['', '', '', 'o', '', '', '', 'l', 'e', 't', 'c', 'h', '', '', ''],\n",
       "       ['', '', '', 'c', 'h', 'u', 'r', 'l', '', '', '', 'i', '', 'r',\n",
       "        ''],\n",
       "       ['', '', 'g', 'i', '', '', '', 'e', '', '', '', 'g', '', 'e', ''],\n",
       "       ['', '', 'i', '', '', '', '', 'n', '', '', '', 'h', 'u', 'e', 'd'],\n",
       "       ['', '', 'n', '', '', '', '', 'd', '', '', '', '', '', 'f', ''],\n",
       "       ['', '', '', '', '', '', '', '', '', 'v', 'e', 'e', 'p', 's', ''],\n",
       "       ['', '', '', '', '', '', '', '', 'n', 'u', 'n', '', '', '', '']],\n",
       "      dtype='<U1')"
      ]
     },
     "execution_count": 10,
     "metadata": {},
     "output_type": "execute_result"
    },
    {
     "data": {
      "application/javascript": [
       "\n",
       "            setTimeout(function() {\n",
       "                var nbb_cell_id = 10;\n",
       "                var nbb_unformatted_code = \"sam.board\";\n",
       "                var nbb_formatted_code = \"sam.board\";\n",
       "                var nbb_cells = Jupyter.notebook.get_cells();\n",
       "                for (var i = 0; i < nbb_cells.length; ++i) {\n",
       "                    if (nbb_cells[i].input_prompt_number == nbb_cell_id) {\n",
       "                        if (nbb_cells[i].get_text() == nbb_unformatted_code) {\n",
       "                             nbb_cells[i].set_text(nbb_formatted_code);\n",
       "                        }\n",
       "                        break;\n",
       "                    }\n",
       "                }\n",
       "            }, 500);\n",
       "            "
      ],
      "text/plain": [
       "<IPython.core.display.Javascript object>"
      ]
     },
     "metadata": {},
     "output_type": "display_data"
    }
   ],
   "source": [
    "sam.board"
   ]
  },
  {
   "cell_type": "code",
   "execution_count": 5,
   "metadata": {},
   "outputs": [
    {
     "data": {
      "application/javascript": [
       "\n",
       "            setTimeout(function() {\n",
       "                var nbb_cell_id = 5;\n",
       "                var nbb_unformatted_code = \"import re\";\n",
       "                var nbb_formatted_code = \"import re\";\n",
       "                var nbb_cells = Jupyter.notebook.get_cells();\n",
       "                for (var i = 0; i < nbb_cells.length; ++i) {\n",
       "                    if (nbb_cells[i].input_prompt_number == nbb_cell_id) {\n",
       "                        if (nbb_cells[i].get_text() == nbb_unformatted_code) {\n",
       "                             nbb_cells[i].set_text(nbb_formatted_code);\n",
       "                        }\n",
       "                        break;\n",
       "                    }\n",
       "                }\n",
       "            }, 500);\n",
       "            "
      ],
      "text/plain": [
       "<IPython.core.display.Javascript object>"
      ]
     },
     "metadata": {},
     "output_type": "display_data"
    }
   ],
   "source": [
    "import re"
   ]
  },
  {
   "cell_type": "code",
   "execution_count": 6,
   "metadata": {},
   "outputs": [
    {
     "data": {
      "application/javascript": [
       "\n",
       "            setTimeout(function() {\n",
       "                var nbb_cell_id = 6;\n",
       "                var nbb_unformatted_code = \"testset={'hello','goodbye', 'hens', 'hell'}\";\n",
       "                var nbb_formatted_code = \"testset = {\\\"hello\\\", \\\"goodbye\\\", \\\"hens\\\", \\\"hell\\\"}\";\n",
       "                var nbb_cells = Jupyter.notebook.get_cells();\n",
       "                for (var i = 0; i < nbb_cells.length; ++i) {\n",
       "                    if (nbb_cells[i].input_prompt_number == nbb_cell_id) {\n",
       "                        if (nbb_cells[i].get_text() == nbb_unformatted_code) {\n",
       "                             nbb_cells[i].set_text(nbb_formatted_code);\n",
       "                        }\n",
       "                        break;\n",
       "                    }\n",
       "                }\n",
       "            }, 500);\n",
       "            "
      ],
      "text/plain": [
       "<IPython.core.display.Javascript object>"
      ]
     },
     "metadata": {},
     "output_type": "display_data"
    }
   ],
   "source": [
    "testset=['hello','goodbye', 'hens', 'hell']"
   ]
  },
  {
   "cell_type": "code",
   "execution_count": 11,
   "metadata": {},
   "outputs": [
    {
     "data": {
      "text/plain": [
       "<re.Match object; span=(0, 2), match='he'>"
      ]
     },
     "execution_count": 11,
     "metadata": {},
     "output_type": "execute_result"
    },
    {
     "data": {
      "application/javascript": [
       "\n",
       "            setTimeout(function() {\n",
       "                var nbb_cell_id = 11;\n",
       "                var nbb_unformatted_code = \"re.match(r'he', 'hello')\";\n",
       "                var nbb_formatted_code = \"re.match(r\\\"he\\\", \\\"hello\\\")\";\n",
       "                var nbb_cells = Jupyter.notebook.get_cells();\n",
       "                for (var i = 0; i < nbb_cells.length; ++i) {\n",
       "                    if (nbb_cells[i].input_prompt_number == nbb_cell_id) {\n",
       "                        if (nbb_cells[i].get_text() == nbb_unformatted_code) {\n",
       "                             nbb_cells[i].set_text(nbb_formatted_code);\n",
       "                        }\n",
       "                        break;\n",
       "                    }\n",
       "                }\n",
       "            }, 500);\n",
       "            "
      ],
      "text/plain": [
       "<IPython.core.display.Javascript object>"
      ]
     },
     "metadata": {},
     "output_type": "display_data"
    }
   ],
   "source": [
    "re.match(r\"he\", \"hello\")"
   ]
  },
  {
   "cell_type": "code",
   "execution_count": 116,
   "metadata": {},
   "outputs": [
    {
     "data": {
      "application/javascript": [
       "\n",
       "            setTimeout(function() {\n",
       "                var nbb_cell_id = 116;\n",
       "                var nbb_unformatted_code = \"strips_dict = {\\n    0: set(),\\n    1: set(),\\n    2: set(),\\n    3: set(),\\n    4: set(),\\n    5: set(),\\n    6: set(),\\n    7: set(),\\n    8: set(),\\n    9: set(),\\n    10: set(),\\n    11: set(),\\n}\\nstrips = set()\\nboard_array_copy = np.copy(board_array)\\nfor strip_len in range(2, 15):\\n    for y in range(0, 15):\\n        for x in range(0, 15 - (strip_len - 1)):\\n            strip = tuple(board_array_copy[y, x : x + strip_len])\\n            num_letters = len(\\\"\\\".join(strip))\\n            num_spaces = strip_len - num_letters\\n            if num_letters > 0 and num_spaces > 0 and num_spaces <= 9:\\n                if strip[0] == \\\"\\\" and strip[-1] == \\\"\\\":\\n                    strips_dict[num_spaces - 2].add(strip[1:-1])\\n                elif x == 0 and strip[-1] == \\\"\\\":\\n                    strips_dict[num_spaces - 1].add(strip[:-1])\\n                elif x + (strip_len - 1) == 14 and strip[0] == \\\"\\\":\\n                    strips_dict[num_spaces - 1].add(strip[1:])\\n\\n\\n#                 if (strip[0] == \\\"\\\" or x == 0) and (\\n#                     strip[-1] == \\\"\\\" or x + strip_len == 14\\n#                 ):  # TODO: check that last part\\n#                     strips_dict[num_spaces - 2].add(strip[1:-2]) #the -2 is messing up the dictionary\\n# elif\\n# if len(\\\" \\\".join(strip).strip()): #this might not work\\n\\n\\n# strips_dict[num_spaces].add(strip)\";\n",
       "                var nbb_formatted_code = \"strips_dict = {\\n    0: set(),\\n    1: set(),\\n    2: set(),\\n    3: set(),\\n    4: set(),\\n    5: set(),\\n    6: set(),\\n    7: set(),\\n    8: set(),\\n    9: set(),\\n    10: set(),\\n    11: set(),\\n}\\nstrips = set()\\nboard_array_copy = np.copy(board_array)\\nfor strip_len in range(2, 15):\\n    for y in range(0, 15):\\n        for x in range(0, 15 - (strip_len - 1)):\\n            strip = tuple(board_array_copy[y, x : x + strip_len])\\n            num_letters = len(\\\"\\\".join(strip))\\n            num_spaces = strip_len - num_letters\\n            if num_letters > 0 and num_spaces > 0 and num_spaces <= 9:\\n                if strip[0] == \\\"\\\" and strip[-1] == \\\"\\\":\\n                    strips_dict[num_spaces - 2].add(strip[1:-1])\\n                elif x == 0 and strip[-1] == \\\"\\\":\\n                    strips_dict[num_spaces - 1].add(strip[:-1])\\n                elif x + (strip_len - 1) == 14 and strip[0] == \\\"\\\":\\n                    strips_dict[num_spaces - 1].add(strip[1:])\\n\\n\\n#                 if (strip[0] == \\\"\\\" or x == 0) and (\\n#                     strip[-1] == \\\"\\\" or x + strip_len == 14\\n#                 ):  # TODO: check that last part\\n#                     strips_dict[num_spaces - 2].add(strip[1:-2]) #the -2 is messing up the dictionary\\n# elif\\n# if len(\\\" \\\".join(strip).strip()): #this might not work\\n\\n\\n# strips_dict[num_spaces].add(strip)\";\n",
       "                var nbb_cells = Jupyter.notebook.get_cells();\n",
       "                for (var i = 0; i < nbb_cells.length; ++i) {\n",
       "                    if (nbb_cells[i].input_prompt_number == nbb_cell_id) {\n",
       "                        if (nbb_cells[i].get_text() == nbb_unformatted_code) {\n",
       "                             nbb_cells[i].set_text(nbb_formatted_code);\n",
       "                        }\n",
       "                        break;\n",
       "                    }\n",
       "                }\n",
       "            }, 500);\n",
       "            "
      ],
      "text/plain": [
       "<IPython.core.display.Javascript object>"
      ]
     },
     "metadata": {},
     "output_type": "display_data"
    }
   ],
   "source": [
    "strips_dict = {\n",
    "    0: set(),\n",
    "    1: set(),\n",
    "    2: set(),\n",
    "    3: set(),\n",
    "    4: set(),\n",
    "    5: set(),\n",
    "    6: set(),\n",
    "    7: set(),\n",
    "    8: set(),\n",
    "    9: set(),\n",
    "    10: set(),\n",
    "    11: set(),\n",
    "}\n",
    "strips = set()\n",
    "board_array_copy = np.copy(board_array)\n",
    "for strip_len in range(2, 15):\n",
    "    for y in range(0, 15):\n",
    "        for x in range(0, 15 - (strip_len - 1)):\n",
    "            strip = tuple(board_array_copy[y, x : x + strip_len])\n",
    "            num_letters = len(\"\".join(strip))\n",
    "            num_spaces = strip_len - num_letters\n",
    "            if num_letters > 0 and num_spaces > 0 and num_spaces <= 9:\n",
    "                if strip[0] == \"\" and strip[-1] == \"\":\n",
    "                    strips_dict[num_spaces - 2].add(strip[1:-1])\n",
    "                elif x == 0 and strip[-1] == \"\":\n",
    "                    strips_dict[num_spaces - 1].add(strip[:-1])\n",
    "                elif x + (strip_len - 1) == 14 and strip[0] == \"\":\n",
    "                    strips_dict[num_spaces - 1].add(strip[1:])\n",
    "\n",
    "\n",
    "#                 if (strip[0] == \"\" or x == 0) and (\n",
    "#                     strip[-1] == \"\" or x + strip_len == 14\n",
    "#                 ):  # TODO: check that last part\n",
    "#                     strips_dict[num_spaces - 2].add(strip[1:-2]) #the -2 is messing up the dictionary\n",
    "# elif\n",
    "# if len(\" \".join(strip).strip()): #this might not work\n",
    "\n",
    "\n",
    "# strips_dict[num_spaces].add(strip)"
   ]
  },
  {
   "cell_type": "code",
   "execution_count": null,
   "metadata": {
    "scrolled": false
   },
   "outputs": [],
   "source": [
    "# use replace('', char, 1) to replace first instance\n",
    "strips_dict"
   ]
  },
  {
   "cell_type": "code",
   "execution_count": null,
   "metadata": {},
   "outputs": [],
   "source": [
    "\n",
    "letter_permutations = list(itertools.permutations(sample_board_letters, length))"
   ]
  },
  {
   "cell_type": "code",
   "execution_count": 169,
   "metadata": {
    "scrolled": false
   },
   "outputs": [
    {
     "data": {
      "application/javascript": [
       "\n",
       "            setTimeout(function() {\n",
       "                var nbb_cell_id = 169;\n",
       "                var nbb_unformatted_code = \"def skippable_strips(x, strip_length):\\n    pass\\n\\ndef potential_perms2(board_array, hand_letters):\\n    hand_perms_dict = hand_perms_dictionary(hand_letters)\\n    word_perms_dict = {}\\n    valid_words_set = set()\\n    board_array_copy = np.copy(board_array)\\n    for y in range(0, 15):\\n        for x in range(0, 14):\\n            for strip_len in range(15 - x,1,-1):\\n                num_spaces = 0\\n                strip = []\\n                try:\\n                    num_spaces, strip = possible_strip2(board_array, strip_len, y, x)\\n                    # strips_dict[num_spaces].add(strip)\\n                except:\\n                    continue\\n                if num_spaces==len(strip):\\n                    break\\n                y_x_l_word_perms = []\\n                if num_spaces == 0 or num_spaces > 7:\\n                    continue\\n                if strip not in word_perms_dict:  # TODO: check last and\\n                    perms_to_try = hand_perms_dict[num_spaces]\\n                    # these are all the possible permutations of a given length for a given context:\\n                    y_x_l_word_perms = [\\n                        fill_strip(strip, perm) for perm in perms_to_try\\n                    ]\\n                    word_perms_dict[strip] = y_x_l_word_perms\\n                else:\\n                    y_x_l_word_perms = word_perms_dict[strip]\\n                ##\\n                intersection = WORDSET.intersection(set(y_x_l_word_perms))\\n                valid_words_set = valid_words_set.union(intersection)\\n\\n    # strips_dict = {key: strips_dict[key] for key in range(1, 8)}\\n    # return word_perms_dict\\n    return valid_words_set\\ndef possible_strip2(board_array, strip_len, y, x):\\n    strip = tuple(board_array[y, x : x + strip_len])\\n    num_letters = len(\\\"\\\".join(strip))\\n    num_spaces = strip_len - num_letters\\n    if num_letters == 0:  #\\n        return num_spaces, strip  #\\n    elif num_letters > 0 and num_spaces > 0 and num_spaces <= 9:\\n        # not sure if it needs to handle out of bounds better\\n        if x == 0 and x + strip_len - 1 == 14:\\n            return num_spaces, strip\\n        elif (\\n            x + (strip_len - 1) == 14 and strip[0] == \\\"\\\"\\n        ):  # TODO: should this be >= or ==? How do I handle these edge situations? Should I treat outside as ''\\n            # strips_dict[num_spaces - 1].add(strip[1:])\\n            return num_spaces - 1, strip[1:]\\n        elif x == 0 and strip[-1] == \\\"\\\":\\n            # strips_dict[num_spaces - 1].add(strip[:-1])\\n            return num_spaces - 1, strip[-1]\\n        elif strip[0] == \\\"\\\" and strip[-1] == \\\"\\\":\\n            # strips_dict[num_spaces - 2].add(strip[1:-1])\\n            return num_spaces - 2, strip[1:-1]\";\n",
       "                var nbb_formatted_code = \"def skippable_strips(x, strip_length):\\n    pass\\n\\n\\ndef potential_perms2(board_array, hand_letters):\\n    hand_perms_dict = hand_perms_dictionary(hand_letters)\\n    word_perms_dict = {}\\n    valid_words_set = set()\\n    board_array_copy = np.copy(board_array)\\n    for y in range(0, 15):\\n        for x in range(0, 14):\\n            for strip_len in range(15 - x, 1, -1):\\n                num_spaces = 0\\n                strip = []\\n                try:\\n                    num_spaces, strip = possible_strip2(board_array, strip_len, y, x)\\n                    # strips_dict[num_spaces].add(strip)\\n                except:\\n                    continue\\n                if num_spaces == len(strip):\\n                    break\\n                y_x_l_word_perms = []\\n                if num_spaces == 0 or num_spaces > 7:\\n                    continue\\n                if strip not in word_perms_dict:  # TODO: check last and\\n                    perms_to_try = hand_perms_dict[num_spaces]\\n                    # these are all the possible permutations of a given length for a given context:\\n                    y_x_l_word_perms = [\\n                        fill_strip(strip, perm) for perm in perms_to_try\\n                    ]\\n                    word_perms_dict[strip] = y_x_l_word_perms\\n                else:\\n                    y_x_l_word_perms = word_perms_dict[strip]\\n                ##\\n                intersection = WORDSET.intersection(set(y_x_l_word_perms))\\n                valid_words_set = valid_words_set.union(intersection)\\n\\n    # strips_dict = {key: strips_dict[key] for key in range(1, 8)}\\n    # return word_perms_dict\\n    return valid_words_set\\n\\n\\ndef possible_strip2(board_array, strip_len, y, x):\\n    strip = tuple(board_array[y, x : x + strip_len])\\n    num_letters = len(\\\"\\\".join(strip))\\n    num_spaces = strip_len - num_letters\\n    if num_letters == 0:  #\\n        return num_spaces, strip  #\\n    elif num_letters > 0 and num_spaces > 0 and num_spaces <= 9:\\n        # not sure if it needs to handle out of bounds better\\n        if x == 0 and x + strip_len - 1 == 14:\\n            return num_spaces, strip\\n        elif (\\n            x + (strip_len - 1) == 14 and strip[0] == \\\"\\\"\\n        ):  # TODO: should this be >= or ==? How do I handle these edge situations? Should I treat outside as ''\\n            # strips_dict[num_spaces - 1].add(strip[1:])\\n            return num_spaces - 1, strip[1:]\\n        elif x == 0 and strip[-1] == \\\"\\\":\\n            # strips_dict[num_spaces - 1].add(strip[:-1])\\n            return num_spaces - 1, strip[-1]\\n        elif strip[0] == \\\"\\\" and strip[-1] == \\\"\\\":\\n            # strips_dict[num_spaces - 2].add(strip[1:-1])\\n            return num_spaces - 2, strip[1:-1]\";\n",
       "                var nbb_cells = Jupyter.notebook.get_cells();\n",
       "                for (var i = 0; i < nbb_cells.length; ++i) {\n",
       "                    if (nbb_cells[i].input_prompt_number == nbb_cell_id) {\n",
       "                        if (nbb_cells[i].get_text() == nbb_unformatted_code) {\n",
       "                             nbb_cells[i].set_text(nbb_formatted_code);\n",
       "                        }\n",
       "                        break;\n",
       "                    }\n",
       "                }\n",
       "            }, 500);\n",
       "            "
      ],
      "text/plain": [
       "<IPython.core.display.Javascript object>"
      ]
     },
     "metadata": {},
     "output_type": "display_data"
    },
    {
     "data": {
      "application/javascript": [
       "\n",
       "            setTimeout(function() {\n",
       "                var nbb_cell_id = 169;\n",
       "                var nbb_unformatted_code = \"def skippable_strips(x, strip_length):\\n    pass\\n\\ndef potential_perms2(board_array, hand_letters):\\n    hand_perms_dict = hand_perms_dictionary(hand_letters)\\n    word_perms_dict = {}\\n    valid_words_set = set()\\n    board_array_copy = np.copy(board_array)\\n    for y in range(0, 15):\\n        for x in range(0, 14):\\n            for strip_len in range(15 - x,1,-1):\\n                num_spaces = 0\\n                strip = []\\n                try:\\n                    num_spaces, strip = possible_strip2(board_array, strip_len, y, x)\\n                    # strips_dict[num_spaces].add(strip)\\n                except:\\n                    continue\\n                if num_spaces==len(strip):\\n                    break\\n                y_x_l_word_perms = []\\n                if num_spaces == 0 or num_spaces > 7:\\n                    continue\\n                if strip not in word_perms_dict:  # TODO: check last and\\n                    perms_to_try = hand_perms_dict[num_spaces]\\n                    # these are all the possible permutations of a given length for a given context:\\n                    y_x_l_word_perms = [\\n                        fill_strip(strip, perm) for perm in perms_to_try\\n                    ]\\n                    word_perms_dict[strip] = y_x_l_word_perms\\n                else:\\n                    y_x_l_word_perms = word_perms_dict[strip]\\n                ##\\n                intersection = WORDSET.intersection(set(y_x_l_word_perms))\\n                valid_words_set = valid_words_set.union(intersection)\\n\\n    # strips_dict = {key: strips_dict[key] for key in range(1, 8)}\\n    # return word_perms_dict\\n    return valid_words_set\\ndef possible_strip2(board_array, strip_len, y, x):\\n    strip = tuple(board_array[y, x : x + strip_len])\\n    num_letters = len(\\\"\\\".join(strip))\\n    num_spaces = strip_len - num_letters\\n    if num_letters == 0:  #\\n        return num_spaces, strip  #\\n    elif num_letters > 0 and num_spaces > 0 and num_spaces <= 9:\\n        # not sure if it needs to handle out of bounds better\\n        if x == 0 and x + strip_len - 1 == 14:\\n            return num_spaces, strip\\n        elif (\\n            x + (strip_len - 1) == 14 and strip[0] == \\\"\\\"\\n        ):  # TODO: should this be >= or ==? How do I handle these edge situations? Should I treat outside as ''\\n            # strips_dict[num_spaces - 1].add(strip[1:])\\n            return num_spaces - 1, strip[1:]\\n        elif x == 0 and strip[-1] == \\\"\\\":\\n            # strips_dict[num_spaces - 1].add(strip[:-1])\\n            return num_spaces - 1, strip[-1]\\n        elif strip[0] == \\\"\\\" and strip[-1] == \\\"\\\":\\n            # strips_dict[num_spaces - 2].add(strip[1:-1])\\n            return num_spaces - 2, strip[1:-1]\";\n",
       "                var nbb_formatted_code = \"def skippable_strips(x, strip_length):\\n    pass\\n\\n\\ndef potential_perms2(board_array, hand_letters):\\n    hand_perms_dict = hand_perms_dictionary(hand_letters)\\n    word_perms_dict = {}\\n    valid_words_set = set()\\n    board_array_copy = np.copy(board_array)\\n    for y in range(0, 15):\\n        for x in range(0, 14):\\n            for strip_len in range(15 - x, 1, -1):\\n                num_spaces = 0\\n                strip = []\\n                try:\\n                    num_spaces, strip = possible_strip2(board_array, strip_len, y, x)\\n                    # strips_dict[num_spaces].add(strip)\\n                except:\\n                    continue\\n                if num_spaces == len(strip):\\n                    break\\n                y_x_l_word_perms = []\\n                if num_spaces == 0 or num_spaces > 7:\\n                    continue\\n                if strip not in word_perms_dict:  # TODO: check last and\\n                    perms_to_try = hand_perms_dict[num_spaces]\\n                    # these are all the possible permutations of a given length for a given context:\\n                    y_x_l_word_perms = [\\n                        fill_strip(strip, perm) for perm in perms_to_try\\n                    ]\\n                    word_perms_dict[strip] = y_x_l_word_perms\\n                else:\\n                    y_x_l_word_perms = word_perms_dict[strip]\\n                ##\\n                intersection = WORDSET.intersection(set(y_x_l_word_perms))\\n                valid_words_set = valid_words_set.union(intersection)\\n\\n    # strips_dict = {key: strips_dict[key] for key in range(1, 8)}\\n    # return word_perms_dict\\n    return valid_words_set\\n\\n\\ndef possible_strip2(board_array, strip_len, y, x):\\n    strip = tuple(board_array[y, x : x + strip_len])\\n    num_letters = len(\\\"\\\".join(strip))\\n    num_spaces = strip_len - num_letters\\n    if num_letters == 0:  #\\n        return num_spaces, strip  #\\n    elif num_letters > 0 and num_spaces > 0 and num_spaces <= 9:\\n        # not sure if it needs to handle out of bounds better\\n        if x == 0 and x + strip_len - 1 == 14:\\n            return num_spaces, strip\\n        elif (\\n            x + (strip_len - 1) == 14 and strip[0] == \\\"\\\"\\n        ):  # TODO: should this be >= or ==? How do I handle these edge situations? Should I treat outside as ''\\n            # strips_dict[num_spaces - 1].add(strip[1:])\\n            return num_spaces - 1, strip[1:]\\n        elif x == 0 and strip[-1] == \\\"\\\":\\n            # strips_dict[num_spaces - 1].add(strip[:-1])\\n            return num_spaces - 1, strip[-1]\\n        elif strip[0] == \\\"\\\" and strip[-1] == \\\"\\\":\\n            # strips_dict[num_spaces - 2].add(strip[1:-1])\\n            return num_spaces - 2, strip[1:-1]\";\n",
       "                var nbb_cells = Jupyter.notebook.get_cells();\n",
       "                for (var i = 0; i < nbb_cells.length; ++i) {\n",
       "                    if (nbb_cells[i].input_prompt_number == nbb_cell_id) {\n",
       "                        if (nbb_cells[i].get_text() == nbb_unformatted_code) {\n",
       "                             nbb_cells[i].set_text(nbb_formatted_code);\n",
       "                        }\n",
       "                        break;\n",
       "                    }\n",
       "                }\n",
       "            }, 500);\n",
       "            "
      ],
      "text/plain": [
       "<IPython.core.display.Javascript object>"
      ]
     },
     "metadata": {},
     "output_type": "display_data"
    }
   ],
   "source": [
    "def skippable_strips(x, strip_length):\n",
    "    pass\n",
    "\n",
    "def potential_perms2(board_array, hand_letters):\n",
    "    hand_perms_dict = hand_perms_dictionary(hand_letters)\n",
    "    word_perms_dict = {}\n",
    "    valid_words_set = set()\n",
    "    board_array_copy = np.copy(board_array)\n",
    "    for y in range(0, 15):\n",
    "        for x in range(0, 14):\n",
    "            for strip_len in range(15 - x,1,-1):\n",
    "                num_spaces = 0\n",
    "                strip = []\n",
    "                try:\n",
    "                    num_spaces, strip = possible_strip2(board_array, strip_len, y, x)\n",
    "                    # strips_dict[num_spaces].add(strip)\n",
    "                except:\n",
    "                    continue\n",
    "                if num_spaces==len(strip):\n",
    "                    break\n",
    "                y_x_l_word_perms = []\n",
    "                if num_spaces == 0 or num_spaces > 7:\n",
    "                    continue\n",
    "                if strip not in word_perms_dict:  # TODO: check last and\n",
    "                    perms_to_try = hand_perms_dict[num_spaces]\n",
    "                    # these are all the possible permutations of a given length for a given context:\n",
    "                    y_x_l_word_perms = [\n",
    "                        fill_strip(strip, perm) for perm in perms_to_try\n",
    "                    ]\n",
    "                    word_perms_dict[strip] = y_x_l_word_perms\n",
    "                else:\n",
    "                    y_x_l_word_perms = word_perms_dict[strip]\n",
    "                ##\n",
    "                intersection = WORDSET.intersection(set(y_x_l_word_perms))\n",
    "                valid_words_set = valid_words_set.union(intersection)\n",
    "\n",
    "    # strips_dict = {key: strips_dict[key] for key in range(1, 8)}\n",
    "    # return word_perms_dict\n",
    "    return valid_words_set\n",
    "def possible_strip2(board_array, strip_len, y, x):\n",
    "    strip = tuple(board_array[y, x : x + strip_len])\n",
    "    num_letters = len(\"\".join(strip))\n",
    "    num_spaces = strip_len - num_letters\n",
    "    if num_letters == 0:  #\n",
    "        return num_spaces, strip  #\n",
    "    elif num_letters > 0 and num_spaces > 0 and num_spaces <= 9:\n",
    "        # not sure if it needs to handle out of bounds better\n",
    "        if x == 0 and x + strip_len - 1 == 14:\n",
    "            return num_spaces, strip\n",
    "        elif (\n",
    "            x + (strip_len - 1) == 14 and strip[0] == \"\"\n",
    "        ):  # TODO: should this be >= or ==? How do I handle these edge situations? Should I treat outside as ''\n",
    "            # strips_dict[num_spaces - 1].add(strip[1:])\n",
    "            return num_spaces - 1, strip[1:]\n",
    "        elif x == 0 and strip[-1] == \"\":\n",
    "            # strips_dict[num_spaces - 1].add(strip[:-1])\n",
    "            return num_spaces - 1, strip[-1]\n",
    "        elif strip[0] == \"\" and strip[-1] == \"\":\n",
    "            # strips_dict[num_spaces - 2].add(strip[1:-1])\n",
    "            return num_spaces - 2, strip[1:-1]\n"
   ]
  },
  {
   "cell_type": "markdown",
   "metadata": {},
   "source": [
    "## New part:"
   ]
  },
  {
   "cell_type": "code",
   "execution_count": 171,
   "metadata": {
    "scrolled": false
   },
   "outputs": [
    {
     "data": {
      "application/javascript": [
       "\n",
       "            setTimeout(function() {\n",
       "                var nbb_cell_id = 171;\n",
       "                var nbb_unformatted_code = \"def hand_perms(hand_letters, length):\\n    letter_permutations = list(itertools.permutations(hand_letters, length))\\n    return letter_permutations\\n\\n\\ndef hand_perms_dictionary(hand_letters):\\n    perms_dict = {1: [], 2: [], 3: [], 4: [], 5: [], 6: [], 7: []}\\n    for length in range(1, len(hand_letters) + 1):\\n        perms_dict[length] = list(itertools.permutations(hand_letters, length))\\n    return perms_dict\\n\\n\\ndef potential_perms(board_array, hand_letters):\\n    hand_perms_dict = hand_perms_dictionary(hand_letters)\\n    word_perms_dict = {}\\n    valid_words_set = set()\\n    board_array_copy = np.copy(board_array)\\n    for strip_len in range(2, 15):\\n        for y in range(0, 15):\\n            for x in range(0, 15 - (strip_len - 1)):\\n                num_spaces = 0\\n                strip = []\\n                try:\\n                    num_spaces, strip = possible_strip(board_array, strip_len, y, x)\\n                    # strips_dict[num_spaces].add(strip)\\n                except:\\n                    continue\\n                y_x_l_word_perms = []\\n                if num_spaces == 0 or num_spaces > 7:\\n                    continue\\n                if strip not in word_perms_dict:  # TODO: check last and\\n                    perms_to_try = hand_perms_dict[num_spaces]\\n                    # these are all the possible permutations of a given length for a given context:\\n                    y_x_l_word_perms = [\\n                        fill_strip(strip, perm) for perm in perms_to_try\\n                    ]\\n                    word_perms_dict[strip] = y_x_l_word_perms\\n                else:\\n                    y_x_l_word_perms = word_perms_dict[strip]\\n                ##\\n                intersection = WORDSET.intersection(set(y_x_l_word_perms))\\n                valid_words_set = valid_words_set.union(intersection)\\n\\n    # strips_dict = {key: strips_dict[key] for key in range(1, 8)}\\n    # return word_perms_dict\\n    return valid_words_set\\n\\n\\ndef possible_strip(board_array, strip_len, y, x):\\n    strip = tuple(board_array[y, x : x + strip_len])\\n    num_letters = len(\\\"\\\".join(strip))\\n    num_spaces = strip_len - num_letters\\n    if num_letters > 0 and num_spaces > 0 and num_spaces <= 9:\\n        # not sure if it needs to handle out of bounds better\\n        if x == 0 and x + strip_len - 1 == 14:\\n            return num_spaces, strip\\n        elif (\\n            x + (strip_len - 1) == 14 and strip[0] == \\\"\\\"\\n        ):  # TODO: should this be >= or ==? How do I handle these edge situations? Should I treat outside as ''\\n            # strips_dict[num_spaces - 1].add(strip[1:])\\n            return num_spaces - 1, strip[1:]\\n        elif x == 0 and strip[-1] == \\\"\\\":\\n            # strips_dict[num_spaces - 1].add(strip[:-1])\\n            return num_spaces - 1, strip[-1]\\n        elif strip[0] == \\\"\\\" and strip[-1] == \\\"\\\":\\n            # strips_dict[num_spaces - 2].add(strip[1:-1])\\n            return num_spaces - 2, strip[1:-1]\\n\\n\\n# the length of hand perm should be the number of empty spaces in strip\\ndef fill_strip(strip, hand_perm):\\n    perm_copy = list(np.copy(hand_perm))\\n#     strip_copy = list(np.copy(strip))\\n    filled_letters_list = [\\n        letter if letter != \\\"\\\" else perm_copy.pop(0) for letter in strip\\n    ]\\n    # debugging\\n    #     for letter in perm_copy:\\n    #         strip_copy = strip_copy.replace(\\\"\\\", letter, 1)\\n    return \\\"\\\".join(filled_letters_list)\\n\\n\\n# hand_perms_dict(sample_board_letters)\";\n",
       "                var nbb_formatted_code = \"def hand_perms(hand_letters, length):\\n    letter_permutations = list(itertools.permutations(hand_letters, length))\\n    return letter_permutations\\n\\n\\ndef hand_perms_dictionary(hand_letters):\\n    perms_dict = {1: [], 2: [], 3: [], 4: [], 5: [], 6: [], 7: []}\\n    for length in range(1, len(hand_letters) + 1):\\n        perms_dict[length] = list(itertools.permutations(hand_letters, length))\\n    return perms_dict\\n\\n\\ndef potential_perms(board_array, hand_letters):\\n    hand_perms_dict = hand_perms_dictionary(hand_letters)\\n    word_perms_dict = {}\\n    valid_words_set = set()\\n    board_array_copy = np.copy(board_array)\\n    for strip_len in range(2, 15):\\n        for y in range(0, 15):\\n            for x in range(0, 15 - (strip_len - 1)):\\n                num_spaces = 0\\n                strip = []\\n                try:\\n                    num_spaces, strip = possible_strip(board_array, strip_len, y, x)\\n                    # strips_dict[num_spaces].add(strip)\\n                except:\\n                    continue\\n                y_x_l_word_perms = []\\n                if num_spaces == 0 or num_spaces > 7:\\n                    continue\\n                if strip not in word_perms_dict:  # TODO: check last and\\n                    perms_to_try = hand_perms_dict[num_spaces]\\n                    # these are all the possible permutations of a given length for a given context:\\n                    y_x_l_word_perms = [\\n                        fill_strip(strip, perm) for perm in perms_to_try\\n                    ]\\n                    word_perms_dict[strip] = y_x_l_word_perms\\n                else:\\n                    y_x_l_word_perms = word_perms_dict[strip]\\n                ##\\n                intersection = WORDSET.intersection(set(y_x_l_word_perms))\\n                valid_words_set = valid_words_set.union(intersection)\\n\\n    # strips_dict = {key: strips_dict[key] for key in range(1, 8)}\\n    # return word_perms_dict\\n    return valid_words_set\\n\\n\\ndef possible_strip(board_array, strip_len, y, x):\\n    strip = tuple(board_array[y, x : x + strip_len])\\n    num_letters = len(\\\"\\\".join(strip))\\n    num_spaces = strip_len - num_letters\\n    if num_letters > 0 and num_spaces > 0 and num_spaces <= 9:\\n        # not sure if it needs to handle out of bounds better\\n        if x == 0 and x + strip_len - 1 == 14:\\n            return num_spaces, strip\\n        elif (\\n            x + (strip_len - 1) == 14 and strip[0] == \\\"\\\"\\n        ):  # TODO: should this be >= or ==? How do I handle these edge situations? Should I treat outside as ''\\n            # strips_dict[num_spaces - 1].add(strip[1:])\\n            return num_spaces - 1, strip[1:]\\n        elif x == 0 and strip[-1] == \\\"\\\":\\n            # strips_dict[num_spaces - 1].add(strip[:-1])\\n            return num_spaces - 1, strip[-1]\\n        elif strip[0] == \\\"\\\" and strip[-1] == \\\"\\\":\\n            # strips_dict[num_spaces - 2].add(strip[1:-1])\\n            return num_spaces - 2, strip[1:-1]\\n\\n\\n# the length of hand perm should be the number of empty spaces in strip\\ndef fill_strip(strip, hand_perm):\\n    perm_copy = list(np.copy(hand_perm))\\n    #     strip_copy = list(np.copy(strip))\\n    filled_letters_list = [\\n        letter if letter != \\\"\\\" else perm_copy.pop(0) for letter in strip\\n    ]\\n    # debugging\\n    #     for letter in perm_copy:\\n    #         strip_copy = strip_copy.replace(\\\"\\\", letter, 1)\\n    return \\\"\\\".join(filled_letters_list)\\n\\n\\n# hand_perms_dict(sample_board_letters)\";\n",
       "                var nbb_cells = Jupyter.notebook.get_cells();\n",
       "                for (var i = 0; i < nbb_cells.length; ++i) {\n",
       "                    if (nbb_cells[i].input_prompt_number == nbb_cell_id) {\n",
       "                        if (nbb_cells[i].get_text() == nbb_unformatted_code) {\n",
       "                             nbb_cells[i].set_text(nbb_formatted_code);\n",
       "                        }\n",
       "                        break;\n",
       "                    }\n",
       "                }\n",
       "            }, 500);\n",
       "            "
      ],
      "text/plain": [
       "<IPython.core.display.Javascript object>"
      ]
     },
     "metadata": {},
     "output_type": "display_data"
    },
    {
     "data": {
      "application/javascript": [
       "\n",
       "            setTimeout(function() {\n",
       "                var nbb_cell_id = 171;\n",
       "                var nbb_unformatted_code = \"def hand_perms(hand_letters, length):\\n    letter_permutations = list(itertools.permutations(hand_letters, length))\\n    return letter_permutations\\n\\n\\ndef hand_perms_dictionary(hand_letters):\\n    perms_dict = {1: [], 2: [], 3: [], 4: [], 5: [], 6: [], 7: []}\\n    for length in range(1, len(hand_letters) + 1):\\n        perms_dict[length] = list(itertools.permutations(hand_letters, length))\\n    return perms_dict\\n\\n\\ndef potential_perms(board_array, hand_letters):\\n    hand_perms_dict = hand_perms_dictionary(hand_letters)\\n    word_perms_dict = {}\\n    valid_words_set = set()\\n    board_array_copy = np.copy(board_array)\\n    for strip_len in range(2, 15):\\n        for y in range(0, 15):\\n            for x in range(0, 15 - (strip_len - 1)):\\n                num_spaces = 0\\n                strip = []\\n                try:\\n                    num_spaces, strip = possible_strip(board_array, strip_len, y, x)\\n                    # strips_dict[num_spaces].add(strip)\\n                except:\\n                    continue\\n                y_x_l_word_perms = []\\n                if num_spaces == 0 or num_spaces > 7:\\n                    continue\\n                if strip not in word_perms_dict:  # TODO: check last and\\n                    perms_to_try = hand_perms_dict[num_spaces]\\n                    # these are all the possible permutations of a given length for a given context:\\n                    y_x_l_word_perms = [\\n                        fill_strip(strip, perm) for perm in perms_to_try\\n                    ]\\n                    word_perms_dict[strip] = y_x_l_word_perms\\n                else:\\n                    y_x_l_word_perms = word_perms_dict[strip]\\n                ##\\n                intersection = WORDSET.intersection(set(y_x_l_word_perms))\\n                valid_words_set = valid_words_set.union(intersection)\\n\\n    # strips_dict = {key: strips_dict[key] for key in range(1, 8)}\\n    # return word_perms_dict\\n    return valid_words_set\\n\\n\\ndef possible_strip(board_array, strip_len, y, x):\\n    strip = tuple(board_array[y, x : x + strip_len])\\n    num_letters = len(\\\"\\\".join(strip))\\n    num_spaces = strip_len - num_letters\\n    if num_letters > 0 and num_spaces > 0 and num_spaces <= 9:\\n        # not sure if it needs to handle out of bounds better\\n        if x == 0 and x + strip_len - 1 == 14:\\n            return num_spaces, strip\\n        elif (\\n            x + (strip_len - 1) == 14 and strip[0] == \\\"\\\"\\n        ):  # TODO: should this be >= or ==? How do I handle these edge situations? Should I treat outside as ''\\n            # strips_dict[num_spaces - 1].add(strip[1:])\\n            return num_spaces - 1, strip[1:]\\n        elif x == 0 and strip[-1] == \\\"\\\":\\n            # strips_dict[num_spaces - 1].add(strip[:-1])\\n            return num_spaces - 1, strip[-1]\\n        elif strip[0] == \\\"\\\" and strip[-1] == \\\"\\\":\\n            # strips_dict[num_spaces - 2].add(strip[1:-1])\\n            return num_spaces - 2, strip[1:-1]\\n\\n\\n# the length of hand perm should be the number of empty spaces in strip\\ndef fill_strip(strip, hand_perm):\\n    perm_copy = list(np.copy(hand_perm))\\n#     strip_copy = list(np.copy(strip))\\n    filled_letters_list = [\\n        letter if letter != \\\"\\\" else perm_copy.pop(0) for letter in strip\\n    ]\\n    # debugging\\n    #     for letter in perm_copy:\\n    #         strip_copy = strip_copy.replace(\\\"\\\", letter, 1)\\n    return \\\"\\\".join(filled_letters_list)\\n\\n\\n# hand_perms_dict(sample_board_letters)\";\n",
       "                var nbb_formatted_code = \"def hand_perms(hand_letters, length):\\n    letter_permutations = list(itertools.permutations(hand_letters, length))\\n    return letter_permutations\\n\\n\\ndef hand_perms_dictionary(hand_letters):\\n    perms_dict = {1: [], 2: [], 3: [], 4: [], 5: [], 6: [], 7: []}\\n    for length in range(1, len(hand_letters) + 1):\\n        perms_dict[length] = list(itertools.permutations(hand_letters, length))\\n    return perms_dict\\n\\n\\ndef potential_perms(board_array, hand_letters):\\n    hand_perms_dict = hand_perms_dictionary(hand_letters)\\n    word_perms_dict = {}\\n    valid_words_set = set()\\n    board_array_copy = np.copy(board_array)\\n    for strip_len in range(2, 15):\\n        for y in range(0, 15):\\n            for x in range(0, 15 - (strip_len - 1)):\\n                num_spaces = 0\\n                strip = []\\n                try:\\n                    num_spaces, strip = possible_strip(board_array, strip_len, y, x)\\n                    # strips_dict[num_spaces].add(strip)\\n                except:\\n                    continue\\n                y_x_l_word_perms = []\\n                if num_spaces == 0 or num_spaces > 7:\\n                    continue\\n                if strip not in word_perms_dict:  # TODO: check last and\\n                    perms_to_try = hand_perms_dict[num_spaces]\\n                    # these are all the possible permutations of a given length for a given context:\\n                    y_x_l_word_perms = [\\n                        fill_strip(strip, perm) for perm in perms_to_try\\n                    ]\\n                    word_perms_dict[strip] = y_x_l_word_perms\\n                else:\\n                    y_x_l_word_perms = word_perms_dict[strip]\\n                ##\\n                intersection = WORDSET.intersection(set(y_x_l_word_perms))\\n                valid_words_set = valid_words_set.union(intersection)\\n\\n    # strips_dict = {key: strips_dict[key] for key in range(1, 8)}\\n    # return word_perms_dict\\n    return valid_words_set\\n\\n\\ndef possible_strip(board_array, strip_len, y, x):\\n    strip = tuple(board_array[y, x : x + strip_len])\\n    num_letters = len(\\\"\\\".join(strip))\\n    num_spaces = strip_len - num_letters\\n    if num_letters > 0 and num_spaces > 0 and num_spaces <= 9:\\n        # not sure if it needs to handle out of bounds better\\n        if x == 0 and x + strip_len - 1 == 14:\\n            return num_spaces, strip\\n        elif (\\n            x + (strip_len - 1) == 14 and strip[0] == \\\"\\\"\\n        ):  # TODO: should this be >= or ==? How do I handle these edge situations? Should I treat outside as ''\\n            # strips_dict[num_spaces - 1].add(strip[1:])\\n            return num_spaces - 1, strip[1:]\\n        elif x == 0 and strip[-1] == \\\"\\\":\\n            # strips_dict[num_spaces - 1].add(strip[:-1])\\n            return num_spaces - 1, strip[-1]\\n        elif strip[0] == \\\"\\\" and strip[-1] == \\\"\\\":\\n            # strips_dict[num_spaces - 2].add(strip[1:-1])\\n            return num_spaces - 2, strip[1:-1]\\n\\n\\n# the length of hand perm should be the number of empty spaces in strip\\ndef fill_strip(strip, hand_perm):\\n    perm_copy = list(np.copy(hand_perm))\\n    #     strip_copy = list(np.copy(strip))\\n    filled_letters_list = [\\n        letter if letter != \\\"\\\" else perm_copy.pop(0) for letter in strip\\n    ]\\n    # debugging\\n    #     for letter in perm_copy:\\n    #         strip_copy = strip_copy.replace(\\\"\\\", letter, 1)\\n    return \\\"\\\".join(filled_letters_list)\\n\\n\\n# hand_perms_dict(sample_board_letters)\";\n",
       "                var nbb_cells = Jupyter.notebook.get_cells();\n",
       "                for (var i = 0; i < nbb_cells.length; ++i) {\n",
       "                    if (nbb_cells[i].input_prompt_number == nbb_cell_id) {\n",
       "                        if (nbb_cells[i].get_text() == nbb_unformatted_code) {\n",
       "                             nbb_cells[i].set_text(nbb_formatted_code);\n",
       "                        }\n",
       "                        break;\n",
       "                    }\n",
       "                }\n",
       "            }, 500);\n",
       "            "
      ],
      "text/plain": [
       "<IPython.core.display.Javascript object>"
      ]
     },
     "metadata": {},
     "output_type": "display_data"
    }
   ],
   "source": [
    "def hand_perms(hand_letters, length):\n",
    "    letter_permutations = list(itertools.permutations(hand_letters, length))\n",
    "    return letter_permutations\n",
    "\n",
    "\n",
    "def hand_perms_dictionary(hand_letters):\n",
    "    perms_dict = {1: [], 2: [], 3: [], 4: [], 5: [], 6: [], 7: []}\n",
    "    for length in range(1, len(hand_letters) + 1):\n",
    "        perms_dict[length] = list(itertools.permutations(hand_letters, length))\n",
    "    return perms_dict\n",
    "\n",
    "\n",
    "def potential_perms(board_array, hand_letters):\n",
    "    hand_perms_dict = hand_perms_dictionary(hand_letters)\n",
    "    word_perms_dict = {}\n",
    "    valid_words_set = set()\n",
    "    board_array_copy = np.copy(board_array)\n",
    "    for strip_len in range(2, 15):\n",
    "        for y in range(0, 15):\n",
    "            for x in range(0, 15 - (strip_len - 1)):\n",
    "                num_spaces = 0\n",
    "                strip = []\n",
    "                try:\n",
    "                    num_spaces, strip = possible_strip(board_array, strip_len, y, x)\n",
    "                    # strips_dict[num_spaces].add(strip)\n",
    "                except:\n",
    "                    continue\n",
    "                y_x_l_word_perms = []\n",
    "                if num_spaces == 0 or num_spaces > 7:\n",
    "                    continue\n",
    "                if strip not in word_perms_dict:  # TODO: check last and\n",
    "                    perms_to_try = hand_perms_dict[num_spaces]\n",
    "                    # these are all the possible permutations of a given length for a given context:\n",
    "                    y_x_l_word_perms = [\n",
    "                        fill_strip(strip, perm) for perm in perms_to_try\n",
    "                    ]\n",
    "                    word_perms_dict[strip] = y_x_l_word_perms\n",
    "                else:\n",
    "                    y_x_l_word_perms = word_perms_dict[strip]\n",
    "                ##\n",
    "                intersection = WORDSET.intersection(set(y_x_l_word_perms))\n",
    "                valid_words_set = valid_words_set.union(intersection)\n",
    "\n",
    "    # strips_dict = {key: strips_dict[key] for key in range(1, 8)}\n",
    "    # return word_perms_dict\n",
    "    return valid_words_set\n",
    "\n",
    "\n",
    "def possible_strip(board_array, strip_len, y, x):\n",
    "    strip = tuple(board_array[y, x : x + strip_len])\n",
    "    num_letters = len(\"\".join(strip))\n",
    "    num_spaces = strip_len - num_letters\n",
    "    if num_letters > 0 and num_spaces > 0 and num_spaces <= 9:\n",
    "        # not sure if it needs to handle out of bounds better\n",
    "        if x == 0 and x + strip_len - 1 == 14:\n",
    "            return num_spaces, strip\n",
    "        elif (\n",
    "            x + (strip_len - 1) == 14 and strip[0] == \"\"\n",
    "        ):  # TODO: should this be >= or ==? How do I handle these edge situations? Should I treat outside as ''\n",
    "            # strips_dict[num_spaces - 1].add(strip[1:])\n",
    "            return num_spaces - 1, strip[1:]\n",
    "        elif x == 0 and strip[-1] == \"\":\n",
    "            # strips_dict[num_spaces - 1].add(strip[:-1])\n",
    "            return num_spaces - 1, strip[-1]\n",
    "        elif strip[0] == \"\" and strip[-1] == \"\":\n",
    "            # strips_dict[num_spaces - 2].add(strip[1:-1])\n",
    "            return num_spaces - 2, strip[1:-1]\n",
    "\n",
    "\n",
    "# the length of hand perm should be the number of empty spaces in strip\n",
    "def fill_strip(strip, hand_perm):\n",
    "    perm_copy = list(np.copy(hand_perm))\n",
    "    #     strip_copy = list(np.copy(strip))\n",
    "    filled_letters_list = [\n",
    "        letter if letter != \"\" else perm_copy.pop(0) for letter in strip\n",
    "    ]\n",
    "    # debugging\n",
    "    #     for letter in perm_copy:\n",
    "    #         strip_copy = strip_copy.replace(\"\", letter, 1)\n",
    "    return \"\".join(filled_letters_list)\n",
    "\n",
    "\n",
    "# hand_perms_dict(sample_board_letters)"
   ]
  },
  {
   "cell_type": "code",
   "execution_count": 123,
   "metadata": {},
   "outputs": [
    {
     "data": {
      "text/plain": [
       "(1, ('d', 'e', 'a', 'd', ''))"
      ]
     },
     "execution_count": 123,
     "metadata": {},
     "output_type": "execute_result"
    },
    {
     "data": {
      "application/javascript": [
       "\n",
       "            setTimeout(function() {\n",
       "                var nbb_cell_id = 123;\n",
       "                var nbb_unformatted_code = \"# [\\\"\\\", \\\"j\\\", \\\"\\\", \\\"b\\\", \\\"\\\"][0:3]\\n# list(range(4, -1, -1))\\npossible_strip(board_array_copy, 6, 0, 9)\";\n",
       "                var nbb_formatted_code = \"# [\\\"\\\", \\\"j\\\", \\\"\\\", \\\"b\\\", \\\"\\\"][0:3]\\n# list(range(4, -1, -1))\\npossible_strip(board_array_copy, 6, 0, 9)\";\n",
       "                var nbb_cells = Jupyter.notebook.get_cells();\n",
       "                for (var i = 0; i < nbb_cells.length; ++i) {\n",
       "                    if (nbb_cells[i].input_prompt_number == nbb_cell_id) {\n",
       "                        if (nbb_cells[i].get_text() == nbb_unformatted_code) {\n",
       "                             nbb_cells[i].set_text(nbb_formatted_code);\n",
       "                        }\n",
       "                        break;\n",
       "                    }\n",
       "                }\n",
       "            }, 500);\n",
       "            "
      ],
      "text/plain": [
       "<IPython.core.display.Javascript object>"
      ]
     },
     "metadata": {},
     "output_type": "display_data"
    },
    {
     "data": {
      "application/javascript": [
       "\n",
       "            setTimeout(function() {\n",
       "                var nbb_cell_id = 123;\n",
       "                var nbb_unformatted_code = \"# [\\\"\\\", \\\"j\\\", \\\"\\\", \\\"b\\\", \\\"\\\"][0:3]\\n# list(range(4, -1, -1))\\npossible_strip(board_array_copy, 6, 0, 9)\";\n",
       "                var nbb_formatted_code = \"# [\\\"\\\", \\\"j\\\", \\\"\\\", \\\"b\\\", \\\"\\\"][0:3]\\n# list(range(4, -1, -1))\\npossible_strip(board_array_copy, 6, 0, 9)\";\n",
       "                var nbb_cells = Jupyter.notebook.get_cells();\n",
       "                for (var i = 0; i < nbb_cells.length; ++i) {\n",
       "                    if (nbb_cells[i].input_prompt_number == nbb_cell_id) {\n",
       "                        if (nbb_cells[i].get_text() == nbb_unformatted_code) {\n",
       "                             nbb_cells[i].set_text(nbb_formatted_code);\n",
       "                        }\n",
       "                        break;\n",
       "                    }\n",
       "                }\n",
       "            }, 500);\n",
       "            "
      ],
      "text/plain": [
       "<IPython.core.display.Javascript object>"
      ]
     },
     "metadata": {},
     "output_type": "display_data"
    }
   ],
   "source": [
    "# [\"\", \"j\", \"\", \"b\", \"\"][0:3]\n",
    "# list(range(4, -1, -1))\n",
    "possible_strip(board_array_copy, 6, 0, 9)"
   ]
  },
  {
   "cell_type": "code",
   "execution_count": 149,
   "metadata": {},
   "outputs": [
    {
     "data": {
      "text/plain": [
       "['a', 'b', 'z']"
      ]
     },
     "execution_count": 149,
     "metadata": {},
     "output_type": "execute_result"
    },
    {
     "data": {
      "application/javascript": [
       "\n",
       "            setTimeout(function() {\n",
       "                var nbb_cell_id = 149;\n",
       "                var nbb_unformatted_code = \"board_array_copy[0, 7:18]\\na = [\\\"\\\", \\\"\\\", \\\"z\\\", \\\"\\\"]\\nb = [\\\"a\\\", \\\"b\\\", \\\"c\\\"]\\n# [l if le == \\\"\\\" else le for l in b for le in a]\\n[l if a[i] == \\\"\\\" else a[i] for i, l in enumerate(b)]\";\n",
       "                var nbb_formatted_code = \"board_array_copy[0, 7:18]\\na = [\\\"\\\", \\\"\\\", \\\"z\\\", \\\"\\\"]\\nb = [\\\"a\\\", \\\"b\\\", \\\"c\\\"]\\n# [l if le == \\\"\\\" else le for l in b for le in a]\\n[l if a[i] == \\\"\\\" else a[i] for i, l in enumerate(b)]\";\n",
       "                var nbb_cells = Jupyter.notebook.get_cells();\n",
       "                for (var i = 0; i < nbb_cells.length; ++i) {\n",
       "                    if (nbb_cells[i].input_prompt_number == nbb_cell_id) {\n",
       "                        if (nbb_cells[i].get_text() == nbb_unformatted_code) {\n",
       "                             nbb_cells[i].set_text(nbb_formatted_code);\n",
       "                        }\n",
       "                        break;\n",
       "                    }\n",
       "                }\n",
       "            }, 500);\n",
       "            "
      ],
      "text/plain": [
       "<IPython.core.display.Javascript object>"
      ]
     },
     "metadata": {},
     "output_type": "display_data"
    },
    {
     "data": {
      "application/javascript": [
       "\n",
       "            setTimeout(function() {\n",
       "                var nbb_cell_id = 149;\n",
       "                var nbb_unformatted_code = \"board_array_copy[0, 7:18]\\na = [\\\"\\\", \\\"\\\", \\\"z\\\", \\\"\\\"]\\nb = [\\\"a\\\", \\\"b\\\", \\\"c\\\"]\\n# [l if le == \\\"\\\" else le for l in b for le in a]\\n[l if a[i] == \\\"\\\" else a[i] for i, l in enumerate(b)]\";\n",
       "                var nbb_formatted_code = \"board_array_copy[0, 7:18]\\na = [\\\"\\\", \\\"\\\", \\\"z\\\", \\\"\\\"]\\nb = [\\\"a\\\", \\\"b\\\", \\\"c\\\"]\\n# [l if le == \\\"\\\" else le for l in b for le in a]\\n[l if a[i] == \\\"\\\" else a[i] for i, l in enumerate(b)]\";\n",
       "                var nbb_cells = Jupyter.notebook.get_cells();\n",
       "                for (var i = 0; i < nbb_cells.length; ++i) {\n",
       "                    if (nbb_cells[i].input_prompt_number == nbb_cell_id) {\n",
       "                        if (nbb_cells[i].get_text() == nbb_unformatted_code) {\n",
       "                             nbb_cells[i].set_text(nbb_formatted_code);\n",
       "                        }\n",
       "                        break;\n",
       "                    }\n",
       "                }\n",
       "            }, 500);\n",
       "            "
      ],
      "text/plain": [
       "<IPython.core.display.Javascript object>"
      ]
     },
     "metadata": {},
     "output_type": "display_data"
    }
   ],
   "source": [
    "board_array_copy[0, 7:18]\n",
    "a = [\"\", \"\", \"z\", \"\"]\n",
    "b = [\"a\", \"b\", \"c\"]\n",
    "# [l if le == \"\" else le for l in b for le in a]\n",
    "[l if a[i] == \"\" else a[i] for i, l in enumerate(b)]"
   ]
  },
  {
   "cell_type": "code",
   "execution_count": 91,
   "metadata": {},
   "outputs": [
    {
     "data": {
      "text/plain": [
       "array([['', '', '', '', '', '', '', '', '', '', 'd', 'e', 'a', 'd', ''],\n",
       "       ['', '', '', '', '', '', '', '', '', 'z', 'o', 'n', 'a', '', 'w'],\n",
       "       ['', '', '', '', '', '', '', '', '', '', '', 'a', '', '', 'i'],\n",
       "       ['', '', '', '', '', '', '', '', '', 'r', 'i', 'm', 'a', '', 'l'],\n",
       "       ['', '', '', '', '', '', '', '', '', '', '', 'o', 'b', 'e', 'y'],\n",
       "       ['', '', '', '', '', '', '', '', '', 'j', 'u', 'r', 'a', 'l', ''],\n",
       "       ['', '', '', '', '', '', '', 'b', 'e', 'e', 'p', '', '', '', ''],\n",
       "       ['', '', '', 'f', '', '', 'y', 'e', 'w', 's', '', 't', '', '', ''],\n",
       "       ['', '', '', 'o', '', '', '', 'l', 'e', 't', 'c', 'h', '', '', ''],\n",
       "       ['', '', '', 'c', 'h', 'u', 'r', 'l', '', '', '', 'i', '', 'r',\n",
       "        ''],\n",
       "       ['', '', 'g', 'i', '', '', '', 'e', '', '', '', 'g', '', 'e', ''],\n",
       "       ['', '', 'i', '', '', '', '', 'n', '', '', '', 'h', 'u', 'e', 'd'],\n",
       "       ['', '', 'n', '', '', '', '', 'd', '', '', '', '', '', 'f', ''],\n",
       "       ['', '', '', '', '', '', '', '', '', 'v', 'e', 'e', 'p', 's', ''],\n",
       "       ['', '', '', '', '', '', '', '', 'n', 'u', 'n', '', '', '', '']],\n",
       "      dtype='<U1')"
      ]
     },
     "execution_count": 91,
     "metadata": {},
     "output_type": "execute_result"
    },
    {
     "data": {
      "application/javascript": [
       "\n",
       "            setTimeout(function() {\n",
       "                var nbb_cell_id = 91;\n",
       "                var nbb_unformatted_code = \"board_array_copy\";\n",
       "                var nbb_formatted_code = \"board_array_copy\";\n",
       "                var nbb_cells = Jupyter.notebook.get_cells();\n",
       "                for (var i = 0; i < nbb_cells.length; ++i) {\n",
       "                    if (nbb_cells[i].input_prompt_number == nbb_cell_id) {\n",
       "                        if (nbb_cells[i].get_text() == nbb_unformatted_code) {\n",
       "                             nbb_cells[i].set_text(nbb_formatted_code);\n",
       "                        }\n",
       "                        break;\n",
       "                    }\n",
       "                }\n",
       "            }, 500);\n",
       "            "
      ],
      "text/plain": [
       "<IPython.core.display.Javascript object>"
      ]
     },
     "metadata": {},
     "output_type": "display_data"
    },
    {
     "data": {
      "application/javascript": [
       "\n",
       "            setTimeout(function() {\n",
       "                var nbb_cell_id = 91;\n",
       "                var nbb_unformatted_code = \"board_array_copy\";\n",
       "                var nbb_formatted_code = \"board_array_copy\";\n",
       "                var nbb_cells = Jupyter.notebook.get_cells();\n",
       "                for (var i = 0; i < nbb_cells.length; ++i) {\n",
       "                    if (nbb_cells[i].input_prompt_number == nbb_cell_id) {\n",
       "                        if (nbb_cells[i].get_text() == nbb_unformatted_code) {\n",
       "                             nbb_cells[i].set_text(nbb_formatted_code);\n",
       "                        }\n",
       "                        break;\n",
       "                    }\n",
       "                }\n",
       "            }, 500);\n",
       "            "
      ],
      "text/plain": [
       "<IPython.core.display.Javascript object>"
      ]
     },
     "metadata": {},
     "output_type": "display_data"
    }
   ],
   "source": [
    "board_array_copy"
   ]
  },
  {
   "cell_type": "code",
   "execution_count": 65,
   "metadata": {
    "scrolled": false
   },
   "outputs": [
    {
     "data": {
      "application/javascript": [
       "\n",
       "            setTimeout(function() {\n",
       "                var nbb_cell_id = 65;\n",
       "                var nbb_unformatted_code = \"data_path = \\\"../sowpods.txt\\\"  # from above\\nwith open(data_path, newline=\\\"\\\") as f:\\n    reader = csv.reader(f)\\n    allwords = list(reader)\\nWORDLIST = list(itertools.chain.from_iterable(allwords))\\nWORDLIST = [x.lower() for x in WORDLIST]\\nWORDSET = set(WORDLIST)\\n\\nboard_array_copy = np.copy(board_array)\\ntranspose_array=np.copy(board_array).T\\nsample_board_letters_copy = np.copy(sample_board_letters)\\n# len(\\\" \\\".join([\\\"\\\", \\\"j\\\", \\\"\\\", \\\"b\\\", \\\"\\\"]))\\n# fill_strip([\\\"\\\", \\\"j\\\", \\\"\\\", \\\"b\\\", \\\"\\\"], [\\\"a\\\", \\\"b\\\", \\\"c\\\"])\";\n",
       "                var nbb_formatted_code = \"data_path = \\\"../sowpods.txt\\\"  # from above\\nwith open(data_path, newline=\\\"\\\") as f:\\n    reader = csv.reader(f)\\n    allwords = list(reader)\\nWORDLIST = list(itertools.chain.from_iterable(allwords))\\nWORDLIST = [x.lower() for x in WORDLIST]\\nWORDSET = set(WORDLIST)\\n\\nboard_array_copy = np.copy(board_array)\\ntranspose_array = np.copy(board_array).T\\nsample_board_letters_copy = np.copy(sample_board_letters)\\n# len(\\\" \\\".join([\\\"\\\", \\\"j\\\", \\\"\\\", \\\"b\\\", \\\"\\\"]))\\n# fill_strip([\\\"\\\", \\\"j\\\", \\\"\\\", \\\"b\\\", \\\"\\\"], [\\\"a\\\", \\\"b\\\", \\\"c\\\"])\";\n",
       "                var nbb_cells = Jupyter.notebook.get_cells();\n",
       "                for (var i = 0; i < nbb_cells.length; ++i) {\n",
       "                    if (nbb_cells[i].input_prompt_number == nbb_cell_id) {\n",
       "                        if (nbb_cells[i].get_text() == nbb_unformatted_code) {\n",
       "                             nbb_cells[i].set_text(nbb_formatted_code);\n",
       "                        }\n",
       "                        break;\n",
       "                    }\n",
       "                }\n",
       "            }, 500);\n",
       "            "
      ],
      "text/plain": [
       "<IPython.core.display.Javascript object>"
      ]
     },
     "metadata": {},
     "output_type": "display_data"
    },
    {
     "data": {
      "application/javascript": [
       "\n",
       "            setTimeout(function() {\n",
       "                var nbb_cell_id = 65;\n",
       "                var nbb_unformatted_code = \"data_path = \\\"../sowpods.txt\\\"  # from above\\nwith open(data_path, newline=\\\"\\\") as f:\\n    reader = csv.reader(f)\\n    allwords = list(reader)\\nWORDLIST = list(itertools.chain.from_iterable(allwords))\\nWORDLIST = [x.lower() for x in WORDLIST]\\nWORDSET = set(WORDLIST)\\n\\nboard_array_copy = np.copy(board_array)\\ntranspose_array=np.copy(board_array).T\\nsample_board_letters_copy = np.copy(sample_board_letters)\\n# len(\\\" \\\".join([\\\"\\\", \\\"j\\\", \\\"\\\", \\\"b\\\", \\\"\\\"]))\\n# fill_strip([\\\"\\\", \\\"j\\\", \\\"\\\", \\\"b\\\", \\\"\\\"], [\\\"a\\\", \\\"b\\\", \\\"c\\\"])\";\n",
       "                var nbb_formatted_code = \"data_path = \\\"../sowpods.txt\\\"  # from above\\nwith open(data_path, newline=\\\"\\\") as f:\\n    reader = csv.reader(f)\\n    allwords = list(reader)\\nWORDLIST = list(itertools.chain.from_iterable(allwords))\\nWORDLIST = [x.lower() for x in WORDLIST]\\nWORDSET = set(WORDLIST)\\n\\nboard_array_copy = np.copy(board_array)\\ntranspose_array = np.copy(board_array).T\\nsample_board_letters_copy = np.copy(sample_board_letters)\\n# len(\\\" \\\".join([\\\"\\\", \\\"j\\\", \\\"\\\", \\\"b\\\", \\\"\\\"]))\\n# fill_strip([\\\"\\\", \\\"j\\\", \\\"\\\", \\\"b\\\", \\\"\\\"], [\\\"a\\\", \\\"b\\\", \\\"c\\\"])\";\n",
       "                var nbb_cells = Jupyter.notebook.get_cells();\n",
       "                for (var i = 0; i < nbb_cells.length; ++i) {\n",
       "                    if (nbb_cells[i].input_prompt_number == nbb_cell_id) {\n",
       "                        if (nbb_cells[i].get_text() == nbb_unformatted_code) {\n",
       "                             nbb_cells[i].set_text(nbb_formatted_code);\n",
       "                        }\n",
       "                        break;\n",
       "                    }\n",
       "                }\n",
       "            }, 500);\n",
       "            "
      ],
      "text/plain": [
       "<IPython.core.display.Javascript object>"
      ]
     },
     "metadata": {},
     "output_type": "display_data"
    }
   ],
   "source": [
    "data_path = \"../sowpods.txt\"  # from above\n",
    "with open(data_path, newline=\"\") as f:\n",
    "    reader = csv.reader(f)\n",
    "    allwords = list(reader)\n",
    "WORDLIST = list(itertools.chain.from_iterable(allwords))\n",
    "WORDLIST = [x.lower() for x in WORDLIST]\n",
    "WORDSET = set(WORDLIST)\n",
    "\n",
    "board_array_copy = np.copy(board_array)\n",
    "transpose_array=np.copy(board_array).T\n",
    "sample_board_letters_copy = np.copy(sample_board_letters)\n",
    "# len(\" \".join([\"\", \"j\", \"\", \"b\", \"\"]))\n",
    "# fill_strip([\"\", \"j\", \"\", \"b\", \"\"], [\"a\", \"b\", \"c\"])\n"
   ]
  },
  {
   "cell_type": "code",
   "execution_count": 172,
   "metadata": {},
   "outputs": [
    {
     "name": "stdout",
     "output_type": "stream",
     "text": [
      "         5512386 function calls in 3.671 seconds\n",
      "\n",
      "   Ordered by: standard name\n",
      "\n",
      "   ncalls  tottime  percall  cumtime  percall filename:lineno(function)\n",
      "   401066    0.184    0.000    1.294    0.000 <__array_function__ internals>:2(copy)\n",
      "      253    0.174    0.001    3.614    0.014 <ipython-input-169-1e1b5f307c82>:28(<listcomp>)\n",
      "        1    0.027    0.027    3.663    3.663 <ipython-input-169-1e1b5f307c82>:4(potential_perms2)\n",
      "     1273    0.005    0.000    0.005    0.000 <ipython-input-169-1e1b5f307c82>:40(possible_strip2)\n",
      "        1    0.003    0.003    0.003    0.003 <ipython-input-171-498a49aec33b>:6(hand_perms_dictionary)\n",
      "   401065    1.220    0.000    3.440    0.000 <ipython-input-171-498a49aec33b>:71(fill_strip)\n",
      "   401065    0.508    0.000    0.845    0.000 <ipython-input-171-498a49aec33b>:75(<listcomp>)\n",
      "        1    0.008    0.008    3.671    3.671 <string>:1(<module>)\n",
      "   401066    0.044    0.000    0.044    0.000 function_base.py:726(_copy_dispatcher)\n",
      "   401066    0.091    0.000    0.947    0.000 function_base.py:730(copy)\n",
      "        1    0.000    0.000    3.671    3.671 {built-in method builtins.exec}\n",
      "     1724    0.000    0.000    0.000    0.000 {built-in method builtins.len}\n",
      "   401066    0.856    0.000    0.856    0.000 {built-in method numpy.array}\n",
      "   401066    0.119    0.000    1.066    0.000 {built-in method numpy.core._multiarray_umath.implement_array_function}\n",
      "        1    0.000    0.000    0.000    0.000 {method 'disable' of '_lsprof.Profiler' objects}\n",
      "      291    0.013    0.000    0.013    0.000 {method 'intersection' of 'set' objects}\n",
      "   402338    0.082    0.000    0.082    0.000 {method 'join' of 'str' objects}\n",
      "  2298751    0.336    0.000    0.336    0.000 {method 'pop' of 'list' objects}\n",
      "      291    0.001    0.000    0.001    0.000 {method 'union' of 'set' objects}\n",
      "\n",
      "\n"
     ]
    },
    {
     "data": {
      "application/javascript": [
       "\n",
       "            setTimeout(function() {\n",
       "                var nbb_cell_id = 172;\n",
       "                var nbb_unformatted_code = \"# import cProfile\\ncProfile.run(\\\"potential_perms2(board_array_copy, sample_board_letters_copy)\\\")\";\n",
       "                var nbb_formatted_code = \"# import cProfile\\ncProfile.run(\\\"potential_perms2(board_array_copy, sample_board_letters_copy)\\\")\";\n",
       "                var nbb_cells = Jupyter.notebook.get_cells();\n",
       "                for (var i = 0; i < nbb_cells.length; ++i) {\n",
       "                    if (nbb_cells[i].input_prompt_number == nbb_cell_id) {\n",
       "                        if (nbb_cells[i].get_text() == nbb_unformatted_code) {\n",
       "                             nbb_cells[i].set_text(nbb_formatted_code);\n",
       "                        }\n",
       "                        break;\n",
       "                    }\n",
       "                }\n",
       "            }, 500);\n",
       "            "
      ],
      "text/plain": [
       "<IPython.core.display.Javascript object>"
      ]
     },
     "metadata": {},
     "output_type": "display_data"
    },
    {
     "data": {
      "application/javascript": [
       "\n",
       "            setTimeout(function() {\n",
       "                var nbb_cell_id = 172;\n",
       "                var nbb_unformatted_code = \"# import cProfile\\ncProfile.run(\\\"potential_perms2(board_array_copy, sample_board_letters_copy)\\\")\";\n",
       "                var nbb_formatted_code = \"# import cProfile\\ncProfile.run(\\\"potential_perms2(board_array_copy, sample_board_letters_copy)\\\")\";\n",
       "                var nbb_cells = Jupyter.notebook.get_cells();\n",
       "                for (var i = 0; i < nbb_cells.length; ++i) {\n",
       "                    if (nbb_cells[i].input_prompt_number == nbb_cell_id) {\n",
       "                        if (nbb_cells[i].get_text() == nbb_unformatted_code) {\n",
       "                             nbb_cells[i].set_text(nbb_formatted_code);\n",
       "                        }\n",
       "                        break;\n",
       "                    }\n",
       "                }\n",
       "            }, 500);\n",
       "            "
      ],
      "text/plain": [
       "<IPython.core.display.Javascript object>"
      ]
     },
     "metadata": {},
     "output_type": "display_data"
    }
   ],
   "source": [
    "# import cProfile\n",
    "cProfile.run(\"potential_perms2(board_array_copy, sample_board_letters_copy)\")"
   ]
  },
  {
   "cell_type": "code",
   "execution_count": 163,
   "metadata": {},
   "outputs": [
    {
     "name": "stdout",
     "output_type": "stream",
     "text": [
      "         5472813 function calls in 4.307 seconds\n",
      "\n",
      "   Ordered by: standard name\n",
      "\n",
      "   ncalls  tottime  percall  cumtime  percall filename:lineno(function)\n",
      "   396068    0.215    0.000    1.531    0.000 <__array_function__ internals>:2(copy)\n",
      "        1    0.031    0.031    4.299    4.299 <ipython-input-130-75c27dd7a2c0>:13(potential_perms)\n",
      "      253    0.212    0.001    4.238    0.017 <ipython-input-130-75c27dd7a2c0>:35(<listcomp>)\n",
      "     1560    0.008    0.000    0.008    0.000 <ipython-input-130-75c27dd7a2c0>:49(possible_strip)\n",
      "        1    0.002    0.002    0.002    0.002 <ipython-input-130-75c27dd7a2c0>:6(hand_perms_dictionary)\n",
      "   396067    1.429    0.000    4.025    0.000 <ipython-input-130-75c27dd7a2c0>:71(fill_strip)\n",
      "   396067    0.585    0.000    0.976    0.000 <ipython-input-130-75c27dd7a2c0>:74(<listcomp>)\n",
      "        1    0.008    0.008    4.307    4.307 <string>:1(<module>)\n",
      "   396068    0.049    0.000    0.049    0.000 function_base.py:726(_copy_dispatcher)\n",
      "   396068    0.104    0.000    1.125    0.000 function_base.py:730(copy)\n",
      "        1    0.000    0.000    4.307    4.307 {built-in method builtins.exec}\n",
      "     1561    0.000    0.000    0.000    0.000 {built-in method builtins.len}\n",
      "   396068    1.021    0.000    1.021    0.000 {built-in method numpy.array}\n",
      "   396068    0.142    0.000    1.267    0.000 {built-in method numpy.core._multiarray_umath.implement_array_function}\n",
      "        1    0.000    0.000    0.000    0.000 {method 'disable' of '_lsprof.Profiler' objects}\n",
      "      291    0.017    0.000    0.017    0.000 {method 'intersection' of 'set' objects}\n",
      "   397627    0.090    0.000    0.090    0.000 {method 'join' of 'str' objects}\n",
      "  2298751    0.391    0.000    0.391    0.000 {method 'pop' of 'list' objects}\n",
      "      291    0.002    0.000    0.002    0.000 {method 'union' of 'set' objects}\n",
      "\n",
      "\n"
     ]
    },
    {
     "data": {
      "application/javascript": [
       "\n",
       "            setTimeout(function() {\n",
       "                var nbb_cell_id = 163;\n",
       "                var nbb_unformatted_code = \"cProfile.run(\\\"potential_perms(board_array_copy, sample_board_letters_copy)\\\")\";\n",
       "                var nbb_formatted_code = \"cProfile.run(\\\"potential_perms(board_array_copy, sample_board_letters_copy)\\\")\";\n",
       "                var nbb_cells = Jupyter.notebook.get_cells();\n",
       "                for (var i = 0; i < nbb_cells.length; ++i) {\n",
       "                    if (nbb_cells[i].input_prompt_number == nbb_cell_id) {\n",
       "                        if (nbb_cells[i].get_text() == nbb_unformatted_code) {\n",
       "                             nbb_cells[i].set_text(nbb_formatted_code);\n",
       "                        }\n",
       "                        break;\n",
       "                    }\n",
       "                }\n",
       "            }, 500);\n",
       "            "
      ],
      "text/plain": [
       "<IPython.core.display.Javascript object>"
      ]
     },
     "metadata": {},
     "output_type": "display_data"
    },
    {
     "data": {
      "application/javascript": [
       "\n",
       "            setTimeout(function() {\n",
       "                var nbb_cell_id = 163;\n",
       "                var nbb_unformatted_code = \"cProfile.run(\\\"potential_perms(board_array_copy, sample_board_letters_copy)\\\")\";\n",
       "                var nbb_formatted_code = \"cProfile.run(\\\"potential_perms(board_array_copy, sample_board_letters_copy)\\\")\";\n",
       "                var nbb_cells = Jupyter.notebook.get_cells();\n",
       "                for (var i = 0; i < nbb_cells.length; ++i) {\n",
       "                    if (nbb_cells[i].input_prompt_number == nbb_cell_id) {\n",
       "                        if (nbb_cells[i].get_text() == nbb_unformatted_code) {\n",
       "                             nbb_cells[i].set_text(nbb_formatted_code);\n",
       "                        }\n",
       "                        break;\n",
       "                    }\n",
       "                }\n",
       "            }, 500);\n",
       "            "
      ],
      "text/plain": [
       "<IPython.core.display.Javascript object>"
      ]
     },
     "metadata": {},
     "output_type": "display_data"
    }
   ],
   "source": [
    "cProfile.run(\"potential_perms(board_array_copy, sample_board_letters_copy)\")"
   ]
  },
  {
   "cell_type": "code",
   "execution_count": null,
   "metadata": {
    "scrolled": false
   },
   "outputs": [],
   "source": [
    "word_set2 = potential_perms2(board_array_copy, sample_board_letters_copy)\n"
   ]
  },
  {
   "cell_type": "code",
   "execution_count": 154,
   "metadata": {},
   "outputs": [
    {
     "name": "stdout",
     "output_type": "stream",
     "text": [
      "3.81 s ± 673 ms per loop (mean ± std. dev. of 7 runs, 1 loop each)\n"
     ]
    },
    {
     "data": {
      "application/javascript": [
       "\n",
       "            setTimeout(function() {\n",
       "                var nbb_cell_id = 154;\n",
       "                var nbb_unformatted_code = \"%timeit word_set = potential_perms(board_array_copy, sample_board_letters_copy)\";\n",
       "                var nbb_formatted_code = \"%timeit word_set = potential_perms(board_array_copy, sample_board_letters_copy)\";\n",
       "                var nbb_cells = Jupyter.notebook.get_cells();\n",
       "                for (var i = 0; i < nbb_cells.length; ++i) {\n",
       "                    if (nbb_cells[i].input_prompt_number == nbb_cell_id) {\n",
       "                        if (nbb_cells[i].get_text() == nbb_unformatted_code) {\n",
       "                             nbb_cells[i].set_text(nbb_formatted_code);\n",
       "                        }\n",
       "                        break;\n",
       "                    }\n",
       "                }\n",
       "            }, 500);\n",
       "            "
      ],
      "text/plain": [
       "<IPython.core.display.Javascript object>"
      ]
     },
     "metadata": {},
     "output_type": "display_data"
    },
    {
     "data": {
      "application/javascript": [
       "\n",
       "            setTimeout(function() {\n",
       "                var nbb_cell_id = 154;\n",
       "                var nbb_unformatted_code = \"%timeit word_set = potential_perms(board_array_copy, sample_board_letters_copy)\";\n",
       "                var nbb_formatted_code = \"%timeit word_set = potential_perms(board_array_copy, sample_board_letters_copy)\";\n",
       "                var nbb_cells = Jupyter.notebook.get_cells();\n",
       "                for (var i = 0; i < nbb_cells.length; ++i) {\n",
       "                    if (nbb_cells[i].input_prompt_number == nbb_cell_id) {\n",
       "                        if (nbb_cells[i].get_text() == nbb_unformatted_code) {\n",
       "                             nbb_cells[i].set_text(nbb_formatted_code);\n",
       "                        }\n",
       "                        break;\n",
       "                    }\n",
       "                }\n",
       "            }, 500);\n",
       "            "
      ],
      "text/plain": [
       "<IPython.core.display.Javascript object>"
      ]
     },
     "metadata": {},
     "output_type": "display_data"
    }
   ],
   "source": [
    "%timeit word_set = potential_perms(board_array_copy, sample_board_letters_copy)"
   ]
  },
  {
   "cell_type": "code",
   "execution_count": 139,
   "metadata": {},
   "outputs": [
    {
     "data": {
      "application/javascript": [
       "\n",
       "            setTimeout(function() {\n",
       "                var nbb_cell_id = 139;\n",
       "                var nbb_unformatted_code = \"#words_set\";\n",
       "                var nbb_formatted_code = \"# words_set\";\n",
       "                var nbb_cells = Jupyter.notebook.get_cells();\n",
       "                for (var i = 0; i < nbb_cells.length; ++i) {\n",
       "                    if (nbb_cells[i].input_prompt_number == nbb_cell_id) {\n",
       "                        if (nbb_cells[i].get_text() == nbb_unformatted_code) {\n",
       "                             nbb_cells[i].set_text(nbb_formatted_code);\n",
       "                        }\n",
       "                        break;\n",
       "                    }\n",
       "                }\n",
       "            }, 500);\n",
       "            "
      ],
      "text/plain": [
       "<IPython.core.display.Javascript object>"
      ]
     },
     "metadata": {},
     "output_type": "display_data"
    },
    {
     "data": {
      "application/javascript": [
       "\n",
       "            setTimeout(function() {\n",
       "                var nbb_cell_id = 139;\n",
       "                var nbb_unformatted_code = \"#words_set\";\n",
       "                var nbb_formatted_code = \"# words_set\";\n",
       "                var nbb_cells = Jupyter.notebook.get_cells();\n",
       "                for (var i = 0; i < nbb_cells.length; ++i) {\n",
       "                    if (nbb_cells[i].input_prompt_number == nbb_cell_id) {\n",
       "                        if (nbb_cells[i].get_text() == nbb_unformatted_code) {\n",
       "                             nbb_cells[i].set_text(nbb_formatted_code);\n",
       "                        }\n",
       "                        break;\n",
       "                    }\n",
       "                }\n",
       "            }, 500);\n",
       "            "
      ],
      "text/plain": [
       "<IPython.core.display.Javascript object>"
      ]
     },
     "metadata": {},
     "output_type": "display_data"
    }
   ],
   "source": [
    "words_set"
   ]
  },
  {
   "cell_type": "code",
   "execution_count": 44,
   "metadata": {},
   "outputs": [
    {
     "data": {
      "application/javascript": [
       "\n",
       "            setTimeout(function() {\n",
       "                var nbb_cell_id = 44;\n",
       "                var nbb_unformatted_code = \"real_words = [\\n    [value\\n    for value in group\\n    if value in WORDSET]\\n    for group in list(perms_dictionary.values())\\n]\";\n",
       "                var nbb_formatted_code = \"real_words = [\\n    [value for value in group if value in WORDSET]\\n    for group in list(perms_dictionary.values())\\n]\";\n",
       "                var nbb_cells = Jupyter.notebook.get_cells();\n",
       "                for (var i = 0; i < nbb_cells.length; ++i) {\n",
       "                    if (nbb_cells[i].input_prompt_number == nbb_cell_id) {\n",
       "                        if (nbb_cells[i].get_text() == nbb_unformatted_code) {\n",
       "                             nbb_cells[i].set_text(nbb_formatted_code);\n",
       "                        }\n",
       "                        break;\n",
       "                    }\n",
       "                }\n",
       "            }, 500);\n",
       "            "
      ],
      "text/plain": [
       "<IPython.core.display.Javascript object>"
      ]
     },
     "metadata": {},
     "output_type": "display_data"
    }
   ],
   "source": [
    "real_words = [\n",
    "    [value for value in group if value in WORDSET]\n",
    "    for group in list(perms_dictionary.values())\n",
    "]"
   ]
  },
  {
   "cell_type": "code",
   "execution_count": 46,
   "metadata": {},
   "outputs": [
    {
     "name": "stdout",
     "output_type": "stream",
     "text": [
      "done\n"
     ]
    },
    {
     "data": {
      "application/javascript": [
       "\n",
       "            setTimeout(function() {\n",
       "                var nbb_cell_id = 46;\n",
       "                var nbb_unformatted_code = \"real_words = set()\\nfor group in list(perms_dictionary.values()):\\n    for value in group:\\n        if value in WORDSET:\\n            real_words.add(value)\\nprint('done')\";\n",
       "                var nbb_formatted_code = \"real_words = set()\\nfor group in list(perms_dictionary.values()):\\n    for value in group:\\n        if value in WORDSET:\\n            real_words.add(value)\\nprint(\\\"done\\\")\";\n",
       "                var nbb_cells = Jupyter.notebook.get_cells();\n",
       "                for (var i = 0; i < nbb_cells.length; ++i) {\n",
       "                    if (nbb_cells[i].input_prompt_number == nbb_cell_id) {\n",
       "                        if (nbb_cells[i].get_text() == nbb_unformatted_code) {\n",
       "                             nbb_cells[i].set_text(nbb_formatted_code);\n",
       "                        }\n",
       "                        break;\n",
       "                    }\n",
       "                }\n",
       "            }, 500);\n",
       "            "
      ],
      "text/plain": [
       "<IPython.core.display.Javascript object>"
      ]
     },
     "metadata": {},
     "output_type": "display_data"
    }
   ],
   "source": [
    "real_words = set()\n",
    "for group in list(perms_dictionary.values()):\n",
    "    for value in group:\n",
    "        if value in WORDSET:\n",
    "            real_words.add(value)\n",
    "print(\"done\")"
   ]
  },
  {
   "cell_type": "code",
   "execution_count": 58,
   "metadata": {},
   "outputs": [
    {
     "name": "stdout",
     "output_type": "stream",
     "text": [
      "3.16 s ± 195 ms per loop (mean ± std. dev. of 7 runs, 1 loop each)\n"
     ]
    },
    {
     "data": {
      "application/javascript": [
       "\n",
       "            setTimeout(function() {\n",
       "                var nbb_cell_id = 58;\n",
       "                var nbb_unformatted_code = \"%timeit valid_words_set = potential_perms(board_array_copy, sample_board_letters_copy)\";\n",
       "                var nbb_formatted_code = \"%timeit valid_words_set = potential_perms(board_array_copy, sample_board_letters_copy)\";\n",
       "                var nbb_cells = Jupyter.notebook.get_cells();\n",
       "                for (var i = 0; i < nbb_cells.length; ++i) {\n",
       "                    if (nbb_cells[i].input_prompt_number == nbb_cell_id) {\n",
       "                        if (nbb_cells[i].get_text() == nbb_unformatted_code) {\n",
       "                             nbb_cells[i].set_text(nbb_formatted_code);\n",
       "                        }\n",
       "                        break;\n",
       "                    }\n",
       "                }\n",
       "            }, 500);\n",
       "            "
      ],
      "text/plain": [
       "<IPython.core.display.Javascript object>"
      ]
     },
     "metadata": {},
     "output_type": "display_data"
    }
   ],
   "source": [
    "valid_words_set = potential_perms(board_array_copy, sample_board_letters_copy)\n"
   ]
  },
  {
   "cell_type": "code",
   "execution_count": 60,
   "metadata": {},
   "outputs": [
    {
     "data": {
      "text/plain": [
       "491"
      ]
     },
     "execution_count": 60,
     "metadata": {},
     "output_type": "execute_result"
    },
    {
     "data": {
      "application/javascript": [
       "\n",
       "            setTimeout(function() {\n",
       "                var nbb_cell_id = 60;\n",
       "                var nbb_unformatted_code = \"len(valid_words_set)\";\n",
       "                var nbb_formatted_code = \"len(valid_words_set)\";\n",
       "                var nbb_cells = Jupyter.notebook.get_cells();\n",
       "                for (var i = 0; i < nbb_cells.length; ++i) {\n",
       "                    if (nbb_cells[i].input_prompt_number == nbb_cell_id) {\n",
       "                        if (nbb_cells[i].get_text() == nbb_unformatted_code) {\n",
       "                             nbb_cells[i].set_text(nbb_formatted_code);\n",
       "                        }\n",
       "                        break;\n",
       "                    }\n",
       "                }\n",
       "            }, 500);\n",
       "            "
      ],
      "text/plain": [
       "<IPython.core.display.Javascript object>"
      ]
     },
     "metadata": {},
     "output_type": "display_data"
    }
   ],
   "source": [
    "len(valid_words_set)"
   ]
  },
  {
   "cell_type": "code",
   "execution_count": 48,
   "metadata": {},
   "outputs": [
    {
     "data": {
      "text/plain": [
       "True"
      ]
     },
     "execution_count": 48,
     "metadata": {},
     "output_type": "execute_result"
    },
    {
     "data": {
      "application/javascript": [
       "\n",
       "            setTimeout(function() {\n",
       "                var nbb_cell_id = 48;\n",
       "                var nbb_unformatted_code = \"'aarti' in WORDSET\";\n",
       "                var nbb_formatted_code = \"\\\"aarti\\\" in WORDSET\";\n",
       "                var nbb_cells = Jupyter.notebook.get_cells();\n",
       "                for (var i = 0; i < nbb_cells.length; ++i) {\n",
       "                    if (nbb_cells[i].input_prompt_number == nbb_cell_id) {\n",
       "                        if (nbb_cells[i].get_text() == nbb_unformatted_code) {\n",
       "                             nbb_cells[i].set_text(nbb_formatted_code);\n",
       "                        }\n",
       "                        break;\n",
       "                    }\n",
       "                }\n",
       "            }, 500);\n",
       "            "
      ],
      "text/plain": [
       "<IPython.core.display.Javascript object>"
      ]
     },
     "metadata": {},
     "output_type": "display_data"
    }
   ],
   "source": [
    "\"aarti\" in WORDSET"
   ]
  },
  {
   "cell_type": "code",
   "execution_count": 34,
   "metadata": {},
   "outputs": [
    {
     "data": {
      "application/javascript": [
       "\n",
       "            setTimeout(function() {\n",
       "                var nbb_cell_id = 34;\n",
       "                var nbb_unformatted_code = \"#possible_strip(board_array_copy, 9, 5, 6)\\n# board_array_copy[5, 6:]\";\n",
       "                var nbb_formatted_code = \"# possible_strip(board_array_copy, 9, 5, 6)\\n# board_array_copy[5, 6:]\";\n",
       "                var nbb_cells = Jupyter.notebook.get_cells();\n",
       "                for (var i = 0; i < nbb_cells.length; ++i) {\n",
       "                    if (nbb_cells[i].input_prompt_number == nbb_cell_id) {\n",
       "                        if (nbb_cells[i].get_text() == nbb_unformatted_code) {\n",
       "                             nbb_cells[i].set_text(nbb_formatted_code);\n",
       "                        }\n",
       "                        break;\n",
       "                    }\n",
       "                }\n",
       "            }, 500);\n",
       "            "
      ],
      "text/plain": [
       "<IPython.core.display.Javascript object>"
      ]
     },
     "metadata": {},
     "output_type": "display_data"
    }
   ],
   "source": [
    "# possible_strip(board_array_copy, 9, 5, 6)\n",
    "# board_array_copy[5, 6:]"
   ]
  },
  {
   "cell_type": "code",
   "execution_count": 35,
   "metadata": {},
   "outputs": [
    {
     "data": {
      "application/javascript": [
       "\n",
       "            setTimeout(function() {\n",
       "                var nbb_cell_id = 35;\n",
       "                var nbb_unformatted_code = \"#[\\\"\\\", \\\"j\\\", \\\"\\\", \\\"b\\\", \\\"\\\"][0:5]\";\n",
       "                var nbb_formatted_code = \"# [\\\"\\\", \\\"j\\\", \\\"\\\", \\\"b\\\", \\\"\\\"][0:5]\";\n",
       "                var nbb_cells = Jupyter.notebook.get_cells();\n",
       "                for (var i = 0; i < nbb_cells.length; ++i) {\n",
       "                    if (nbb_cells[i].input_prompt_number == nbb_cell_id) {\n",
       "                        if (nbb_cells[i].get_text() == nbb_unformatted_code) {\n",
       "                             nbb_cells[i].set_text(nbb_formatted_code);\n",
       "                        }\n",
       "                        break;\n",
       "                    }\n",
       "                }\n",
       "            }, 500);\n",
       "            "
      ],
      "text/plain": [
       "<IPython.core.display.Javascript object>"
      ]
     },
     "metadata": {},
     "output_type": "display_data"
    }
   ],
   "source": [
    "# [\"\", \"j\", \"\", \"b\", \"\"][0:5]\n",
    "\n",
    "    #     strips_dict = {\n",
    "    #         0: set(),\n",
    "    #         1: set(),\n",
    "    #         2: set(),\n",
    "    #         3: set(),\n",
    "    #         4: set(),\n",
    "    #         5: set(),\n",
    "    #         6: set(),\n",
    "    #         7: set(),\n",
    "    #         8: set(),\n",
    "    #         9: set(),\n",
    "    #         10: set(),\n",
    "    #         11: set(),\n",
    "    #     }\n",
    "    # strips = set()\n"
   ]
  },
  {
   "cell_type": "code",
   "execution_count": null,
   "metadata": {},
   "outputs": [],
   "source": [
    "#another option is to start at all the tiles on the board and work outward from those"
   ]
  }
 ],
 "metadata": {
  "kernelspec": {
   "display_name": "Python 3",
   "language": "python",
   "name": "python3"
  },
  "language_info": {
   "codemirror_mode": {
    "name": "ipython",
    "version": 3
   },
   "file_extension": ".py",
   "mimetype": "text/x-python",
   "name": "python",
   "nbconvert_exporter": "python",
   "pygments_lexer": "ipython3",
   "version": "3.7.6"
  }
 },
 "nbformat": 4,
 "nbformat_minor": 4
}
