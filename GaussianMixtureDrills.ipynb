{
 "cells": [
  {
   "cell_type": "code",
   "execution_count": 15,
   "metadata": {},
   "outputs": [],
   "source": [
    "import numpy as np\n",
    "import pandas as pd\n",
    "import matplotlib.pyplot as plt\n",
    "from matplotlib.patches import Ellipse\n",
    "from sklearn.preprocessing import StandardScaler\n",
    "from sklearn.mixture import GaussianMixture\n",
    "from sklearn.decomposition import PCA\n",
    "from sklearn import metrics"
   ]
  },
  {
   "cell_type": "code",
   "execution_count": 5,
   "metadata": {},
   "outputs": [],
   "source": [
    "from sqlalchemy import create_engine\n",
    "import warnings\n",
    "warnings.filterwarnings(\"ignore\")"
   ]
  },
  {
   "cell_type": "code",
   "execution_count": 8,
   "metadata": {},
   "outputs": [],
   "source": [
    "postgres_user = 'dsbc_student'\n",
    "postgres_pw = '7*.8G9QH21'\n",
    "postgres_host = '142.93.121.174'\n",
    "postgres_port = '5432'\n",
    "postgres_db = 'heartdisease'\n",
    "\n",
    "engine = create_engine('postgresql://{}:{}@{}:{}/{}'.format(\n",
    "    postgres_user, postgres_pw, postgres_host, postgres_port, postgres_db))\n",
    "heartdisease_df = pd.read_sql_query('select * from heartdisease',con=engine)\n",
    "\n",
    "# no need for an open connection, as we're only doing a single query\n",
    "engine.dispose()"
   ]
  },
  {
   "cell_type": "code",
   "execution_count": 9,
   "metadata": {},
   "outputs": [],
   "source": [
    "X = heartdisease_df.iloc[:, :13]\n",
    "y = heartdisease_df.iloc[:, 13]\n",
    "\n",
    "# Replace missing values (marked by `?`) with a `0`\n",
    "X = X.replace(to_replace='?', value=0)\n",
    "\n",
    "# Binarize y so that `1` means heart disease diagnosis and `0` means no diagnosis\n",
    "y = np.where(y > 0, 0, 1)"
   ]
  },
  {
   "cell_type": "code",
   "execution_count": 10,
   "metadata": {},
   "outputs": [],
   "source": [
    "X_std=StandardScaler().fit_transform(X)"
   ]
  },
  {
   "cell_type": "markdown",
   "metadata": {},
   "source": [
    "Apply GMM to the heart disease dataset by setting n_components=2. Get ARI and silhouette scores for your solution and compare it with those of the k-means and hierarchical clustering solutions that you implemented in the previous checkpoint assignments. Which algorithm performs best?\n",
    "\n"
   ]
  },
  {
   "cell_type": "code",
   "execution_count": 11,
   "metadata": {
    "scrolled": true
   },
   "outputs": [
    {
     "data": {
      "text/plain": [
       "GaussianMixture(covariance_type='full', init_params='kmeans', max_iter=100,\n",
       "                means_init=None, n_components=2, n_init=1, precisions_init=None,\n",
       "                random_state=None, reg_covar=1e-06, tol=0.001, verbose=0,\n",
       "                verbose_interval=10, warm_start=False, weights_init=None)"
      ]
     },
     "execution_count": 11,
     "metadata": {},
     "output_type": "execute_result"
    }
   ],
   "source": [
    "gmm=GaussianMixture(n_components=2)\n",
    "gmm.fit(X_std)"
   ]
  },
  {
   "cell_type": "code",
   "execution_count": 13,
   "metadata": {},
   "outputs": [],
   "source": [
    "clusters = gmm.fit_predict(X_std)"
   ]
  },
  {
   "cell_type": "code",
   "execution_count": 16,
   "metadata": {},
   "outputs": [
    {
     "name": "stdout",
     "output_type": "stream",
     "text": [
      "Adjusted Rand Index of the GMM solution: 0.4207322145049338\n",
      "The silhoutte score of the GMM solution: 0.16118591340148433\n"
     ]
    }
   ],
   "source": [
    "print(\"Adjusted Rand Index of the GMM solution: {}\"\n",
    "      .format(metrics.adjusted_rand_score(y, clusters)))\n",
    "print(\"The silhoutte score of the GMM solution: {}\"\n",
    "      .format(metrics.silhouette_score(X_std, clusters, metric='euclidean')))"
   ]
  },
  {
   "cell_type": "markdown",
   "metadata": {},
   "source": [
    "It does about equal to k means"
   ]
  },
  {
   "cell_type": "markdown",
   "metadata": {},
   "source": [
    "GMM implementation of scikit-learn has a parameter called covariance_type. This parameter determines the type of covariance parameters to use. There are four types that you can specify:\n",
    "\n",
    "* full: This is the default. Each component has its own general covariance matrix.\n",
    "* tied: All components share the same general covariance matrix.\n",
    "* diag: Each component has its own diagonal covariance matrix.\n",
    "* spherical: Each component has its own single variance.\n",
    "\n",
    "Try all of these. Which one performs best in terms of ARI and silhouette scores?\n",
    "\n"
   ]
  },
  {
   "cell_type": "code",
   "execution_count": 23,
   "metadata": {},
   "outputs": [
    {
     "name": "stdout",
     "output_type": "stream",
     "text": [
      "Adjusted Rand Index of the full 2 clusters GMM solution: 0.4207322145049338\n",
      "The silhoutte score of the full 2 clusters GMM solution: 0.16118591340148433\n",
      "Adjusted Rand Index of the tied 2 clusters GMM solution: 0.46482432589803474\n",
      "The silhoutte score of the tied 2 clusters GMM solution: 0.16607012124631088\n",
      "Adjusted Rand Index of the diag 2 clusters GMM solution: 0.18389186035089963\n",
      "The silhoutte score of the diag 2 clusters GMM solution: 0.13628813153331445\n",
      "Adjusted Rand Index of the spherical 2 clusters GMM solution: 0.20765243525722465\n",
      "The silhoutte score of the spherical 2 clusters GMM solution: 0.12468753110276873\n",
      "\n",
      "\n",
      "Adjusted Rand Index of the full 3 clusters GMM solution: 0.4207322145049338\n",
      "The silhoutte score of the full 3 clusters GMM solution: 0.16118591340148433\n",
      "Adjusted Rand Index of the tied 3 clusters GMM solution: 0.18389186035089963\n",
      "The silhoutte score of the tied 3 clusters GMM solution: 0.13628813153331445\n",
      "Adjusted Rand Index of the diag 3 clusters GMM solution: 0.37878842718089933\n",
      "The silhoutte score of the diag 3 clusters GMM solution: 0.15836933745078682\n",
      "Adjusted Rand Index of the spherical 3 clusters GMM solution: 0.20765243525722465\n",
      "The silhoutte score of the spherical 3 clusters GMM solution: 0.12468753110276873\n",
      "\n",
      "\n",
      "Adjusted Rand Index of the full 4 clusters GMM solution: 0.4207322145049338\n",
      "The silhoutte score of the full 4 clusters GMM solution: 0.16118591340148433\n",
      "Adjusted Rand Index of the tied 4 clusters GMM solution: 0.18389186035089963\n",
      "The silhoutte score of the tied 4 clusters GMM solution: 0.13628813153331445\n",
      "Adjusted Rand Index of the diag 4 clusters GMM solution: 0.37878842718089933\n",
      "The silhoutte score of the diag 4 clusters GMM solution: 0.15836933745078682\n",
      "Adjusted Rand Index of the spherical 4 clusters GMM solution: 0.20765243525722465\n",
      "The silhoutte score of the spherical 4 clusters GMM solution: 0.12468753110276873\n",
      "\n",
      "\n"
     ]
    }
   ],
   "source": [
    "types=['full', 'tied', 'diag', 'spherical']\n",
    "ns=[2,3,4]\n",
    "for n in ns:\n",
    "    for t in types:\n",
    "        gmm=GaussianMixture(n_components=2, covariance_type=t)\n",
    "        clusters = gmm.fit_predict(X_std)\n",
    "        rand=metrics.adjusted_rand_score(y, clusters)\n",
    "        print(f\"Adjusted Rand Index of the {t} {n} clusters GMM solution: {rand}\")\n",
    "        sil=metrics.silhouette_score(X_std, clusters, metric='euclidean')\n",
    "        print(f\"The silhoutte score of the {t} {n} clusters GMM solution: {sil}\")\n",
    "    print('\\n')"
   ]
  },
  {
   "cell_type": "markdown",
   "metadata": {},
   "source": [
    "full seems much better than the rest for ARI"
   ]
  },
  {
   "cell_type": "code",
   "execution_count": null,
   "metadata": {},
   "outputs": [],
   "source": []
  }
 ],
 "metadata": {
  "kernelspec": {
   "display_name": "Python 3",
   "language": "python",
   "name": "python3"
  },
  "language_info": {
   "codemirror_mode": {
    "name": "ipython",
    "version": 3
   },
   "file_extension": ".py",
   "mimetype": "text/x-python",
   "name": "python",
   "nbconvert_exporter": "python",
   "pygments_lexer": "ipython3",
   "version": "3.7.6"
  }
 },
 "nbformat": 4,
 "nbformat_minor": 4
}
