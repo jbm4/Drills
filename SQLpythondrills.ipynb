{
 "cells": [
  {
   "cell_type": "code",
   "execution_count": 2,
   "metadata": {},
   "outputs": [],
   "source": [
    "from sqlalchemy import create_engine\n",
    "# Database credentials\n",
    "postgres_user = 'dsbc_student'\n",
    "postgres_pw = '7*.8G9QH21'\n",
    "postgres_host = '142.93.121.174'\n",
    "postgres_port = '5432'\n",
    "postgres_db = 'dvdrentals'\n",
    "\n",
    "# use the credentials to start a connection\n",
    "engine = create_engine('postgresql://{}:{}@{}:{}/{}'.format(\n",
    "    postgres_user, postgres_pw, postgres_host, postgres_port, postgres_db))"
   ]
  },
  {
   "cell_type": "code",
   "execution_count": 50,
   "metadata": {},
   "outputs": [
    {
     "name": "stdout",
     "output_type": "stream",
     "text": [
      "('film_id', 1)\n",
      "('title', 'ACADEMY DINOSAUR')\n",
      "('description', 'A Epic Drama of a Feminist And a Mad Scientist who must Battle a Teacher in The Canadian Rockies')\n",
      "('release_year', 2006)\n",
      "('language_id', 1)\n",
      "('original_language_id', None)\n",
      "('rental_duration', 6)\n",
      "('rental_rate', Decimal('0.99'))\n",
      "('length', 86)\n",
      "('replacement_cost', Decimal('20.99'))\n",
      "('rating', 'PG')\n",
      "('last_update', datetime.datetime(2007, 9, 10, 17, 46, 3, 905795))\n",
      "('special_features', ['Deleted Scenes', 'Behind the Scenes'])\n",
      "('fulltext', \"'academi':1 'battl':15 'canadian':20 'dinosaur':2 'drama':5 'epic':4 'feminist':8 'mad':11 'must':14 'rocki':21 'scientist':12 'teacher':17\")\n"
     ]
    }
   ],
   "source": [
    "# Use the connection to execute some SQL\n",
    "film = engine.execute('SELECT * FROM film')\n",
    "\n",
    "# no need for an open connection, as we're only doing a single query\n",
    "engine.dispose()\n",
    "\n",
    "# Process the results\n",
    "film_rows=film.fetchall()\n",
    "first_film=film_rows[0]\n",
    "#print(first_film.keys())\n",
    "for item in first_film.items():\n",
    "    print(item)"
   ]
  },
  {
   "cell_type": "code",
   "execution_count": 41,
   "metadata": {},
   "outputs": [
    {
     "name": "stdout",
     "output_type": "stream",
     "text": [
      "195 R\n",
      "210 NC-17\n",
      "194 PG\n",
      "223 PG-13\n",
      "178 G\n"
     ]
    }
   ],
   "source": [
    "#1. How many movies are released for each rating?\n",
    "#use Count* or Count(film_id) here?\n",
    "sql= '''\n",
    "SELECT COUNT(film_id), rating\n",
    "FROM film\n",
    "GROUP BY rating\n",
    "'''\n",
    "film1 = engine.execute(sql)\n",
    "engine.dispose()\n",
    "\n",
    "rows1=film1.fetchall()\n",
    "for row in rows1:\n",
    "    print(*row)"
   ]
  },
  {
   "cell_type": "code",
   "execution_count": 40,
   "metadata": {},
   "outputs": [
    {
     "name": "stdout",
     "output_type": "stream",
     "text": [
      "4.77 R\n",
      "5.14 NC-17\n",
      "5.08 PG\n",
      "5.05 PG-13\n",
      "4.84 G\n"
     ]
    }
   ],
   "source": [
    "#2.What is the average rental duration for each rating?\n",
    "#How to get rid of the decimal here?\n",
    "sql2= '''\n",
    "SELECT ROUND(AVG(rental_duration), 2), rating\n",
    "FROM film\n",
    "GROUP BY rating\n",
    "'''\n",
    "film2 = engine.execute(sql2)\n",
    "engine.dispose()\n",
    "\n",
    "rows2=film2.fetchall()\n",
    "for row in rows2:\n",
    "    print(*row)"
   ]
  },
  {
   "cell_type": "code",
   "execution_count": 53,
   "metadata": {},
   "outputs": [
    {
     "name": "stdout",
     "output_type": "stream",
     "text": [
      "115.272\n"
     ]
    }
   ],
   "source": [
    "#3. What is the mean movie length? Calculate this by defining a function.\n",
    "def mean_movie(movielengths):\n",
    "    count=0\n",
    "    summ=0\n",
    "    for length in movielengths:\n",
    "        summ=summ+length\n",
    "        count+=1\n",
    "    avg=summ/count\n",
    "    return avg\n",
    "\n",
    "sql3= '''\n",
    "SELECT length\n",
    "FROM film\n",
    "'''\n",
    "film3 = engine.execute(sql3)\n",
    "engine.dispose()\n",
    "rows3 = film3.fetchall()\n",
    "lengths=[x['length'] for x in rows3]\n",
    "print(mean_movie(lengths))"
   ]
  },
  {
   "cell_type": "code",
   "execution_count": 72,
   "metadata": {},
   "outputs": [
    {
     "name": "stdout",
     "output_type": "stream",
     "text": [
      "5.0\n",
      "114.0\n"
     ]
    }
   ],
   "source": [
    "#4What is the median movie length? Calculate this by defining a function.\n",
    "def median(nums):\n",
    "    length=len(nums)\n",
    "    highmiddle=(length)//2\n",
    "    sortednums=sorted(nums)\n",
    "    median= (sortednums[highmiddle]+sortednums[-highmiddle-1])/2\n",
    "    return median\n",
    "#print(median([1,3,4,5,8,10,11]))\n",
    "\n",
    "sql5= '''\n",
    "SELECT length\n",
    "FROM film\n",
    "'''\n",
    "film5 = engine.execute(sql5)\n",
    "engine.dispose()\n",
    "rows5 = film5.fetchall()\n",
    "lengths=[x['length'] for x in rows5]\n",
    "print(median(lengths))"
   ]
  },
  {
   "cell_type": "code",
   "execution_count": 59,
   "metadata": {},
   "outputs": [
    {
     "name": "stdout",
     "output_type": "stream",
     "text": [
      "40.42633181855987\n"
     ]
    }
   ],
   "source": [
    "#5.Calculate the standard deviation of the movie lengths. Calculate this by defining a function.\n",
    "def standard_deviation(numbers):\n",
    "  X_bar = mean_movie(numbers)\n",
    "  N = len(numbers)\n",
    "  total_sum = 0\n",
    "  for X in numbers:\n",
    "    diff = X - X_bar\n",
    "    squared = math.pow(diff, 2)\n",
    "    total_sum += squared\n",
    "  sigma = math.sqrt(total_sum / (N - 1))  \n",
    "  return sigma\n",
    "\n",
    "sql4= '''\n",
    "SELECT length\n",
    "FROM film\n",
    "'''\n",
    "film4 = engine.execute(sql4)\n",
    "engine.dispose()\n",
    "rows4 = film4.fetchall()\n",
    "lengths=[x['length'] for x in rows4]\n",
    "print(standard_deviation(lengths))"
   ]
  },
  {
   "cell_type": "code",
   "execution_count": 17,
   "metadata": {},
   "outputs": [
    {
     "data": {
      "text/plain": [
       "['language_id', 'name', 'last_update']"
      ]
     },
     "execution_count": 17,
     "metadata": {},
     "output_type": "execute_result"
    }
   ],
   "source": [
    "# Use the connection to execute some SQL\n",
    "language = engine.execute('SELECT * FROM language LIMIT 1')\n",
    "\n",
    "# no need for an open connection, as we're only doing a single query\n",
    "engine.dispose()\n",
    "\n",
    "# Process the results\n",
    "language_rows=language.fetchall()\n",
    "first_language=language_rows[0]\n",
    "first_language.keys()"
   ]
  },
  {
   "cell_type": "code",
   "execution_count": null,
   "metadata": {},
   "outputs": [],
   "source": []
  }
 ],
 "metadata": {
  "kernelspec": {
   "display_name": "Python 3",
   "language": "python",
   "name": "python3"
  },
  "language_info": {
   "codemirror_mode": {
    "name": "ipython",
    "version": 3
   },
   "file_extension": ".py",
   "mimetype": "text/x-python",
   "name": "python",
   "nbconvert_exporter": "python",
   "pygments_lexer": "ipython3",
   "version": "3.7.6"
  }
 },
 "nbformat": 4,
 "nbformat_minor": 4
}
