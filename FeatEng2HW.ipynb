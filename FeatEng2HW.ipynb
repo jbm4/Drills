{
 "cells": [
  {
   "cell_type": "code",
   "execution_count": 1,
   "metadata": {},
   "outputs": [
    {
     "data": {
      "application/javascript": [
       "\n",
       "            setTimeout(function() {\n",
       "                var nbb_cell_id = 1;\n",
       "                var nbb_unformatted_code = \"%reload_ext nb_black\";\n",
       "                var nbb_formatted_code = \"%reload_ext nb_black\";\n",
       "                var nbb_cells = Jupyter.notebook.get_cells();\n",
       "                for (var i = 0; i < nbb_cells.length; ++i) {\n",
       "                    if (nbb_cells[i].input_prompt_number == nbb_cell_id) {\n",
       "                        if (nbb_cells[i].get_text() == nbb_unformatted_code) {\n",
       "                             nbb_cells[i].set_text(nbb_formatted_code);\n",
       "                        }\n",
       "                        break;\n",
       "                    }\n",
       "                }\n",
       "            }, 500);\n",
       "            "
      ],
      "text/plain": [
       "<IPython.core.display.Javascript object>"
      ]
     },
     "metadata": {},
     "output_type": "display_data"
    }
   ],
   "source": [
    "%reload_ext nb_black"
   ]
  },
  {
   "cell_type": "code",
   "execution_count": 25,
   "metadata": {},
   "outputs": [
    {
     "data": {
      "application/javascript": [
       "\n",
       "            setTimeout(function() {\n",
       "                var nbb_cell_id = 25;\n",
       "                var nbb_unformatted_code = \"import pandas as pd\\nimport numpy as np\\nfrom sqlalchemy import create_engine\\nimport warnings\\nimport seaborn as sns\\nfrom scipy.stats.mstats import winsorize\\nimport matplotlib.pyplot as plt\\nfrom scipy.stats.stats import ttest_ind\\nfrom sklearn.decomposition import PCA\\nfrom sklearn.preprocessing import StandardScaler\\n\\n\\n\\nwarnings.filterwarnings(\\\"ignore\\\")\";\n",
       "                var nbb_formatted_code = \"import pandas as pd\\nimport numpy as np\\nfrom sqlalchemy import create_engine\\nimport warnings\\nimport seaborn as sns\\nfrom scipy.stats.mstats import winsorize\\nimport matplotlib.pyplot as plt\\nfrom scipy.stats.stats import ttest_ind\\nfrom sklearn.decomposition import PCA\\nfrom sklearn.preprocessing import StandardScaler\\n\\n\\nwarnings.filterwarnings(\\\"ignore\\\")\";\n",
       "                var nbb_cells = Jupyter.notebook.get_cells();\n",
       "                for (var i = 0; i < nbb_cells.length; ++i) {\n",
       "                    if (nbb_cells[i].input_prompt_number == nbb_cell_id) {\n",
       "                        if (nbb_cells[i].get_text() == nbb_unformatted_code) {\n",
       "                             nbb_cells[i].set_text(nbb_formatted_code);\n",
       "                        }\n",
       "                        break;\n",
       "                    }\n",
       "                }\n",
       "            }, 500);\n",
       "            "
      ],
      "text/plain": [
       "<IPython.core.display.Javascript object>"
      ]
     },
     "metadata": {},
     "output_type": "display_data"
    }
   ],
   "source": [
    "import pandas as pd\n",
    "import numpy as np\n",
    "from sqlalchemy import create_engine\n",
    "import warnings\n",
    "import seaborn as sns\n",
    "from scipy.stats.mstats import winsorize\n",
    "import matplotlib.pyplot as plt\n",
    "from scipy.stats.stats import ttest_ind\n",
    "from sklearn.decomposition import PCA\n",
    "from sklearn.preprocessing import StandardScaler\n",
    "\n",
    "\n",
    "warnings.filterwarnings(\"ignore\")"
   ]
  },
  {
   "cell_type": "code",
   "execution_count": 3,
   "metadata": {},
   "outputs": [
    {
     "data": {
      "application/javascript": [
       "\n",
       "            setTimeout(function() {\n",
       "                var nbb_cell_id = 3;\n",
       "                var nbb_unformatted_code = \"postgres_user = 'dsbc_student'\\npostgres_pw = '7*.8G9QH21'\\npostgres_host = '142.93.121.174'\\npostgres_port = '5432'\\npostgres_db = 'useducation'\";\n",
       "                var nbb_formatted_code = \"postgres_user = \\\"dsbc_student\\\"\\npostgres_pw = \\\"7*.8G9QH21\\\"\\npostgres_host = \\\"142.93.121.174\\\"\\npostgres_port = \\\"5432\\\"\\npostgres_db = \\\"useducation\\\"\";\n",
       "                var nbb_cells = Jupyter.notebook.get_cells();\n",
       "                for (var i = 0; i < nbb_cells.length; ++i) {\n",
       "                    if (nbb_cells[i].input_prompt_number == nbb_cell_id) {\n",
       "                        if (nbb_cells[i].get_text() == nbb_unformatted_code) {\n",
       "                             nbb_cells[i].set_text(nbb_formatted_code);\n",
       "                        }\n",
       "                        break;\n",
       "                    }\n",
       "                }\n",
       "            }, 500);\n",
       "            "
      ],
      "text/plain": [
       "<IPython.core.display.Javascript object>"
      ]
     },
     "metadata": {},
     "output_type": "display_data"
    }
   ],
   "source": [
    "postgres_user = \"dsbc_student\"\n",
    "postgres_pw = \"7*.8G9QH21\"\n",
    "postgres_host = \"142.93.121.174\"\n",
    "postgres_port = \"5432\"\n",
    "postgres_db = \"useducation\""
   ]
  },
  {
   "cell_type": "code",
   "execution_count": 5,
   "metadata": {},
   "outputs": [
    {
     "data": {
      "application/javascript": [
       "\n",
       "            setTimeout(function() {\n",
       "                var nbb_cell_id = 5;\n",
       "                var nbb_unformatted_code = \"engine = create_engine(\\n    \\\"postgresql://{}:{}@{}:{}/{}\\\".format(\\n        postgres_user, postgres_pw, postgres_host, postgres_port, postgres_db\\n    )\\n)\\n\\ndf = pd.read_sql_query(\\\"select * from useducation\\\", con=engine)\\nengine.dispose()\";\n",
       "                var nbb_formatted_code = \"engine = create_engine(\\n    \\\"postgresql://{}:{}@{}:{}/{}\\\".format(\\n        postgres_user, postgres_pw, postgres_host, postgres_port, postgres_db\\n    )\\n)\\n\\ndf = pd.read_sql_query(\\\"select * from useducation\\\", con=engine)\\nengine.dispose()\";\n",
       "                var nbb_cells = Jupyter.notebook.get_cells();\n",
       "                for (var i = 0; i < nbb_cells.length; ++i) {\n",
       "                    if (nbb_cells[i].input_prompt_number == nbb_cell_id) {\n",
       "                        if (nbb_cells[i].get_text() == nbb_unformatted_code) {\n",
       "                             nbb_cells[i].set_text(nbb_formatted_code);\n",
       "                        }\n",
       "                        break;\n",
       "                    }\n",
       "                }\n",
       "            }, 500);\n",
       "            "
      ],
      "text/plain": [
       "<IPython.core.display.Javascript object>"
      ]
     },
     "metadata": {},
     "output_type": "display_data"
    }
   ],
   "source": [
    "engine = create_engine(\n",
    "    \"postgresql://{}:{}@{}:{}/{}\".format(\n",
    "        postgres_user, postgres_pw, postgres_host, postgres_port, postgres_db\n",
    "    )\n",
    ")\n",
    "\n",
    "df = pd.read_sql_query(\"select * from useducation\", con=engine)\n",
    "engine.dispose()"
   ]
  },
  {
   "cell_type": "code",
   "execution_count": 13,
   "metadata": {},
   "outputs": [
    {
     "data": {
      "text/html": [
       "<div>\n",
       "<style scoped>\n",
       "    .dataframe tbody tr th:only-of-type {\n",
       "        vertical-align: middle;\n",
       "    }\n",
       "\n",
       "    .dataframe tbody tr th {\n",
       "        vertical-align: top;\n",
       "    }\n",
       "\n",
       "    .dataframe thead th {\n",
       "        text-align: right;\n",
       "    }\n",
       "</style>\n",
       "<table border=\"1\" class=\"dataframe\">\n",
       "  <thead>\n",
       "    <tr style=\"text-align: right;\">\n",
       "      <th></th>\n",
       "      <th>PRIMARY_KEY</th>\n",
       "      <th>STATE</th>\n",
       "      <th>YEAR</th>\n",
       "      <th>ENROLL</th>\n",
       "      <th>TOTAL_REVENUE</th>\n",
       "      <th>FEDERAL_REVENUE</th>\n",
       "      <th>STATE_REVENUE</th>\n",
       "      <th>LOCAL_REVENUE</th>\n",
       "      <th>TOTAL_EXPENDITURE</th>\n",
       "      <th>INSTRUCTION_EXPENDITURE</th>\n",
       "      <th>SUPPORT_SERVICES_EXPENDITURE</th>\n",
       "      <th>OTHER_EXPENDITURE</th>\n",
       "      <th>CAPITAL_OUTLAY_EXPENDITURE</th>\n",
       "      <th>GRADES_PK_G</th>\n",
       "      <th>GRADES_KG_G</th>\n",
       "      <th>GRADES_4_G</th>\n",
       "      <th>GRADES_8_G</th>\n",
       "      <th>GRADES_12_G</th>\n",
       "      <th>GRADES_1_8_G</th>\n",
       "      <th>GRADES_9_12_G</th>\n",
       "      <th>GRADES_ALL_G</th>\n",
       "      <th>AVG_MATH_4_SCORE</th>\n",
       "      <th>AVG_MATH_8_SCORE</th>\n",
       "      <th>AVG_READING_4_SCORE</th>\n",
       "      <th>AVG_READING_8_SCORE</th>\n",
       "    </tr>\n",
       "  </thead>\n",
       "  <tbody>\n",
       "    <tr>\n",
       "      <th>0</th>\n",
       "      <td>1992_ALABAMA</td>\n",
       "      <td>ALABAMA</td>\n",
       "      <td>1992</td>\n",
       "      <td>NaN</td>\n",
       "      <td>2678885.0</td>\n",
       "      <td>304177.0</td>\n",
       "      <td>1659028.0</td>\n",
       "      <td>715680.0</td>\n",
       "      <td>2653798.0</td>\n",
       "      <td>1481703.0</td>\n",
       "      <td>735036.0</td>\n",
       "      <td>NaN</td>\n",
       "      <td>174053.0</td>\n",
       "      <td>8224.0</td>\n",
       "      <td>55460.0</td>\n",
       "      <td>57948.0</td>\n",
       "      <td>58025.0</td>\n",
       "      <td>41167.0</td>\n",
       "      <td>471564.0</td>\n",
       "      <td>196386.0</td>\n",
       "      <td>676174.0</td>\n",
       "      <td>208.327876</td>\n",
       "      <td>252.187522</td>\n",
       "      <td>207.963517</td>\n",
       "      <td>NaN</td>\n",
       "    </tr>\n",
       "    <tr>\n",
       "      <th>1</th>\n",
       "      <td>1992_ALASKA</td>\n",
       "      <td>ALASKA</td>\n",
       "      <td>1992</td>\n",
       "      <td>NaN</td>\n",
       "      <td>1049591.0</td>\n",
       "      <td>106780.0</td>\n",
       "      <td>720711.0</td>\n",
       "      <td>222100.0</td>\n",
       "      <td>972488.0</td>\n",
       "      <td>498362.0</td>\n",
       "      <td>350902.0</td>\n",
       "      <td>NaN</td>\n",
       "      <td>37451.0</td>\n",
       "      <td>2371.0</td>\n",
       "      <td>10152.0</td>\n",
       "      <td>9748.0</td>\n",
       "      <td>8789.0</td>\n",
       "      <td>6714.0</td>\n",
       "      <td>79117.0</td>\n",
       "      <td>30847.0</td>\n",
       "      <td>112335.0</td>\n",
       "      <td>NaN</td>\n",
       "      <td>NaN</td>\n",
       "      <td>NaN</td>\n",
       "      <td>258.859712</td>\n",
       "    </tr>\n",
       "    <tr>\n",
       "      <th>2</th>\n",
       "      <td>1992_ARIZONA</td>\n",
       "      <td>ARIZONA</td>\n",
       "      <td>1992</td>\n",
       "      <td>NaN</td>\n",
       "      <td>3258079.0</td>\n",
       "      <td>297888.0</td>\n",
       "      <td>1369815.0</td>\n",
       "      <td>1590376.0</td>\n",
       "      <td>3401580.0</td>\n",
       "      <td>1435908.0</td>\n",
       "      <td>1007732.0</td>\n",
       "      <td>NaN</td>\n",
       "      <td>609114.0</td>\n",
       "      <td>2544.0</td>\n",
       "      <td>53497.0</td>\n",
       "      <td>55433.0</td>\n",
       "      <td>49081.0</td>\n",
       "      <td>37410.0</td>\n",
       "      <td>437127.0</td>\n",
       "      <td>175210.0</td>\n",
       "      <td>614881.0</td>\n",
       "      <td>215.253932</td>\n",
       "      <td>265.366278</td>\n",
       "      <td>206.212716</td>\n",
       "      <td>262.169895</td>\n",
       "    </tr>\n",
       "    <tr>\n",
       "      <th>3</th>\n",
       "      <td>1992_ARKANSAS</td>\n",
       "      <td>ARKANSAS</td>\n",
       "      <td>1992</td>\n",
       "      <td>NaN</td>\n",
       "      <td>1711959.0</td>\n",
       "      <td>178571.0</td>\n",
       "      <td>958785.0</td>\n",
       "      <td>574603.0</td>\n",
       "      <td>1743022.0</td>\n",
       "      <td>964323.0</td>\n",
       "      <td>483488.0</td>\n",
       "      <td>NaN</td>\n",
       "      <td>145212.0</td>\n",
       "      <td>808.0</td>\n",
       "      <td>33511.0</td>\n",
       "      <td>34632.0</td>\n",
       "      <td>36011.0</td>\n",
       "      <td>27651.0</td>\n",
       "      <td>281338.0</td>\n",
       "      <td>123113.0</td>\n",
       "      <td>405259.0</td>\n",
       "      <td>210.206028</td>\n",
       "      <td>256.312090</td>\n",
       "      <td>208.634458</td>\n",
       "      <td>264.619665</td>\n",
       "    </tr>\n",
       "    <tr>\n",
       "      <th>4</th>\n",
       "      <td>1992_CALIFORNIA</td>\n",
       "      <td>CALIFORNIA</td>\n",
       "      <td>1992</td>\n",
       "      <td>NaN</td>\n",
       "      <td>26260025.0</td>\n",
       "      <td>2072470.0</td>\n",
       "      <td>16546514.0</td>\n",
       "      <td>7641041.0</td>\n",
       "      <td>27138832.0</td>\n",
       "      <td>14358922.0</td>\n",
       "      <td>8520926.0</td>\n",
       "      <td>NaN</td>\n",
       "      <td>2044688.0</td>\n",
       "      <td>59067.0</td>\n",
       "      <td>431763.0</td>\n",
       "      <td>418418.0</td>\n",
       "      <td>363296.0</td>\n",
       "      <td>270675.0</td>\n",
       "      <td>3286034.0</td>\n",
       "      <td>1372011.0</td>\n",
       "      <td>4717112.0</td>\n",
       "      <td>208.398961</td>\n",
       "      <td>260.892247</td>\n",
       "      <td>196.764414</td>\n",
       "      <td>NaN</td>\n",
       "    </tr>\n",
       "  </tbody>\n",
       "</table>\n",
       "</div>"
      ],
      "text/plain": [
       "       PRIMARY_KEY       STATE  YEAR  ENROLL  TOTAL_REVENUE  FEDERAL_REVENUE  \\\n",
       "0     1992_ALABAMA     ALABAMA  1992     NaN      2678885.0         304177.0   \n",
       "1      1992_ALASKA      ALASKA  1992     NaN      1049591.0         106780.0   \n",
       "2     1992_ARIZONA     ARIZONA  1992     NaN      3258079.0         297888.0   \n",
       "3    1992_ARKANSAS    ARKANSAS  1992     NaN      1711959.0         178571.0   \n",
       "4  1992_CALIFORNIA  CALIFORNIA  1992     NaN     26260025.0        2072470.0   \n",
       "\n",
       "   STATE_REVENUE  LOCAL_REVENUE  TOTAL_EXPENDITURE  INSTRUCTION_EXPENDITURE  \\\n",
       "0      1659028.0       715680.0          2653798.0                1481703.0   \n",
       "1       720711.0       222100.0           972488.0                 498362.0   \n",
       "2      1369815.0      1590376.0          3401580.0                1435908.0   \n",
       "3       958785.0       574603.0          1743022.0                 964323.0   \n",
       "4     16546514.0      7641041.0         27138832.0               14358922.0   \n",
       "\n",
       "   SUPPORT_SERVICES_EXPENDITURE  OTHER_EXPENDITURE  \\\n",
       "0                      735036.0                NaN   \n",
       "1                      350902.0                NaN   \n",
       "2                     1007732.0                NaN   \n",
       "3                      483488.0                NaN   \n",
       "4                     8520926.0                NaN   \n",
       "\n",
       "   CAPITAL_OUTLAY_EXPENDITURE  GRADES_PK_G  GRADES_KG_G  GRADES_4_G  \\\n",
       "0                    174053.0       8224.0      55460.0     57948.0   \n",
       "1                     37451.0       2371.0      10152.0      9748.0   \n",
       "2                    609114.0       2544.0      53497.0     55433.0   \n",
       "3                    145212.0        808.0      33511.0     34632.0   \n",
       "4                   2044688.0      59067.0     431763.0    418418.0   \n",
       "\n",
       "   GRADES_8_G  GRADES_12_G  GRADES_1_8_G  GRADES_9_12_G  GRADES_ALL_G  \\\n",
       "0     58025.0      41167.0      471564.0       196386.0      676174.0   \n",
       "1      8789.0       6714.0       79117.0        30847.0      112335.0   \n",
       "2     49081.0      37410.0      437127.0       175210.0      614881.0   \n",
       "3     36011.0      27651.0      281338.0       123113.0      405259.0   \n",
       "4    363296.0     270675.0     3286034.0      1372011.0     4717112.0   \n",
       "\n",
       "   AVG_MATH_4_SCORE  AVG_MATH_8_SCORE  AVG_READING_4_SCORE  \\\n",
       "0        208.327876        252.187522           207.963517   \n",
       "1               NaN               NaN                  NaN   \n",
       "2        215.253932        265.366278           206.212716   \n",
       "3        210.206028        256.312090           208.634458   \n",
       "4        208.398961        260.892247           196.764414   \n",
       "\n",
       "   AVG_READING_8_SCORE  \n",
       "0                  NaN  \n",
       "1           258.859712  \n",
       "2           262.169895  \n",
       "3           264.619665  \n",
       "4                  NaN  "
      ]
     },
     "execution_count": 13,
     "metadata": {},
     "output_type": "execute_result"
    },
    {
     "data": {
      "application/javascript": [
       "\n",
       "            setTimeout(function() {\n",
       "                var nbb_cell_id = 13;\n",
       "                var nbb_unformatted_code = \"pd.set_option(\\\"display.max_columns\\\", None)\\ndf.head()\";\n",
       "                var nbb_formatted_code = \"pd.set_option(\\\"display.max_columns\\\", None)\\ndf.head()\";\n",
       "                var nbb_cells = Jupyter.notebook.get_cells();\n",
       "                for (var i = 0; i < nbb_cells.length; ++i) {\n",
       "                    if (nbb_cells[i].input_prompt_number == nbb_cell_id) {\n",
       "                        if (nbb_cells[i].get_text() == nbb_unformatted_code) {\n",
       "                             nbb_cells[i].set_text(nbb_formatted_code);\n",
       "                        }\n",
       "                        break;\n",
       "                    }\n",
       "                }\n",
       "            }, 500);\n",
       "            "
      ],
      "text/plain": [
       "<IPython.core.display.Javascript object>"
      ]
     },
     "metadata": {},
     "output_type": "display_data"
    }
   ],
   "source": [
    "pd.set_option(\"display.max_columns\", None)\n",
    "df.head()"
   ]
  },
  {
   "cell_type": "code",
   "execution_count": 12,
   "metadata": {},
   "outputs": [
    {
     "data": {
      "application/javascript": [
       "\n",
       "            setTimeout(function() {\n",
       "                var nbb_cell_id = 12;\n",
       "                var nbb_unformatted_code = \"# df.info()\";\n",
       "                var nbb_formatted_code = \"# df.info()\";\n",
       "                var nbb_cells = Jupyter.notebook.get_cells();\n",
       "                for (var i = 0; i < nbb_cells.length; ++i) {\n",
       "                    if (nbb_cells[i].input_prompt_number == nbb_cell_id) {\n",
       "                        if (nbb_cells[i].get_text() == nbb_unformatted_code) {\n",
       "                             nbb_cells[i].set_text(nbb_formatted_code);\n",
       "                        }\n",
       "                        break;\n",
       "                    }\n",
       "                }\n",
       "            }, 500);\n",
       "            "
      ],
      "text/plain": [
       "<IPython.core.display.Javascript object>"
      ]
     },
     "metadata": {},
     "output_type": "display_data"
    }
   ],
   "source": [
    "# df.info()"
   ]
  },
  {
   "cell_type": "code",
   "execution_count": 11,
   "metadata": {},
   "outputs": [
    {
     "data": {
      "application/javascript": [
       "\n",
       "            setTimeout(function() {\n",
       "                var nbb_cell_id = 11;\n",
       "                var nbb_unformatted_code = \"df2 = df.copy()\\nfill_list = [\\n    \\\"ENROLL\\\",\\n    \\\"TOTAL_REVENUE\\\",\\n    \\\"FEDERAL_REVENUE\\\",\\n    \\\"STATE_REVENUE\\\",\\n    \\\"LOCAL_REVENUE\\\",\\n    \\\"TOTAL_EXPENDITURE\\\",\\n    \\\"INSTRUCTION_EXPENDITURE\\\",\\n    \\\"SUPPORT_SERVICES_EXPENDITURE\\\",\\n    \\\"OTHER_EXPENDITURE\\\",\\n    \\\"CAPITAL_OUTLAY_EXPENDITURE\\\",\\n    \\\"GRADES_PK_G\\\",\\n    \\\"GRADES_KG_G\\\",\\n    \\\"GRADES_4_G\\\",\\n    \\\"GRADES_8_G\\\",\\n    \\\"GRADES_12_G\\\",\\n    \\\"GRADES_1_8_G\\\",\\n    \\\"GRADES_9_12_G\\\",\\n    \\\"GRADES_ALL_G\\\",\\n]\\nfor col in fill_list:\\n    df2[col] = df2.groupby(\\\"STATE\\\")[col].apply(\\n        lambda x: x.interpolate(limit_direction=\\\"both\\\")\\n    )\\ndf2 = df2.dropna()\\n# df2.info()\";\n",
       "                var nbb_formatted_code = \"df2 = df.copy()\\nfill_list = [\\n    \\\"ENROLL\\\",\\n    \\\"TOTAL_REVENUE\\\",\\n    \\\"FEDERAL_REVENUE\\\",\\n    \\\"STATE_REVENUE\\\",\\n    \\\"LOCAL_REVENUE\\\",\\n    \\\"TOTAL_EXPENDITURE\\\",\\n    \\\"INSTRUCTION_EXPENDITURE\\\",\\n    \\\"SUPPORT_SERVICES_EXPENDITURE\\\",\\n    \\\"OTHER_EXPENDITURE\\\",\\n    \\\"CAPITAL_OUTLAY_EXPENDITURE\\\",\\n    \\\"GRADES_PK_G\\\",\\n    \\\"GRADES_KG_G\\\",\\n    \\\"GRADES_4_G\\\",\\n    \\\"GRADES_8_G\\\",\\n    \\\"GRADES_12_G\\\",\\n    \\\"GRADES_1_8_G\\\",\\n    \\\"GRADES_9_12_G\\\",\\n    \\\"GRADES_ALL_G\\\",\\n]\\nfor col in fill_list:\\n    df2[col] = df2.groupby(\\\"STATE\\\")[col].apply(\\n        lambda x: x.interpolate(limit_direction=\\\"both\\\")\\n    )\\ndf2 = df2.dropna()\\n# df2.info()\";\n",
       "                var nbb_cells = Jupyter.notebook.get_cells();\n",
       "                for (var i = 0; i < nbb_cells.length; ++i) {\n",
       "                    if (nbb_cells[i].input_prompt_number == nbb_cell_id) {\n",
       "                        if (nbb_cells[i].get_text() == nbb_unformatted_code) {\n",
       "                             nbb_cells[i].set_text(nbb_formatted_code);\n",
       "                        }\n",
       "                        break;\n",
       "                    }\n",
       "                }\n",
       "            }, 500);\n",
       "            "
      ],
      "text/plain": [
       "<IPython.core.display.Javascript object>"
      ]
     },
     "metadata": {},
     "output_type": "display_data"
    }
   ],
   "source": [
    "df2 = df.copy()\n",
    "fill_list = [\n",
    "    \"ENROLL\",\n",
    "    \"TOTAL_REVENUE\",\n",
    "    \"FEDERAL_REVENUE\",\n",
    "    \"STATE_REVENUE\",\n",
    "    \"LOCAL_REVENUE\",\n",
    "    \"TOTAL_EXPENDITURE\",\n",
    "    \"INSTRUCTION_EXPENDITURE\",\n",
    "    \"SUPPORT_SERVICES_EXPENDITURE\",\n",
    "    \"OTHER_EXPENDITURE\",\n",
    "    \"CAPITAL_OUTLAY_EXPENDITURE\",\n",
    "    \"GRADES_PK_G\",\n",
    "    \"GRADES_KG_G\",\n",
    "    \"GRADES_4_G\",\n",
    "    \"GRADES_8_G\",\n",
    "    \"GRADES_12_G\",\n",
    "    \"GRADES_1_8_G\",\n",
    "    \"GRADES_9_12_G\",\n",
    "    \"GRADES_ALL_G\",\n",
    "]\n",
    "for col in fill_list:\n",
    "    df2[col] = df2.groupby(\"STATE\")[col].apply(\n",
    "        lambda x: x.interpolate(limit_direction=\"both\")\n",
    "    )\n",
    "df2 = df2.dropna()\n",
    "# df2.info()"
   ]
  },
  {
   "cell_type": "markdown",
   "metadata": {},
   "source": [
    "## 1 ##\n",
    "\n",
    "Compute the average score for each row for all students weighted properly by grade. In other words, each row will have its own average. Notice that the number of students in the 4th grade isn't the same as the number of students in the 8th grade. So, you should appropriately weigh the scores.\n"
   ]
  },
  {
   "cell_type": "code",
   "execution_count": 32,
   "metadata": {},
   "outputs": [
    {
     "data": {
      "application/javascript": [
       "\n",
       "            setTimeout(function() {\n",
       "                var nbb_cell_id = 32;\n",
       "                var nbb_unformatted_code = \"df2[\\\"w_average\\\"] = (df2[\\\"GRADES_4_G\\\"]*((df2[\\\"AVG_MATH_4_SCORE\\\"] + df2[\\\"AVG_READING_4_SCORE\\\"])*0.5) + df2[\\\"GRADES_8_G\\\"]\\n                                 * ((df2[\\\"AVG_MATH_8_SCORE\\\"] + df2[\\\"AVG_READING_8_SCORE\\\"])*0.5))/(df2[\\\"GRADES_4_G\\\"] + df2[\\\"GRADES_8_G\\\"])\";\n",
       "                var nbb_formatted_code = \"df2[\\\"w_average\\\"] = (\\n    df2[\\\"GRADES_4_G\\\"] * ((df2[\\\"AVG_MATH_4_SCORE\\\"] + df2[\\\"AVG_READING_4_SCORE\\\"]) * 0.5)\\n    + df2[\\\"GRADES_8_G\\\"] * ((df2[\\\"AVG_MATH_8_SCORE\\\"] + df2[\\\"AVG_READING_8_SCORE\\\"]) * 0.5)\\n) / (df2[\\\"GRADES_4_G\\\"] + df2[\\\"GRADES_8_G\\\"])\";\n",
       "                var nbb_cells = Jupyter.notebook.get_cells();\n",
       "                for (var i = 0; i < nbb_cells.length; ++i) {\n",
       "                    if (nbb_cells[i].input_prompt_number == nbb_cell_id) {\n",
       "                        if (nbb_cells[i].get_text() == nbb_unformatted_code) {\n",
       "                             nbb_cells[i].set_text(nbb_formatted_code);\n",
       "                        }\n",
       "                        break;\n",
       "                    }\n",
       "                }\n",
       "            }, 500);\n",
       "            "
      ],
      "text/plain": [
       "<IPython.core.display.Javascript object>"
      ]
     },
     "metadata": {},
     "output_type": "display_data"
    }
   ],
   "source": [
    "df2[\"w_average\"] = (df2[\"GRADES_4_G\"]*((df2[\"AVG_MATH_4_SCORE\"] + df2[\"AVG_READING_4_SCORE\"])*0.5) + df2[\"GRADES_8_G\"]\n",
    "                                 * ((df2[\"AVG_MATH_8_SCORE\"] + df2[\"AVG_READING_8_SCORE\"])*0.5))/(df2[\"GRADES_4_G\"] + df2[\"GRADES_8_G\"])\n"
   ]
  },
  {
   "cell_type": "markdown",
   "metadata": {},
   "source": [
    "## 2 ## \n",
    "\n",
    "What are the correlations between this newly created score variable and the expenditure types? Which 1 of the expenditure types is more correlated than the others?\n"
   ]
  },
  {
   "cell_type": "code",
   "execution_count": 33,
   "metadata": {
    "scrolled": true
   },
   "outputs": [
    {
     "data": {
      "text/html": [
       "<div>\n",
       "<style scoped>\n",
       "    .dataframe tbody tr th:only-of-type {\n",
       "        vertical-align: middle;\n",
       "    }\n",
       "\n",
       "    .dataframe tbody tr th {\n",
       "        vertical-align: top;\n",
       "    }\n",
       "\n",
       "    .dataframe thead th {\n",
       "        text-align: right;\n",
       "    }\n",
       "</style>\n",
       "<table border=\"1\" class=\"dataframe\">\n",
       "  <thead>\n",
       "    <tr style=\"text-align: right;\">\n",
       "      <th></th>\n",
       "      <th>w_average</th>\n",
       "    </tr>\n",
       "  </thead>\n",
       "  <tbody>\n",
       "    <tr>\n",
       "      <th>w_average</th>\n",
       "      <td>1.000000</td>\n",
       "    </tr>\n",
       "    <tr>\n",
       "      <th>INSTRUCTION_EXPENDITURE</th>\n",
       "      <td>0.102186</td>\n",
       "    </tr>\n",
       "    <tr>\n",
       "      <th>SUPPORT_SERVICES_EXPENDITURE</th>\n",
       "      <td>0.094281</td>\n",
       "    </tr>\n",
       "    <tr>\n",
       "      <th>TOTAL_EXPENDITURE</th>\n",
       "      <td>0.089278</td>\n",
       "    </tr>\n",
       "    <tr>\n",
       "      <th>OTHER_EXPENDITURE</th>\n",
       "      <td>0.027234</td>\n",
       "    </tr>\n",
       "    <tr>\n",
       "      <th>CAPITAL_OUTLAY_EXPENDITURE</th>\n",
       "      <td>0.009252</td>\n",
       "    </tr>\n",
       "  </tbody>\n",
       "</table>\n",
       "</div>"
      ],
      "text/plain": [
       "                              w_average\n",
       "w_average                      1.000000\n",
       "INSTRUCTION_EXPENDITURE        0.102186\n",
       "SUPPORT_SERVICES_EXPENDITURE   0.094281\n",
       "TOTAL_EXPENDITURE              0.089278\n",
       "OTHER_EXPENDITURE              0.027234\n",
       "CAPITAL_OUTLAY_EXPENDITURE     0.009252"
      ]
     },
     "execution_count": 33,
     "metadata": {},
     "output_type": "execute_result"
    },
    {
     "data": {
      "application/javascript": [
       "\n",
       "            setTimeout(function() {\n",
       "                var nbb_cell_id = 33;\n",
       "                var nbb_unformatted_code = \"exp_df=df2[[\\\"w_average\\\", \\\"TOTAL_EXPENDITURE\\\", \\\"INSTRUCTION_EXPENDITURE\\\",\\n              \\\"SUPPORT_SERVICES_EXPENDITURE\\\", \\\"OTHER_EXPENDITURE\\\", \\\"CAPITAL_OUTLAY_EXPENDITURE\\\"]]\\n\\nexp_df.corr()[[\\\"w_average\\\"]].sort_values(by=[\\\"w_average\\\"], ascending=False)\";\n",
       "                var nbb_formatted_code = \"exp_df = df2[\\n    [\\n        \\\"w_average\\\",\\n        \\\"TOTAL_EXPENDITURE\\\",\\n        \\\"INSTRUCTION_EXPENDITURE\\\",\\n        \\\"SUPPORT_SERVICES_EXPENDITURE\\\",\\n        \\\"OTHER_EXPENDITURE\\\",\\n        \\\"CAPITAL_OUTLAY_EXPENDITURE\\\",\\n    ]\\n]\\n\\nexp_df.corr()[[\\\"w_average\\\"]].sort_values(by=[\\\"w_average\\\"], ascending=False)\";\n",
       "                var nbb_cells = Jupyter.notebook.get_cells();\n",
       "                for (var i = 0; i < nbb_cells.length; ++i) {\n",
       "                    if (nbb_cells[i].input_prompt_number == nbb_cell_id) {\n",
       "                        if (nbb_cells[i].get_text() == nbb_unformatted_code) {\n",
       "                             nbb_cells[i].set_text(nbb_formatted_code);\n",
       "                        }\n",
       "                        break;\n",
       "                    }\n",
       "                }\n",
       "            }, 500);\n",
       "            "
      ],
      "text/plain": [
       "<IPython.core.display.Javascript object>"
      ]
     },
     "metadata": {},
     "output_type": "display_data"
    }
   ],
   "source": [
    "exp_df=df2[[\"w_average\", \"TOTAL_EXPENDITURE\", \"INSTRUCTION_EXPENDITURE\",\n",
    "              \"SUPPORT_SERVICES_EXPENDITURE\", \"OTHER_EXPENDITURE\", \"CAPITAL_OUTLAY_EXPENDITURE\"]]\n",
    "\n",
    "exp_df.corr()[[\"w_average\"]].sort_values(by=[\"w_average\"], ascending=False)\n"
   ]
  },
  {
   "cell_type": "code",
   "execution_count": 34,
   "metadata": {},
   "outputs": [
    {
     "data": {
      "text/html": [
       "<div>\n",
       "<style scoped>\n",
       "    .dataframe tbody tr th:only-of-type {\n",
       "        vertical-align: middle;\n",
       "    }\n",
       "\n",
       "    .dataframe tbody tr th {\n",
       "        vertical-align: top;\n",
       "    }\n",
       "\n",
       "    .dataframe thead th {\n",
       "        text-align: right;\n",
       "    }\n",
       "</style>\n",
       "<table border=\"1\" class=\"dataframe\">\n",
       "  <thead>\n",
       "    <tr style=\"text-align: right;\">\n",
       "      <th></th>\n",
       "      <th>w_average</th>\n",
       "      <th>TOTAL_EXPENDITURE</th>\n",
       "      <th>INSTRUCTION_EXPENDITURE</th>\n",
       "      <th>SUPPORT_SERVICES_EXPENDITURE</th>\n",
       "      <th>OTHER_EXPENDITURE</th>\n",
       "      <th>CAPITAL_OUTLAY_EXPENDITURE</th>\n",
       "    </tr>\n",
       "  </thead>\n",
       "  <tbody>\n",
       "    <tr>\n",
       "      <th>2</th>\n",
       "      <td>235.639070</td>\n",
       "      <td>3401580.0</td>\n",
       "      <td>1435908.0</td>\n",
       "      <td>1007732.0</td>\n",
       "      <td>164083.0</td>\n",
       "      <td>609114.0</td>\n",
       "    </tr>\n",
       "    <tr>\n",
       "      <th>3</th>\n",
       "      <td>235.441283</td>\n",
       "      <td>1743022.0</td>\n",
       "      <td>964323.0</td>\n",
       "      <td>483488.0</td>\n",
       "      <td>68617.0</td>\n",
       "      <td>145212.0</td>\n",
       "    </tr>\n",
       "    <tr>\n",
       "      <th>5</th>\n",
       "      <td>241.797898</td>\n",
       "      <td>3264826.0</td>\n",
       "      <td>1642466.0</td>\n",
       "      <td>1035970.0</td>\n",
       "      <td>92163.0</td>\n",
       "      <td>364760.0</td>\n",
       "    </tr>\n",
       "    <tr>\n",
       "      <th>6</th>\n",
       "      <td>245.559478</td>\n",
       "      <td>3721338.0</td>\n",
       "      <td>2148041.0</td>\n",
       "      <td>1142600.0</td>\n",
       "      <td>143312.0</td>\n",
       "      <td>48542.0</td>\n",
       "    </tr>\n",
       "    <tr>\n",
       "      <th>7</th>\n",
       "      <td>236.784089</td>\n",
       "      <td>638784.0</td>\n",
       "      <td>372722.0</td>\n",
       "      <td>194915.0</td>\n",
       "      <td>26548.0</td>\n",
       "      <td>30595.0</td>\n",
       "    </tr>\n",
       "    <tr>\n",
       "      <th>...</th>\n",
       "      <td>...</td>\n",
       "      <td>...</td>\n",
       "      <td>...</td>\n",
       "      <td>...</td>\n",
       "      <td>...</td>\n",
       "      <td>...</td>\n",
       "    </tr>\n",
       "    <tr>\n",
       "      <th>1487</th>\n",
       "      <td>259.594501</td>\n",
       "      <td>16113212.0</td>\n",
       "      <td>8755896.0</td>\n",
       "      <td>5075509.0</td>\n",
       "      <td>627473.0</td>\n",
       "      <td>1086722.0</td>\n",
       "    </tr>\n",
       "    <tr>\n",
       "      <th>1488</th>\n",
       "      <td>255.009879</td>\n",
       "      <td>13630138.0</td>\n",
       "      <td>6508964.0</td>\n",
       "      <td>4510672.0</td>\n",
       "      <td>546926.0</td>\n",
       "      <td>1601069.0</td>\n",
       "    </tr>\n",
       "    <tr>\n",
       "      <th>1489</th>\n",
       "      <td>249.950079</td>\n",
       "      <td>3466981.0</td>\n",
       "      <td>1819903.0</td>\n",
       "      <td>1161944.0</td>\n",
       "      <td>233836.0</td>\n",
       "      <td>232738.0</td>\n",
       "    </tr>\n",
       "    <tr>\n",
       "      <th>1490</th>\n",
       "      <td>251.726455</td>\n",
       "      <td>11553677.0</td>\n",
       "      <td>5723474.0</td>\n",
       "      <td>3691809.0</td>\n",
       "      <td>513402.0</td>\n",
       "      <td>894823.0</td>\n",
       "    </tr>\n",
       "    <tr>\n",
       "      <th>1491</th>\n",
       "      <td>257.259108</td>\n",
       "      <td>1942406.0</td>\n",
       "      <td>895910.0</td>\n",
       "      <td>565489.0</td>\n",
       "      <td>52520.0</td>\n",
       "      <td>409425.0</td>\n",
       "    </tr>\n",
       "  </tbody>\n",
       "</table>\n",
       "<p>474 rows × 6 columns</p>\n",
       "</div>"
      ],
      "text/plain": [
       "       w_average  TOTAL_EXPENDITURE  INSTRUCTION_EXPENDITURE  \\\n",
       "2     235.639070          3401580.0                1435908.0   \n",
       "3     235.441283          1743022.0                 964323.0   \n",
       "5     241.797898          3264826.0                1642466.0   \n",
       "6     245.559478          3721338.0                2148041.0   \n",
       "7     236.784089           638784.0                 372722.0   \n",
       "...          ...                ...                      ...   \n",
       "1487  259.594501         16113212.0                8755896.0   \n",
       "1488  255.009879         13630138.0                6508964.0   \n",
       "1489  249.950079          3466981.0                1819903.0   \n",
       "1490  251.726455         11553677.0                5723474.0   \n",
       "1491  257.259108          1942406.0                 895910.0   \n",
       "\n",
       "      SUPPORT_SERVICES_EXPENDITURE  OTHER_EXPENDITURE  \\\n",
       "2                        1007732.0           164083.0   \n",
       "3                         483488.0            68617.0   \n",
       "5                        1035970.0            92163.0   \n",
       "6                        1142600.0           143312.0   \n",
       "7                         194915.0            26548.0   \n",
       "...                            ...                ...   \n",
       "1487                     5075509.0           627473.0   \n",
       "1488                     4510672.0           546926.0   \n",
       "1489                     1161944.0           233836.0   \n",
       "1490                     3691809.0           513402.0   \n",
       "1491                      565489.0            52520.0   \n",
       "\n",
       "      CAPITAL_OUTLAY_EXPENDITURE  \n",
       "2                       609114.0  \n",
       "3                       145212.0  \n",
       "5                       364760.0  \n",
       "6                        48542.0  \n",
       "7                        30595.0  \n",
       "...                          ...  \n",
       "1487                   1086722.0  \n",
       "1488                   1601069.0  \n",
       "1489                    232738.0  \n",
       "1490                    894823.0  \n",
       "1491                    409425.0  \n",
       "\n",
       "[474 rows x 6 columns]"
      ]
     },
     "execution_count": 34,
     "metadata": {},
     "output_type": "execute_result"
    },
    {
     "data": {
      "application/javascript": [
       "\n",
       "            setTimeout(function() {\n",
       "                var nbb_cell_id = 34;\n",
       "                var nbb_unformatted_code = \"exp_df\";\n",
       "                var nbb_formatted_code = \"exp_df\";\n",
       "                var nbb_cells = Jupyter.notebook.get_cells();\n",
       "                for (var i = 0; i < nbb_cells.length; ++i) {\n",
       "                    if (nbb_cells[i].input_prompt_number == nbb_cell_id) {\n",
       "                        if (nbb_cells[i].get_text() == nbb_unformatted_code) {\n",
       "                             nbb_cells[i].set_text(nbb_formatted_code);\n",
       "                        }\n",
       "                        break;\n",
       "                    }\n",
       "                }\n",
       "            }, 500);\n",
       "            "
      ],
      "text/plain": [
       "<IPython.core.display.Javascript object>"
      ]
     },
     "metadata": {},
     "output_type": "display_data"
    }
   ],
   "source": [
    "exp_df"
   ]
  },
  {
   "cell_type": "markdown",
   "metadata": {},
   "source": [
    "Instruction expenditure has the highest corr"
   ]
  },
  {
   "cell_type": "markdown",
   "metadata": {},
   "source": [
    "## 3 ##\n",
    "\n",
    "Now, apply PCA to the 4 expenditure types. How much of the total variance is explained by the 1st component?\n"
   ]
  },
  {
   "cell_type": "code",
   "execution_count": 35,
   "metadata": {},
   "outputs": [
    {
     "data": {
      "application/javascript": [
       "\n",
       "            setTimeout(function() {\n",
       "                var nbb_cell_id = 35;\n",
       "                var nbb_unformatted_code = \"X = exp_df.drop(columns=[\\\"w_average\\\"])\\ny = exp_df[\\\"w_average\\\"]\";\n",
       "                var nbb_formatted_code = \"X = exp_df.drop(columns=[\\\"w_average\\\"])\\ny = exp_df[\\\"w_average\\\"]\";\n",
       "                var nbb_cells = Jupyter.notebook.get_cells();\n",
       "                for (var i = 0; i < nbb_cells.length; ++i) {\n",
       "                    if (nbb_cells[i].input_prompt_number == nbb_cell_id) {\n",
       "                        if (nbb_cells[i].get_text() == nbb_unformatted_code) {\n",
       "                             nbb_cells[i].set_text(nbb_formatted_code);\n",
       "                        }\n",
       "                        break;\n",
       "                    }\n",
       "                }\n",
       "            }, 500);\n",
       "            "
      ],
      "text/plain": [
       "<IPython.core.display.Javascript object>"
      ]
     },
     "metadata": {},
     "output_type": "display_data"
    }
   ],
   "source": [
    "X = exp_df.drop(columns=[\"w_average\"])\n",
    "y = exp_df[\"w_average\"]"
   ]
  },
  {
   "cell_type": "code",
   "execution_count": 50,
   "metadata": {},
   "outputs": [
    {
     "data": {
      "text/plain": [
       "array([0.95203581])"
      ]
     },
     "execution_count": 50,
     "metadata": {},
     "output_type": "execute_result"
    },
    {
     "data": {
      "application/javascript": [
       "\n",
       "            setTimeout(function() {\n",
       "                var nbb_cell_id = 50;\n",
       "                var nbb_unformatted_code = \"X=StandardScaler().fit_transform(X)\\npca=PCA(n_components=1)\\n\\nexp_df['pca_col']=pca.fit_transform(X)\\npca.explained_variance_ratio_\";\n",
       "                var nbb_formatted_code = \"X = StandardScaler().fit_transform(X)\\npca = PCA(n_components=1)\\n\\nexp_df[\\\"pca_col\\\"] = pca.fit_transform(X)\\npca.explained_variance_ratio_\";\n",
       "                var nbb_cells = Jupyter.notebook.get_cells();\n",
       "                for (var i = 0; i < nbb_cells.length; ++i) {\n",
       "                    if (nbb_cells[i].input_prompt_number == nbb_cell_id) {\n",
       "                        if (nbb_cells[i].get_text() == nbb_unformatted_code) {\n",
       "                             nbb_cells[i].set_text(nbb_formatted_code);\n",
       "                        }\n",
       "                        break;\n",
       "                    }\n",
       "                }\n",
       "            }, 500);\n",
       "            "
      ],
      "text/plain": [
       "<IPython.core.display.Javascript object>"
      ]
     },
     "metadata": {},
     "output_type": "display_data"
    }
   ],
   "source": [
    "X=StandardScaler().fit_transform(X)\n",
    "pca=PCA(n_components=1)\n",
    "\n",
    "exp_df['pca_col']=pca.fit_transform(X)\n",
    "pca.explained_variance_ratio_\n"
   ]
  },
  {
   "cell_type": "markdown",
   "metadata": {},
   "source": [
    "## 4 ##\n",
    "What is the correlation between the overall score variable and the 1st principal component?\n"
   ]
  },
  {
   "cell_type": "code",
   "execution_count": 51,
   "metadata": {},
   "outputs": [
    {
     "data": {
      "text/plain": [
       "0.06658624125519856"
      ]
     },
     "execution_count": 51,
     "metadata": {},
     "output_type": "execute_result"
    },
    {
     "data": {
      "application/javascript": [
       "\n",
       "            setTimeout(function() {\n",
       "                var nbb_cell_id = 51;\n",
       "                var nbb_unformatted_code = \"from scipy.stats.stats import pearsonr\\nexp_df['pca_col'].corr(y)\";\n",
       "                var nbb_formatted_code = \"from scipy.stats.stats import pearsonr\\n\\nexp_df[\\\"pca_col\\\"].corr(y)\";\n",
       "                var nbb_cells = Jupyter.notebook.get_cells();\n",
       "                for (var i = 0; i < nbb_cells.length; ++i) {\n",
       "                    if (nbb_cells[i].input_prompt_number == nbb_cell_id) {\n",
       "                        if (nbb_cells[i].get_text() == nbb_unformatted_code) {\n",
       "                             nbb_cells[i].set_text(nbb_formatted_code);\n",
       "                        }\n",
       "                        break;\n",
       "                    }\n",
       "                }\n",
       "            }, 500);\n",
       "            "
      ],
      "text/plain": [
       "<IPython.core.display.Javascript object>"
      ]
     },
     "metadata": {},
     "output_type": "display_data"
    }
   ],
   "source": [
    "from scipy.stats.stats import pearsonr\n",
    "\n",
    "exp_df[\"pca_col\"].corr(y)"
   ]
  },
  {
   "cell_type": "markdown",
   "metadata": {},
   "source": [
    "The correlation is rather low"
   ]
  },
  {
   "cell_type": "markdown",
   "metadata": {},
   "source": [
    "## 5 ##\n",
    "\n",
    "If you were to choose the best variables for your model, would you prefer using the 1st principal component instead of the expenditure variables? Why?\n",
    "\n",
    "\n",
    "\n",
    "\n",
    "\n",
    "\n",
    "\n"
   ]
  },
  {
   "cell_type": "markdown",
   "metadata": {},
   "source": [
    "Well the 1st PC epxlained a lot of teh variance of the target variable, but its constituents are highly correlated with each other so it may be unstable."
   ]
  },
  {
   "cell_type": "markdown",
   "metadata": {},
   "source": [
    "EXTRA Question analysis:\n"
   ]
  },
  {
   "cell_type": "code",
   "execution_count": 58,
   "metadata": {},
   "outputs": [
    {
     "data": {
      "text/plain": [
       "277785.0"
      ]
     },
     "execution_count": 58,
     "metadata": {},
     "output_type": "execute_result"
    },
    {
     "data": {
      "application/javascript": [
       "\n",
       "            setTimeout(function() {\n",
       "                var nbb_cell_id = 58;\n",
       "                var nbb_unformatted_code = \"df.dropna().GRADES_8_G.sum()-df.dropna().GRADES_4_G.sum()\";\n",
       "                var nbb_formatted_code = \"df.dropna().GRADES_8_G.sum() - df.dropna().GRADES_4_G.sum()\";\n",
       "                var nbb_cells = Jupyter.notebook.get_cells();\n",
       "                for (var i = 0; i < nbb_cells.length; ++i) {\n",
       "                    if (nbb_cells[i].input_prompt_number == nbb_cell_id) {\n",
       "                        if (nbb_cells[i].get_text() == nbb_unformatted_code) {\n",
       "                             nbb_cells[i].set_text(nbb_formatted_code);\n",
       "                        }\n",
       "                        break;\n",
       "                    }\n",
       "                }\n",
       "            }, 500);\n",
       "            "
      ],
      "text/plain": [
       "<IPython.core.display.Javascript object>"
      ]
     },
     "metadata": {},
     "output_type": "display_data"
    }
   ],
   "source": [
    "df.dropna().GRADES_8_G.sum() - df.dropna().GRADES_4_G.sum()"
   ]
  },
  {
   "cell_type": "code",
   "execution_count": null,
   "metadata": {},
   "outputs": [],
   "source": []
  }
 ],
 "metadata": {
  "kernelspec": {
   "display_name": "Python 3",
   "language": "python",
   "name": "python3"
  },
  "language_info": {
   "codemirror_mode": {
    "name": "ipython",
    "version": 3
   },
   "file_extension": ".py",
   "mimetype": "text/x-python",
   "name": "python",
   "nbconvert_exporter": "python",
   "pygments_lexer": "ipython3",
   "version": "3.7.6"
  }
 },
 "nbformat": 4,
 "nbformat_minor": 4
}
