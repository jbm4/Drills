{
 "cells": [
  {
   "cell_type": "markdown",
   "metadata": {},
   "source": [
    "To start this exercise, pick a dataset. It could be one you've worked with before or it could be a new dataset. Then build the best decision tree that you can.\n",
    "\n",
    "\n",
    "Now, try to match that with the simplest random forest that you can. For this exercise, measure simplicity with runtime. Compare that to the runtime of the decision tree. This is imperfect, but just go with it.\n",
    "\n",
    "\n",
    "Hopefully, out of this you'll see the power of random forests, but you'll also see their potential costs. Remember, in the real world, you won't necessarily be dealing with thousands of rows. There may be millions, billions, or even more.\n",
    "\n"
   ]
  },
  {
   "cell_type": "code",
   "execution_count": 62,
   "metadata": {},
   "outputs": [],
   "source": [
    "import numpy as np\n",
    "import pandas as pd\n",
    "from sklearn import linear_model\n",
    "import matplotlib.pyplot as plt\n",
    "from sqlalchemy import create_engine\n",
    "from dask import dataframe as dd \n",
    "from dask.distributed import Client, progress\n",
    "from dask_ml.model_selection import train_test_split\n",
    "from dask_ml.preprocessing import OneHotEncoder\n",
    "import dask.array as da\n",
    "import joblib\n",
    "\n",
    "\n",
    "from sklearn.model_selection import GridSearchCV,cross_val_score\n",
    "from sklearn.linear_model import Ridge, Lasso, ElasticNet, LinearRegression\n",
    "from sklearn.preprocessing import StandardScaler\n",
    "from sklearn.compose import ColumnTransformer\n",
    "from sklearn.metrics import mean_absolute_error, mean_squared_log_error\n",
    "from sklearn.ensemble import RandomForestRegressor\n",
    "from sklearn.tree import DecisionTreeRegressor, plot_tree\n",
    "\n",
    "from category_encoders import LeaveOneOutEncoder\n"
   ]
  },
  {
   "cell_type": "markdown",
   "metadata": {},
   "source": [
    "**Getting the data and cleaning**"
   ]
  },
  {
   "cell_type": "code",
   "execution_count": 7,
   "metadata": {},
   "outputs": [],
   "source": [
    "postgres_user = 'dsbc_student'\n",
    "postgres_pw = '7*.8G9QH21'\n",
    "postgres_host = '142.93.121.174'\n",
    "postgres_port = '5432'\n",
    "postgres_db = 'houseprices'\n",
    "engine = create_engine('postgresql://{}:{}@{}:{}/{}'.format(\n",
    "    postgres_user, postgres_pw, postgres_host, postgres_port, postgres_db))\n",
    "df = pd.read_sql_query('select * from houseprices',con=engine)\n",
    "\n",
    "# no need for an open connection, as we're only doing a single query\n",
    "engine.dispose()\n",
    "\n"
   ]
  },
  {
   "cell_type": "code",
   "execution_count": 37,
   "metadata": {},
   "outputs": [],
   "source": [
    "client = Client(n_workers=4, threads_per_worker=2, memory_limit='2GB')\n",
    "sd = dd.from_pandas(df, npartitions=3)\n"
   ]
  },
  {
   "cell_type": "code",
   "execution_count": 38,
   "metadata": {},
   "outputs": [],
   "source": [
    "#deal with missing values\n",
    "drop_cols=[]\n",
    "for col in sd.columns:\n",
    "    if df[col].isna().mean()>.4:\n",
    "        drop_cols=drop_cols+[col]\n",
    "df_clean=sd.drop(columns=drop_cols).dropna()\n"
   ]
  },
  {
   "cell_type": "code",
   "execution_count": 39,
   "metadata": {},
   "outputs": [],
   "source": [
    "#for dask, you need to use mask instead of loc \n",
    "df_clean['secondflrexists']=0\n",
    "df_clean['secondflrexists']=df_clean['secondflrexists'].mask(df_clean['secondflrsf']>0,1) #can prob drop 2nd fl sq ft\n",
    "df_clean['yrsbltqared']=df_clean['yearbuilt']*df_clean['yearbuilt']\n",
    "df_clean['agebuilt']=df_clean['yrsold']-df_clean['yearbuilt']\n",
    "df_clean['ageremodeled']=df_clean['yrsold']-df_clean['yearremodadd']\n",
    "df_clean['agebuiltsquared']=df_clean['agebuilt']*df_clean['agebuilt']\n",
    "df_clean['agebuiltcubed']=df_clean['agebuilt']*df_clean['agebuilt']*df_clean['agebuilt']\n"
   ]
  },
  {
   "cell_type": "code",
   "execution_count": 40,
   "metadata": {},
   "outputs": [],
   "source": [
    "df_clean['overallqualsquared']=df_clean['overallqual']*df_clean['overallqual']\n",
    "df_clean['overallqualcubed']=df_clean['overallqual']*df_clean['overallqual']*df_clean['overallqual']\n",
    "df_clean['grlivareasquared']=df_clean['grlivarea']*df_clean['grlivarea']\n",
    "df_clean['ageremodeledsquared']=df_clean['ageremodeled']*df_clean['ageremodeled']\n",
    "df_clean['totalsf']=df_clean['totalbsmtsf']+df_clean['grlivarea']\n",
    "df_clean['lotareasquared']=df_clean['lotarea']*df_clean['lotarea']\n",
    "\n",
    "#making partial,centralair and the neighborhood a binary variable\n",
    "niceneighborhoods=['NridgHt', 'NoRidge', 'Somerst', 'Timber', 'Veenker', 'StoneBr']\n",
    "goodneighborhoods=['ClearCr','Crawfor','CollgCr','Gilbert','Blmngtn','SawyerW','NWAmes']\n",
    "\n",
    "df_clean['nicehood']=0\n",
    "df_clean['nicehood']=df_clean['nicehood'].mask(df_clean.neighborhood.isin(niceneighborhoods),1)\n",
    "# df_clean['hoodrank']=0\n",
    "# df_clean.loc[df_clean.neighborhood.isin(goodneighborhoods),'hoodrank']=1\n",
    "# df_clean.loc[df_clean.neighborhood.isin(niceneighborhoods),'hoodrank']=2\n",
    "df_clean['goodhood']=0\n",
    "df_clean['goodhood']=df_clean['goodhood'].mask(df_clean.neighborhood.isin(goodneighborhoods),1)\n",
    "\n",
    "#Making binary cats ints\n",
    "# df_clean['sale_partial']=0\n",
    "# df_clean.loc[df_clean.salecondition=='Partial','sale_partial']=1\n",
    "df_clean['centralairint']=0\n",
    "df_clean['centralairint']=df_clean['centralairint'].mask(df_clean.centralair=='Y',1)\n",
    "# df_clean['remodeled']=1\n",
    "# df_clean.loc[df_clean.agebuilt==df_clean.ageremodeled,'remodeled']=0\n",
    "# df_clean['pavedDW']=0\n",
    "# df_clean.loc[df_clean.paveddrive=='P','pavedDW']=1\n",
    "df_clean['haspool']=0\n",
    "df_clean['haspool']=df_clean['haspool'].mask(df_clean.poolarea>0,1)\n",
    "\n",
    "#Making some interaction variables:\n",
    "df_clean['nicehood_quality']=df_clean['overallqual']*df_clean['nicehood']\n",
    "# df_clean['goodhood_quality']=df_clean['overallqual']*df_clean['goodhood']\n",
    "df_clean['nicehood_totalsf']=df_clean['totalsf']*df_clean['nicehood']\n",
    "df_clean['goodhood_totalsf']=df_clean['totalsf']*df_clean['goodhood']\n",
    "\n",
    "df_clean['totaloutside']=(df_clean['enclosedporch']+df_clean['wooddecksf']+ \n",
    "                          df_clean['openporchsf']+df_clean['threessnporch']+\n",
    "                          df_clean['screenporch']#+df_clean['poolarea']\n",
    "                         )\n",
    "df_clean['totaloutside_quality']=df_clean['overallqual']*df_clean['totaloutside']\n"
   ]
  },
  {
   "cell_type": "code",
   "execution_count": 63,
   "metadata": {},
   "outputs": [],
   "source": [
    "cat_cols=['nicehood','goodhood','centralairint','salepartial']\n",
    "num_cols=['overallqual',\n",
    "          'overallqualsquared',\n",
    "          'overallqualcubed',\n",
    "          'grlivarea',\n",
    "          'totalbsmtsf',\n",
    "          'garagearea',\n",
    "          'lotarea',\n",
    "          'lotareasquared',\n",
    "          'ageremodeled',\n",
    "          'ageremodeledsquared',\n",
    "          'agebuilt',\n",
    "          'agebuiltsquared',\n",
    "          'bedroomabvgr']\n",
    "\n",
    "X = df_clean[['overallqual',\n",
    "              'overallqualsquared',#\n",
    "              'overallqualcubed',#\n",
    "              'grlivarea',\n",
    "              'grlivareasquared',#\n",
    "               'totalbsmtsf',\n",
    "               'garagearea', \n",
    "               'lotarea',\n",
    "              'lotareasquared',\n",
    "               'ageremodeled',\n",
    "               'ageremodeledsquared',\n",
    "               'agebuilt',\n",
    "               'agebuiltsquared',\n",
    "              'centralairint',\n",
    "              'bedroomabvgr',#\n",
    "              'nicehood_totalsf',\n",
    "              'goodhood_totalsf',\n",
    "              'totaloutside',\n",
    "              'secondflrexists',#\n",
    "              'haspool',\n",
    "              ]]\n",
    "y = df_clean['saleprice']\n",
    "y_log=da.log(y)\n"
   ]
  },
  {
   "cell_type": "code",
   "execution_count": 64,
   "metadata": {},
   "outputs": [
    {
     "name": "stderr",
     "output_type": "stream",
     "text": [
      "/Users/jamesmoss/opt/anaconda3/lib/python3.7/site-packages/dask_ml/model_selection/_split.py:469: FutureWarning: The default value for 'shuffle' must be specified when splitting DataFrames. In the future DataFrames will automatically be shuffled within blocks prior to splitting. Specify 'shuffle=True' to adopt the future behavior now, or 'shuffle=False' to retain the previous behavior.\n",
      "  category=FutureWarning,\n"
     ]
    }
   ],
   "source": [
    "#I had to use compute here because I didn't have dask_ml\n",
    "X_train, X_test, y_log_train, y_log_test=train_test_split(X,y_log,test_size=.2,random_state=1)\n",
    "# X_train = dd.from_pandas(X_train, npartitions=3)\n",
    "# X_test = dd.from_pandas(X_test, npartitions=3)\n",
    "# y_log_test = dd.from_pandas(y_log_test, npartitions=3)\n",
    "# y_log_train = dd.from_pandas(y_log_train, npartitions=3)\n"
   ]
  },
  {
   "cell_type": "markdown",
   "metadata": {},
   "source": [
    "**y vs y log:**"
   ]
  },
  {
   "cell_type": "code",
   "execution_count": 65,
   "metadata": {},
   "outputs": [
    {
     "data": {
      "text/plain": [
       "[]"
      ]
     },
     "execution_count": 65,
     "metadata": {},
     "output_type": "execute_result"
    },
    {
     "data": {
      "image/png": "[encoded data removed]",
      "text/plain": [
       "<Figure size 432x288 with 1 Axes>"
      ]
     },
     "metadata": {
      "needs_background": "light"
     },
     "output_type": "display_data"
    }
   ],
   "source": [
    "y.compute().hist().plot()"
   ]
  },
  {
   "cell_type": "code",
   "execution_count": 66,
   "metadata": {},
   "outputs": [
    {
     "data": {
      "text/plain": [
       "[]"
      ]
     },
     "execution_count": 66,
     "metadata": {},
     "output_type": "execute_result"
    },
    {
     "data": {
      "image/png": "[encoded data removed]",
      "text/plain": [
       "<Figure size 432x288 with 1 Axes>"
      ]
     },
     "metadata": {
      "needs_background": "light"
     },
     "output_type": "display_data"
    }
   ],
   "source": [
    "y_log.compute().hist().plot()"
   ]
  },
  {
   "cell_type": "markdown",
   "metadata": {},
   "source": [
    "**Random Forests**"
   ]
  },
  {
   "cell_type": "code",
   "execution_count": 47,
   "metadata": {},
   "outputs": [
    {
     "name": "stdout",
     "output_type": "stream",
     "text": [
      "Fitting 4 folds for each of 6 candidates, totalling 24 fits\n"
     ]
    },
    {
     "name": "stderr",
     "output_type": "stream",
     "text": [
      "[Parallel(n_jobs=-1)]: Using backend DaskDistributedBackend with 8 concurrent workers.\n",
      "[Parallel(n_jobs=-1)]: Done  24 out of  24 | elapsed:   12.5s finished\n",
      "/Users/jamesmoss/opt/anaconda3/lib/python3.7/site-packages/sklearn/base.py:318: UserWarning: Trying to unpickle estimator DecisionTreeRegressor from version 0.23.2 when using version 0.22.1. This might lead to breaking code or invalid results. Use at your own risk.\n",
      "  state = self.__dict__.copy()\n"
     ]
    },
    {
     "name": "stdout",
     "output_type": "stream",
     "text": [
      "--- 13.565860748291016 seconds ---\n"
     ]
    }
   ],
   "source": [
    "import time\n",
    "start_time = time.time()\n",
    "\n",
    "\n",
    "grid = {\"max_depth\": [5,6,8], \"n_estimators\": [50],'min_samples_leaf':[5, 10]}\n",
    "model = GridSearchCV(\n",
    "    RandomForestRegressor(),\n",
    "    param_grid=grid,\n",
    "    cv=4,\n",
    "    #     scoring=make_scorer(f1_score),\n",
    "#     scoring=make_scorer(roc_auc_score),\n",
    "    verbose=1,\n",
    ")\n",
    "\n",
    "with joblib.parallel_backend('dask'):\n",
    "    model.fit(X_train.compute(), y_log_train.compute())\n",
    "print(\"--- %s seconds ---\" % (time.time() - start_time))"
   ]
  },
  {
   "cell_type": "code",
   "execution_count": 48,
   "metadata": {},
   "outputs": [
    {
     "name": "stdout",
     "output_type": "stream",
     "text": [
      "0.9240848403475677\n",
      "0.8644790349174818\n"
     ]
    }
   ],
   "source": [
    "print(model.score(X_train.compute(), y_log_train.compute()))\n",
    "print(model.score(X_test.compute(), y_log_test.compute()))\n"
   ]
  },
  {
   "cell_type": "code",
   "execution_count": 50,
   "metadata": {},
   "outputs": [
    {
     "name": "stdout",
     "output_type": "stream",
     "text": [
      "--- 0.6189010143280029 seconds ---\n"
     ]
    }
   ],
   "source": [
    "#timing without cross validation:\n",
    "\n",
    "start_time = time.time()\n",
    "\n",
    "model= RandomForestRegressor(min_samples_leaf=20, max_depth=8, n_estimators=50)\n",
    "with joblib.parallel_backend('dask'):\n",
    "    model.fit(X_train.compute(), y_log_train.compute())\n",
    "print(\"--- %s seconds ---\" % (time.time() - start_time))\n"
   ]
  },
  {
   "cell_type": "markdown",
   "metadata": {},
   "source": [
    "**Decision Trees**"
   ]
  },
  {
   "cell_type": "code",
   "execution_count": 52,
   "metadata": {},
   "outputs": [
    {
     "name": "stdout",
     "output_type": "stream",
     "text": [
      "0.8667094681694627\n",
      "0.7983979678286635\n",
      "--- 1.4344358444213867 seconds ---\n"
     ]
    }
   ],
   "source": [
    "start_time = time.time()\n",
    "\n",
    "\n",
    "model = DecisionTreeRegressor(min_samples_leaf=15, max_depth=10)\n",
    "with joblib.parallel_backend('dask'):\n",
    "    model.fit(X_train.compute(), y_log_train.compute())\n",
    "\n",
    "    y_log_preds=model.predict(X_test.compute())\n",
    "    y_log_train_preds=model.predict(X_train.compute())\n",
    "\n",
    "print(model.score(X_train.compute(), y_log_train.compute()))\n",
    "print(model.score(X_test.compute(), y_log_test.compute()))\n",
    "print(\"--- %s seconds ---\" % (time.time() - start_time))\n"
   ]
  },
  {
   "cell_type": "code",
   "execution_count": 70,
   "metadata": {},
   "outputs": [
    {
     "name": "stderr",
     "output_type": "stream",
     "text": [
      "distributed.nanny - WARNING - Worker process still alive after 3 seconds, killing\n",
      "distributed.nanny - WARNING - Worker process still alive after 3 seconds, killing\n",
      "distributed.nanny - WARNING - Worker process still alive after 3 seconds, killing\n",
      "distributed.nanny - WARNING - Worker process still alive after 3 seconds, killing\n"
     ]
    }
   ],
   "source": [
    "client.close()"
   ]
  },
  {
   "cell_type": "code",
   "execution_count": null,
   "metadata": {},
   "outputs": [],
   "source": []
  }
 ],
 "metadata": {
  "kernelspec": {
   "display_name": "Python 3",
   "language": "python",
   "name": "python3"
  },
  "language_info": {
   "codemirror_mode": {
    "name": "ipython",
    "version": 3
   },
   "file_extension": ".py",
   "mimetype": "text/x-python",
   "name": "python",
   "nbconvert_exporter": "python",
   "pygments_lexer": "ipython3",
   "version": "3.7.6"
  }
 },
 "nbformat": 4,
 "nbformat_minor": 4
}
