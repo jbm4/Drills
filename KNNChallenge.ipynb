{
 "cells": [
  {
   "cell_type": "code",
   "execution_count": 2,
   "metadata": {},
   "outputs": [],
   "source": [
    "import numpy as np\n",
    "import pandas as pd\n",
    "import matplotlib.pyplot as plt\n",
    "import scipy\n",
    "%matplotlib inline\n",
    "import math"
   ]
  },
  {
   "cell_type": "code",
   "execution_count": 4,
   "metadata": {},
   "outputs": [],
   "source": [
    "def find_nearest_neighbors(X_train,X_test,y_train,k):\n",
    "    distance_series=np.array([])\n",
    "    train_distances=[[]]\n",
    "    X_TRAIN=X_train\n",
    "    for test_row in X_test:\n",
    "        X_train=X_TRAIN\n",
    "        for train_row in X_train:\n",
    "            difference=np.subtract(train_row,test_row)\n",
    "            distance=np.dot(difference)\n",
    "            train_distances=train_distances+[train_row+[distance]]\n",
    "    np.concatenate((train_distances,y_train.T),axis=1)\n",
    "    train_distances_sorted=train_distances[train_distances[:,-2].argsort()]\n",
    "    k_distances=train_distances_sorted[0:k,:]\n",
    "    k_nearest_ys=k_distances[:,-1]\n",
    "    return np.mean(k_nearest_ys)\n"
   ]
  },
  {
   "cell_type": "code",
   "execution_count": null,
   "metadata": {},
   "outputs": [],
   "source": []
  }
 ],
 "metadata": {
  "kernelspec": {
   "display_name": "Python 3",
   "language": "python",
   "name": "python3"
  },
  "language_info": {
   "codemirror_mode": {
    "name": "ipython",
    "version": 3
   },
   "file_extension": ".py",
   "mimetype": "text/x-python",
   "name": "python",
   "nbconvert_exporter": "python",
   "pygments_lexer": "ipython3",
   "version": "3.7.6"
  }
 },
 "nbformat": 4,
 "nbformat_minor": 4
}
